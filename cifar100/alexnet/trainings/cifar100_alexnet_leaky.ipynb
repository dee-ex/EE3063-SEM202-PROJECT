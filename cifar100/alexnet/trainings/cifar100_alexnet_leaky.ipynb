{
 "cells": [
  {
   "cell_type": "code",
   "execution_count": 1,
   "metadata": {
    "id": "-8e0tAC7e0CI"
   },
   "outputs": [],
   "source": [
    "import functools\n",
    "import numpy as np\n",
    "import tensorflow as tf\n",
    "from keras.datasets import cifar100\n",
    "from keras import Sequential\n",
    "from keras.preprocessing.image import ImageDataGenerator\n",
    "from sklearn.model_selection import train_test_split\n",
    "from keras.optimizers import SGD\n",
    "from keras.layers import Dense, Activation, Dropout, Flatten, Conv2D, MaxPooling2D, LeakyReLU\n",
    "from keras.layers.normalization import BatchNormalization\n",
    "from tensorflow.keras.utils import to_categorical\n",
    "from keras.utils.generic_utils import get_custom_objects"
   ]
  },
  {
   "cell_type": "code",
   "execution_count": 2,
   "metadata": {
    "id": "WljAm5f0fKkw"
   },
   "outputs": [],
   "source": [
    "(x_train, y_train), (x_test, y_test) = cifar100.load_data()\n",
    "x_train, x_val, y_train, y_val = train_test_split(x_train, y_train, test_size=.2)"
   ]
  },
  {
   "cell_type": "code",
   "execution_count": 3,
   "metadata": {
    "id": "7u2htPZHfLP2"
   },
   "outputs": [],
   "source": [
    "y_train = to_categorical(y_train)\n",
    "y_val = to_categorical(y_val)\n",
    "y_test = to_categorical(y_test)"
   ]
  },
  {
   "cell_type": "code",
   "execution_count": 4,
   "metadata": {
    "colab": {
     "base_uri": "https://localhost:8080/"
    },
    "id": "sKxXF-OFASsu",
    "outputId": "569699cf-871d-44f8-9154-cfe6b36296ac"
   },
   "outputs": [
    {
     "data": {
      "text/plain": [
       "((40000, 32, 32, 3),\n",
       " (40000, 100),\n",
       " (10000, 32, 32, 3),\n",
       " (10000, 100),\n",
       " (10000, 32, 32, 3),\n",
       " (10000, 100))"
      ]
     },
     "execution_count": 4,
     "metadata": {
      "tags": []
     },
     "output_type": "execute_result"
    }
   ],
   "source": [
    "x_train.shape, y_train.shape, x_val.shape, y_val.shape, x_test.shape, y_test.shape"
   ]
  },
  {
   "cell_type": "code",
   "execution_count": 5,
   "metadata": {
    "id": "QR8VwuXy-SCk"
   },
   "outputs": [],
   "source": [
    "train_generator = ImageDataGenerator(rotation_range=2, horizontal_flip=True)\n",
    "val_generator = ImageDataGenerator(rotation_range=2, horizontal_flip=True)\n",
    "test_generator = ImageDataGenerator(rotation_range=2, horizontal_flip=True)\n",
    "\n",
    "train_generator.fit(x_train)\n",
    "val_generator.fit(x_val)\n",
    "test_generator.fit(x_test)"
   ]
  },
  {
   "cell_type": "code",
   "execution_count": 6,
   "metadata": {
    "id": "UgqsFQ16Gmz4"
   },
   "outputs": [],
   "source": [
    "def alexnet(activation):\n",
    "    AlexNet = Sequential()\n",
    "\n",
    "    AlexNet.add(Conv2D(filters=96, input_shape=(32, 32, 3), kernel_size=(11, 11), strides=(4, 4), padding='same'))\n",
    "    AlexNet.add(BatchNormalization())\n",
    "    AlexNet.add(Activation(activation))\n",
    "    AlexNet.add(MaxPooling2D(pool_size=(2, 2), strides=(2, 2), padding='same'))\n",
    "\n",
    "    AlexNet.add(Conv2D(filters=256, kernel_size=(5, 5), strides=(1, 1), padding='same'))\n",
    "    AlexNet.add(BatchNormalization())\n",
    "    AlexNet.add(Activation(activation))\n",
    "    AlexNet.add(MaxPooling2D(pool_size=(2, 2), strides=(2, 2), padding='same'))\n",
    "\n",
    "    AlexNet.add(Conv2D(filters=384, kernel_size=(3, 3), strides=(1, 1), padding='same'))\n",
    "    AlexNet.add(BatchNormalization())\n",
    "    AlexNet.add(Activation(activation))\n",
    "\n",
    "    AlexNet.add(Conv2D(filters=384, kernel_size=(3, 3), strides=(1, 1), padding='same'))\n",
    "    AlexNet.add(BatchNormalization())\n",
    "    AlexNet.add(Activation(activation))\n",
    "\n",
    "    AlexNet.add(Conv2D(filters=256, kernel_size=(3, 3), strides=(1, 1), padding='same'))\n",
    "    AlexNet.add(BatchNormalization())\n",
    "    AlexNet.add(Activation(activation))\n",
    "    AlexNet.add(MaxPooling2D(pool_size=(2, 2), strides=(2, 2), padding='same'))\n",
    "\n",
    "    AlexNet.add(Flatten())\n",
    "    AlexNet.add(Dense(4096, input_shape=(32, 32, 3)))\n",
    "    AlexNet.add(BatchNormalization())\n",
    "    AlexNet.add(Activation(activation))\n",
    "    AlexNet.add(Dropout(0.5))\n",
    "\n",
    "    AlexNet.add(Dense(4096))\n",
    "    AlexNet.add(BatchNormalization())\n",
    "    AlexNet.add(Activation(activation))\n",
    "    AlexNet.add(Dropout(0.5))\n",
    "\n",
    "    AlexNet.add(Dense(1000))\n",
    "    AlexNet.add(BatchNormalization())\n",
    "    AlexNet.add(Activation(activation))\n",
    "    AlexNet.add(Dropout(0.5))\n",
    "\n",
    "    AlexNet.add(Dense(100))\n",
    "    AlexNet.add(BatchNormalization())\n",
    "    AlexNet.add(Activation('softmax'))\n",
    "\n",
    "    return AlexNet"
   ]
  },
  {
   "cell_type": "code",
   "execution_count": 9,
   "metadata": {
    "colab": {
     "base_uri": "https://localhost:8080/"
    },
    "id": "bvLaricEJB7Y",
    "outputId": "0c13d1a2-a49e-4825-95ea-894985dcfcb8"
   },
   "outputs": [
    {
     "name": "stdout",
     "output_type": "stream",
     "text": [
      "Epoch 1/50\n",
      "313/313 [==============================] - 29s 83ms/step - loss: 4.6928 - accuracy: 0.0262 - top3_acc: 0.0708 - top_k_categorical_accuracy: 0.1112 - val_loss: 4.0826 - val_accuracy: 0.1011 - val_top3_acc: 0.2290 - val_top_k_categorical_accuracy: 0.3065\n",
      "Epoch 2/50\n",
      "313/313 [==============================] - 25s 81ms/step - loss: 4.0764 - accuracy: 0.0755 - top3_acc: 0.1787 - top_k_categorical_accuracy: 0.2553 - val_loss: 3.8335 - val_accuracy: 0.1360 - val_top3_acc: 0.2787 - val_top_k_categorical_accuracy: 0.3698\n",
      "Epoch 3/50\n",
      "313/313 [==============================] - 23s 74ms/step - loss: 3.8481 - accuracy: 0.1129 - top3_acc: 0.2442 - top_k_categorical_accuracy: 0.3357 - val_loss: 3.6380 - val_accuracy: 0.1741 - val_top3_acc: 0.3366 - val_top_k_categorical_accuracy: 0.4364\n",
      "Epoch 4/50\n",
      "313/313 [==============================] - 25s 79ms/step - loss: 3.7140 - accuracy: 0.1356 - top3_acc: 0.2862 - top_k_categorical_accuracy: 0.3799 - val_loss: 3.5351 - val_accuracy: 0.1895 - val_top3_acc: 0.3654 - val_top_k_categorical_accuracy: 0.4593\n",
      "Epoch 5/50\n",
      "313/313 [==============================] - 24s 77ms/step - loss: 3.6012 - accuracy: 0.1596 - top3_acc: 0.3215 - top_k_categorical_accuracy: 0.4175 - val_loss: 3.6512 - val_accuracy: 0.1641 - val_top3_acc: 0.3127 - val_top_k_categorical_accuracy: 0.4020\n",
      "Epoch 6/50\n",
      "313/313 [==============================] - 24s 76ms/step - loss: 3.5000 - accuracy: 0.1773 - top3_acc: 0.3450 - top_k_categorical_accuracy: 0.4467 - val_loss: 3.4097 - val_accuracy: 0.2076 - val_top3_acc: 0.3763 - val_top_k_categorical_accuracy: 0.4781\n",
      "Epoch 7/50\n",
      "313/313 [==============================] - 26s 82ms/step - loss: 3.4194 - accuracy: 0.1976 - top3_acc: 0.3727 - top_k_categorical_accuracy: 0.4740 - val_loss: 3.3086 - val_accuracy: 0.2253 - val_top3_acc: 0.4098 - val_top_k_categorical_accuracy: 0.5079\n",
      "Epoch 8/50\n",
      "313/313 [==============================] - 24s 76ms/step - loss: 3.3146 - accuracy: 0.2149 - top3_acc: 0.3993 - top_k_categorical_accuracy: 0.5056 - val_loss: 3.3996 - val_accuracy: 0.2103 - val_top3_acc: 0.3771 - val_top_k_categorical_accuracy: 0.4802\n",
      "Epoch 9/50\n",
      "313/313 [==============================] - 24s 75ms/step - loss: 3.2366 - accuracy: 0.2309 - top3_acc: 0.4224 - top_k_categorical_accuracy: 0.5308 - val_loss: 3.3384 - val_accuracy: 0.2165 - val_top3_acc: 0.3885 - val_top_k_categorical_accuracy: 0.4905\n",
      "Epoch 10/50\n",
      "313/313 [==============================] - 25s 80ms/step - loss: 3.1453 - accuracy: 0.2530 - top3_acc: 0.4497 - top_k_categorical_accuracy: 0.5571 - val_loss: 3.2541 - val_accuracy: 0.2335 - val_top3_acc: 0.4102 - val_top_k_categorical_accuracy: 0.5067\n",
      "Epoch 11/50\n",
      "313/313 [==============================] - 23s 74ms/step - loss: 3.0688 - accuracy: 0.2675 - top3_acc: 0.4699 - top_k_categorical_accuracy: 0.5767 - val_loss: 3.0612 - val_accuracy: 0.2707 - val_top3_acc: 0.4571 - val_top_k_categorical_accuracy: 0.5603\n",
      "Epoch 12/50\n",
      "313/313 [==============================] - 24s 77ms/step - loss: 3.0077 - accuracy: 0.2834 - top3_acc: 0.4826 - top_k_categorical_accuracy: 0.5884 - val_loss: 3.3088 - val_accuracy: 0.2067 - val_top3_acc: 0.3778 - val_top_k_categorical_accuracy: 0.4764\n",
      "Epoch 13/50\n",
      "313/313 [==============================] - 25s 80ms/step - loss: 2.9420 - accuracy: 0.2945 - top3_acc: 0.5035 - top_k_categorical_accuracy: 0.6072 - val_loss: 2.9317 - val_accuracy: 0.2968 - val_top3_acc: 0.4868 - val_top_k_categorical_accuracy: 0.5911\n",
      "Epoch 14/50\n",
      "313/313 [==============================] - 25s 81ms/step - loss: 2.8967 - accuracy: 0.3019 - top3_acc: 0.5121 - top_k_categorical_accuracy: 0.6160 - val_loss: 3.0417 - val_accuracy: 0.2720 - val_top3_acc: 0.4645 - val_top_k_categorical_accuracy: 0.5627\n",
      "Epoch 15/50\n",
      "313/313 [==============================] - 23s 75ms/step - loss: 2.8260 - accuracy: 0.3156 - top3_acc: 0.5281 - top_k_categorical_accuracy: 0.6317 - val_loss: 2.9029 - val_accuracy: 0.2959 - val_top3_acc: 0.4908 - val_top_k_categorical_accuracy: 0.5953\n",
      "Epoch 16/50\n",
      "313/313 [==============================] - 24s 77ms/step - loss: 2.7716 - accuracy: 0.3271 - top3_acc: 0.5413 - top_k_categorical_accuracy: 0.6451 - val_loss: 2.9937 - val_accuracy: 0.2797 - val_top3_acc: 0.4700 - val_top_k_categorical_accuracy: 0.5667\n",
      "Epoch 17/50\n",
      "313/313 [==============================] - 25s 79ms/step - loss: 2.7137 - accuracy: 0.3376 - top3_acc: 0.5521 - top_k_categorical_accuracy: 0.6575 - val_loss: 2.8107 - val_accuracy: 0.3150 - val_top3_acc: 0.5151 - val_top_k_categorical_accuracy: 0.6193\n",
      "Epoch 18/50\n",
      "313/313 [==============================] - 23s 74ms/step - loss: 2.6420 - accuracy: 0.3540 - top3_acc: 0.5726 - top_k_categorical_accuracy: 0.6757 - val_loss: 2.8749 - val_accuracy: 0.3059 - val_top3_acc: 0.4977 - val_top_k_categorical_accuracy: 0.5957\n",
      "Epoch 19/50\n",
      "313/313 [==============================] - 25s 79ms/step - loss: 2.6105 - accuracy: 0.3606 - top3_acc: 0.5795 - top_k_categorical_accuracy: 0.6814 - val_loss: 2.8181 - val_accuracy: 0.3083 - val_top3_acc: 0.5005 - val_top_k_categorical_accuracy: 0.6021\n",
      "Epoch 20/50\n",
      "313/313 [==============================] - 24s 77ms/step - loss: 2.5415 - accuracy: 0.3713 - top3_acc: 0.5999 - top_k_categorical_accuracy: 0.6983 - val_loss: 2.7472 - val_accuracy: 0.3277 - val_top3_acc: 0.5238 - val_top_k_categorical_accuracy: 0.6220\n",
      "Epoch 21/50\n",
      "313/313 [==============================] - 23s 74ms/step - loss: 2.4871 - accuracy: 0.3888 - top3_acc: 0.6090 - top_k_categorical_accuracy: 0.7098 - val_loss: 2.8142 - val_accuracy: 0.3133 - val_top3_acc: 0.5071 - val_top_k_categorical_accuracy: 0.6041\n",
      "Epoch 22/50\n",
      "313/313 [==============================] - 26s 83ms/step - loss: 2.4521 - accuracy: 0.3940 - top3_acc: 0.6141 - top_k_categorical_accuracy: 0.7120 - val_loss: 2.7191 - val_accuracy: 0.3309 - val_top3_acc: 0.5298 - val_top_k_categorical_accuracy: 0.6284\n",
      "Epoch 23/50\n",
      "313/313 [==============================] - 24s 75ms/step - loss: 2.3923 - accuracy: 0.4042 - top3_acc: 0.6307 - top_k_categorical_accuracy: 0.7245 - val_loss: 3.0196 - val_accuracy: 0.2873 - val_top3_acc: 0.4640 - val_top_k_categorical_accuracy: 0.5573\n",
      "Epoch 24/50\n",
      "313/313 [==============================] - 24s 78ms/step - loss: 2.3440 - accuracy: 0.4173 - top3_acc: 0.6422 - top_k_categorical_accuracy: 0.7362 - val_loss: 2.7746 - val_accuracy: 0.3182 - val_top3_acc: 0.5148 - val_top_k_categorical_accuracy: 0.6174\n",
      "Epoch 25/50\n",
      "313/313 [==============================] - 26s 82ms/step - loss: 2.2919 - accuracy: 0.4298 - top3_acc: 0.6527 - top_k_categorical_accuracy: 0.7470 - val_loss: 2.8124 - val_accuracy: 0.3216 - val_top3_acc: 0.5028 - val_top_k_categorical_accuracy: 0.5969\n",
      "Epoch 26/50\n",
      "313/313 [==============================] - 23s 74ms/step - loss: 2.2548 - accuracy: 0.4353 - top3_acc: 0.6593 - top_k_categorical_accuracy: 0.7509 - val_loss: 2.8179 - val_accuracy: 0.3112 - val_top3_acc: 0.5106 - val_top_k_categorical_accuracy: 0.6072\n",
      "Epoch 27/50\n",
      "313/313 [==============================] - 25s 80ms/step - loss: 2.2010 - accuracy: 0.4485 - top3_acc: 0.6707 - top_k_categorical_accuracy: 0.7607 - val_loss: 2.8292 - val_accuracy: 0.3126 - val_top3_acc: 0.5016 - val_top_k_categorical_accuracy: 0.5954\n",
      "Epoch 28/50\n",
      "313/313 [==============================] - 26s 82ms/step - loss: 2.1449 - accuracy: 0.4605 - top3_acc: 0.6831 - top_k_categorical_accuracy: 0.7744 - val_loss: 2.6739 - val_accuracy: 0.3461 - val_top3_acc: 0.5431 - val_top_k_categorical_accuracy: 0.6364\n",
      "Epoch 29/50\n",
      "313/313 [==============================] - 26s 82ms/step - loss: 2.1062 - accuracy: 0.4702 - top3_acc: 0.6940 - top_k_categorical_accuracy: 0.7765 - val_loss: 2.6478 - val_accuracy: 0.3443 - val_top3_acc: 0.5470 - val_top_k_categorical_accuracy: 0.6426\n",
      "Epoch 30/50\n",
      "313/313 [==============================] - 24s 76ms/step - loss: 2.0684 - accuracy: 0.4732 - top3_acc: 0.7036 - top_k_categorical_accuracy: 0.7900 - val_loss: 2.7305 - val_accuracy: 0.3352 - val_top3_acc: 0.5316 - val_top_k_categorical_accuracy: 0.6270\n",
      "Epoch 31/50\n",
      "313/313 [==============================] - 25s 81ms/step - loss: 2.0032 - accuracy: 0.4872 - top3_acc: 0.7161 - top_k_categorical_accuracy: 0.7996 - val_loss: 2.6632 - val_accuracy: 0.3521 - val_top3_acc: 0.5442 - val_top_k_categorical_accuracy: 0.6373\n",
      "Epoch 32/50\n",
      "313/313 [==============================] - 24s 77ms/step - loss: 1.9661 - accuracy: 0.5019 - top3_acc: 0.7260 - top_k_categorical_accuracy: 0.8099 - val_loss: 2.5954 - val_accuracy: 0.3648 - val_top3_acc: 0.5576 - val_top_k_categorical_accuracy: 0.6526\n",
      "Epoch 33/50\n",
      "313/313 [==============================] - 23s 73ms/step - loss: 1.9154 - accuracy: 0.5098 - top3_acc: 0.7383 - top_k_categorical_accuracy: 0.8182 - val_loss: 2.7015 - val_accuracy: 0.3417 - val_top3_acc: 0.5384 - val_top_k_categorical_accuracy: 0.6312\n",
      "Epoch 34/50\n",
      "313/313 [==============================] - 25s 81ms/step - loss: 1.8546 - accuracy: 0.5272 - top3_acc: 0.7498 - top_k_categorical_accuracy: 0.8283 - val_loss: 2.6296 - val_accuracy: 0.3602 - val_top3_acc: 0.5522 - val_top_k_categorical_accuracy: 0.6447\n",
      "Epoch 35/50\n",
      "313/313 [==============================] - 24s 76ms/step - loss: 1.8066 - accuracy: 0.5385 - top3_acc: 0.7568 - top_k_categorical_accuracy: 0.8349 - val_loss: 2.8264 - val_accuracy: 0.3223 - val_top3_acc: 0.5129 - val_top_k_categorical_accuracy: 0.6077\n",
      "Epoch 36/50\n",
      "313/313 [==============================] - 23s 74ms/step - loss: 1.7644 - accuracy: 0.5504 - top3_acc: 0.7696 - top_k_categorical_accuracy: 0.8446 - val_loss: 2.6880 - val_accuracy: 0.3481 - val_top3_acc: 0.5401 - val_top_k_categorical_accuracy: 0.6363\n",
      "Epoch 37/50\n",
      "313/313 [==============================] - 26s 82ms/step - loss: 1.7203 - accuracy: 0.5556 - top3_acc: 0.7778 - top_k_categorical_accuracy: 0.8484 - val_loss: 2.6943 - val_accuracy: 0.3452 - val_top3_acc: 0.5481 - val_top_k_categorical_accuracy: 0.6454\n",
      "Epoch 38/50\n",
      "313/313 [==============================] - 23s 74ms/step - loss: 1.6705 - accuracy: 0.5755 - top3_acc: 0.7867 - top_k_categorical_accuracy: 0.8591 - val_loss: 2.6343 - val_accuracy: 0.3602 - val_top3_acc: 0.5540 - val_top_k_categorical_accuracy: 0.6481\n",
      "Epoch 39/50\n",
      "313/313 [==============================] - 24s 77ms/step - loss: 1.6467 - accuracy: 0.5773 - top3_acc: 0.7930 - top_k_categorical_accuracy: 0.8653 - val_loss: 2.6921 - val_accuracy: 0.3555 - val_top3_acc: 0.5511 - val_top_k_categorical_accuracy: 0.6429\n",
      "Epoch 40/50\n",
      "313/313 [==============================] - 26s 82ms/step - loss: 1.6030 - accuracy: 0.5887 - top3_acc: 0.8014 - top_k_categorical_accuracy: 0.8706 - val_loss: 2.6043 - val_accuracy: 0.3702 - val_top3_acc: 0.5662 - val_top_k_categorical_accuracy: 0.6564\n",
      "Epoch 41/50\n",
      "313/313 [==============================] - 25s 81ms/step - loss: 1.5470 - accuracy: 0.5984 - top3_acc: 0.8132 - top_k_categorical_accuracy: 0.8818 - val_loss: 2.6904 - val_accuracy: 0.3579 - val_top3_acc: 0.5504 - val_top_k_categorical_accuracy: 0.6398\n",
      "Epoch 42/50\n",
      "313/313 [==============================] - 23s 74ms/step - loss: 1.4932 - accuracy: 0.6160 - top3_acc: 0.8228 - top_k_categorical_accuracy: 0.8859 - val_loss: 2.8133 - val_accuracy: 0.3396 - val_top3_acc: 0.5310 - val_top_k_categorical_accuracy: 0.6243\n",
      "Epoch 43/50\n",
      "313/313 [==============================] - 24s 77ms/step - loss: 1.4434 - accuracy: 0.6259 - top3_acc: 0.8336 - top_k_categorical_accuracy: 0.8959 - val_loss: 2.8129 - val_accuracy: 0.3380 - val_top3_acc: 0.5308 - val_top_k_categorical_accuracy: 0.6199\n",
      "Epoch 44/50\n",
      "313/313 [==============================] - 25s 80ms/step - loss: 1.3930 - accuracy: 0.6401 - top3_acc: 0.8447 - top_k_categorical_accuracy: 0.9041 - val_loss: 2.8550 - val_accuracy: 0.3438 - val_top3_acc: 0.5301 - val_top_k_categorical_accuracy: 0.6228\n",
      "Epoch 45/50\n",
      "313/313 [==============================] - 23s 74ms/step - loss: 1.3479 - accuracy: 0.6524 - top3_acc: 0.8534 - top_k_categorical_accuracy: 0.9088 - val_loss: 2.8207 - val_accuracy: 0.3428 - val_top3_acc: 0.5420 - val_top_k_categorical_accuracy: 0.6336\n",
      "Epoch 46/50\n",
      "313/313 [==============================] - 25s 80ms/step - loss: 1.3292 - accuracy: 0.6551 - top3_acc: 0.8560 - top_k_categorical_accuracy: 0.9126 - val_loss: 2.7089 - val_accuracy: 0.3613 - val_top3_acc: 0.5513 - val_top_k_categorical_accuracy: 0.6379\n",
      "Epoch 47/50\n",
      "313/313 [==============================] - 25s 79ms/step - loss: 1.2769 - accuracy: 0.6686 - top3_acc: 0.8668 - top_k_categorical_accuracy: 0.9210 - val_loss: 2.7584 - val_accuracy: 0.3518 - val_top3_acc: 0.5410 - val_top_k_categorical_accuracy: 0.6297\n",
      "Epoch 48/50\n",
      "313/313 [==============================] - 23s 74ms/step - loss: 1.2346 - accuracy: 0.6816 - top3_acc: 0.8712 - top_k_categorical_accuracy: 0.9221 - val_loss: 3.1759 - val_accuracy: 0.2984 - val_top3_acc: 0.4786 - val_top_k_categorical_accuracy: 0.5676\n",
      "Epoch 49/50\n",
      "313/313 [==============================] - 26s 83ms/step - loss: 1.1935 - accuracy: 0.6922 - top3_acc: 0.8810 - top_k_categorical_accuracy: 0.9303 - val_loss: 2.7400 - val_accuracy: 0.3644 - val_top3_acc: 0.5527 - val_top_k_categorical_accuracy: 0.6395\n",
      "Epoch 50/50\n",
      "313/313 [==============================] - 24s 76ms/step - loss: 1.1500 - accuracy: 0.7047 - top3_acc: 0.8903 - top_k_categorical_accuracy: 0.9346 - val_loss: 3.0720 - val_accuracy: 0.3158 - val_top3_acc: 0.4982 - val_top_k_categorical_accuracy: 0.5932\n"
     ]
    }
   ],
   "source": [
    "def gelu(x):\n",
    "    return 0.5 * x * (1 + tf.tanh(tf.sqrt(2 / np.pi) * (x + 0.044715 * tf.pow(x, 3))))\n",
    "get_custom_objects().update({'gelu': Activation(gelu)})\n",
    "\n",
    "def swish(x):\n",
    "    return x * tf.sigmoid(x)\n",
    "get_custom_objects().update({'swish': Activation(swish)})\n",
    "\n",
    "get_custom_objects().update({'leaky-relu': Activation(LeakyReLU(alpha=0.2))})\n",
    "\n",
    "# act_func = ['tanh', 'relu', 'leaky-relu', 'elu', 'selu', 'gelu', 'swish']\n",
    "\n",
    "model = alexnet('leaky-relu')\n",
    "\n",
    "batch_size = 128\n",
    "epochs = 50\n",
    "\n",
    "top3_acc = functools.partial(tf.keras.metrics.top_k_categorical_accuracy, k=3)\n",
    "\n",
    "top3_acc.__name__ = 'top3_acc'\n",
    "\n",
    "model.compile(optimizer=SGD(), loss='categorical_crossentropy', metrics=['accuracy', top3_acc, 'top_k_categorical_accuracy'])\n",
    "\n",
    "history = model.fit(train_generator.flow(x_train, y_train, batch_size=batch_size), epochs=epochs,\n",
    "                      validation_data=val_generator.flow(x_val, y_val, batch_size=batch_size), verbose=1)"
   ]
  },
  {
   "cell_type": "code",
   "execution_count": 10,
   "metadata": {
    "colab": {
     "base_uri": "https://localhost:8080/"
    },
    "id": "A_eJn83kKCwL",
    "outputId": "843ef55e-545a-4cb8-a0f8-1c4eb9689d10"
   },
   "outputs": [
    {
     "name": "stdout",
     "output_type": "stream",
     "text": [
      "{'loss': [4.459047794342041, 4.0154523849487305, 3.8197011947631836, 3.6871085166931152, 3.5722954273223877, 3.47745418548584, 3.393366813659668, 3.302201271057129, 3.2290725708007812, 3.1396801471710205, 3.0733749866485596, 3.0040507316589355, 2.9434621334075928, 2.8845889568328857, 2.82080340385437, 2.7694625854492188, 2.7066643238067627, 2.65496826171875, 2.604931354522705, 2.549025535583496, 2.4959521293640137, 2.451040267944336, 2.39925479888916, 2.355045795440674, 2.301292896270752, 2.2622897624969482, 2.207249164581299, 2.159728765487671, 2.1127867698669434, 2.065460681915283, 2.019068956375122, 1.9761167764663696, 1.9300545454025269, 1.874473214149475, 1.8347859382629395, 1.78629469871521, 1.743043303489685, 1.6978930234909058, 1.6507058143615723, 1.6105663776397705, 1.5681939125061035, 1.5161161422729492, 1.471673846244812, 1.4251973628997803, 1.3736217021942139, 1.3472652435302734, 1.3027822971343994, 1.2465420961380005, 1.213927984237671, 1.1760339736938477], 'accuracy': [0.04064999893307686, 0.08362500369548798, 0.1181500032544136, 0.14147500693798065, 0.16504999995231628, 0.1842000037431717, 0.20207500457763672, 0.21792499721050262, 0.23280000686645508, 0.2535499930381775, 0.26372501254081726, 0.2825250029563904, 0.29077500104904175, 0.30515000224113464, 0.3161250054836273, 0.3267250061035156, 0.33847498893737793, 0.3518750071525574, 0.3610000014305115, 0.37005001306533813, 0.38339999318122864, 0.39162498712539673, 0.3997249901294708, 0.4137499928474426, 0.4251750111579895, 0.43357500433921814, 0.44620001316070557, 0.45592498779296875, 0.46662500500679016, 0.47567498683929443, 0.48429998755455017, 0.49642500281333923, 0.5044500231742859, 0.5214499831199646, 0.5288749933242798, 0.5416250228881836, 0.5508750081062317, 0.5634750127792358, 0.5740000009536743, 0.5850499868392944, 0.5924749970436096, 0.6074249744415283, 0.6172500252723694, 0.6311749815940857, 0.6429749727249146, 0.6490499973297119, 0.6598749756813049, 0.6777750253677368, 0.6839749813079834, 0.6948999762535095], 'top3_acc': [0.10490000247955322, 0.19452500343322754, 0.2542000114917755, 0.29534998536109924, 0.3292500078678131, 0.3523249924182892, 0.37902501225471497, 0.4023500084877014, 0.42317500710487366, 0.4502750039100647, 0.46584999561309814, 0.48330000042915344, 0.4995500147342682, 0.5145750045776367, 0.5289999842643738, 0.5408250093460083, 0.5533750057220459, 0.5678250193595886, 0.5792750120162964, 0.5940999984741211, 0.6042249798774719, 0.6145750284194946, 0.6259750127792358, 0.6369749903678894, 0.6492249965667725, 0.6558250188827515, 0.6696749925613403, 0.6797249913215637, 0.6905999779701233, 0.7017750144004822, 0.7124500274658203, 0.7216500043869019, 0.7330750226974487, 0.7427999973297119, 0.7507500052452087, 0.7615749835968018, 0.7725499868392944, 0.7805250287055969, 0.7925000190734863, 0.7991750240325928, 0.8078500032424927, 0.8177000284194946, 0.8270999789237976, 0.8363999724388123, 0.8474000096321106, 0.8524500131607056, 0.86142498254776, 0.869575023651123, 0.8776249885559082, 0.8840500116348267], 'top_k_categorical_accuracy': [0.1580750048160553, 0.27364999055862427, 0.3441750109195709, 0.38987499475479126, 0.42742499709129333, 0.4546000063419342, 0.48182499408721924, 0.5093500018119812, 0.5295500159263611, 0.5548250079154968, 0.5733749866485596, 0.5890750288963318, 0.6051999926567078, 0.6154249906539917, 0.6320000290870667, 0.6426500082015991, 0.6581500172615051, 0.6698750257492065, 0.6814249753952026, 0.6916249990463257, 0.7034249901771545, 0.711775004863739, 0.7224500179290771, 0.7318249940872192, 0.745199978351593, 0.7490249872207642, 0.758899986743927, 0.7699499726295471, 0.7770749926567078, 0.7879999876022339, 0.7960000038146973, 0.805525004863739, 0.8153749704360962, 0.8242250084877014, 0.8307250142097473, 0.8379250168800354, 0.845425009727478, 0.8541749715805054, 0.8635749816894531, 0.8684999942779541, 0.8770750164985657, 0.8831499814987183, 0.8901000022888184, 0.8971750140190125, 0.9045000076293945, 0.9090750217437744, 0.9161750078201294, 0.9207500219345093, 0.927299976348877, 0.9326000213623047], 'val_loss': [4.082589626312256, 3.8335421085357666, 3.6379616260528564, 3.5351006984710693, 3.6512436866760254, 3.409677267074585, 3.308598518371582, 3.3995625972747803, 3.338435173034668, 3.254110336303711, 3.0611932277679443, 3.3088417053222656, 2.931678056716919, 3.0417377948760986, 2.902907371520996, 2.993704319000244, 2.810727596282959, 2.874871015548706, 2.818148136138916, 2.747225761413574, 2.8142266273498535, 2.7190539836883545, 3.0195560455322266, 2.7746496200561523, 2.8123605251312256, 2.817884683609009, 2.829235792160034, 2.6738903522491455, 2.6478071212768555, 2.7305498123168945, 2.663217544555664, 2.5953686237335205, 2.701521396636963, 2.6296370029449463, 2.8264002799987793, 2.688032627105713, 2.6943483352661133, 2.6342709064483643, 2.6920552253723145, 2.6043217182159424, 2.6903581619262695, 2.813314914703369, 2.812941312789917, 2.855038642883301, 2.820673704147339, 2.7089178562164307, 2.758385181427002, 3.1758768558502197, 2.73998761177063, 3.0719690322875977], 'val_accuracy': [0.10109999775886536, 0.13600000739097595, 0.17409999668598175, 0.18950000405311584, 0.16410000622272491, 0.20759999752044678, 0.22529999911785126, 0.2102999985218048, 0.21649999916553497, 0.23350000381469727, 0.27070000767707825, 0.20669999718666077, 0.29679998755455017, 0.2720000147819519, 0.29589998722076416, 0.27970001101493835, 0.3149999976158142, 0.3059000074863434, 0.3082999885082245, 0.3276999890804291, 0.3133000135421753, 0.33090001344680786, 0.2872999906539917, 0.3181999921798706, 0.3215999901294708, 0.31119999289512634, 0.3125999867916107, 0.34610000252723694, 0.3443000018596649, 0.3352000117301941, 0.3521000146865845, 0.36480000615119934, 0.3416999876499176, 0.3601999878883362, 0.322299987077713, 0.3481000065803528, 0.3452000021934509, 0.3601999878883362, 0.3555000126361847, 0.3702000081539154, 0.3578999936580658, 0.33959999680519104, 0.33799999952316284, 0.34380000829696655, 0.34279999136924744, 0.361299991607666, 0.35179999470710754, 0.29840001463890076, 0.3643999993801117, 0.3158000111579895], 'val_top3_acc': [0.2290000021457672, 0.27869999408721924, 0.33660000562667847, 0.3653999865055084, 0.3127000033855438, 0.37630000710487366, 0.4097999930381775, 0.37709999084472656, 0.38850000500679016, 0.41019999980926514, 0.4571000039577484, 0.37779998779296875, 0.4867999851703644, 0.4645000100135803, 0.49079999327659607, 0.4699999988079071, 0.5151000022888184, 0.4977000057697296, 0.5005000233650208, 0.5238000154495239, 0.507099986076355, 0.5297999978065491, 0.46399998664855957, 0.5148000121116638, 0.5027999877929688, 0.5105999708175659, 0.5016000270843506, 0.5430999994277954, 0.546999990940094, 0.5315999984741211, 0.5442000031471252, 0.5576000213623047, 0.5383999943733215, 0.5522000193595886, 0.5128999948501587, 0.5400999784469604, 0.5480999946594238, 0.5540000200271606, 0.5511000156402588, 0.5662000179290771, 0.5504000186920166, 0.531000018119812, 0.5307999849319458, 0.5300999879837036, 0.5419999957084656, 0.5512999892234802, 0.5410000085830688, 0.47859999537467957, 0.5526999831199646, 0.498199999332428], 'val_top_k_categorical_accuracy': [0.30649998784065247, 0.36980000138282776, 0.43639999628067017, 0.4593000113964081, 0.4020000100135803, 0.4781000018119812, 0.5078999996185303, 0.48019999265670776, 0.49050000309944153, 0.5066999793052673, 0.5602999925613403, 0.4763999879360199, 0.5910999774932861, 0.5626999735832214, 0.595300018787384, 0.5666999816894531, 0.6193000078201294, 0.5957000255584717, 0.6021000146865845, 0.621999979019165, 0.6040999889373779, 0.6284000277519226, 0.5572999715805054, 0.6173999905586243, 0.5968999862670898, 0.607200026512146, 0.5953999757766724, 0.6363999843597412, 0.6425999999046326, 0.6269999742507935, 0.6373000144958496, 0.6525999903678894, 0.6312000155448914, 0.6446999907493591, 0.607699990272522, 0.6363000273704529, 0.6453999876976013, 0.6481000185012817, 0.6428999900817871, 0.6564000248908997, 0.6398000121116638, 0.6243000030517578, 0.6198999881744385, 0.6227999925613403, 0.6335999965667725, 0.6378999948501587, 0.6297000050544739, 0.5676000118255615, 0.6395000219345093, 0.5932000279426575]}\n",
      "313/313 [==============================] - 3s 6ms/step - loss: 3.0798 - accuracy: 0.3085 - top3_acc: 0.4946 - top_k_categorical_accuracy: 0.5927\n",
      "[3.0797648429870605, 0.3084999918937683, 0.49459999799728394, 0.5927000045776367]\n"
     ]
    }
   ],
   "source": [
    "print(history.history)\n",
    "# y_pred = np.argmax(model.predict(x_test), axis=1)\n",
    "# y_true = np.argmax(y_test,axis=1)\n",
    "\n",
    "# print(y_pred.shape)\n",
    "# print(y_true.shape)\n",
    "\n",
    "# print(np.sum(y_pred == y_true) / y_pred.shape[0])\n",
    "\n",
    "print(model.evaluate(x_test, y_test))"
   ]
  }
 ],
 "metadata": {
  "accelerator": "GPU",
  "colab": {
   "collapsed_sections": [],
   "name": "cifar100_alexnet_leaky.ipynb",
   "provenance": []
  },
  "kernelspec": {
   "display_name": "Python 3 (ipykernel)",
   "language": "python",
   "name": "python3"
  },
  "language_info": {
   "codemirror_mode": {
    "name": "ipython",
    "version": 3
   },
   "file_extension": ".py",
   "mimetype": "text/x-python",
   "name": "python",
   "nbconvert_exporter": "python",
   "pygments_lexer": "ipython3",
   "version": "3.9.0"
  }
 },
 "nbformat": 4,
 "nbformat_minor": 1
}

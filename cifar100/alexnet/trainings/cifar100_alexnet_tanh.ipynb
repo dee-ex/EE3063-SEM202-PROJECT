{
 "cells": [
  {
   "cell_type": "code",
   "execution_count": 1,
   "metadata": {
    "id": "-8e0tAC7e0CI"
   },
   "outputs": [],
   "source": [
    "import functools\n",
    "import numpy as np\n",
    "import tensorflow as tf\n",
    "from keras.datasets import cifar100\n",
    "from keras import Sequential\n",
    "from keras.preprocessing.image import ImageDataGenerator\n",
    "from sklearn.model_selection import train_test_split\n",
    "from keras.optimizers import SGD\n",
    "from keras.layers import Dense, Activation, Dropout, Flatten, Conv2D, MaxPooling2D, LeakyReLU\n",
    "from keras.layers.normalization import BatchNormalization\n",
    "from tensorflow.keras.utils import to_categorical\n",
    "from keras.utils.generic_utils import get_custom_objects"
   ]
  },
  {
   "cell_type": "code",
   "execution_count": 2,
   "metadata": {
    "id": "WljAm5f0fKkw"
   },
   "outputs": [],
   "source": [
    "(x_train, y_train), (x_test, y_test) = cifar100.load_data()\n",
    "x_train, x_val, y_train, y_val = train_test_split(x_train, y_train, test_size=.2)"
   ]
  },
  {
   "cell_type": "code",
   "execution_count": 3,
   "metadata": {
    "id": "7u2htPZHfLP2"
   },
   "outputs": [],
   "source": [
    "y_train = to_categorical(y_train)\n",
    "y_val = to_categorical(y_val)\n",
    "y_test = to_categorical(y_test)"
   ]
  },
  {
   "cell_type": "code",
   "execution_count": 4,
   "metadata": {
    "colab": {
     "base_uri": "https://localhost:8080/"
    },
    "id": "sKxXF-OFASsu",
    "outputId": "5dc11697-ef2f-4600-be9a-d04adfcab96a"
   },
   "outputs": [
    {
     "data": {
      "text/plain": [
       "((40000, 32, 32, 3),\n",
       " (40000, 100),\n",
       " (10000, 32, 32, 3),\n",
       " (10000, 100),\n",
       " (10000, 32, 32, 3),\n",
       " (10000, 100))"
      ]
     },
     "execution_count": 4,
     "metadata": {
      "tags": []
     },
     "output_type": "execute_result"
    }
   ],
   "source": [
    "x_train.shape, y_train.shape, x_val.shape, y_val.shape, x_test.shape, y_test.shape"
   ]
  },
  {
   "cell_type": "code",
   "execution_count": 5,
   "metadata": {
    "id": "QR8VwuXy-SCk"
   },
   "outputs": [],
   "source": [
    "train_generator = ImageDataGenerator(rotation_range=2, horizontal_flip=True)\n",
    "val_generator = ImageDataGenerator(rotation_range=2, horizontal_flip=True)\n",
    "test_generator = ImageDataGenerator(rotation_range=2, horizontal_flip=True)\n",
    "\n",
    "train_generator.fit(x_train)\n",
    "val_generator.fit(x_val)\n",
    "test_generator.fit(x_test)"
   ]
  },
  {
   "cell_type": "code",
   "execution_count": 6,
   "metadata": {
    "id": "UgqsFQ16Gmz4"
   },
   "outputs": [],
   "source": [
    "def alexnet(activation):\n",
    "    AlexNet = Sequential()\n",
    "\n",
    "    AlexNet.add(Conv2D(filters=96, input_shape=(32, 32, 3), kernel_size=(11, 11), strides=(4, 4), padding='same'))\n",
    "    AlexNet.add(BatchNormalization())\n",
    "    AlexNet.add(Activation(activation))\n",
    "    AlexNet.add(MaxPooling2D(pool_size=(2, 2), strides=(2, 2), padding='same'))\n",
    "\n",
    "    AlexNet.add(Conv2D(filters=256, kernel_size=(5, 5), strides=(1, 1), padding='same'))\n",
    "    AlexNet.add(BatchNormalization())\n",
    "    AlexNet.add(Activation(activation))\n",
    "    AlexNet.add(MaxPooling2D(pool_size=(2, 2), strides=(2, 2), padding='same'))\n",
    "\n",
    "    AlexNet.add(Conv2D(filters=384, kernel_size=(3, 3), strides=(1, 1), padding='same'))\n",
    "    AlexNet.add(BatchNormalization())\n",
    "    AlexNet.add(Activation(activation))\n",
    "\n",
    "    AlexNet.add(Conv2D(filters=384, kernel_size=(3, 3), strides=(1, 1), padding='same'))\n",
    "    AlexNet.add(BatchNormalization())\n",
    "    AlexNet.add(Activation(activation))\n",
    "\n",
    "    AlexNet.add(Conv2D(filters=256, kernel_size=(3, 3), strides=(1, 1), padding='same'))\n",
    "    AlexNet.add(BatchNormalization())\n",
    "    AlexNet.add(Activation(activation))\n",
    "    AlexNet.add(MaxPooling2D(pool_size=(2, 2), strides=(2, 2), padding='same'))\n",
    "\n",
    "    AlexNet.add(Flatten())\n",
    "    AlexNet.add(Dense(4096, input_shape=(32, 32, 3)))\n",
    "    AlexNet.add(BatchNormalization())\n",
    "    AlexNet.add(Activation(activation))\n",
    "    AlexNet.add(Dropout(0.5))\n",
    "\n",
    "    AlexNet.add(Dense(4096))\n",
    "    AlexNet.add(BatchNormalization())\n",
    "    AlexNet.add(Activation(activation))\n",
    "    AlexNet.add(Dropout(0.5))\n",
    "\n",
    "    AlexNet.add(Dense(1000))\n",
    "    AlexNet.add(BatchNormalization())\n",
    "    AlexNet.add(Activation(activation))\n",
    "    AlexNet.add(Dropout(0.5))\n",
    "\n",
    "    AlexNet.add(Dense(100))\n",
    "    AlexNet.add(BatchNormalization())\n",
    "    AlexNet.add(Activation('softmax'))\n",
    "\n",
    "    return AlexNet"
   ]
  },
  {
   "cell_type": "code",
   "execution_count": 7,
   "metadata": {
    "colab": {
     "base_uri": "https://localhost:8080/"
    },
    "id": "bvLaricEJB7Y",
    "outputId": "8283cdee-4752-4624-a6cf-4c5ac460ac61"
   },
   "outputs": [
    {
     "name": "stdout",
     "output_type": "stream",
     "text": [
      "Epoch 1/50\n",
      "313/313 [==============================] - 48s 88ms/step - loss: 4.7078 - accuracy: 0.0271 - top3_acc: 0.0708 - top_k_categorical_accuracy: 0.1104 - val_loss: 4.0470 - val_accuracy: 0.0909 - val_top3_acc: 0.2017 - val_top_k_categorical_accuracy: 0.2797\n",
      "Epoch 2/50\n",
      "313/313 [==============================] - 24s 78ms/step - loss: 4.0674 - accuracy: 0.0776 - top3_acc: 0.1855 - top_k_categorical_accuracy: 0.2657 - val_loss: 3.7407 - val_accuracy: 0.1351 - val_top3_acc: 0.2744 - val_top_k_categorical_accuracy: 0.3668\n",
      "Epoch 3/50\n",
      "313/313 [==============================] - 25s 80ms/step - loss: 3.8685 - accuracy: 0.1079 - top3_acc: 0.2369 - top_k_categorical_accuracy: 0.3274 - val_loss: 3.6091 - val_accuracy: 0.1624 - val_top3_acc: 0.3127 - val_top_k_categorical_accuracy: 0.4074\n",
      "Epoch 4/50\n",
      "313/313 [==============================] - 25s 81ms/step - loss: 3.7063 - accuracy: 0.1390 - top3_acc: 0.2892 - top_k_categorical_accuracy: 0.3846 - val_loss: 3.4713 - val_accuracy: 0.1803 - val_top3_acc: 0.3536 - val_top_k_categorical_accuracy: 0.4536\n",
      "Epoch 5/50\n",
      "313/313 [==============================] - 24s 77ms/step - loss: 3.5999 - accuracy: 0.1596 - top3_acc: 0.3201 - top_k_categorical_accuracy: 0.4229 - val_loss: 3.4828 - val_accuracy: 0.1812 - val_top3_acc: 0.3422 - val_top_k_categorical_accuracy: 0.4447\n",
      "Epoch 6/50\n",
      "313/313 [==============================] - 26s 83ms/step - loss: 3.4932 - accuracy: 0.1784 - top3_acc: 0.3475 - top_k_categorical_accuracy: 0.4481 - val_loss: 3.3752 - val_accuracy: 0.1994 - val_top3_acc: 0.3711 - val_top_k_categorical_accuracy: 0.4694\n",
      "Epoch 7/50\n",
      "313/313 [==============================] - 25s 79ms/step - loss: 3.3912 - accuracy: 0.2022 - top3_acc: 0.3806 - top_k_categorical_accuracy: 0.4852 - val_loss: 3.3028 - val_accuracy: 0.2099 - val_top3_acc: 0.3895 - val_top_k_categorical_accuracy: 0.4904\n",
      "Epoch 8/50\n",
      "313/313 [==============================] - 25s 78ms/step - loss: 3.3090 - accuracy: 0.2157 - top3_acc: 0.4047 - top_k_categorical_accuracy: 0.5072 - val_loss: 3.1837 - val_accuracy: 0.2315 - val_top3_acc: 0.4105 - val_top_k_categorical_accuracy: 0.5152\n",
      "Epoch 9/50\n",
      "313/313 [==============================] - 26s 83ms/step - loss: 3.2280 - accuracy: 0.2344 - top3_acc: 0.4220 - top_k_categorical_accuracy: 0.5319 - val_loss: 3.3625 - val_accuracy: 0.1991 - val_top3_acc: 0.3795 - val_top_k_categorical_accuracy: 0.4798\n",
      "Epoch 10/50\n",
      "313/313 [==============================] - 24s 76ms/step - loss: 3.1425 - accuracy: 0.2480 - top3_acc: 0.4458 - top_k_categorical_accuracy: 0.5537 - val_loss: 3.3985 - val_accuracy: 0.2039 - val_top3_acc: 0.3728 - val_top_k_categorical_accuracy: 0.4671\n",
      "Epoch 11/50\n",
      "313/313 [==============================] - 25s 80ms/step - loss: 3.0684 - accuracy: 0.2669 - top3_acc: 0.4631 - top_k_categorical_accuracy: 0.5704 - val_loss: 3.0839 - val_accuracy: 0.2544 - val_top3_acc: 0.4450 - val_top_k_categorical_accuracy: 0.5457\n",
      "Epoch 12/50\n",
      "313/313 [==============================] - 26s 82ms/step - loss: 2.9892 - accuracy: 0.2827 - top3_acc: 0.4881 - top_k_categorical_accuracy: 0.5905 - val_loss: 3.0047 - val_accuracy: 0.2678 - val_top3_acc: 0.4630 - val_top_k_categorical_accuracy: 0.5618\n",
      "Epoch 13/50\n",
      "313/313 [==============================] - 26s 83ms/step - loss: 2.9308 - accuracy: 0.2931 - top3_acc: 0.5032 - top_k_categorical_accuracy: 0.6062 - val_loss: 3.1409 - val_accuracy: 0.2431 - val_top3_acc: 0.4406 - val_top_k_categorical_accuracy: 0.5372\n",
      "Epoch 14/50\n",
      "313/313 [==============================] - 24s 77ms/step - loss: 2.8422 - accuracy: 0.3080 - top3_acc: 0.5207 - top_k_categorical_accuracy: 0.6273 - val_loss: 3.1898 - val_accuracy: 0.2438 - val_top3_acc: 0.4193 - val_top_k_categorical_accuracy: 0.5126\n",
      "Epoch 15/50\n",
      "313/313 [==============================] - 26s 82ms/step - loss: 2.7979 - accuracy: 0.3222 - top3_acc: 0.5311 - top_k_categorical_accuracy: 0.6328 - val_loss: 3.0595 - val_accuracy: 0.2628 - val_top3_acc: 0.4576 - val_top_k_categorical_accuracy: 0.5467\n",
      "Epoch 16/50\n",
      "313/313 [==============================] - 25s 81ms/step - loss: 2.7198 - accuracy: 0.3383 - top3_acc: 0.5524 - top_k_categorical_accuracy: 0.6541 - val_loss: 3.0028 - val_accuracy: 0.2778 - val_top3_acc: 0.4739 - val_top_k_categorical_accuracy: 0.5693\n",
      "Epoch 17/50\n",
      "313/313 [==============================] - 25s 79ms/step - loss: 2.6617 - accuracy: 0.3494 - top3_acc: 0.5616 - top_k_categorical_accuracy: 0.6618 - val_loss: 3.1331 - val_accuracy: 0.2610 - val_top3_acc: 0.4527 - val_top_k_categorical_accuracy: 0.5457\n",
      "Epoch 18/50\n",
      "313/313 [==============================] - 27s 85ms/step - loss: 2.5948 - accuracy: 0.3582 - top3_acc: 0.5806 - top_k_categorical_accuracy: 0.6820 - val_loss: 3.0465 - val_accuracy: 0.2756 - val_top3_acc: 0.4699 - val_top_k_categorical_accuracy: 0.5699\n",
      "Epoch 19/50\n",
      "313/313 [==============================] - 24s 78ms/step - loss: 2.5275 - accuracy: 0.3775 - top3_acc: 0.6002 - top_k_categorical_accuracy: 0.6947 - val_loss: 3.0105 - val_accuracy: 0.2846 - val_top3_acc: 0.4747 - val_top_k_categorical_accuracy: 0.5713\n",
      "Epoch 20/50\n",
      "313/313 [==============================] - 25s 81ms/step - loss: 2.4812 - accuracy: 0.3832 - top3_acc: 0.6060 - top_k_categorical_accuracy: 0.7046 - val_loss: 2.9180 - val_accuracy: 0.2973 - val_top3_acc: 0.4909 - val_top_k_categorical_accuracy: 0.5891\n",
      "Epoch 21/50\n",
      "313/313 [==============================] - 26s 82ms/step - loss: 2.3992 - accuracy: 0.4046 - top3_acc: 0.6260 - top_k_categorical_accuracy: 0.7235 - val_loss: 2.8639 - val_accuracy: 0.3093 - val_top3_acc: 0.5056 - val_top_k_categorical_accuracy: 0.6065\n",
      "Epoch 22/50\n",
      "313/313 [==============================] - 24s 77ms/step - loss: 2.3586 - accuracy: 0.4103 - top3_acc: 0.6317 - top_k_categorical_accuracy: 0.7310 - val_loss: 3.1874 - val_accuracy: 0.2625 - val_top3_acc: 0.4589 - val_top_k_categorical_accuracy: 0.5599\n",
      "Epoch 23/50\n",
      "313/313 [==============================] - 26s 82ms/step - loss: 2.2883 - accuracy: 0.4290 - top3_acc: 0.6510 - top_k_categorical_accuracy: 0.7442 - val_loss: 2.9733 - val_accuracy: 0.2988 - val_top3_acc: 0.4947 - val_top_k_categorical_accuracy: 0.5871\n",
      "Epoch 24/50\n",
      "313/313 [==============================] - 25s 81ms/step - loss: 2.2334 - accuracy: 0.4438 - top3_acc: 0.6637 - top_k_categorical_accuracy: 0.7537 - val_loss: 3.0057 - val_accuracy: 0.2989 - val_top3_acc: 0.4888 - val_top_k_categorical_accuracy: 0.5894\n",
      "Epoch 25/50\n",
      "313/313 [==============================] - 25s 80ms/step - loss: 2.1676 - accuracy: 0.4596 - top3_acc: 0.6789 - top_k_categorical_accuracy: 0.7653 - val_loss: 2.9963 - val_accuracy: 0.3035 - val_top3_acc: 0.4974 - val_top_k_categorical_accuracy: 0.5915\n",
      "Epoch 26/50\n",
      "313/313 [==============================] - 26s 84ms/step - loss: 2.1085 - accuracy: 0.4679 - top3_acc: 0.6899 - top_k_categorical_accuracy: 0.7782 - val_loss: 2.8909 - val_accuracy: 0.3183 - val_top3_acc: 0.5142 - val_top_k_categorical_accuracy: 0.6094\n",
      "Epoch 27/50\n",
      "313/313 [==============================] - 27s 85ms/step - loss: 2.0471 - accuracy: 0.4810 - top3_acc: 0.7031 - top_k_categorical_accuracy: 0.7863 - val_loss: 3.1854 - val_accuracy: 0.2848 - val_top3_acc: 0.4707 - val_top_k_categorical_accuracy: 0.5710\n",
      "Epoch 28/50\n",
      "313/313 [==============================] - 25s 79ms/step - loss: 2.0021 - accuracy: 0.4932 - top3_acc: 0.7136 - top_k_categorical_accuracy: 0.7955 - val_loss: 2.9125 - val_accuracy: 0.3270 - val_top3_acc: 0.5145 - val_top_k_categorical_accuracy: 0.6145\n",
      "Epoch 29/50\n",
      "313/313 [==============================] - 25s 78ms/step - loss: 1.9299 - accuracy: 0.5089 - top3_acc: 0.7279 - top_k_categorical_accuracy: 0.8098 - val_loss: 3.1356 - val_accuracy: 0.2977 - val_top3_acc: 0.4839 - val_top_k_categorical_accuracy: 0.5848\n",
      "Epoch 30/50\n",
      "313/313 [==============================] - 26s 82ms/step - loss: 1.8655 - accuracy: 0.5248 - top3_acc: 0.7466 - top_k_categorical_accuracy: 0.8234 - val_loss: 3.3423 - val_accuracy: 0.2598 - val_top3_acc: 0.4597 - val_top_k_categorical_accuracy: 0.5581\n",
      "Epoch 31/50\n",
      "313/313 [==============================] - 25s 79ms/step - loss: 1.8246 - accuracy: 0.5324 - top3_acc: 0.7511 - top_k_categorical_accuracy: 0.8288 - val_loss: 2.9474 - val_accuracy: 0.3213 - val_top3_acc: 0.5150 - val_top_k_categorical_accuracy: 0.6098\n",
      "Epoch 32/50\n",
      "313/313 [==============================] - 26s 83ms/step - loss: 1.7672 - accuracy: 0.5513 - top3_acc: 0.7656 - top_k_categorical_accuracy: 0.8392 - val_loss: 3.1915 - val_accuracy: 0.3010 - val_top3_acc: 0.4867 - val_top_k_categorical_accuracy: 0.5893\n",
      "Epoch 33/50\n",
      "313/313 [==============================] - 25s 80ms/step - loss: 1.7121 - accuracy: 0.5585 - top3_acc: 0.7732 - top_k_categorical_accuracy: 0.8460 - val_loss: 3.2592 - val_accuracy: 0.2955 - val_top3_acc: 0.4811 - val_top_k_categorical_accuracy: 0.5784\n",
      "Epoch 34/50\n",
      "313/313 [==============================] - 24s 78ms/step - loss: 1.6636 - accuracy: 0.5726 - top3_acc: 0.7860 - top_k_categorical_accuracy: 0.8533 - val_loss: 3.3952 - val_accuracy: 0.2878 - val_top3_acc: 0.4635 - val_top_k_categorical_accuracy: 0.5513\n",
      "Epoch 35/50\n",
      "313/313 [==============================] - 27s 86ms/step - loss: 1.5902 - accuracy: 0.5873 - top3_acc: 0.8003 - top_k_categorical_accuracy: 0.8654 - val_loss: 3.0527 - val_accuracy: 0.3240 - val_top3_acc: 0.5153 - val_top_k_categorical_accuracy: 0.6050\n",
      "Epoch 36/50\n",
      "313/313 [==============================] - 25s 80ms/step - loss: 1.5764 - accuracy: 0.5897 - top3_acc: 0.7999 - top_k_categorical_accuracy: 0.8691 - val_loss: 3.1855 - val_accuracy: 0.3083 - val_top3_acc: 0.4985 - val_top_k_categorical_accuracy: 0.5959\n",
      "Epoch 37/50\n",
      "313/313 [==============================] - 25s 79ms/step - loss: 1.5027 - accuracy: 0.6107 - top3_acc: 0.8155 - top_k_categorical_accuracy: 0.8786 - val_loss: 3.2189 - val_accuracy: 0.3121 - val_top3_acc: 0.5033 - val_top_k_categorical_accuracy: 0.5995\n",
      "Epoch 38/50\n",
      "313/313 [==============================] - 25s 81ms/step - loss: 1.4455 - accuracy: 0.6192 - top3_acc: 0.8286 - top_k_categorical_accuracy: 0.8875 - val_loss: 3.8418 - val_accuracy: 0.2619 - val_top3_acc: 0.4350 - val_top_k_categorical_accuracy: 0.5264\n",
      "Epoch 39/50\n",
      "313/313 [==============================] - 26s 83ms/step - loss: 1.3956 - accuracy: 0.6382 - top3_acc: 0.8368 - top_k_categorical_accuracy: 0.8919 - val_loss: 3.3282 - val_accuracy: 0.3073 - val_top3_acc: 0.4928 - val_top_k_categorical_accuracy: 0.5841\n",
      "Epoch 40/50\n",
      "313/313 [==============================] - 24s 76ms/step - loss: 1.3424 - accuracy: 0.6492 - top3_acc: 0.8444 - top_k_categorical_accuracy: 0.9008 - val_loss: 3.2401 - val_accuracy: 0.3131 - val_top3_acc: 0.5076 - val_top_k_categorical_accuracy: 0.6031\n",
      "Epoch 41/50\n",
      "313/313 [==============================] - 25s 80ms/step - loss: 1.2852 - accuracy: 0.6655 - top3_acc: 0.8589 - top_k_categorical_accuracy: 0.9104 - val_loss: 3.2889 - val_accuracy: 0.3199 - val_top3_acc: 0.5039 - val_top_k_categorical_accuracy: 0.5923\n",
      "Epoch 42/50\n",
      "313/313 [==============================] - 25s 80ms/step - loss: 1.2392 - accuracy: 0.6736 - top3_acc: 0.8645 - top_k_categorical_accuracy: 0.9171 - val_loss: 3.1641 - val_accuracy: 0.3341 - val_top3_acc: 0.5290 - val_top_k_categorical_accuracy: 0.6182\n",
      "Epoch 43/50\n",
      "313/313 [==============================] - 24s 76ms/step - loss: 1.1914 - accuracy: 0.6877 - top3_acc: 0.8715 - top_k_categorical_accuracy: 0.9183 - val_loss: 3.5494 - val_accuracy: 0.2945 - val_top3_acc: 0.4858 - val_top_k_categorical_accuracy: 0.5758\n",
      "Epoch 44/50\n",
      "313/313 [==============================] - 26s 83ms/step - loss: 1.1705 - accuracy: 0.6940 - top3_acc: 0.8765 - top_k_categorical_accuracy: 0.9234 - val_loss: 3.5733 - val_accuracy: 0.2973 - val_top3_acc: 0.4814 - val_top_k_categorical_accuracy: 0.5727\n",
      "Epoch 45/50\n",
      "313/313 [==============================] - 25s 78ms/step - loss: 1.1025 - accuracy: 0.7092 - top3_acc: 0.8874 - top_k_categorical_accuracy: 0.9296 - val_loss: 3.2884 - val_accuracy: 0.3361 - val_top3_acc: 0.5216 - val_top_k_categorical_accuracy: 0.6081\n",
      "Epoch 46/50\n",
      "313/313 [==============================] - 24s 75ms/step - loss: 1.0555 - accuracy: 0.7194 - top3_acc: 0.8961 - top_k_categorical_accuracy: 0.9377 - val_loss: 3.4968 - val_accuracy: 0.3153 - val_top3_acc: 0.5060 - val_top_k_categorical_accuracy: 0.5918\n",
      "Epoch 47/50\n",
      "313/313 [==============================] - 26s 83ms/step - loss: 1.0040 - accuracy: 0.7364 - top3_acc: 0.9059 - top_k_categorical_accuracy: 0.9436 - val_loss: 3.5491 - val_accuracy: 0.3116 - val_top3_acc: 0.4942 - val_top_k_categorical_accuracy: 0.5852\n",
      "Epoch 48/50\n",
      "313/313 [==============================] - 24s 76ms/step - loss: 0.9784 - accuracy: 0.7413 - top3_acc: 0.9081 - top_k_categorical_accuracy: 0.9469 - val_loss: 3.4890 - val_accuracy: 0.3132 - val_top3_acc: 0.5043 - val_top_k_categorical_accuracy: 0.5917\n",
      "Epoch 49/50\n",
      "313/313 [==============================] - 25s 78ms/step - loss: 0.9349 - accuracy: 0.7531 - top3_acc: 0.9165 - top_k_categorical_accuracy: 0.9507 - val_loss: 3.4688 - val_accuracy: 0.3240 - val_top3_acc: 0.5096 - val_top_k_categorical_accuracy: 0.6001\n",
      "Epoch 50/50\n",
      "313/313 [==============================] - 25s 80ms/step - loss: 0.8908 - accuracy: 0.7668 - top3_acc: 0.9247 - top_k_categorical_accuracy: 0.9564 - val_loss: 3.8338 - val_accuracy: 0.2914 - val_top3_acc: 0.4717 - val_top_k_categorical_accuracy: 0.5608\n"
     ]
    }
   ],
   "source": [
    "def gelu(x):\n",
    "    return 0.5 * x * (1 + tf.tanh(tf.sqrt(2 / np.pi) * (x + 0.044715 * tf.pow(x, 3))))\n",
    "get_custom_objects().update({'gelu': Activation(gelu)})\n",
    "\n",
    "def swish(x):\n",
    "    return x * tf.sigmoid(x)\n",
    "get_custom_objects().update({'swish': Activation(swish)})\n",
    "\n",
    "get_custom_objects().update({'leaky-relu': Activation(LeakyReLU(alpha=0.2))})\n",
    "\n",
    "# act_func = ['tanh', 'relu', 'leaky-relu', 'elu', 'selu', 'gelu', 'swish']\n",
    "\n",
    "model = alexnet('tanh')\n",
    "\n",
    "batch_size = 128\n",
    "epochs = 50\n",
    "\n",
    "top3_acc = functools.partial(tf.keras.metrics.top_k_categorical_accuracy, k=3)\n",
    "\n",
    "top3_acc.__name__ = 'top3_acc'\n",
    "\n",
    "model.compile(optimizer=SGD(), loss='categorical_crossentropy', metrics=['accuracy', top3_acc, 'top_k_categorical_accuracy'])\n",
    "\n",
    "history = model.fit(train_generator.flow(x_train, y_train, batch_size=batch_size), epochs=epochs,\n",
    "                      validation_data=val_generator.flow(x_val, y_val, batch_size=batch_size), verbose=1)"
   ]
  },
  {
   "cell_type": "code",
   "execution_count": 8,
   "metadata": {
    "colab": {
     "base_uri": "https://localhost:8080/"
    },
    "id": "A_eJn83kKCwL",
    "outputId": "30bb3a03-90a5-4394-ce20-3a28bc81b182"
   },
   "outputs": [
    {
     "name": "stdout",
     "output_type": "stream",
     "text": [
      "{'loss': [4.469039440155029, 4.009764194488525, 3.82824969291687, 3.6856086254119873, 3.573978900909424, 3.473165512084961, 3.3792531490325928, 3.290339946746826, 3.215635061264038, 3.1420042514801025, 3.063722610473633, 2.9900567531585693, 2.9230830669403076, 2.8548388481140137, 2.790928363800049, 2.730712652206421, 2.6686155796051025, 2.599498987197876, 2.5348615646362305, 2.47955584526062, 2.415875196456909, 2.364344835281372, 2.3033337593078613, 2.247913122177124, 2.187262773513794, 2.134659767150879, 2.0670862197875977, 2.0229833126068115, 1.9624855518341064, 1.9028247594833374, 1.8489724397659302, 1.79710054397583, 1.747870922088623, 1.6912612915039062, 1.6423147916793823, 1.587158203125, 1.5395628213882446, 1.4819945096969604, 1.4209383726119995, 1.3794219493865967, 1.3224941492080688, 1.2776554822921753, 1.2360047101974487, 1.1822876930236816, 1.13877534866333, 1.0875763893127441, 1.0491057634353638, 1.0106574296951294, 0.9623174071311951, 0.9166955947875977], 'accuracy': [0.040824998170137405, 0.08415000140666962, 0.11524999886751175, 0.14457499980926514, 0.16380000114440918, 0.1835000067949295, 0.20315000414848328, 0.22062499821186066, 0.23634999990463257, 0.25132501125335693, 0.2652750015258789, 0.2814500033855438, 0.29429998993873596, 0.30682501196861267, 0.3227500021457672, 0.3335750102996826, 0.34610000252723694, 0.3588249981403351, 0.3741999864578247, 0.38472500443458557, 0.40092501044273376, 0.4088749885559082, 0.42399999499320984, 0.4362249970436096, 0.4517500102519989, 0.4622499942779541, 0.474824994802475, 0.48547500371932983, 0.49897500872612, 0.5145000219345093, 0.5253999829292297, 0.5396749973297119, 0.5484750270843506, 0.5627750158309937, 0.571524977684021, 0.5868250131607056, 0.5979750156402588, 0.6095499992370605, 0.6274999976158142, 0.637499988079071, 0.6552749872207642, 0.6621999740600586, 0.6753249764442444, 0.6892750263214111, 0.6967999935150146, 0.7088249921798706, 0.7207499742507935, 0.730400025844574, 0.7443249821662903, 0.7547249794006348], 'top3_acc': [0.10450000315904617, 0.19900000095367432, 0.25027498602867126, 0.2946000099182129, 0.32519999146461487, 0.35440000891685486, 0.3839249908924103, 0.4081000089645386, 0.4251999855041504, 0.4457249939441681, 0.4656749963760376, 0.4866499900817871, 0.5020750164985657, 0.5160999894142151, 0.531499981880188, 0.5461500287055969, 0.5612000226974487, 0.5780749917030334, 0.5942999720573425, 0.6055499911308289, 0.621649980545044, 0.6313750147819519, 0.6468250155448914, 0.6579999923706055, 0.672950029373169, 0.6829749941825867, 0.6979749798774719, 0.7086250185966492, 0.7215250134468079, 0.736299991607666, 0.744700014591217, 0.7566249966621399, 0.7650499939918518, 0.777899980545044, 0.7870500087738037, 0.7977749705314636, 0.8080499768257141, 0.8199499845504761, 0.8302749991416931, 0.8359249830245972, 0.8496000170707703, 0.8563500046730042, 0.8623499870300293, 0.8745750188827515, 0.8817750215530396, 0.8900250196456909, 0.8965749740600586, 0.902999997138977, 0.9125750064849854, 0.9189000129699707], 'top_k_categorical_accuracy': [0.1585250049829483, 0.2833999991416931, 0.343625009059906, 0.390749990940094, 0.4289500117301941, 0.45500001311302185, 0.48794999718666077, 0.5100499987602234, 0.5317999720573425, 0.5508249998092651, 0.5707250237464905, 0.59027498960495, 0.6051999926567078, 0.6215749979019165, 0.633400022983551, 0.6491000056266785, 0.6610999703407288, 0.6791499853134155, 0.6928750276565552, 0.7037749886512756, 0.7183499932289124, 0.7303000092506409, 0.7402250170707703, 0.7498000264167786, 0.7613000273704529, 0.771274983882904, 0.7833750247955322, 0.7912999987602234, 0.8035249710083008, 0.8150249719619751, 0.8222500085830688, 0.8316749930381775, 0.8379250168800354, 0.8486499786376953, 0.8560749888420105, 0.8658499717712402, 0.8723499774932861, 0.881850004196167, 0.8884000182151794, 0.8949000239372253, 0.9035500288009644, 0.9097750186920166, 0.9124000072479248, 0.9224500060081482, 0.9261249899864197, 0.9330499768257141, 0.9379249811172485, 0.9431750178337097, 0.9487000107765198, 0.9530749917030334], 'val_loss': [4.046971797943115, 3.7406883239746094, 3.609081745147705, 3.4713246822357178, 3.482792854309082, 3.3751707077026367, 3.3027637004852295, 3.183711051940918, 3.3624532222747803, 3.3985445499420166, 3.08393931388855, 3.004714250564575, 3.140901565551758, 3.189805746078491, 3.059450387954712, 3.002758502960205, 3.1330859661102295, 3.04651141166687, 3.0104520320892334, 2.91795015335083, 2.86388897895813, 3.1873652935028076, 2.9733359813690186, 3.005657911300659, 2.9962973594665527, 2.8909029960632324, 3.1854145526885986, 2.9125282764434814, 3.13564395904541, 3.3423354625701904, 2.947416067123413, 3.191527843475342, 3.2592251300811768, 3.395228624343872, 3.0527291297912598, 3.185525894165039, 3.2188920974731445, 3.8418335914611816, 3.3282253742218018, 3.2400572299957275, 3.2889418601989746, 3.1641013622283936, 3.5494167804718018, 3.5733206272125244, 3.2883760929107666, 3.496800422668457, 3.549088716506958, 3.488966464996338, 3.4688024520874023, 3.833808660507202], 'val_accuracy': [0.0908999964594841, 0.13510000705718994, 0.1624000072479248, 0.18029999732971191, 0.18119999766349792, 0.19939999282360077, 0.20990000665187836, 0.23149999976158142, 0.19910000264644623, 0.20389999449253082, 0.25440001487731934, 0.2678000032901764, 0.24310000240802765, 0.24379999935626984, 0.262800008058548, 0.2777999937534332, 0.26100000739097595, 0.27559998631477356, 0.28459998965263367, 0.2973000109195709, 0.3093000054359436, 0.26249998807907104, 0.298799991607666, 0.2989000082015991, 0.3034999966621399, 0.3183000087738037, 0.2847999930381775, 0.3269999921321869, 0.2976999878883362, 0.259799987077713, 0.3212999999523163, 0.3009999990463257, 0.2955000102519989, 0.28780001401901245, 0.3240000009536743, 0.3082999885082245, 0.31209999322891235, 0.26190000772476196, 0.30730000138282776, 0.31310001015663147, 0.3199000060558319, 0.33410000801086426, 0.2944999933242798, 0.2973000109195709, 0.3361000120639801, 0.31529998779296875, 0.311599999666214, 0.3131999969482422, 0.3240000009536743, 0.2913999855518341], 'val_top3_acc': [0.20170000195503235, 0.274399995803833, 0.3127000033855438, 0.35359999537467957, 0.34220001101493835, 0.3711000084877014, 0.3894999921321869, 0.4104999899864197, 0.37950000166893005, 0.37279999256134033, 0.4449999928474426, 0.46299999952316284, 0.4406000077724457, 0.41929998993873596, 0.4575999975204468, 0.4738999903202057, 0.4526999890804291, 0.4699000120162964, 0.474700003862381, 0.4909000098705292, 0.5055999755859375, 0.45890000462532043, 0.49470001459121704, 0.4887999892234802, 0.4973999857902527, 0.51419997215271, 0.4706999957561493, 0.5145000219345093, 0.4839000105857849, 0.45969998836517334, 0.5149999856948853, 0.48669999837875366, 0.4810999929904938, 0.4634999930858612, 0.5152999758720398, 0.4984999895095825, 0.5033000111579895, 0.4350000023841858, 0.4927999973297119, 0.5076000094413757, 0.5038999915122986, 0.5289999842643738, 0.48579999804496765, 0.4814000129699707, 0.5216000080108643, 0.5059999823570251, 0.4941999912261963, 0.5042999982833862, 0.5095999836921692, 0.4717000126838684], 'val_top_k_categorical_accuracy': [0.27970001101493835, 0.3668000102043152, 0.4074000120162964, 0.4535999894142151, 0.4447000026702881, 0.46939998865127563, 0.4903999865055084, 0.5152000188827515, 0.4797999858856201, 0.46709999442100525, 0.5457000136375427, 0.5618000030517578, 0.5371999740600586, 0.5126000046730042, 0.5467000007629395, 0.5692999958992004, 0.5457000136375427, 0.5698999762535095, 0.5713000297546387, 0.5891000032424927, 0.6065000295639038, 0.5598999857902527, 0.5871000289916992, 0.5893999934196472, 0.5914999842643738, 0.6093999743461609, 0.5709999799728394, 0.6144999861717224, 0.5848000049591064, 0.5580999851226807, 0.6097999811172485, 0.5892999768257141, 0.5784000158309937, 0.5512999892234802, 0.6050000190734863, 0.5958999991416931, 0.5995000004768372, 0.5264000296592712, 0.5841000080108643, 0.6031000018119812, 0.5922999978065491, 0.6182000041007996, 0.5758000016212463, 0.572700023651123, 0.6080999970436096, 0.5917999744415283, 0.5852000117301941, 0.59170001745224, 0.6000999808311462, 0.5608000159263611]}\n",
      "313/313 [==============================] - 3s 6ms/step - loss: 3.8035 - accuracy: 0.2945 - top3_acc: 0.4770 - top_k_categorical_accuracy: 0.5704\n",
      "[3.80350661277771, 0.2944999933242798, 0.47699999809265137, 0.5703999996185303]\n"
     ]
    }
   ],
   "source": [
    "print(history.history)\n",
    "# y_pred = np.argmax(model.predict(x_test), axis=1)\n",
    "# y_true = np.argmax(y_test,axis=1)\n",
    "\n",
    "# print(y_pred.shape)\n",
    "# print(y_true.shape)\n",
    "\n",
    "# print(np.sum(y_pred == y_true) / y_pred.shape[0])\n",
    "\n",
    "print(model.evaluate(x_test, y_test))"
   ]
  }
 ],
 "metadata": {
  "accelerator": "GPU",
  "colab": {
   "collapsed_sections": [],
   "name": "cifar100_alexnet_tanh.ipynb",
   "provenance": []
  },
  "kernelspec": {
   "display_name": "Python 3 (ipykernel)",
   "language": "python",
   "name": "python3"
  },
  "language_info": {
   "codemirror_mode": {
    "name": "ipython",
    "version": 3
   },
   "file_extension": ".py",
   "mimetype": "text/x-python",
   "name": "python",
   "nbconvert_exporter": "python",
   "pygments_lexer": "ipython3",
   "version": "3.9.0"
  }
 },
 "nbformat": 4,
 "nbformat_minor": 1
}

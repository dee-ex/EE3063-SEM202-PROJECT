{
 "cells": [
  {
   "cell_type": "code",
   "execution_count": 1,
   "metadata": {
    "id": "-8e0tAC7e0CI"
   },
   "outputs": [],
   "source": [
    "import functools\n",
    "import numpy as np\n",
    "import tensorflow as tf\n",
    "from keras.datasets import cifar100\n",
    "from keras import Sequential\n",
    "from keras.preprocessing.image import ImageDataGenerator\n",
    "from sklearn.model_selection import train_test_split\n",
    "from keras.optimizers import SGD\n",
    "from keras.layers import Dense, Activation, Dropout, Flatten, Conv2D, MaxPooling2D, LeakyReLU\n",
    "from keras.layers.normalization import BatchNormalization\n",
    "from tensorflow.keras.utils import to_categorical\n",
    "from keras.utils.generic_utils import get_custom_objects"
   ]
  },
  {
   "cell_type": "code",
   "execution_count": 2,
   "metadata": {
    "id": "WljAm5f0fKkw"
   },
   "outputs": [],
   "source": [
    "(x_train, y_train), (x_test, y_test) = cifar100.load_data()\n",
    "x_train, x_val, y_train, y_val = train_test_split(x_train, y_train, test_size=.2)"
   ]
  },
  {
   "cell_type": "code",
   "execution_count": 3,
   "metadata": {
    "id": "7u2htPZHfLP2"
   },
   "outputs": [],
   "source": [
    "y_train = to_categorical(y_train)\n",
    "y_val = to_categorical(y_val)\n",
    "y_test = to_categorical(y_test)"
   ]
  },
  {
   "cell_type": "code",
   "execution_count": 4,
   "metadata": {
    "colab": {
     "base_uri": "https://localhost:8080/"
    },
    "id": "sKxXF-OFASsu",
    "outputId": "569699cf-871d-44f8-9154-cfe6b36296ac"
   },
   "outputs": [
    {
     "data": {
      "text/plain": [
       "((40000, 32, 32, 3),\n",
       " (40000, 100),\n",
       " (10000, 32, 32, 3),\n",
       " (10000, 100),\n",
       " (10000, 32, 32, 3),\n",
       " (10000, 100))"
      ]
     },
     "execution_count": 4,
     "metadata": {
      "tags": []
     },
     "output_type": "execute_result"
    }
   ],
   "source": [
    "x_train.shape, y_train.shape, x_val.shape, y_val.shape, x_test.shape, y_test.shape"
   ]
  },
  {
   "cell_type": "code",
   "execution_count": 5,
   "metadata": {
    "id": "QR8VwuXy-SCk"
   },
   "outputs": [],
   "source": [
    "train_generator = ImageDataGenerator(rotation_range=2, horizontal_flip=True)\n",
    "val_generator = ImageDataGenerator(rotation_range=2, horizontal_flip=True)\n",
    "test_generator = ImageDataGenerator(rotation_range=2, horizontal_flip=True)\n",
    "\n",
    "train_generator.fit(x_train)\n",
    "val_generator.fit(x_val)\n",
    "test_generator.fit(x_test)"
   ]
  },
  {
   "cell_type": "code",
   "execution_count": 6,
   "metadata": {
    "id": "UgqsFQ16Gmz4"
   },
   "outputs": [],
   "source": [
    "def alexnet(activation):\n",
    "    AlexNet = Sequential()\n",
    "\n",
    "    AlexNet.add(Conv2D(filters=96, input_shape=(32, 32, 3), kernel_size=(11, 11), strides=(4, 4), padding='same'))\n",
    "    AlexNet.add(BatchNormalization())\n",
    "    AlexNet.add(Activation(activation))\n",
    "    AlexNet.add(MaxPooling2D(pool_size=(2, 2), strides=(2, 2), padding='same'))\n",
    "\n",
    "    AlexNet.add(Conv2D(filters=256, kernel_size=(5, 5), strides=(1, 1), padding='same'))\n",
    "    AlexNet.add(BatchNormalization())\n",
    "    AlexNet.add(Activation(activation))\n",
    "    AlexNet.add(MaxPooling2D(pool_size=(2, 2), strides=(2, 2), padding='same'))\n",
    "\n",
    "    AlexNet.add(Conv2D(filters=384, kernel_size=(3, 3), strides=(1, 1), padding='same'))\n",
    "    AlexNet.add(BatchNormalization())\n",
    "    AlexNet.add(Activation(activation))\n",
    "\n",
    "    AlexNet.add(Conv2D(filters=384, kernel_size=(3, 3), strides=(1, 1), padding='same'))\n",
    "    AlexNet.add(BatchNormalization())\n",
    "    AlexNet.add(Activation(activation))\n",
    "\n",
    "    AlexNet.add(Conv2D(filters=256, kernel_size=(3, 3), strides=(1, 1), padding='same'))\n",
    "    AlexNet.add(BatchNormalization())\n",
    "    AlexNet.add(Activation(activation))\n",
    "    AlexNet.add(MaxPooling2D(pool_size=(2, 2), strides=(2, 2), padding='same'))\n",
    "\n",
    "    AlexNet.add(Flatten())\n",
    "    AlexNet.add(Dense(4096, input_shape=(32, 32, 3)))\n",
    "    AlexNet.add(BatchNormalization())\n",
    "    AlexNet.add(Activation(activation))\n",
    "    AlexNet.add(Dropout(0.5))\n",
    "\n",
    "    AlexNet.add(Dense(4096))\n",
    "    AlexNet.add(BatchNormalization())\n",
    "    AlexNet.add(Activation(activation))\n",
    "    AlexNet.add(Dropout(0.5))\n",
    "\n",
    "    AlexNet.add(Dense(1000))\n",
    "    AlexNet.add(BatchNormalization())\n",
    "    AlexNet.add(Activation(activation))\n",
    "    AlexNet.add(Dropout(0.5))\n",
    "\n",
    "    AlexNet.add(Dense(100))\n",
    "    AlexNet.add(BatchNormalization())\n",
    "    AlexNet.add(Activation('softmax'))\n",
    "\n",
    "    return AlexNet"
   ]
  },
  {
   "cell_type": "code",
   "execution_count": 13,
   "metadata": {
    "colab": {
     "base_uri": "https://localhost:8080/"
    },
    "id": "bvLaricEJB7Y",
    "outputId": "74b46787-35e7-4ab2-e1c9-12248d28cb59"
   },
   "outputs": [
    {
     "name": "stdout",
     "output_type": "stream",
     "text": [
      "Epoch 1/50\n",
      "313/313 [==============================] - 27s 79ms/step - loss: 4.5455 - accuracy: 0.0384 - top3_acc: 0.0953 - top_k_categorical_accuracy: 0.1461 - val_loss: 3.8670 - val_accuracy: 0.1265 - val_top3_acc: 0.2566 - val_top_k_categorical_accuracy: 0.3428\n",
      "Epoch 2/50\n",
      "313/313 [==============================] - 25s 79ms/step - loss: 3.9152 - accuracy: 0.1042 - top3_acc: 0.2281 - top_k_categorical_accuracy: 0.3159 - val_loss: 3.6635 - val_accuracy: 0.1535 - val_top3_acc: 0.3046 - val_top_k_categorical_accuracy: 0.3970\n",
      "Epoch 3/50\n",
      "313/313 [==============================] - 25s 79ms/step - loss: 3.6931 - accuracy: 0.1446 - top3_acc: 0.2950 - top_k_categorical_accuracy: 0.3920 - val_loss: 3.5366 - val_accuracy: 0.1778 - val_top3_acc: 0.3385 - val_top_k_categorical_accuracy: 0.4366\n",
      "Epoch 4/50\n",
      "313/313 [==============================] - 24s 76ms/step - loss: 3.5639 - accuracy: 0.1684 - top3_acc: 0.3314 - top_k_categorical_accuracy: 0.4352 - val_loss: 3.3979 - val_accuracy: 0.2046 - val_top3_acc: 0.3747 - val_top_k_categorical_accuracy: 0.4738\n",
      "Epoch 5/50\n",
      "313/313 [==============================] - 26s 82ms/step - loss: 3.4411 - accuracy: 0.1947 - top3_acc: 0.3702 - top_k_categorical_accuracy: 0.4726 - val_loss: 3.4354 - val_accuracy: 0.1927 - val_top3_acc: 0.3600 - val_top_k_categorical_accuracy: 0.4565\n",
      "Epoch 6/50\n",
      "313/313 [==============================] - 26s 82ms/step - loss: 3.3240 - accuracy: 0.2147 - top3_acc: 0.4029 - top_k_categorical_accuracy: 0.5102 - val_loss: 3.3275 - val_accuracy: 0.2196 - val_top3_acc: 0.3931 - val_top_k_categorical_accuracy: 0.4911\n",
      "Epoch 7/50\n",
      "313/313 [==============================] - 24s 77ms/step - loss: 3.2291 - accuracy: 0.2364 - top3_acc: 0.4281 - top_k_categorical_accuracy: 0.5351 - val_loss: 3.2934 - val_accuracy: 0.2293 - val_top3_acc: 0.4029 - val_top_k_categorical_accuracy: 0.4971\n",
      "Epoch 8/50\n",
      "313/313 [==============================] - 25s 80ms/step - loss: 3.1374 - accuracy: 0.2561 - top3_acc: 0.4549 - top_k_categorical_accuracy: 0.5613 - val_loss: 3.1394 - val_accuracy: 0.2543 - val_top3_acc: 0.4378 - val_top_k_categorical_accuracy: 0.5368\n",
      "Epoch 9/50\n",
      "313/313 [==============================] - 25s 81ms/step - loss: 3.0693 - accuracy: 0.2721 - top3_acc: 0.4734 - top_k_categorical_accuracy: 0.5762 - val_loss: 3.0203 - val_accuracy: 0.2730 - val_top3_acc: 0.4642 - val_top_k_categorical_accuracy: 0.5634\n",
      "Epoch 10/50\n",
      "313/313 [==============================] - 24s 77ms/step - loss: 2.9880 - accuracy: 0.2830 - top3_acc: 0.4874 - top_k_categorical_accuracy: 0.5949 - val_loss: 2.9335 - val_accuracy: 0.2879 - val_top3_acc: 0.4801 - val_top_k_categorical_accuracy: 0.5928\n",
      "Epoch 11/50\n",
      "313/313 [==============================] - 26s 83ms/step - loss: 2.9129 - accuracy: 0.2996 - top3_acc: 0.5136 - top_k_categorical_accuracy: 0.6141 - val_loss: 3.0560 - val_accuracy: 0.2628 - val_top3_acc: 0.4476 - val_top_k_categorical_accuracy: 0.5471\n",
      "Epoch 12/50\n",
      "313/313 [==============================] - 24s 77ms/step - loss: 2.8599 - accuracy: 0.3099 - top3_acc: 0.5268 - top_k_categorical_accuracy: 0.6314 - val_loss: 2.9085 - val_accuracy: 0.2971 - val_top3_acc: 0.4904 - val_top_k_categorical_accuracy: 0.5928\n",
      "Epoch 13/50\n",
      "313/313 [==============================] - 24s 77ms/step - loss: 2.7808 - accuracy: 0.3269 - top3_acc: 0.5407 - top_k_categorical_accuracy: 0.6475 - val_loss: 2.9420 - val_accuracy: 0.2904 - val_top3_acc: 0.4778 - val_top_k_categorical_accuracy: 0.5748\n",
      "Epoch 14/50\n",
      "313/313 [==============================] - 26s 83ms/step - loss: 2.7222 - accuracy: 0.3426 - top3_acc: 0.5585 - top_k_categorical_accuracy: 0.6610 - val_loss: 2.8415 - val_accuracy: 0.3060 - val_top3_acc: 0.5011 - val_top_k_categorical_accuracy: 0.5991\n",
      "Epoch 15/50\n",
      "313/313 [==============================] - 24s 76ms/step - loss: 2.6581 - accuracy: 0.3550 - top3_acc: 0.5750 - top_k_categorical_accuracy: 0.6740 - val_loss: 2.7409 - val_accuracy: 0.3251 - val_top3_acc: 0.5263 - val_top_k_categorical_accuracy: 0.6229\n",
      "Epoch 16/50\n",
      "313/313 [==============================] - 25s 80ms/step - loss: 2.6050 - accuracy: 0.3611 - top3_acc: 0.5856 - top_k_categorical_accuracy: 0.6860 - val_loss: 2.8051 - val_accuracy: 0.3038 - val_top3_acc: 0.5112 - val_top_k_categorical_accuracy: 0.6126\n",
      "Epoch 17/50\n",
      "313/313 [==============================] - 25s 80ms/step - loss: 2.5417 - accuracy: 0.3773 - top3_acc: 0.6026 - top_k_categorical_accuracy: 0.7021 - val_loss: 3.0658 - val_accuracy: 0.2662 - val_top3_acc: 0.4537 - val_top_k_categorical_accuracy: 0.5492\n",
      "Epoch 18/50\n",
      "313/313 [==============================] - 24s 76ms/step - loss: 2.4855 - accuracy: 0.3947 - top3_acc: 0.6152 - top_k_categorical_accuracy: 0.7120 - val_loss: 2.7119 - val_accuracy: 0.3360 - val_top3_acc: 0.5297 - val_top_k_categorical_accuracy: 0.6239\n",
      "Epoch 19/50\n",
      "313/313 [==============================] - 26s 83ms/step - loss: 2.4198 - accuracy: 0.4076 - top3_acc: 0.6300 - top_k_categorical_accuracy: 0.7273 - val_loss: 2.7644 - val_accuracy: 0.3269 - val_top3_acc: 0.5224 - val_top_k_categorical_accuracy: 0.6193\n",
      "Epoch 20/50\n",
      "313/313 [==============================] - 26s 81ms/step - loss: 2.3775 - accuracy: 0.4125 - top3_acc: 0.6406 - top_k_categorical_accuracy: 0.7367 - val_loss: 2.6344 - val_accuracy: 0.3486 - val_top3_acc: 0.5472 - val_top_k_categorical_accuracy: 0.6489\n",
      "Epoch 21/50\n",
      "313/313 [==============================] - 25s 79ms/step - loss: 2.3357 - accuracy: 0.4238 - top3_acc: 0.6489 - top_k_categorical_accuracy: 0.7450 - val_loss: 2.5824 - val_accuracy: 0.3653 - val_top3_acc: 0.5631 - val_top_k_categorical_accuracy: 0.6568\n",
      "Epoch 22/50\n",
      "313/313 [==============================] - 24s 75ms/step - loss: 2.2617 - accuracy: 0.4410 - top3_acc: 0.6679 - top_k_categorical_accuracy: 0.7606 - val_loss: 2.9337 - val_accuracy: 0.2908 - val_top3_acc: 0.4787 - val_top_k_categorical_accuracy: 0.5786\n",
      "Epoch 23/50\n",
      "313/313 [==============================] - 26s 83ms/step - loss: 2.2137 - accuracy: 0.4539 - top3_acc: 0.6742 - top_k_categorical_accuracy: 0.7655 - val_loss: 2.7650 - val_accuracy: 0.3315 - val_top3_acc: 0.5225 - val_top_k_categorical_accuracy: 0.6193\n",
      "Epoch 24/50\n",
      "313/313 [==============================] - 24s 77ms/step - loss: 2.1720 - accuracy: 0.4609 - top3_acc: 0.6866 - top_k_categorical_accuracy: 0.7746 - val_loss: 2.9343 - val_accuracy: 0.3052 - val_top3_acc: 0.4926 - val_top_k_categorical_accuracy: 0.5813\n",
      "Epoch 25/50\n",
      "313/313 [==============================] - 24s 76ms/step - loss: 2.1087 - accuracy: 0.4735 - top3_acc: 0.7004 - top_k_categorical_accuracy: 0.7882 - val_loss: 2.6516 - val_accuracy: 0.3511 - val_top3_acc: 0.5467 - val_top_k_categorical_accuracy: 0.6416\n",
      "Epoch 26/50\n",
      "313/313 [==============================] - 26s 82ms/step - loss: 2.0531 - accuracy: 0.4830 - top3_acc: 0.7133 - top_k_categorical_accuracy: 0.7956 - val_loss: 2.6038 - val_accuracy: 0.3634 - val_top3_acc: 0.5582 - val_top_k_categorical_accuracy: 0.6509\n",
      "Epoch 27/50\n",
      "313/313 [==============================] - 24s 77ms/step - loss: 2.0058 - accuracy: 0.4963 - top3_acc: 0.7235 - top_k_categorical_accuracy: 0.8082 - val_loss: 2.6310 - val_accuracy: 0.3559 - val_top3_acc: 0.5560 - val_top_k_categorical_accuracy: 0.6499\n",
      "Epoch 28/50\n",
      "313/313 [==============================] - 26s 82ms/step - loss: 1.9734 - accuracy: 0.5009 - top3_acc: 0.7306 - top_k_categorical_accuracy: 0.8148 - val_loss: 2.6638 - val_accuracy: 0.3534 - val_top3_acc: 0.5506 - val_top_k_categorical_accuracy: 0.6421\n",
      "Epoch 29/50\n",
      "313/313 [==============================] - 25s 79ms/step - loss: 1.9083 - accuracy: 0.5214 - top3_acc: 0.7465 - top_k_categorical_accuracy: 0.8268 - val_loss: 2.6587 - val_accuracy: 0.3550 - val_top3_acc: 0.5528 - val_top_k_categorical_accuracy: 0.6431\n",
      "Epoch 30/50\n",
      "313/313 [==============================] - 24s 76ms/step - loss: 1.8626 - accuracy: 0.5305 - top3_acc: 0.7541 - top_k_categorical_accuracy: 0.8327 - val_loss: 2.6464 - val_accuracy: 0.3606 - val_top3_acc: 0.5544 - val_top_k_categorical_accuracy: 0.6455\n",
      "Epoch 31/50\n",
      "313/313 [==============================] - 26s 83ms/step - loss: 1.8023 - accuracy: 0.5466 - top3_acc: 0.7687 - top_k_categorical_accuracy: 0.8456 - val_loss: 3.2581 - val_accuracy: 0.2676 - val_top3_acc: 0.4384 - val_top_k_categorical_accuracy: 0.5239\n",
      "Epoch 32/50\n",
      "313/313 [==============================] - 25s 81ms/step - loss: 1.7687 - accuracy: 0.5518 - top3_acc: 0.7756 - top_k_categorical_accuracy: 0.8532 - val_loss: 2.7093 - val_accuracy: 0.3514 - val_top3_acc: 0.5404 - val_top_k_categorical_accuracy: 0.6306\n",
      "Epoch 33/50\n",
      "313/313 [==============================] - 25s 78ms/step - loss: 1.7012 - accuracy: 0.5711 - top3_acc: 0.7926 - top_k_categorical_accuracy: 0.8635 - val_loss: 2.7903 - val_accuracy: 0.3459 - val_top3_acc: 0.5331 - val_top_k_categorical_accuracy: 0.6212\n",
      "Epoch 34/50\n",
      "313/313 [==============================] - 23s 74ms/step - loss: 1.6602 - accuracy: 0.5823 - top3_acc: 0.7988 - top_k_categorical_accuracy: 0.8726 - val_loss: 2.7038 - val_accuracy: 0.3568 - val_top3_acc: 0.5482 - val_top_k_categorical_accuracy: 0.6417\n",
      "Epoch 35/50\n",
      "313/313 [==============================] - 26s 83ms/step - loss: 1.6178 - accuracy: 0.5917 - top3_acc: 0.8112 - top_k_categorical_accuracy: 0.8785 - val_loss: 2.5759 - val_accuracy: 0.3749 - val_top3_acc: 0.5736 - val_top_k_categorical_accuracy: 0.6685\n",
      "Epoch 36/50\n",
      "313/313 [==============================] - 25s 78ms/step - loss: 1.5698 - accuracy: 0.6052 - top3_acc: 0.8197 - top_k_categorical_accuracy: 0.8857 - val_loss: 2.6482 - val_accuracy: 0.3648 - val_top3_acc: 0.5615 - val_top_k_categorical_accuracy: 0.6526\n",
      "Epoch 37/50\n",
      "313/313 [==============================] - 24s 78ms/step - loss: 1.5177 - accuracy: 0.6197 - top3_acc: 0.8300 - top_k_categorical_accuracy: 0.8956 - val_loss: 2.7470 - val_accuracy: 0.3567 - val_top3_acc: 0.5368 - val_top_k_categorical_accuracy: 0.6292\n",
      "Epoch 38/50\n",
      "313/313 [==============================] - 26s 82ms/step - loss: 1.4615 - accuracy: 0.6330 - top3_acc: 0.8387 - top_k_categorical_accuracy: 0.9022 - val_loss: 2.9039 - val_accuracy: 0.3341 - val_top3_acc: 0.5129 - val_top_k_categorical_accuracy: 0.6003\n",
      "Epoch 39/50\n",
      "313/313 [==============================] - 24s 75ms/step - loss: 1.4150 - accuracy: 0.6438 - top3_acc: 0.8503 - top_k_categorical_accuracy: 0.9100 - val_loss: 2.6245 - val_accuracy: 0.3787 - val_top3_acc: 0.5707 - val_top_k_categorical_accuracy: 0.6573\n",
      "Epoch 40/50\n",
      "313/313 [==============================] - 25s 79ms/step - loss: 1.3669 - accuracy: 0.6571 - top3_acc: 0.8612 - top_k_categorical_accuracy: 0.9166 - val_loss: 2.6375 - val_accuracy: 0.3764 - val_top3_acc: 0.5709 - val_top_k_categorical_accuracy: 0.6599\n",
      "Epoch 41/50\n",
      "313/313 [==============================] - 25s 79ms/step - loss: 1.3210 - accuracy: 0.6691 - top3_acc: 0.8685 - top_k_categorical_accuracy: 0.9246 - val_loss: 2.9806 - val_accuracy: 0.3220 - val_top3_acc: 0.5100 - val_top_k_categorical_accuracy: 0.5968\n",
      "Epoch 42/50\n",
      "313/313 [==============================] - 23s 75ms/step - loss: 1.2812 - accuracy: 0.6805 - top3_acc: 0.8754 - top_k_categorical_accuracy: 0.9283 - val_loss: 2.7086 - val_accuracy: 0.3665 - val_top3_acc: 0.5629 - val_top_k_categorical_accuracy: 0.6466\n",
      "Epoch 43/50\n",
      "313/313 [==============================] - 26s 83ms/step - loss: 1.2375 - accuracy: 0.6946 - top3_acc: 0.8839 - top_k_categorical_accuracy: 0.9351 - val_loss: 2.7030 - val_accuracy: 0.3748 - val_top3_acc: 0.5643 - val_top_k_categorical_accuracy: 0.6477\n",
      "Epoch 44/50\n",
      "313/313 [==============================] - 26s 82ms/step - loss: 1.2031 - accuracy: 0.7014 - top3_acc: 0.8912 - top_k_categorical_accuracy: 0.9375 - val_loss: 2.8157 - val_accuracy: 0.3583 - val_top3_acc: 0.5490 - val_top_k_categorical_accuracy: 0.6395\n",
      "Epoch 45/50\n",
      "313/313 [==============================] - 25s 79ms/step - loss: 1.1447 - accuracy: 0.7207 - top3_acc: 0.9003 - top_k_categorical_accuracy: 0.9461 - val_loss: 2.6796 - val_accuracy: 0.3773 - val_top3_acc: 0.5647 - val_top_k_categorical_accuracy: 0.6521\n",
      "Epoch 46/50\n",
      "313/313 [==============================] - 24s 75ms/step - loss: 1.1108 - accuracy: 0.7261 - top3_acc: 0.9063 - top_k_categorical_accuracy: 0.9485 - val_loss: 2.7240 - val_accuracy: 0.3763 - val_top3_acc: 0.5634 - val_top_k_categorical_accuracy: 0.6469\n",
      "Epoch 47/50\n",
      "313/313 [==============================] - 26s 82ms/step - loss: 1.0698 - accuracy: 0.7401 - top3_acc: 0.9144 - top_k_categorical_accuracy: 0.9529 - val_loss: 2.7193 - val_accuracy: 0.3725 - val_top3_acc: 0.5596 - val_top_k_categorical_accuracy: 0.6449\n",
      "Epoch 48/50\n",
      "313/313 [==============================] - 24s 76ms/step - loss: 1.0288 - accuracy: 0.7496 - top3_acc: 0.9205 - top_k_categorical_accuracy: 0.9581 - val_loss: 2.8257 - val_accuracy: 0.3605 - val_top3_acc: 0.5514 - val_top_k_categorical_accuracy: 0.6385\n",
      "Epoch 49/50\n",
      "313/313 [==============================] - 24s 76ms/step - loss: 0.9862 - accuracy: 0.7640 - top3_acc: 0.9274 - top_k_categorical_accuracy: 0.9626 - val_loss: 2.7294 - val_accuracy: 0.3781 - val_top3_acc: 0.5655 - val_top_k_categorical_accuracy: 0.6508\n",
      "Epoch 50/50\n",
      "313/313 [==============================] - 26s 83ms/step - loss: 0.9601 - accuracy: 0.7710 - top3_acc: 0.9315 - top_k_categorical_accuracy: 0.9639 - val_loss: 2.7450 - val_accuracy: 0.3816 - val_top3_acc: 0.5660 - val_top_k_categorical_accuracy: 0.6458\n"
     ]
    }
   ],
   "source": [
    "def gelu(x):\n",
    "    return 0.5 * x * (1 + tf.tanh(tf.sqrt(2 / np.pi) * (x + 0.044715 * tf.pow(x, 3))))\n",
    "get_custom_objects().update({'gelu': Activation(gelu)})\n",
    "\n",
    "def swish(x):\n",
    "    return x * tf.sigmoid(x)\n",
    "get_custom_objects().update({'swish': Activation(swish)})\n",
    "\n",
    "get_custom_objects().update({'leaky-relu': Activation(LeakyReLU(alpha=0.2))})\n",
    "\n",
    "# act_func = ['tanh', 'relu', 'leaky-relu', 'elu', 'selu', 'gelu', 'swish']\n",
    "\n",
    "model = alexnet('selu')\n",
    "\n",
    "batch_size = 128\n",
    "epochs = 50\n",
    "\n",
    "top3_acc = functools.partial(tf.keras.metrics.top_k_categorical_accuracy, k=3)\n",
    "\n",
    "top3_acc.__name__ = 'top3_acc'\n",
    "\n",
    "model.compile(optimizer=SGD(), loss='categorical_crossentropy', metrics=['accuracy', top3_acc, 'top_k_categorical_accuracy'])\n",
    "\n",
    "history = model.fit(train_generator.flow(x_train, y_train, batch_size=batch_size), epochs=epochs,\n",
    "                      validation_data=val_generator.flow(x_val, y_val, batch_size=batch_size), verbose=1)"
   ]
  },
  {
   "cell_type": "code",
   "execution_count": 14,
   "metadata": {
    "colab": {
     "base_uri": "https://localhost:8080/"
    },
    "id": "A_eJn83kKCwL",
    "outputId": "2aec13b6-8323-460e-a222-773b6bc14e09"
   },
   "outputs": [
    {
     "name": "stdout",
     "output_type": "stream",
     "text": [
      "{'loss': [4.293421268463135, 3.8543620109558105, 3.6633479595184326, 3.5303571224212646, 3.4082984924316406, 3.3054206371307373, 3.215646982192993, 3.131589651107788, 3.050485849380493, 2.981128215789795, 2.910179376602173, 2.847477436065674, 2.7819998264312744, 2.72220516204834, 2.6624789237976074, 2.6074955463409424, 2.545815944671631, 2.4906086921691895, 2.4358222484588623, 2.3848752975463867, 2.3327488899230957, 2.279548406600952, 2.223081350326538, 2.1843349933624268, 2.128784656524658, 2.075688600540161, 2.01882266998291, 1.979316234588623, 1.9226524829864502, 1.8721306324005127, 1.823724389076233, 1.7781299352645874, 1.727211356163025, 1.6892601251602173, 1.631411075592041, 1.5878374576568604, 1.5374473333358765, 1.4828646183013916, 1.4456076622009277, 1.4004451036453247, 1.3490406274795532, 1.3034908771514893, 1.2582390308380127, 1.2226592302322388, 1.1834745407104492, 1.1373447179794312, 1.0954023599624634, 1.056567907333374, 1.0113214254379272, 0.9810063242912292], 'accuracy': [0.05757499858736992, 0.11517500132322311, 0.15139999985694885, 0.17512500286102295, 0.20205000042915344, 0.22100000083446503, 0.24070000648498535, 0.258650004863739, 0.27469998598098755, 0.28630000352859497, 0.29877498745918274, 0.31482499837875366, 0.32602500915527344, 0.34097498655319214, 0.3538750112056732, 0.3623749911785126, 0.3761749863624573, 0.38989999890327454, 0.4011000096797943, 0.4079749882221222, 0.42217499017715454, 0.43402498960494995, 0.4485749900341034, 0.4551750123500824, 0.4661250114440918, 0.47839999198913574, 0.49309998750686646, 0.4988749921321869, 0.5168250203132629, 0.5262249708175659, 0.5382500290870667, 0.5492749810218811, 0.5629749894142151, 0.5725250244140625, 0.5855249762535095, 0.5984249711036682, 0.6122499704360962, 0.6251500248908997, 0.6345000267028809, 0.6451249718666077, 0.6621000170707703, 0.673425018787384, 0.685824990272522, 0.6952000260353088, 0.7051500082015991, 0.71875, 0.7303000092506409, 0.741474986076355, 0.755174994468689, 0.763700008392334], 'top3_acc': [0.13852499425411224, 0.24642500281333923, 0.30524998903274536, 0.34252500534057617, 0.37950000166893005, 0.40982499718666077, 0.431549996137619, 0.45627498626708984, 0.47699999809265137, 0.490200012922287, 0.5127999782562256, 0.528124988079071, 0.5406749844551086, 0.5582000017166138, 0.5717999935150146, 0.5840749740600586, 0.5993750095367432, 0.6119250059127808, 0.6240749955177307, 0.6360250115394592, 0.6479750275611877, 0.6607999801635742, 0.6711500287055969, 0.6816250085830688, 0.6949499845504761, 0.7066749930381775, 0.7181749939918518, 0.7286249995231628, 0.7411500215530396, 0.7510499954223633, 0.7639750242233276, 0.770924985408783, 0.7849249839782715, 0.7912499904632568, 0.8050000071525574, 0.8134750127792358, 0.8247500061988831, 0.8338249921798706, 0.8432999849319458, 0.8530750274658203, 0.8615750074386597, 0.8709499835968018, 0.8790500164031982, 0.8874750137329102, 0.8920000195503235, 0.8986250162124634, 0.9088500142097473, 0.9158250093460083, 0.923675000667572, 0.9277750253677368], 'top_k_categorical_accuracy': [0.20309999585151672, 0.33695000410079956, 0.4021250009536743, 0.4446749985218048, 0.4817749857902527, 0.5144000053405762, 0.5371749997138977, 0.562125027179718, 0.5804749727249146, 0.5965499877929688, 0.615024983882904, 0.6316249966621399, 0.6457250118255615, 0.6604250073432922, 0.6715999841690063, 0.6850000023841858, 0.6984999775886536, 0.707925021648407, 0.7218000292778015, 0.7332749962806702, 0.7436249852180481, 0.753250002861023, 0.7634999752044678, 0.771049976348877, 0.7838000059127808, 0.792074978351593, 0.8043000102043152, 0.8119249939918518, 0.822700023651123, 0.8313999772071838, 0.8406500220298767, 0.8493499755859375, 0.8579999804496765, 0.8661749958992004, 0.8754000067710876, 0.8808000087738037, 0.890500009059906, 0.8970749974250793, 0.9035000205039978, 0.9101750254631042, 0.9179999828338623, 0.9252499938011169, 0.9298999905586243, 0.9356750249862671, 0.9397249817848206, 0.9445499777793884, 0.9499250054359436, 0.9553499817848206, 0.9591500163078308, 0.9607499837875366], 'val_loss': [3.867048740386963, 3.6634976863861084, 3.536637783050537, 3.3978757858276367, 3.4353787899017334, 3.3274850845336914, 3.2934412956237793, 3.1393940448760986, 3.020310640335083, 2.933469295501709, 3.0559747219085693, 2.9084510803222656, 2.941981792449951, 2.8414690494537354, 2.740889549255371, 2.8050920963287354, 3.065810441970825, 2.711901903152466, 2.7644405364990234, 2.6344127655029297, 2.5824191570281982, 2.933717966079712, 2.7650065422058105, 2.934260606765747, 2.651609182357788, 2.6037559509277344, 2.6310489177703857, 2.663823366165161, 2.658708333969116, 2.6464056968688965, 3.258070707321167, 2.7093348503112793, 2.7903072834014893, 2.703829765319824, 2.5758566856384277, 2.648188591003418, 2.747025966644287, 2.903870105743408, 2.624467372894287, 2.6375229358673096, 2.980583667755127, 2.7086212635040283, 2.703023910522461, 2.815685749053955, 2.6795859336853027, 2.724008560180664, 2.719297170639038, 2.8257179260253906, 2.729379415512085, 2.744953155517578], 'val_accuracy': [0.1264999955892563, 0.1535000056028366, 0.1777999997138977, 0.2046000063419342, 0.19269999861717224, 0.21960000693798065, 0.22930000722408295, 0.25429999828338623, 0.27300000190734863, 0.28790000081062317, 0.262800008058548, 0.2971000075340271, 0.2903999984264374, 0.3059999942779541, 0.32510000467300415, 0.30379998683929443, 0.2662000060081482, 0.335999995470047, 0.32690000534057617, 0.34860000014305115, 0.3652999997138977, 0.290800005197525, 0.33149999380111694, 0.3052000105381012, 0.35109999775886536, 0.36340001225471497, 0.35589998960494995, 0.35339999198913574, 0.35499998927116394, 0.36059999465942383, 0.26759999990463257, 0.3513999879360199, 0.3458999991416931, 0.35679998993873596, 0.3749000132083893, 0.36480000615119934, 0.35670000314712524, 0.33410000801086426, 0.37869998812675476, 0.3763999938964844, 0.32199999690055847, 0.36649999022483826, 0.3747999966144562, 0.35830000042915344, 0.3772999942302704, 0.37630000710487366, 0.3725000023841858, 0.3605000078678131, 0.3781000077724457, 0.3815999925136566], 'val_top3_acc': [0.2565999925136566, 0.3046000003814697, 0.3384999930858612, 0.37470000982284546, 0.36000001430511475, 0.39309999346733093, 0.40290001034736633, 0.43779999017715454, 0.4641999900341034, 0.48010000586509705, 0.44760000705718994, 0.4903999865055084, 0.47780001163482666, 0.5011000037193298, 0.5263000130653381, 0.5112000107765198, 0.4537000060081482, 0.529699981212616, 0.5224000215530396, 0.5472000241279602, 0.5630999803543091, 0.47870001196861267, 0.5224999785423279, 0.4925999939441681, 0.5467000007629395, 0.5582000017166138, 0.5559999942779541, 0.550599992275238, 0.5527999997138977, 0.5544000267982483, 0.438400000333786, 0.5404000282287598, 0.5331000089645386, 0.5482000112533569, 0.5735999941825867, 0.5615000128746033, 0.5368000268936157, 0.5128999948501587, 0.5706999897956848, 0.570900022983551, 0.5099999904632568, 0.5629000067710876, 0.564300000667572, 0.5490000247955322, 0.5647000074386597, 0.5633999705314636, 0.5595999956130981, 0.5514000058174133, 0.565500020980835, 0.5659999847412109], 'val_top_k_categorical_accuracy': [0.34279999136924744, 0.3970000147819519, 0.436599999666214, 0.47380000352859497, 0.45649999380111694, 0.491100013256073, 0.49709999561309814, 0.5368000268936157, 0.5633999705314636, 0.5928000211715698, 0.5471000075340271, 0.5928000211715698, 0.5748000144958496, 0.5990999937057495, 0.6229000091552734, 0.6126000285148621, 0.5491999983787537, 0.6238999962806702, 0.6193000078201294, 0.6488999724388123, 0.6567999720573425, 0.5785999894142151, 0.6193000078201294, 0.5813000202178955, 0.6416000127792358, 0.6509000062942505, 0.6499000191688538, 0.6420999765396118, 0.6431000232696533, 0.6455000042915344, 0.5238999724388123, 0.6305999755859375, 0.6212000250816345, 0.641700029373169, 0.6685000061988831, 0.6525999903678894, 0.6291999816894531, 0.6003000140190125, 0.6572999954223633, 0.6599000096321106, 0.5968000292778015, 0.6466000080108643, 0.6477000117301941, 0.6395000219345093, 0.6521000266075134, 0.6468999981880188, 0.6449000239372253, 0.6384999752044678, 0.6507999897003174, 0.645799994468689]}\n",
      "313/313 [==============================] - 3s 6ms/step - loss: 2.7554 - accuracy: 0.3746 - top3_acc: 0.5664 - top_k_categorical_accuracy: 0.6457\n",
      "[2.7554028034210205, 0.37459999322891235, 0.5663999915122986, 0.6456999778747559]\n"
     ]
    }
   ],
   "source": [
    "print(history.history)\n",
    "# y_pred = np.argmax(model.predict(x_test), axis=1)\n",
    "# y_true = np.argmax(y_test,axis=1)\n",
    "\n",
    "# print(y_pred.shape)\n",
    "# print(y_true.shape)\n",
    "\n",
    "# print(np.sum(y_pred == y_true) / y_pred.shape[0])\n",
    "\n",
    "print(model.evaluate(x_test, y_test))"
   ]
  }
 ],
 "metadata": {
  "accelerator": "GPU",
  "colab": {
   "collapsed_sections": [],
   "name": "cifar100_alexnet_selu.ipynb",
   "provenance": []
  },
  "kernelspec": {
   "display_name": "Python 3 (ipykernel)",
   "language": "python",
   "name": "python3"
  },
  "language_info": {
   "codemirror_mode": {
    "name": "ipython",
    "version": 3
   },
   "file_extension": ".py",
   "mimetype": "text/x-python",
   "name": "python",
   "nbconvert_exporter": "python",
   "pygments_lexer": "ipython3",
   "version": "3.9.0"
  }
 },
 "nbformat": 4,
 "nbformat_minor": 1
}

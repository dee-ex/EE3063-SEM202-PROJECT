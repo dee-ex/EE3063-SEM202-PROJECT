{
 "cells": [
  {
   "cell_type": "code",
   "execution_count": 1,
   "metadata": {
    "id": "-8e0tAC7e0CI"
   },
   "outputs": [],
   "source": [
    "import functools\n",
    "import numpy as np\n",
    "import tensorflow as tf\n",
    "from keras.datasets import cifar100\n",
    "from keras import Sequential\n",
    "from keras.preprocessing.image import ImageDataGenerator\n",
    "from sklearn.model_selection import train_test_split\n",
    "from keras.optimizers import SGD\n",
    "from keras.layers import Dense, Activation, Dropout, Flatten, Conv2D, MaxPooling2D, LeakyReLU\n",
    "from keras.layers.normalization import BatchNormalization\n",
    "from tensorflow.keras.utils import to_categorical\n",
    "from keras.utils.generic_utils import get_custom_objects"
   ]
  },
  {
   "cell_type": "code",
   "execution_count": 2,
   "metadata": {
    "id": "WljAm5f0fKkw"
   },
   "outputs": [],
   "source": [
    "(x_train, y_train), (x_test, y_test) = cifar100.load_data()\n",
    "x_train, x_val, y_train, y_val = train_test_split(x_train, y_train, test_size=.2)"
   ]
  },
  {
   "cell_type": "code",
   "execution_count": 3,
   "metadata": {
    "id": "7u2htPZHfLP2"
   },
   "outputs": [],
   "source": [
    "y_train = to_categorical(y_train)\n",
    "y_val = to_categorical(y_val)\n",
    "y_test = to_categorical(y_test)"
   ]
  },
  {
   "cell_type": "code",
   "execution_count": 4,
   "metadata": {
    "colab": {
     "base_uri": "https://localhost:8080/"
    },
    "id": "sKxXF-OFASsu",
    "outputId": "569699cf-871d-44f8-9154-cfe6b36296ac"
   },
   "outputs": [
    {
     "data": {
      "text/plain": [
       "((40000, 32, 32, 3),\n",
       " (40000, 100),\n",
       " (10000, 32, 32, 3),\n",
       " (10000, 100),\n",
       " (10000, 32, 32, 3),\n",
       " (10000, 100))"
      ]
     },
     "execution_count": 4,
     "metadata": {
      "tags": []
     },
     "output_type": "execute_result"
    }
   ],
   "source": [
    "x_train.shape, y_train.shape, x_val.shape, y_val.shape, x_test.shape, y_test.shape"
   ]
  },
  {
   "cell_type": "code",
   "execution_count": 5,
   "metadata": {
    "id": "QR8VwuXy-SCk"
   },
   "outputs": [],
   "source": [
    "train_generator = ImageDataGenerator(rotation_range=2, horizontal_flip=True)\n",
    "val_generator = ImageDataGenerator(rotation_range=2, horizontal_flip=True)\n",
    "test_generator = ImageDataGenerator(rotation_range=2, horizontal_flip=True)\n",
    "\n",
    "train_generator.fit(x_train)\n",
    "val_generator.fit(x_val)\n",
    "test_generator.fit(x_test)"
   ]
  },
  {
   "cell_type": "code",
   "execution_count": 6,
   "metadata": {
    "id": "UgqsFQ16Gmz4"
   },
   "outputs": [],
   "source": [
    "def alexnet(activation):\n",
    "    AlexNet = Sequential()\n",
    "\n",
    "    AlexNet.add(Conv2D(filters=96, input_shape=(32, 32, 3), kernel_size=(11, 11), strides=(4, 4), padding='same'))\n",
    "    AlexNet.add(BatchNormalization())\n",
    "    AlexNet.add(Activation(activation))\n",
    "    AlexNet.add(MaxPooling2D(pool_size=(2, 2), strides=(2, 2), padding='same'))\n",
    "\n",
    "    AlexNet.add(Conv2D(filters=256, kernel_size=(5, 5), strides=(1, 1), padding='same'))\n",
    "    AlexNet.add(BatchNormalization())\n",
    "    AlexNet.add(Activation(activation))\n",
    "    AlexNet.add(MaxPooling2D(pool_size=(2, 2), strides=(2, 2), padding='same'))\n",
    "\n",
    "    AlexNet.add(Conv2D(filters=384, kernel_size=(3, 3), strides=(1, 1), padding='same'))\n",
    "    AlexNet.add(BatchNormalization())\n",
    "    AlexNet.add(Activation(activation))\n",
    "\n",
    "    AlexNet.add(Conv2D(filters=384, kernel_size=(3, 3), strides=(1, 1), padding='same'))\n",
    "    AlexNet.add(BatchNormalization())\n",
    "    AlexNet.add(Activation(activation))\n",
    "\n",
    "    AlexNet.add(Conv2D(filters=256, kernel_size=(3, 3), strides=(1, 1), padding='same'))\n",
    "    AlexNet.add(BatchNormalization())\n",
    "    AlexNet.add(Activation(activation))\n",
    "    AlexNet.add(MaxPooling2D(pool_size=(2, 2), strides=(2, 2), padding='same'))\n",
    "\n",
    "    AlexNet.add(Flatten())\n",
    "    AlexNet.add(Dense(4096, input_shape=(32, 32, 3)))\n",
    "    AlexNet.add(BatchNormalization())\n",
    "    AlexNet.add(Activation(activation))\n",
    "    AlexNet.add(Dropout(0.5))\n",
    "\n",
    "    AlexNet.add(Dense(4096))\n",
    "    AlexNet.add(BatchNormalization())\n",
    "    AlexNet.add(Activation(activation))\n",
    "    AlexNet.add(Dropout(0.5))\n",
    "\n",
    "    AlexNet.add(Dense(1000))\n",
    "    AlexNet.add(BatchNormalization())\n",
    "    AlexNet.add(Activation(activation))\n",
    "    AlexNet.add(Dropout(0.5))\n",
    "\n",
    "    AlexNet.add(Dense(100))\n",
    "    AlexNet.add(BatchNormalization())\n",
    "    AlexNet.add(Activation('softmax'))\n",
    "\n",
    "    return AlexNet"
   ]
  },
  {
   "cell_type": "code",
   "execution_count": 7,
   "metadata": {
    "colab": {
     "base_uri": "https://localhost:8080/"
    },
    "id": "bvLaricEJB7Y",
    "outputId": "4608e7a0-d0d4-404f-ab64-db3a39e4b9fa"
   },
   "outputs": [
    {
     "name": "stdout",
     "output_type": "stream",
     "text": [
      "Epoch 1/50\n",
      "313/313 [==============================] - 45s 79ms/step - loss: 4.8244 - accuracy: 0.0181 - top3_acc: 0.0518 - top_k_categorical_accuracy: 0.0807 - val_loss: 4.2340 - val_accuracy: 0.0685 - val_top3_acc: 0.1666 - val_top_k_categorical_accuracy: 0.2346\n",
      "Epoch 2/50\n",
      "313/313 [==============================] - 25s 80ms/step - loss: 4.2572 - accuracy: 0.0518 - top3_acc: 0.1325 - top_k_categorical_accuracy: 0.1968 - val_loss: 3.9779 - val_accuracy: 0.1073 - val_top3_acc: 0.2380 - val_top_k_categorical_accuracy: 0.3211\n",
      "Epoch 3/50\n",
      "313/313 [==============================] - 24s 77ms/step - loss: 4.0490 - accuracy: 0.0752 - top3_acc: 0.1842 - top_k_categorical_accuracy: 0.2633 - val_loss: 3.8471 - val_accuracy: 0.1303 - val_top3_acc: 0.2690 - val_top_k_categorical_accuracy: 0.3574\n",
      "Epoch 4/50\n",
      "313/313 [==============================] - 23s 74ms/step - loss: 3.8954 - accuracy: 0.1032 - top3_acc: 0.2300 - top_k_categorical_accuracy: 0.3153 - val_loss: 3.6996 - val_accuracy: 0.1548 - val_top3_acc: 0.3110 - val_top_k_categorical_accuracy: 0.4047\n",
      "Epoch 5/50\n",
      "313/313 [==============================] - 26s 82ms/step - loss: 3.7857 - accuracy: 0.1211 - top3_acc: 0.2593 - top_k_categorical_accuracy: 0.3540 - val_loss: 3.6563 - val_accuracy: 0.1623 - val_top3_acc: 0.3196 - val_top_k_categorical_accuracy: 0.4174\n",
      "Epoch 6/50\n",
      "313/313 [==============================] - 23s 75ms/step - loss: 3.6881 - accuracy: 0.1378 - top3_acc: 0.2904 - top_k_categorical_accuracy: 0.3874 - val_loss: 3.5717 - val_accuracy: 0.1842 - val_top3_acc: 0.3471 - val_top_k_categorical_accuracy: 0.4425\n",
      "Epoch 7/50\n",
      "313/313 [==============================] - 24s 75ms/step - loss: 3.5964 - accuracy: 0.1578 - top3_acc: 0.3173 - top_k_categorical_accuracy: 0.4190 - val_loss: 3.4509 - val_accuracy: 0.1984 - val_top3_acc: 0.3715 - val_top_k_categorical_accuracy: 0.4733\n",
      "Epoch 8/50\n",
      "313/313 [==============================] - 25s 80ms/step - loss: 3.5294 - accuracy: 0.1725 - top3_acc: 0.3365 - top_k_categorical_accuracy: 0.4382 - val_loss: 3.5227 - val_accuracy: 0.1778 - val_top3_acc: 0.3445 - val_top_k_categorical_accuracy: 0.4413\n",
      "Epoch 9/50\n",
      "313/313 [==============================] - 23s 74ms/step - loss: 3.4535 - accuracy: 0.1870 - top3_acc: 0.3579 - top_k_categorical_accuracy: 0.4583 - val_loss: 3.4340 - val_accuracy: 0.1992 - val_top3_acc: 0.3667 - val_top_k_categorical_accuracy: 0.4650\n",
      "Epoch 10/50\n",
      "313/313 [==============================] - 25s 79ms/step - loss: 3.3896 - accuracy: 0.1996 - top3_acc: 0.3752 - top_k_categorical_accuracy: 0.4776 - val_loss: 3.3266 - val_accuracy: 0.2165 - val_top3_acc: 0.3950 - val_top_k_categorical_accuracy: 0.4926\n",
      "Epoch 11/50\n",
      "313/313 [==============================] - 24s 78ms/step - loss: 3.3271 - accuracy: 0.2087 - top3_acc: 0.3933 - top_k_categorical_accuracy: 0.4971 - val_loss: 3.2500 - val_accuracy: 0.2299 - val_top3_acc: 0.4111 - val_top_k_categorical_accuracy: 0.5106\n",
      "Epoch 12/50\n",
      "313/313 [==============================] - 23s 74ms/step - loss: 3.2578 - accuracy: 0.2237 - top3_acc: 0.4113 - top_k_categorical_accuracy: 0.5152 - val_loss: 3.2836 - val_accuracy: 0.2260 - val_top3_acc: 0.4050 - val_top_k_categorical_accuracy: 0.4993\n",
      "Epoch 13/50\n",
      "313/313 [==============================] - 25s 81ms/step - loss: 3.2100 - accuracy: 0.2312 - top3_acc: 0.4231 - top_k_categorical_accuracy: 0.5297 - val_loss: 3.1649 - val_accuracy: 0.2438 - val_top3_acc: 0.4268 - val_top_k_categorical_accuracy: 0.5250\n",
      "Epoch 14/50\n",
      "313/313 [==============================] - 25s 80ms/step - loss: 3.1392 - accuracy: 0.2476 - top3_acc: 0.4408 - top_k_categorical_accuracy: 0.5464 - val_loss: 3.2513 - val_accuracy: 0.2321 - val_top3_acc: 0.4049 - val_top_k_categorical_accuracy: 0.5096\n",
      "Epoch 15/50\n",
      "313/313 [==============================] - 25s 79ms/step - loss: 3.0613 - accuracy: 0.2624 - top3_acc: 0.4612 - top_k_categorical_accuracy: 0.5709 - val_loss: 3.2036 - val_accuracy: 0.2405 - val_top3_acc: 0.4116 - val_top_k_categorical_accuracy: 0.5111\n",
      "Epoch 16/50\n",
      "313/313 [==============================] - 24s 77ms/step - loss: 3.0122 - accuracy: 0.2702 - top3_acc: 0.4753 - top_k_categorical_accuracy: 0.5820 - val_loss: 3.1043 - val_accuracy: 0.2518 - val_top3_acc: 0.4333 - val_top_k_categorical_accuracy: 0.5405\n",
      "Epoch 17/50\n",
      "313/313 [==============================] - 26s 82ms/step - loss: 2.9523 - accuracy: 0.2838 - top3_acc: 0.4932 - top_k_categorical_accuracy: 0.5981 - val_loss: 3.0158 - val_accuracy: 0.2686 - val_top3_acc: 0.4563 - val_top_k_categorical_accuracy: 0.5661\n",
      "Epoch 18/50\n",
      "313/313 [==============================] - 24s 77ms/step - loss: 2.9048 - accuracy: 0.2924 - top3_acc: 0.5020 - top_k_categorical_accuracy: 0.6100 - val_loss: 3.0383 - val_accuracy: 0.2655 - val_top3_acc: 0.4549 - val_top_k_categorical_accuracy: 0.5531\n",
      "Epoch 19/50\n",
      "313/313 [==============================] - 23s 74ms/step - loss: 2.8536 - accuracy: 0.3020 - top3_acc: 0.5146 - top_k_categorical_accuracy: 0.6183 - val_loss: 2.9865 - val_accuracy: 0.2752 - val_top3_acc: 0.4587 - val_top_k_categorical_accuracy: 0.5700\n",
      "Epoch 20/50\n",
      "313/313 [==============================] - 26s 82ms/step - loss: 2.7985 - accuracy: 0.3169 - top3_acc: 0.5281 - top_k_categorical_accuracy: 0.6303 - val_loss: 2.9383 - val_accuracy: 0.2714 - val_top3_acc: 0.4654 - val_top_k_categorical_accuracy: 0.5697\n",
      "Epoch 21/50\n",
      "313/313 [==============================] - 23s 74ms/step - loss: 2.7423 - accuracy: 0.3237 - top3_acc: 0.5403 - top_k_categorical_accuracy: 0.6462 - val_loss: 3.0482 - val_accuracy: 0.2566 - val_top3_acc: 0.4453 - val_top_k_categorical_accuracy: 0.5479\n",
      "Epoch 22/50\n",
      "313/313 [==============================] - 24s 76ms/step - loss: 2.6992 - accuracy: 0.3322 - top3_acc: 0.5558 - top_k_categorical_accuracy: 0.6540 - val_loss: 3.0172 - val_accuracy: 0.2724 - val_top3_acc: 0.4534 - val_top_k_categorical_accuracy: 0.5510\n",
      "Epoch 23/50\n",
      "313/313 [==============================] - 25s 80ms/step - loss: 2.6454 - accuracy: 0.3416 - top3_acc: 0.5644 - top_k_categorical_accuracy: 0.6655 - val_loss: 2.7591 - val_accuracy: 0.3232 - val_top3_acc: 0.5174 - val_top_k_categorical_accuracy: 0.6171\n",
      "Epoch 24/50\n",
      "313/313 [==============================] - 23s 74ms/step - loss: 2.6078 - accuracy: 0.3506 - top3_acc: 0.5716 - top_k_categorical_accuracy: 0.6772 - val_loss: 3.0216 - val_accuracy: 0.2680 - val_top3_acc: 0.4548 - val_top_k_categorical_accuracy: 0.5512\n",
      "Epoch 25/50\n",
      "313/313 [==============================] - 25s 79ms/step - loss: 2.5501 - accuracy: 0.3648 - top3_acc: 0.5887 - top_k_categorical_accuracy: 0.6894 - val_loss: 2.8618 - val_accuracy: 0.2908 - val_top3_acc: 0.4928 - val_top_k_categorical_accuracy: 0.5948\n",
      "Epoch 26/50\n",
      "313/313 [==============================] - 25s 80ms/step - loss: 2.4975 - accuracy: 0.3727 - top3_acc: 0.6031 - top_k_categorical_accuracy: 0.7052 - val_loss: 2.8987 - val_accuracy: 0.2951 - val_top3_acc: 0.4838 - val_top_k_categorical_accuracy: 0.5814\n",
      "Epoch 27/50\n",
      "313/313 [==============================] - 25s 81ms/step - loss: 2.4520 - accuracy: 0.3858 - top3_acc: 0.6116 - top_k_categorical_accuracy: 0.7093 - val_loss: 2.9376 - val_accuracy: 0.2787 - val_top3_acc: 0.4743 - val_top_k_categorical_accuracy: 0.5731\n",
      "Epoch 28/50\n",
      "313/313 [==============================] - 23s 74ms/step - loss: 2.4012 - accuracy: 0.3965 - top3_acc: 0.6227 - top_k_categorical_accuracy: 0.7193 - val_loss: 2.7637 - val_accuracy: 0.3197 - val_top3_acc: 0.5138 - val_top_k_categorical_accuracy: 0.6107\n",
      "Epoch 29/50\n",
      "313/313 [==============================] - 25s 81ms/step - loss: 2.3758 - accuracy: 0.4011 - top3_acc: 0.6293 - top_k_categorical_accuracy: 0.7250 - val_loss: 2.9542 - val_accuracy: 0.2831 - val_top3_acc: 0.4742 - val_top_k_categorical_accuracy: 0.5697\n",
      "Epoch 30/50\n",
      "313/313 [==============================] - 23s 74ms/step - loss: 2.3205 - accuracy: 0.4126 - top3_acc: 0.6409 - top_k_categorical_accuracy: 0.7376 - val_loss: 2.7069 - val_accuracy: 0.3347 - val_top3_acc: 0.5268 - val_top_k_categorical_accuracy: 0.6226\n",
      "Epoch 31/50\n",
      "313/313 [==============================] - 25s 79ms/step - loss: 2.2804 - accuracy: 0.4239 - top3_acc: 0.6515 - top_k_categorical_accuracy: 0.7436 - val_loss: 2.7589 - val_accuracy: 0.3237 - val_top3_acc: 0.5158 - val_top_k_categorical_accuracy: 0.6129\n",
      "Epoch 32/50\n",
      "313/313 [==============================] - 24s 78ms/step - loss: 2.2198 - accuracy: 0.4380 - top3_acc: 0.6627 - top_k_categorical_accuracy: 0.7528 - val_loss: 2.7511 - val_accuracy: 0.3267 - val_top3_acc: 0.5190 - val_top_k_categorical_accuracy: 0.6168\n",
      "Epoch 33/50\n",
      "313/313 [==============================] - 23s 74ms/step - loss: 2.1814 - accuracy: 0.4450 - top3_acc: 0.6729 - top_k_categorical_accuracy: 0.7636 - val_loss: 2.7389 - val_accuracy: 0.3234 - val_top3_acc: 0.5173 - val_top_k_categorical_accuracy: 0.6203\n",
      "Epoch 34/50\n",
      "313/313 [==============================] - 25s 81ms/step - loss: 2.1368 - accuracy: 0.4550 - top3_acc: 0.6803 - top_k_categorical_accuracy: 0.7720 - val_loss: 2.8515 - val_accuracy: 0.3045 - val_top3_acc: 0.5011 - val_top_k_categorical_accuracy: 0.6026\n",
      "Epoch 35/50\n",
      "313/313 [==============================] - 24s 76ms/step - loss: 2.0978 - accuracy: 0.4655 - top3_acc: 0.6898 - top_k_categorical_accuracy: 0.7800 - val_loss: 2.6472 - val_accuracy: 0.3414 - val_top3_acc: 0.5413 - val_top_k_categorical_accuracy: 0.6386\n",
      "Epoch 36/50\n",
      "313/313 [==============================] - 23s 74ms/step - loss: 2.0416 - accuracy: 0.4790 - top3_acc: 0.7060 - top_k_categorical_accuracy: 0.7904 - val_loss: 2.8315 - val_accuracy: 0.3164 - val_top3_acc: 0.5058 - val_top_k_categorical_accuracy: 0.6037\n",
      "Epoch 37/50\n",
      "313/313 [==============================] - 26s 83ms/step - loss: 2.0067 - accuracy: 0.4835 - top3_acc: 0.7112 - top_k_categorical_accuracy: 0.7977 - val_loss: 2.9511 - val_accuracy: 0.2954 - val_top3_acc: 0.4858 - val_top_k_categorical_accuracy: 0.5914\n",
      "Epoch 38/50\n",
      "313/313 [==============================] - 23s 75ms/step - loss: 1.9677 - accuracy: 0.4911 - top3_acc: 0.7214 - top_k_categorical_accuracy: 0.8061 - val_loss: 2.8696 - val_accuracy: 0.3135 - val_top3_acc: 0.5007 - val_top_k_categorical_accuracy: 0.5937\n",
      "Epoch 39/50\n",
      "313/313 [==============================] - 24s 78ms/step - loss: 1.9224 - accuracy: 0.5051 - top3_acc: 0.7282 - top_k_categorical_accuracy: 0.8110 - val_loss: 3.0140 - val_accuracy: 0.2865 - val_top3_acc: 0.4777 - val_top_k_categorical_accuracy: 0.5737\n",
      "Epoch 40/50\n",
      "313/313 [==============================] - 25s 80ms/step - loss: 1.8753 - accuracy: 0.5150 - top3_acc: 0.7379 - top_k_categorical_accuracy: 0.8208 - val_loss: 2.7592 - val_accuracy: 0.3307 - val_top3_acc: 0.5231 - val_top_k_categorical_accuracy: 0.6177\n",
      "Epoch 41/50\n",
      "313/313 [==============================] - 26s 84ms/step - loss: 1.8372 - accuracy: 0.5165 - top3_acc: 0.7477 - top_k_categorical_accuracy: 0.8274 - val_loss: 2.7805 - val_accuracy: 0.3353 - val_top3_acc: 0.5279 - val_top_k_categorical_accuracy: 0.6197\n",
      "Epoch 42/50\n",
      "313/313 [==============================] - 24s 75ms/step - loss: 1.7810 - accuracy: 0.5379 - top3_acc: 0.7589 - top_k_categorical_accuracy: 0.8382 - val_loss: 2.8015 - val_accuracy: 0.3253 - val_top3_acc: 0.5230 - val_top_k_categorical_accuracy: 0.6156\n",
      "Epoch 43/50\n",
      "313/313 [==============================] - 24s 77ms/step - loss: 1.7531 - accuracy: 0.5414 - top3_acc: 0.7667 - top_k_categorical_accuracy: 0.8459 - val_loss: 2.9798 - val_accuracy: 0.3002 - val_top3_acc: 0.4897 - val_top_k_categorical_accuracy: 0.5821\n",
      "Epoch 44/50\n",
      "313/313 [==============================] - 25s 81ms/step - loss: 1.7141 - accuracy: 0.5468 - top3_acc: 0.7744 - top_k_categorical_accuracy: 0.8511 - val_loss: 2.9180 - val_accuracy: 0.3185 - val_top3_acc: 0.5057 - val_top_k_categorical_accuracy: 0.6017\n",
      "Epoch 45/50\n",
      "313/313 [==============================] - 23s 74ms/step - loss: 1.6751 - accuracy: 0.5621 - top3_acc: 0.7844 - top_k_categorical_accuracy: 0.8562 - val_loss: 2.9020 - val_accuracy: 0.3189 - val_top3_acc: 0.5070 - val_top_k_categorical_accuracy: 0.5980\n",
      "Epoch 46/50\n",
      "313/313 [==============================] - 25s 81ms/step - loss: 1.6142 - accuracy: 0.5755 - top3_acc: 0.7943 - top_k_categorical_accuracy: 0.8662 - val_loss: 2.7434 - val_accuracy: 0.3400 - val_top3_acc: 0.5336 - val_top_k_categorical_accuracy: 0.6320\n",
      "Epoch 47/50\n",
      "313/313 [==============================] - 24s 77ms/step - loss: 1.5759 - accuracy: 0.5865 - top3_acc: 0.8044 - top_k_categorical_accuracy: 0.8744 - val_loss: 2.8074 - val_accuracy: 0.3340 - val_top3_acc: 0.5302 - val_top_k_categorical_accuracy: 0.6323\n",
      "Epoch 48/50\n",
      "313/313 [==============================] - 23s 74ms/step - loss: 1.5196 - accuracy: 0.5972 - top3_acc: 0.8169 - top_k_categorical_accuracy: 0.8813 - val_loss: 2.9358 - val_accuracy: 0.3236 - val_top3_acc: 0.5158 - val_top_k_categorical_accuracy: 0.6118\n",
      "Epoch 49/50\n",
      "313/313 [==============================] - 26s 83ms/step - loss: 1.4975 - accuracy: 0.6066 - top3_acc: 0.8184 - top_k_categorical_accuracy: 0.8832 - val_loss: 2.9354 - val_accuracy: 0.3189 - val_top3_acc: 0.5158 - val_top_k_categorical_accuracy: 0.6092\n",
      "Epoch 50/50\n",
      "313/313 [==============================] - 24s 75ms/step - loss: 1.4258 - accuracy: 0.6223 - top3_acc: 0.8364 - top_k_categorical_accuracy: 0.8985 - val_loss: 2.9551 - val_accuracy: 0.3199 - val_top3_acc: 0.5095 - val_top_k_categorical_accuracy: 0.6004\n"
     ]
    }
   ],
   "source": [
    "def gelu(x):\n",
    "    return 0.5 * x * (1 + tf.tanh(tf.sqrt(2 / np.pi) * (x + 0.044715 * tf.pow(x, 3))))\n",
    "get_custom_objects().update({'gelu': Activation(gelu)})\n",
    "\n",
    "def swish(x):\n",
    "    return x * tf.sigmoid(x)\n",
    "get_custom_objects().update({'swish': Activation(swish)})\n",
    "\n",
    "get_custom_objects().update({'leaky-relu': Activation(LeakyReLU(alpha=0.2))})\n",
    "\n",
    "# act_func = ['tanh', 'relu', 'leaky-relu', 'elu', 'selu', 'gelu', 'swish']\n",
    "\n",
    "model = alexnet('relu')\n",
    "\n",
    "batch_size = 128\n",
    "epochs = 50\n",
    "\n",
    "top3_acc = functools.partial(tf.keras.metrics.top_k_categorical_accuracy, k=3)\n",
    "\n",
    "top3_acc.__name__ = 'top3_acc'\n",
    "\n",
    "model.compile(optimizer=SGD(), loss='categorical_crossentropy', metrics=['accuracy', top3_acc, 'top_k_categorical_accuracy'])\n",
    "\n",
    "history = model.fit(train_generator.flow(x_train, y_train, batch_size=batch_size), epochs=epochs,\n",
    "                      validation_data=val_generator.flow(x_val, y_val, batch_size=batch_size), verbose=1)"
   ]
  },
  {
   "cell_type": "code",
   "execution_count": 8,
   "metadata": {
    "colab": {
     "base_uri": "https://localhost:8080/"
    },
    "id": "A_eJn83kKCwL",
    "outputId": "a9c8037b-8976-4005-a5e7-f4f025eef0d2"
   },
   "outputs": [
    {
     "name": "stdout",
     "output_type": "stream",
     "text": [
      "{'loss': [4.637686729431152, 4.19889497756958, 4.000064849853516, 3.866473436355591, 3.764915943145752, 3.6666934490203857, 3.5829319953918457, 3.5164573192596436, 3.4361367225646973, 3.3743674755096436, 3.308612823486328, 3.2555992603302, 3.1886487007141113, 3.1250598430633545, 3.0680079460144043, 3.0102760791778564, 2.955095052719116, 2.89695143699646, 2.8450210094451904, 2.7892537117004395, 2.74092698097229, 2.690120220184326, 2.645820379257202, 2.602909803390503, 2.5529327392578125, 2.510305166244507, 2.457820415496826, 2.412214517593384, 2.3754165172576904, 2.325422525405884, 2.276616334915161, 2.2363250255584717, 2.18762469291687, 2.151061534881592, 2.1057353019714355, 2.061483144760132, 2.0241153240203857, 1.9866318702697754, 1.9312798976898193, 1.8967260122299194, 1.8507988452911377, 1.805557370185852, 1.7684029340744019, 1.7239269018173218, 1.6843966245651245, 1.6447759866714478, 1.595732569694519, 1.5516139268875122, 1.5186333656311035, 1.4669721126556396], 'accuracy': [0.027124999091029167, 0.058674998581409454, 0.0840499997138977, 0.1071000024676323, 0.1251000016927719, 0.14380000531673431, 0.15880000591278076, 0.1725749969482422, 0.18957500159740448, 0.2019750028848648, 0.2120250016450882, 0.22282500565052032, 0.23512500524520874, 0.250900000333786, 0.2599000036716461, 0.272724986076355, 0.283050000667572, 0.2922999858856201, 0.3048250079154968, 0.319225013256073, 0.3250750005245209, 0.3370499908924103, 0.3419249951839447, 0.3527750074863434, 0.3635999858379364, 0.37095001339912415, 0.3849000036716461, 0.3942500054836273, 0.4000000059604645, 0.411175012588501, 0.423550009727478, 0.4315750002861023, 0.44132500886917114, 0.4491249918937683, 0.4614250063896179, 0.4725250005722046, 0.475600004196167, 0.48442500829696655, 0.5004000067710876, 0.5081750154495239, 0.5143499970436096, 0.5260999798774719, 0.5349500179290771, 0.5449000000953674, 0.5573999881744385, 0.5656499862670898, 0.5780500173568726, 0.5876500010490417, 0.599049985408783, 0.6090499758720398], 'top3_acc': [0.074024997651577, 0.14637500047683716, 0.19807499647140503, 0.23557500541210175, 0.2677749991416931, 0.2960749864578247, 0.3197000026702881, 0.33867499232292175, 0.3628750145435333, 0.38042500615119934, 0.3989500105381012, 0.4124250113964081, 0.4281750023365021, 0.44495001435279846, 0.4628250002861023, 0.47402501106262207, 0.49079999327659607, 0.5045499801635742, 0.5161749720573425, 0.53125, 0.5422000288963318, 0.5558500289916992, 0.5641250014305115, 0.5738499760627747, 0.5870000123977661, 0.596750020980835, 0.609375, 0.6184250116348267, 0.6266250014305115, 0.6406000256538391, 0.6516749858856201, 0.6591500043869019, 0.6709499955177307, 0.6788750290870667, 0.6875249743461609, 0.7001000046730042, 0.7063249945640564, 0.7162500023841858, 0.7252749800682068, 0.7328500151634216, 0.7452250123023987, 0.7531499862670898, 0.7602999806404114, 0.7724499702453613, 0.7822750210762024, 0.7860249876976013, 0.7987750172615051, 0.8089749813079834, 0.8130249977111816, 0.826324999332428], 'top_k_categorical_accuracy': [0.11367499828338623, 0.21412500739097595, 0.28049999475479126, 0.3241249918937683, 0.36207500100135803, 0.39274999499320984, 0.42182499170303345, 0.44029998779296875, 0.4636499881744385, 0.4820750057697296, 0.5023999810218811, 0.5169000029563904, 0.5353749990463257, 0.5515750050544739, 0.5687749981880188, 0.5795249938964844, 0.5974000096321106, 0.6108499765396118, 0.6214249730110168, 0.6334249973297119, 0.6455749869346619, 0.6563500165939331, 0.6656500101089478, 0.6775000095367432, 0.6868749856948853, 0.697825014591217, 0.7080749869346619, 0.7151250243186951, 0.7236999869346619, 0.7368500232696533, 0.7436749935150146, 0.7510499954223633, 0.7626000046730042, 0.7698500156402588, 0.7773500084877014, 0.7858499884605408, 0.7945250272750854, 0.8014249801635742, 0.8085749745368958, 0.8168500065803528, 0.8256750106811523, 0.8344500064849854, 0.8397250175476074, 0.8485749959945679, 0.8555499911308289, 0.8600000143051147, 0.8690500259399414, 0.8752250075340271, 0.8792750239372253, 0.8898249864578247], 'val_loss': [4.234034538269043, 3.9778621196746826, 3.847080945968628, 3.69958233833313, 3.6563034057617188, 3.571653127670288, 3.45085072517395, 3.522679328918457, 3.434016466140747, 3.3265581130981445, 3.249983072280884, 3.2835800647735596, 3.164933204650879, 3.2512600421905518, 3.2036032676696777, 3.1043267250061035, 3.015775680541992, 3.038287401199341, 2.9864799976348877, 2.9382858276367188, 3.0482192039489746, 3.0172340869903564, 2.7591354846954346, 3.021636486053467, 2.8618431091308594, 2.898709297180176, 2.9375603199005127, 2.7637124061584473, 2.954200267791748, 2.7068729400634766, 2.7589271068573, 2.751072883605957, 2.7388877868652344, 2.8514785766601562, 2.6471827030181885, 2.8314521312713623, 2.9510750770568848, 2.8696069717407227, 3.0139729976654053, 2.7592389583587646, 2.7805070877075195, 2.801464080810547, 2.979811191558838, 2.9179508686065674, 2.901992082595825, 2.7434399127960205, 2.8073999881744385, 2.935804605484009, 2.935406446456909, 2.9550540447235107], 'val_accuracy': [0.06849999725818634, 0.10729999840259552, 0.13030000030994415, 0.15479999780654907, 0.1623000055551529, 0.1842000037431717, 0.19840000569820404, 0.1777999997138977, 0.19920000433921814, 0.21649999916553497, 0.22990000247955322, 0.22599999606609344, 0.24379999935626984, 0.2320999950170517, 0.24050000309944153, 0.251800000667572, 0.2685999870300293, 0.265500009059906, 0.2752000093460083, 0.27140000462532043, 0.2565999925136566, 0.27239999175071716, 0.323199987411499, 0.2680000066757202, 0.290800005197525, 0.29510000348091125, 0.27869999408721924, 0.3197000026702881, 0.2831000089645386, 0.33469998836517334, 0.3237000107765198, 0.32670000195503235, 0.32339999079704285, 0.304500013589859, 0.34139999747276306, 0.3163999915122986, 0.2953999936580658, 0.31349998712539673, 0.2865000069141388, 0.33070001006126404, 0.3352999985218048, 0.325300008058548, 0.3001999855041504, 0.31850001215934753, 0.3188999891281128, 0.3400000035762787, 0.33399999141693115, 0.32359999418258667, 0.3188999891281128, 0.3199000060558319], 'val_top3_acc': [0.16660000383853912, 0.23800000548362732, 0.26899999380111694, 0.3109999895095825, 0.319599986076355, 0.34709998965263367, 0.3714999854564667, 0.34450000524520874, 0.3666999936103821, 0.39500001072883606, 0.41110000014305115, 0.4050000011920929, 0.426800012588501, 0.4049000144004822, 0.4115999937057495, 0.4332999885082245, 0.4562999904155731, 0.45489999651908875, 0.4587000012397766, 0.46540001034736633, 0.44530001282691956, 0.45339998602867126, 0.5174000263214111, 0.454800009727478, 0.4927999973297119, 0.4837999939918518, 0.47429999709129333, 0.5138000249862671, 0.4742000102996826, 0.5267999768257141, 0.5157999992370605, 0.5189999938011169, 0.517300009727478, 0.5011000037193298, 0.5412999987602234, 0.5058000087738037, 0.48579999804496765, 0.5006999969482422, 0.47769999504089355, 0.5231000185012817, 0.527899980545044, 0.5230000019073486, 0.48969998955726624, 0.5056999921798706, 0.5070000290870667, 0.5335999727249146, 0.5302000045776367, 0.5157999992370605, 0.5157999992370605, 0.5095000267028809], 'val_top_k_categorical_accuracy': [0.2345999926328659, 0.32109999656677246, 0.35740000009536743, 0.40470001101493835, 0.4174000024795532, 0.4424999952316284, 0.4733000099658966, 0.44130000472068787, 0.4650000035762787, 0.4925999939441681, 0.5105999708175659, 0.4993000030517578, 0.5249999761581421, 0.5095999836921692, 0.5110999941825867, 0.5404999852180481, 0.566100001335144, 0.5530999898910522, 0.5699999928474426, 0.5697000026702881, 0.5479000210762024, 0.5509999990463257, 0.6171000003814697, 0.5511999726295471, 0.5947999954223633, 0.5813999772071838, 0.5730999708175659, 0.6107000112533569, 0.5697000026702881, 0.6226000189781189, 0.6129000186920166, 0.6168000102043152, 0.6202999949455261, 0.6025999784469604, 0.6385999917984009, 0.6036999821662903, 0.5914000272750854, 0.5936999917030334, 0.5737000107765198, 0.6176999807357788, 0.619700014591217, 0.6155999898910522, 0.582099974155426, 0.6017000079154968, 0.5979999899864197, 0.6320000290870667, 0.6323000192642212, 0.6118000149726868, 0.6092000007629395, 0.6003999710083008]}\n",
      "313/313 [==============================] - 3s 6ms/step - loss: 2.9399 - accuracy: 0.3268 - top3_acc: 0.5149 - top_k_categorical_accuracy: 0.6068\n",
      "[2.939875841140747, 0.32679998874664307, 0.5149000287055969, 0.6068000197410583]\n"
     ]
    }
   ],
   "source": [
    "print(history.history)\n",
    "# y_pred = np.argmax(model.predict(x_test), axis=1)\n",
    "# y_true = np.argmax(y_test,axis=1)\n",
    "\n",
    "# print(y_pred.shape)\n",
    "# print(y_true.shape)\n",
    "\n",
    "# print(np.sum(y_pred == y_true) / y_pred.shape[0])\n",
    "\n",
    "print(model.evaluate(x_test, y_test))"
   ]
  }
 ],
 "metadata": {
  "accelerator": "GPU",
  "colab": {
   "collapsed_sections": [],
   "name": "cifar100_alexnet_relu.ipynb",
   "provenance": []
  },
  "kernelspec": {
   "display_name": "Python 3 (ipykernel)",
   "language": "python",
   "name": "python3"
  },
  "language_info": {
   "codemirror_mode": {
    "name": "ipython",
    "version": 3
   },
   "file_extension": ".py",
   "mimetype": "text/x-python",
   "name": "python",
   "nbconvert_exporter": "python",
   "pygments_lexer": "ipython3",
   "version": "3.9.0"
  }
 },
 "nbformat": 4,
 "nbformat_minor": 1
}

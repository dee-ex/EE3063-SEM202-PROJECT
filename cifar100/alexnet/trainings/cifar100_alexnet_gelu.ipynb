{
 "cells": [
  {
   "cell_type": "code",
   "execution_count": 1,
   "metadata": {
    "id": "-8e0tAC7e0CI"
   },
   "outputs": [],
   "source": [
    "import functools\n",
    "import numpy as np\n",
    "import tensorflow as tf\n",
    "from keras.datasets import cifar100\n",
    "from keras import Sequential\n",
    "from keras.preprocessing.image import ImageDataGenerator\n",
    "from sklearn.model_selection import train_test_split\n",
    "from keras.optimizers import SGD\n",
    "from keras.layers import Dense, Activation, Dropout, Flatten, Conv2D, MaxPooling2D, LeakyReLU\n",
    "from keras.layers.normalization import BatchNormalization\n",
    "from tensorflow.keras.utils import to_categorical\n",
    "from keras.utils.generic_utils import get_custom_objects"
   ]
  },
  {
   "cell_type": "code",
   "execution_count": 2,
   "metadata": {
    "colab": {
     "base_uri": "https://localhost:8080/"
    },
    "id": "WljAm5f0fKkw",
    "outputId": "bb964b9e-0a4b-444f-ddf9-b8932052f737"
   },
   "outputs": [
    {
     "name": "stdout",
     "output_type": "stream",
     "text": [
      "Downloading data from https://www.cs.toronto.edu/~kriz/cifar-100-python.tar.gz\n",
      "169009152/169001437 [==============================] - 4s 0us/step\n",
      "169017344/169001437 [==============================] - 4s 0us/step\n"
     ]
    }
   ],
   "source": [
    "(x_train, y_train), (x_test, y_test) = cifar100.load_data()\n",
    "x_train, x_val, y_train, y_val = train_test_split(x_train, y_train, test_size=.2)"
   ]
  },
  {
   "cell_type": "code",
   "execution_count": 3,
   "metadata": {
    "id": "7u2htPZHfLP2"
   },
   "outputs": [],
   "source": [
    "y_train = to_categorical(y_train)\n",
    "y_val = to_categorical(y_val)\n",
    "y_test = to_categorical(y_test)"
   ]
  },
  {
   "cell_type": "code",
   "execution_count": 4,
   "metadata": {
    "colab": {
     "base_uri": "https://localhost:8080/"
    },
    "id": "sKxXF-OFASsu",
    "outputId": "d49a9528-eb19-45d5-8205-d4f40afcef34"
   },
   "outputs": [
    {
     "data": {
      "text/plain": [
       "((40000, 32, 32, 3),\n",
       " (40000, 100),\n",
       " (10000, 32, 32, 3),\n",
       " (10000, 100),\n",
       " (10000, 32, 32, 3),\n",
       " (10000, 100))"
      ]
     },
     "execution_count": 4,
     "metadata": {
      "tags": []
     },
     "output_type": "execute_result"
    }
   ],
   "source": [
    "x_train.shape, y_train.shape, x_val.shape, y_val.shape, x_test.shape, y_test.shape"
   ]
  },
  {
   "cell_type": "code",
   "execution_count": 5,
   "metadata": {
    "id": "QR8VwuXy-SCk"
   },
   "outputs": [],
   "source": [
    "train_generator = ImageDataGenerator(rotation_range=2, horizontal_flip=True)\n",
    "val_generator = ImageDataGenerator(rotation_range=2, horizontal_flip=True)\n",
    "test_generator = ImageDataGenerator(rotation_range=2, horizontal_flip=True)\n",
    "\n",
    "train_generator.fit(x_train)\n",
    "val_generator.fit(x_val)\n",
    "test_generator.fit(x_test)"
   ]
  },
  {
   "cell_type": "code",
   "execution_count": 6,
   "metadata": {
    "id": "UgqsFQ16Gmz4"
   },
   "outputs": [],
   "source": [
    "def alexnet(activation):\n",
    "    AlexNet = Sequential()\n",
    "\n",
    "    AlexNet.add(Conv2D(filters=96, input_shape=(32, 32, 3), kernel_size=(11, 11), strides=(4, 4), padding='same'))\n",
    "    AlexNet.add(BatchNormalization())\n",
    "    AlexNet.add(Activation(activation))\n",
    "    AlexNet.add(MaxPooling2D(pool_size=(2, 2), strides=(2, 2), padding='same'))\n",
    "\n",
    "    AlexNet.add(Conv2D(filters=256, kernel_size=(5, 5), strides=(1, 1), padding='same'))\n",
    "    AlexNet.add(BatchNormalization())\n",
    "    AlexNet.add(Activation(activation))\n",
    "    AlexNet.add(MaxPooling2D(pool_size=(2, 2), strides=(2, 2), padding='same'))\n",
    "\n",
    "    AlexNet.add(Conv2D(filters=384, kernel_size=(3, 3), strides=(1, 1), padding='same'))\n",
    "    AlexNet.add(BatchNormalization())\n",
    "    AlexNet.add(Activation(activation))\n",
    "\n",
    "    AlexNet.add(Conv2D(filters=384, kernel_size=(3, 3), strides=(1, 1), padding='same'))\n",
    "    AlexNet.add(BatchNormalization())\n",
    "    AlexNet.add(Activation(activation))\n",
    "\n",
    "    AlexNet.add(Conv2D(filters=256, kernel_size=(3, 3), strides=(1, 1), padding='same'))\n",
    "    AlexNet.add(BatchNormalization())\n",
    "    AlexNet.add(Activation(activation))\n",
    "    AlexNet.add(MaxPooling2D(pool_size=(2, 2), strides=(2, 2), padding='same'))\n",
    "\n",
    "    AlexNet.add(Flatten())\n",
    "    AlexNet.add(Dense(4096, input_shape=(32, 32, 3)))\n",
    "    AlexNet.add(BatchNormalization())\n",
    "    AlexNet.add(Activation(activation))\n",
    "    AlexNet.add(Dropout(0.5))\n",
    "\n",
    "    AlexNet.add(Dense(4096))\n",
    "    AlexNet.add(BatchNormalization())\n",
    "    AlexNet.add(Activation(activation))\n",
    "    AlexNet.add(Dropout(0.5))\n",
    "\n",
    "    AlexNet.add(Dense(1000))\n",
    "    AlexNet.add(BatchNormalization())\n",
    "    AlexNet.add(Activation(activation))\n",
    "    AlexNet.add(Dropout(0.5))\n",
    "\n",
    "    AlexNet.add(Dense(100))\n",
    "    AlexNet.add(BatchNormalization())\n",
    "    AlexNet.add(Activation('softmax'))\n",
    "\n",
    "    return AlexNet"
   ]
  },
  {
   "cell_type": "code",
   "execution_count": 7,
   "metadata": {
    "colab": {
     "base_uri": "https://localhost:8080/"
    },
    "id": "bvLaricEJB7Y",
    "outputId": "8d18ae1e-9404-414a-f4b1-a8a6444aec08"
   },
   "outputs": [
    {
     "name": "stdout",
     "output_type": "stream",
     "text": [
      "Epoch 1/50\n",
      "313/313 [==============================] - 76s 83ms/step - loss: 4.7744 - accuracy: 0.0216 - top3_acc: 0.0601 - top_k_categorical_accuracy: 0.0945 - val_loss: 4.2972 - val_accuracy: 0.0650 - val_top3_acc: 0.1553 - val_top_k_categorical_accuracy: 0.2244\n",
      "Epoch 2/50\n",
      "313/313 [==============================] - 25s 80ms/step - loss: 4.1961 - accuracy: 0.0644 - top3_acc: 0.1519 - top_k_categorical_accuracy: 0.2191 - val_loss: 3.9117 - val_accuracy: 0.1282 - val_top3_acc: 0.2600 - val_top_k_categorical_accuracy: 0.3468\n",
      "Epoch 3/50\n",
      "313/313 [==============================] - 25s 81ms/step - loss: 3.9577 - accuracy: 0.0929 - top3_acc: 0.2106 - top_k_categorical_accuracy: 0.2958 - val_loss: 3.7518 - val_accuracy: 0.1469 - val_top3_acc: 0.2901 - val_top_k_categorical_accuracy: 0.3786\n",
      "Epoch 4/50\n",
      "313/313 [==============================] - 23s 74ms/step - loss: 3.7944 - accuracy: 0.1230 - top3_acc: 0.2625 - top_k_categorical_accuracy: 0.3539 - val_loss: 3.6576 - val_accuracy: 0.1732 - val_top3_acc: 0.3283 - val_top_k_categorical_accuracy: 0.4205\n",
      "Epoch 5/50\n",
      "313/313 [==============================] - 24s 78ms/step - loss: 3.6723 - accuracy: 0.1450 - top3_acc: 0.2954 - top_k_categorical_accuracy: 0.3888 - val_loss: 3.5866 - val_accuracy: 0.1741 - val_top3_acc: 0.3329 - val_top_k_categorical_accuracy: 0.4320\n",
      "Epoch 6/50\n",
      "313/313 [==============================] - 25s 79ms/step - loss: 3.5737 - accuracy: 0.1661 - top3_acc: 0.3256 - top_k_categorical_accuracy: 0.4280 - val_loss: 3.4616 - val_accuracy: 0.1959 - val_top3_acc: 0.3707 - val_top_k_categorical_accuracy: 0.4694\n",
      "Epoch 7/50\n",
      "313/313 [==============================] - 23s 72ms/step - loss: 3.4795 - accuracy: 0.1871 - top3_acc: 0.3551 - top_k_categorical_accuracy: 0.4570 - val_loss: 3.3739 - val_accuracy: 0.2170 - val_top3_acc: 0.3804 - val_top_k_categorical_accuracy: 0.4793\n",
      "Epoch 8/50\n",
      "313/313 [==============================] - 25s 81ms/step - loss: 3.3706 - accuracy: 0.2091 - top3_acc: 0.3872 - top_k_categorical_accuracy: 0.4865 - val_loss: 3.3281 - val_accuracy: 0.2170 - val_top3_acc: 0.3963 - val_top_k_categorical_accuracy: 0.4951\n",
      "Epoch 9/50\n",
      "313/313 [==============================] - 24s 77ms/step - loss: 3.3084 - accuracy: 0.2155 - top3_acc: 0.4000 - top_k_categorical_accuracy: 0.5026 - val_loss: 3.2018 - val_accuracy: 0.2389 - val_top3_acc: 0.4289 - val_top_k_categorical_accuracy: 0.5394\n",
      "Epoch 10/50\n",
      "313/313 [==============================] - 23s 75ms/step - loss: 3.2158 - accuracy: 0.2358 - top3_acc: 0.4250 - top_k_categorical_accuracy: 0.5299 - val_loss: 3.1201 - val_accuracy: 0.2566 - val_top3_acc: 0.4481 - val_top_k_categorical_accuracy: 0.5512\n",
      "Epoch 11/50\n",
      "313/313 [==============================] - 26s 82ms/step - loss: 3.1405 - accuracy: 0.2517 - top3_acc: 0.4514 - top_k_categorical_accuracy: 0.5524 - val_loss: 3.1854 - val_accuracy: 0.2419 - val_top3_acc: 0.4221 - val_top_k_categorical_accuracy: 0.5185\n",
      "Epoch 12/50\n",
      "313/313 [==============================] - 23s 74ms/step - loss: 3.0577 - accuracy: 0.2672 - top3_acc: 0.4681 - top_k_categorical_accuracy: 0.5705 - val_loss: 3.1284 - val_accuracy: 0.2464 - val_top3_acc: 0.4317 - val_top_k_categorical_accuracy: 0.5304\n",
      "Epoch 13/50\n",
      "313/313 [==============================] - 24s 76ms/step - loss: 2.9758 - accuracy: 0.2873 - top3_acc: 0.4920 - top_k_categorical_accuracy: 0.5973 - val_loss: 2.9826 - val_accuracy: 0.2801 - val_top3_acc: 0.4724 - val_top_k_categorical_accuracy: 0.5742\n",
      "Epoch 14/50\n",
      "313/313 [==============================] - 25s 81ms/step - loss: 2.9099 - accuracy: 0.2994 - top3_acc: 0.5065 - top_k_categorical_accuracy: 0.6098 - val_loss: 2.9814 - val_accuracy: 0.2783 - val_top3_acc: 0.4754 - val_top_k_categorical_accuracy: 0.5808\n",
      "Epoch 15/50\n",
      "313/313 [==============================] - 26s 83ms/step - loss: 2.8565 - accuracy: 0.3118 - top3_acc: 0.5222 - top_k_categorical_accuracy: 0.6230 - val_loss: 3.1714 - val_accuracy: 0.2344 - val_top3_acc: 0.4164 - val_top_k_categorical_accuracy: 0.5159\n",
      "Epoch 16/50\n",
      "313/313 [==============================] - 23s 75ms/step - loss: 2.7917 - accuracy: 0.3227 - top3_acc: 0.5360 - top_k_categorical_accuracy: 0.6391 - val_loss: 2.9157 - val_accuracy: 0.2973 - val_top3_acc: 0.4891 - val_top_k_categorical_accuracy: 0.5900\n",
      "Epoch 17/50\n",
      "313/313 [==============================] - 24s 77ms/step - loss: 2.7212 - accuracy: 0.3363 - top3_acc: 0.5498 - top_k_categorical_accuracy: 0.6530 - val_loss: 2.8671 - val_accuracy: 0.3032 - val_top3_acc: 0.5039 - val_top_k_categorical_accuracy: 0.5982\n",
      "Epoch 18/50\n",
      "313/313 [==============================] - 25s 79ms/step - loss: 2.6512 - accuracy: 0.3534 - top3_acc: 0.5701 - top_k_categorical_accuracy: 0.6696 - val_loss: 3.0685 - val_accuracy: 0.2580 - val_top3_acc: 0.4433 - val_top_k_categorical_accuracy: 0.5427\n",
      "Epoch 19/50\n",
      "313/313 [==============================] - 23s 73ms/step - loss: 2.5799 - accuracy: 0.3670 - top3_acc: 0.5881 - top_k_categorical_accuracy: 0.6874 - val_loss: 2.7959 - val_accuracy: 0.3180 - val_top3_acc: 0.5108 - val_top_k_categorical_accuracy: 0.6109\n",
      "Epoch 20/50\n",
      "313/313 [==============================] - 25s 78ms/step - loss: 2.5338 - accuracy: 0.3776 - top3_acc: 0.5990 - top_k_categorical_accuracy: 0.6983 - val_loss: 2.7261 - val_accuracy: 0.3275 - val_top3_acc: 0.5219 - val_top_k_categorical_accuracy: 0.6210\n",
      "Epoch 21/50\n",
      "313/313 [==============================] - 25s 79ms/step - loss: 2.4536 - accuracy: 0.3936 - top3_acc: 0.6171 - top_k_categorical_accuracy: 0.7090 - val_loss: 2.6853 - val_accuracy: 0.3343 - val_top3_acc: 0.5400 - val_top_k_categorical_accuracy: 0.6411\n",
      "Epoch 22/50\n",
      "313/313 [==============================] - 23s 72ms/step - loss: 2.4161 - accuracy: 0.3984 - top3_acc: 0.6224 - top_k_categorical_accuracy: 0.7194 - val_loss: 2.8160 - val_accuracy: 0.3059 - val_top3_acc: 0.5090 - val_top_k_categorical_accuracy: 0.6063\n",
      "Epoch 23/50\n",
      "313/313 [==============================] - 25s 81ms/step - loss: 2.3473 - accuracy: 0.4189 - top3_acc: 0.6390 - top_k_categorical_accuracy: 0.7334 - val_loss: 2.7217 - val_accuracy: 0.3320 - val_top3_acc: 0.5332 - val_top_k_categorical_accuracy: 0.6280\n",
      "Epoch 24/50\n",
      "313/313 [==============================] - 23s 75ms/step - loss: 2.2961 - accuracy: 0.4290 - top3_acc: 0.6541 - top_k_categorical_accuracy: 0.7436 - val_loss: 2.6740 - val_accuracy: 0.3420 - val_top3_acc: 0.5329 - val_top_k_categorical_accuracy: 0.6281\n",
      "Epoch 25/50\n",
      "313/313 [==============================] - 23s 73ms/step - loss: 2.2205 - accuracy: 0.4429 - top3_acc: 0.6732 - top_k_categorical_accuracy: 0.7607 - val_loss: 2.6110 - val_accuracy: 0.3539 - val_top3_acc: 0.5517 - val_top_k_categorical_accuracy: 0.6488\n",
      "Epoch 26/50\n",
      "313/313 [==============================] - 26s 82ms/step - loss: 2.1679 - accuracy: 0.4536 - top3_acc: 0.6843 - top_k_categorical_accuracy: 0.7699 - val_loss: 2.7736 - val_accuracy: 0.3219 - val_top3_acc: 0.5167 - val_top_k_categorical_accuracy: 0.6103\n",
      "Epoch 27/50\n",
      "313/313 [==============================] - 25s 80ms/step - loss: 2.1213 - accuracy: 0.4697 - top3_acc: 0.6918 - top_k_categorical_accuracy: 0.7763 - val_loss: 2.7744 - val_accuracy: 0.3246 - val_top3_acc: 0.5186 - val_top_k_categorical_accuracy: 0.6183\n",
      "Epoch 28/50\n",
      "313/313 [==============================] - 23s 75ms/step - loss: 2.0630 - accuracy: 0.4776 - top3_acc: 0.7065 - top_k_categorical_accuracy: 0.7904 - val_loss: 2.6729 - val_accuracy: 0.3401 - val_top3_acc: 0.5393 - val_top_k_categorical_accuracy: 0.6357\n",
      "Epoch 29/50\n",
      "313/313 [==============================] - 23s 73ms/step - loss: 1.9950 - accuracy: 0.4949 - top3_acc: 0.7166 - top_k_categorical_accuracy: 0.7999 - val_loss: 2.7455 - val_accuracy: 0.3278 - val_top3_acc: 0.5252 - val_top_k_categorical_accuracy: 0.6254\n",
      "Epoch 30/50\n",
      "313/313 [==============================] - 26s 83ms/step - loss: 1.9597 - accuracy: 0.5026 - top3_acc: 0.7291 - top_k_categorical_accuracy: 0.8081 - val_loss: 2.8502 - val_accuracy: 0.3186 - val_top3_acc: 0.5129 - val_top_k_categorical_accuracy: 0.6091\n",
      "Epoch 31/50\n",
      "313/313 [==============================] - 23s 73ms/step - loss: 1.8917 - accuracy: 0.5174 - top3_acc: 0.7395 - top_k_categorical_accuracy: 0.8184 - val_loss: 2.6999 - val_accuracy: 0.3423 - val_top3_acc: 0.5339 - val_top_k_categorical_accuracy: 0.6309\n",
      "Epoch 32/50\n",
      "313/313 [==============================] - 23s 73ms/step - loss: 1.8159 - accuracy: 0.5329 - top3_acc: 0.7589 - top_k_categorical_accuracy: 0.8358 - val_loss: 2.7316 - val_accuracy: 0.3418 - val_top3_acc: 0.5378 - val_top_k_categorical_accuracy: 0.6340\n",
      "Epoch 33/50\n",
      "313/313 [==============================] - 25s 80ms/step - loss: 1.7674 - accuracy: 0.5516 - top3_acc: 0.7671 - top_k_categorical_accuracy: 0.8391 - val_loss: 2.7352 - val_accuracy: 0.3399 - val_top3_acc: 0.5346 - val_top_k_categorical_accuracy: 0.6325\n",
      "Epoch 34/50\n",
      "313/313 [==============================] - 23s 73ms/step - loss: 1.7175 - accuracy: 0.5656 - top3_acc: 0.7778 - top_k_categorical_accuracy: 0.8499 - val_loss: 2.6474 - val_accuracy: 0.3535 - val_top3_acc: 0.5588 - val_top_k_categorical_accuracy: 0.6543\n",
      "Epoch 35/50\n",
      "313/313 [==============================] - 24s 76ms/step - loss: 1.6575 - accuracy: 0.5762 - top3_acc: 0.7889 - top_k_categorical_accuracy: 0.8582 - val_loss: 2.7295 - val_accuracy: 0.3433 - val_top3_acc: 0.5408 - val_top_k_categorical_accuracy: 0.6310\n",
      "Epoch 36/50\n",
      "313/313 [==============================] - 24s 78ms/step - loss: 1.5942 - accuracy: 0.5921 - top3_acc: 0.8000 - top_k_categorical_accuracy: 0.8698 - val_loss: 2.7157 - val_accuracy: 0.3483 - val_top3_acc: 0.5534 - val_top_k_categorical_accuracy: 0.6472\n",
      "Epoch 37/50\n",
      "313/313 [==============================] - 22s 72ms/step - loss: 1.5450 - accuracy: 0.6023 - top3_acc: 0.8126 - top_k_categorical_accuracy: 0.8750 - val_loss: 2.8261 - val_accuracy: 0.3389 - val_top3_acc: 0.5341 - val_top_k_categorical_accuracy: 0.6270\n",
      "Epoch 38/50\n",
      "313/313 [==============================] - 24s 78ms/step - loss: 1.4795 - accuracy: 0.6202 - top3_acc: 0.8265 - top_k_categorical_accuracy: 0.8859 - val_loss: 2.6292 - val_accuracy: 0.3724 - val_top3_acc: 0.5714 - val_top_k_categorical_accuracy: 0.6687\n",
      "Epoch 39/50\n",
      "313/313 [==============================] - 24s 76ms/step - loss: 1.4307 - accuracy: 0.6370 - top3_acc: 0.8354 - top_k_categorical_accuracy: 0.8930 - val_loss: 2.7655 - val_accuracy: 0.3510 - val_top3_acc: 0.5448 - val_top_k_categorical_accuracy: 0.6329\n",
      "Epoch 40/50\n",
      "313/313 [==============================] - 22s 71ms/step - loss: 1.3663 - accuracy: 0.6487 - top3_acc: 0.8500 - top_k_categorical_accuracy: 0.9063 - val_loss: 2.6955 - val_accuracy: 0.3609 - val_top3_acc: 0.5580 - val_top_k_categorical_accuracy: 0.6451\n",
      "Epoch 41/50\n",
      "313/313 [==============================] - 26s 82ms/step - loss: 1.3267 - accuracy: 0.6597 - top3_acc: 0.8545 - top_k_categorical_accuracy: 0.9088 - val_loss: 2.8475 - val_accuracy: 0.3423 - val_top3_acc: 0.5374 - val_top_k_categorical_accuracy: 0.6284\n",
      "Epoch 42/50\n",
      "313/313 [==============================] - 25s 81ms/step - loss: 1.2485 - accuracy: 0.6833 - top3_acc: 0.8709 - top_k_categorical_accuracy: 0.9197 - val_loss: 2.8498 - val_accuracy: 0.3465 - val_top3_acc: 0.5355 - val_top_k_categorical_accuracy: 0.6326\n",
      "Epoch 43/50\n",
      "313/313 [==============================] - 24s 76ms/step - loss: 1.2072 - accuracy: 0.6909 - top3_acc: 0.8803 - top_k_categorical_accuracy: 0.9276 - val_loss: 2.7792 - val_accuracy: 0.3695 - val_top3_acc: 0.5528 - val_top_k_categorical_accuracy: 0.6399\n",
      "Epoch 44/50\n",
      "313/313 [==============================] - 22s 71ms/step - loss: 1.1506 - accuracy: 0.7039 - top3_acc: 0.8861 - top_k_categorical_accuracy: 0.9298 - val_loss: 2.8178 - val_accuracy: 0.3537 - val_top3_acc: 0.5508 - val_top_k_categorical_accuracy: 0.6427\n",
      "Epoch 45/50\n",
      "313/313 [==============================] - 25s 80ms/step - loss: 1.1155 - accuracy: 0.7177 - top3_acc: 0.8938 - top_k_categorical_accuracy: 0.9347 - val_loss: 2.8258 - val_accuracy: 0.3608 - val_top3_acc: 0.5500 - val_top_k_categorical_accuracy: 0.6443\n",
      "Epoch 46/50\n",
      "313/313 [==============================] - 24s 76ms/step - loss: 1.0571 - accuracy: 0.7294 - top3_acc: 0.9027 - top_k_categorical_accuracy: 0.9442 - val_loss: 2.9551 - val_accuracy: 0.3353 - val_top3_acc: 0.5263 - val_top_k_categorical_accuracy: 0.6175\n",
      "Epoch 47/50\n",
      "313/313 [==============================] - 23s 74ms/step - loss: 1.0235 - accuracy: 0.7398 - top3_acc: 0.9068 - top_k_categorical_accuracy: 0.9480 - val_loss: 3.0195 - val_accuracy: 0.3409 - val_top3_acc: 0.5293 - val_top_k_categorical_accuracy: 0.6219\n",
      "Epoch 48/50\n",
      "313/313 [==============================] - 26s 83ms/step - loss: 0.9548 - accuracy: 0.7560 - top3_acc: 0.9214 - top_k_categorical_accuracy: 0.9561 - val_loss: 2.9061 - val_accuracy: 0.3569 - val_top3_acc: 0.5496 - val_top_k_categorical_accuracy: 0.6391\n",
      "Epoch 49/50\n",
      "313/313 [==============================] - 23s 74ms/step - loss: 0.9216 - accuracy: 0.7648 - top3_acc: 0.9240 - top_k_categorical_accuracy: 0.9555 - val_loss: 2.9227 - val_accuracy: 0.3548 - val_top3_acc: 0.5414 - val_top_k_categorical_accuracy: 0.6294\n",
      "Epoch 50/50\n",
      "313/313 [==============================] - 24s 75ms/step - loss: 0.8701 - accuracy: 0.7810 - top3_acc: 0.9305 - top_k_categorical_accuracy: 0.9605 - val_loss: 3.0180 - val_accuracy: 0.3514 - val_top3_acc: 0.5351 - val_top_k_categorical_accuracy: 0.6195\n"
     ]
    }
   ],
   "source": [
    "def gelu(x):\n",
    "    return 0.5 * x * (1 + tf.tanh(tf.sqrt(2 / np.pi) * (x + 0.044715 * tf.pow(x, 3))))\n",
    "get_custom_objects().update({'gelu': Activation(gelu)})\n",
    "\n",
    "def swish(x):\n",
    "    return x * tf.sigmoid(x)\n",
    "get_custom_objects().update({'swish': Activation(swish)})\n",
    "\n",
    "get_custom_objects().update({'leaky-relu': Activation(LeakyReLU(alpha=0.2))})\n",
    "\n",
    "# act_func = ['tanh', 'relu', 'leaky-relu', 'elu', 'selu', 'gelu', 'swish']\n",
    "\n",
    "model = alexnet('gelu')\n",
    "\n",
    "batch_size = 128\n",
    "epochs = 50\n",
    "\n",
    "top3_acc = functools.partial(tf.keras.metrics.top_k_categorical_accuracy, k=3)\n",
    "\n",
    "top3_acc.__name__ = 'top3_acc'\n",
    "\n",
    "model.compile(optimizer=SGD(), loss='categorical_crossentropy', metrics=['accuracy', top3_acc, 'top_k_categorical_accuracy'])\n",
    "\n",
    "history = model.fit(train_generator.flow(x_train, y_train, batch_size=batch_size), epochs=epochs,\n",
    "                      validation_data=val_generator.flow(x_val, y_val, batch_size=batch_size), verbose=1)"
   ]
  },
  {
   "cell_type": "code",
   "execution_count": 8,
   "metadata": {
    "colab": {
     "base_uri": "https://localhost:8080/"
    },
    "id": "A_eJn83kKCwL",
    "outputId": "8e865124-c189-48e0-dc07-b0e98e570c35"
   },
   "outputs": [
    {
     "name": "stdout",
     "output_type": "stream",
     "text": [
      "{'loss': [4.577971935272217, 4.125158786773682, 3.9156336784362793, 3.770704984664917, 3.6495139598846436, 3.5513503551483154, 3.462519645690918, 3.3650577068328857, 3.290083885192871, 3.206914186477661, 3.1254959106445312, 3.051419258117676, 2.9741334915161133, 2.912203788757324, 2.8494646549224854, 2.779911756515503, 2.7125155925750732, 2.65631103515625, 2.5903444290161133, 2.5343430042266846, 2.4705111980438232, 2.42101788520813, 2.3588674068450928, 2.297762393951416, 2.2390525341033936, 2.1805317401885986, 2.1364455223083496, 2.0756049156188965, 2.016026496887207, 1.9709209203720093, 1.9044780731201172, 1.8487820625305176, 1.7968496084213257, 1.7315454483032227, 1.6774678230285645, 1.620581030845642, 1.5654375553131104, 1.5014851093292236, 1.4567039012908936, 1.3950740098953247, 1.3450119495391846, 1.2870584726333618, 1.2385061979293823, 1.184794545173645, 1.1295510530471802, 1.0766576528549194, 1.0379793643951416, 0.9825602769851685, 0.9427459836006165, 0.8941783308982849], 'accuracy': [0.031975001096725464, 0.07202500104904175, 0.10029999911785126, 0.12770000100135803, 0.15117500722408295, 0.16904999315738678, 0.18757499754428864, 0.20960000157356262, 0.2195499986410141, 0.23832499980926514, 0.2537499964237213, 0.26877498626708984, 0.2865999937057495, 0.29627498984336853, 0.31310001015663147, 0.3237749934196472, 0.3371250033378601, 0.3516499996185303, 0.3651750087738037, 0.3769499957561493, 0.3878749907016754, 0.39727500081062317, 0.4126250147819519, 0.4249500036239624, 0.4395749866962433, 0.45217499136924744, 0.4622749984264374, 0.4760499894618988, 0.486175000667572, 0.4982750117778778, 0.5150250196456909, 0.5266249775886536, 0.5405499935150146, 0.5595750212669373, 0.5698999762535095, 0.5832499861717224, 0.5949249863624573, 0.612725019454956, 0.627174973487854, 0.6396250128746033, 0.6543499827384949, 0.6700500249862671, 0.6796249747276306, 0.6932250261306763, 0.7105249762535095, 0.7240999937057495, 0.7342249751091003, 0.7463250160217285, 0.7579500079154968, 0.7718999981880188], 'top3_acc': [0.08437500149011612, 0.16965000331401825, 0.22357499599456787, 0.2685999870300293, 0.303600013256073, 0.3330000042915344, 0.3578999936580658, 0.38714998960494995, 0.40472498536109924, 0.42570000886917114, 0.45320001244544983, 0.4698750078678131, 0.491349995136261, 0.5048249959945679, 0.5217000246047974, 0.5382999777793884, 0.5517500042915344, 0.5664250254631042, 0.5845000147819519, 0.5988749861717224, 0.6103749871253967, 0.6219000220298767, 0.6355999708175659, 0.6510999798774719, 0.6650999784469604, 0.6788250207901001, 0.6858500242233276, 0.7006250023841858, 0.7113249897956848, 0.722100019454956, 0.7365000247955322, 0.7485499978065491, 0.7589499950408936, 0.772225022315979, 0.7841749787330627, 0.7945250272750854, 0.8072749972343445, 0.8211249709129333, 0.8286499977111816, 0.8408499956130981, 0.8501750230789185, 0.8618500232696533, 0.8721250295639038, 0.8792750239372253, 0.890749990940094, 0.897350013256073, 0.9046249985694885, 0.9160500168800354, 0.9201750159263611, 0.9261000156402588], 'top_k_categorical_accuracy': [0.13099999725818634, 0.241349995136261, 0.3102250099182129, 0.3605000078678131, 0.39855000376701355, 0.43309998512268066, 0.458950012922287, 0.4887999892234802, 0.5089750289916992, 0.531374990940094, 0.5548750162124634, 0.5723999738693237, 0.5955250263214111, 0.6070500016212463, 0.6233999729156494, 0.6420000195503235, 0.6553999781608582, 0.6668999791145325, 0.6836749911308289, 0.6949499845504761, 0.7042499780654907, 0.7181249856948853, 0.7295500040054321, 0.7419000267982483, 0.7552250027656555, 0.765625, 0.7743250131607056, 0.7843999862670898, 0.7972000241279602, 0.8034499883651733, 0.8158749938011169, 0.8280749917030334, 0.8336750268936157, 0.8464999794960022, 0.8544750213623047, 0.8646000027656555, 0.8707500100135803, 0.8815500140190125, 0.8883000016212463, 0.8995500206947327, 0.905875027179718, 0.9136250019073486, 0.9225999712944031, 0.9265499711036682, 0.9337249994277954, 0.9398249983787537, 0.944724977016449, 0.9522500038146973, 0.9542750120162964, 0.9581999778747559], 'val_loss': [4.29716682434082, 3.911720037460327, 3.7518210411071777, 3.6576249599456787, 3.5865964889526367, 3.4616308212280273, 3.3738772869110107, 3.3280866146087646, 3.201812982559204, 3.1201133728027344, 3.1854019165039062, 3.128382682800293, 2.982553720474243, 2.9813904762268066, 3.171382188796997, 2.915712833404541, 2.867147445678711, 3.068492889404297, 2.7959086894989014, 2.7260570526123047, 2.6853320598602295, 2.8160314559936523, 2.7217299938201904, 2.6740424633026123, 2.6110198497772217, 2.7736172676086426, 2.774380683898926, 2.6729297637939453, 2.7454957962036133, 2.850207805633545, 2.699894905090332, 2.731560468673706, 2.7351996898651123, 2.6473944187164307, 2.729471206665039, 2.7156753540039062, 2.82611346244812, 2.6292083263397217, 2.765537738800049, 2.695495367050171, 2.847505569458008, 2.8497767448425293, 2.779200553894043, 2.817814350128174, 2.8258278369903564, 2.955077648162842, 3.0194530487060547, 2.9060754776000977, 2.9227066040039062, 3.017988920211792], 'val_accuracy': [0.06499999761581421, 0.1281999945640564, 0.1468999981880188, 0.17319999635219574, 0.17409999668598175, 0.19589999318122864, 0.21699999272823334, 0.21699999272823334, 0.23890000581741333, 0.2565999925136566, 0.2418999969959259, 0.24639999866485596, 0.2800999879837036, 0.2782999873161316, 0.23440000414848328, 0.2973000109195709, 0.30320000648498535, 0.257999986410141, 0.3179999887943268, 0.32749998569488525, 0.3343000113964081, 0.3059000074863434, 0.3319999873638153, 0.34200000762939453, 0.3538999855518341, 0.32190001010894775, 0.3246000111103058, 0.3400999903678894, 0.3278000056743622, 0.31859999895095825, 0.3422999978065491, 0.3418000042438507, 0.3398999869823456, 0.35350000858306885, 0.3433000147342682, 0.3483000099658966, 0.33889999985694885, 0.3723999857902527, 0.35100001096725464, 0.36090001463890076, 0.3422999978065491, 0.3465000092983246, 0.3695000112056732, 0.35370001196861267, 0.36079999804496765, 0.3352999985218048, 0.3409000039100647, 0.35690000653266907, 0.3547999858856201, 0.3513999879360199], 'val_top3_acc': [0.15530000627040863, 0.25999999046325684, 0.29010000824928284, 0.32829999923706055, 0.3328999876976013, 0.37070000171661377, 0.38040000200271606, 0.39629998803138733, 0.42890000343322754, 0.4481000006198883, 0.4221000075340271, 0.4316999912261963, 0.4724000096321106, 0.47540000081062317, 0.4163999855518341, 0.48910000920295715, 0.5038999915122986, 0.4433000087738037, 0.5108000040054321, 0.5218999981880188, 0.5400000214576721, 0.5090000033378601, 0.5332000255584717, 0.5328999757766724, 0.5516999959945679, 0.516700029373169, 0.5185999870300293, 0.5393000245094299, 0.5252000093460083, 0.5128999948501587, 0.5339000225067139, 0.5378000140190125, 0.534600019454956, 0.5587999820709229, 0.5407999753952026, 0.5533999800682068, 0.5340999960899353, 0.571399986743927, 0.5447999835014343, 0.5580000281333923, 0.5374000072479248, 0.5354999899864197, 0.5527999997138977, 0.5508000254631042, 0.550000011920929, 0.5263000130653381, 0.5292999744415283, 0.5496000051498413, 0.5414000153541565, 0.535099983215332], 'val_top_k_categorical_accuracy': [0.22439999878406525, 0.3467999994754791, 0.37860000133514404, 0.4205000102519989, 0.4320000112056732, 0.46939998865127563, 0.47929999232292175, 0.4950999915599823, 0.5393999814987183, 0.5511999726295471, 0.5184999704360962, 0.5303999781608582, 0.5741999745368958, 0.5807999968528748, 0.5159000158309937, 0.5899999737739563, 0.5982000231742859, 0.5426999926567078, 0.6108999848365784, 0.6209999918937683, 0.6410999894142151, 0.6062999963760376, 0.628000020980835, 0.6280999779701233, 0.6488000154495239, 0.6103000044822693, 0.6183000206947327, 0.635699987411499, 0.6254000067710876, 0.6090999841690063, 0.6309000253677368, 0.6340000033378601, 0.6324999928474426, 0.6542999744415283, 0.6309999823570251, 0.6471999883651733, 0.6269999742507935, 0.6686999797821045, 0.6328999996185303, 0.6450999975204468, 0.6284000277519226, 0.6326000094413757, 0.6399000287055969, 0.6427000164985657, 0.6442999839782715, 0.6175000071525574, 0.6219000220298767, 0.6391000151634216, 0.6294000148773193, 0.6194999814033508]}\n",
      "313/313 [==============================] - 3s 6ms/step - loss: 2.9777 - accuracy: 0.3542 - top3_acc: 0.5371 - top_k_categorical_accuracy: 0.6271\n",
      "[2.9776992797851562, 0.35420000553131104, 0.5371000170707703, 0.6270999908447266]\n"
     ]
    }
   ],
   "source": [
    "print(history.history)\n",
    "# y_pred = np.argmax(model.predict(x_test), axis=1)\n",
    "# y_true = np.argmax(y_test,axis=1)\n",
    "\n",
    "# print(y_pred.shape)\n",
    "# print(y_true.shape)\n",
    "\n",
    "# print(np.sum(y_pred == y_true) / y_pred.shape[0])\n",
    "\n",
    "print(model.evaluate(x_test, y_test))"
   ]
  }
 ],
 "metadata": {
  "accelerator": "GPU",
  "colab": {
   "collapsed_sections": [],
   "name": "cifar100_alexnet_tanh.ipynb",
   "provenance": []
  },
  "kernelspec": {
   "display_name": "Python 3 (ipykernel)",
   "language": "python",
   "name": "python3"
  },
  "language_info": {
   "codemirror_mode": {
    "name": "ipython",
    "version": 3
   },
   "file_extension": ".py",
   "mimetype": "text/x-python",
   "name": "python",
   "nbconvert_exporter": "python",
   "pygments_lexer": "ipython3",
   "version": "3.9.0"
  }
 },
 "nbformat": 4,
 "nbformat_minor": 1
}

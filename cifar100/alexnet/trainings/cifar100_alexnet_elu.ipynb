{
 "cells": [
  {
   "cell_type": "code",
   "execution_count": 1,
   "metadata": {
    "id": "-8e0tAC7e0CI"
   },
   "outputs": [],
   "source": [
    "import functools\n",
    "import numpy as np\n",
    "import tensorflow as tf\n",
    "from keras.datasets import cifar100\n",
    "from keras import Sequential\n",
    "from keras.preprocessing.image import ImageDataGenerator\n",
    "from sklearn.model_selection import train_test_split\n",
    "from keras.optimizers import SGD\n",
    "from keras.layers import Dense, Activation, Dropout, Flatten, Conv2D, MaxPooling2D, LeakyReLU\n",
    "from keras.layers.normalization import BatchNormalization\n",
    "from tensorflow.keras.utils import to_categorical\n",
    "from keras.utils.generic_utils import get_custom_objects"
   ]
  },
  {
   "cell_type": "code",
   "execution_count": 2,
   "metadata": {
    "id": "WljAm5f0fKkw"
   },
   "outputs": [],
   "source": [
    "(x_train, y_train), (x_test, y_test) = cifar100.load_data()\n",
    "x_train, x_val, y_train, y_val = train_test_split(x_train, y_train, test_size=.2)"
   ]
  },
  {
   "cell_type": "code",
   "execution_count": 3,
   "metadata": {
    "id": "7u2htPZHfLP2"
   },
   "outputs": [],
   "source": [
    "y_train = to_categorical(y_train)\n",
    "y_val = to_categorical(y_val)\n",
    "y_test = to_categorical(y_test)"
   ]
  },
  {
   "cell_type": "code",
   "execution_count": 4,
   "metadata": {
    "colab": {
     "base_uri": "https://localhost:8080/"
    },
    "id": "sKxXF-OFASsu",
    "outputId": "569699cf-871d-44f8-9154-cfe6b36296ac"
   },
   "outputs": [
    {
     "data": {
      "text/plain": [
       "((40000, 32, 32, 3),\n",
       " (40000, 100),\n",
       " (10000, 32, 32, 3),\n",
       " (10000, 100),\n",
       " (10000, 32, 32, 3),\n",
       " (10000, 100))"
      ]
     },
     "execution_count": 4,
     "metadata": {
      "tags": []
     },
     "output_type": "execute_result"
    }
   ],
   "source": [
    "x_train.shape, y_train.shape, x_val.shape, y_val.shape, x_test.shape, y_test.shape"
   ]
  },
  {
   "cell_type": "code",
   "execution_count": 5,
   "metadata": {
    "id": "QR8VwuXy-SCk"
   },
   "outputs": [],
   "source": [
    "train_generator = ImageDataGenerator(rotation_range=2, horizontal_flip=True)\n",
    "val_generator = ImageDataGenerator(rotation_range=2, horizontal_flip=True)\n",
    "test_generator = ImageDataGenerator(rotation_range=2, horizontal_flip=True)\n",
    "\n",
    "train_generator.fit(x_train)\n",
    "val_generator.fit(x_val)\n",
    "test_generator.fit(x_test)"
   ]
  },
  {
   "cell_type": "code",
   "execution_count": 6,
   "metadata": {
    "id": "UgqsFQ16Gmz4"
   },
   "outputs": [],
   "source": [
    "def alexnet(activation):\n",
    "    AlexNet = Sequential()\n",
    "\n",
    "    AlexNet.add(Conv2D(filters=96, input_shape=(32, 32, 3), kernel_size=(11, 11), strides=(4, 4), padding='same'))\n",
    "    AlexNet.add(BatchNormalization())\n",
    "    AlexNet.add(Activation(activation))\n",
    "    AlexNet.add(MaxPooling2D(pool_size=(2, 2), strides=(2, 2), padding='same'))\n",
    "\n",
    "    AlexNet.add(Conv2D(filters=256, kernel_size=(5, 5), strides=(1, 1), padding='same'))\n",
    "    AlexNet.add(BatchNormalization())\n",
    "    AlexNet.add(Activation(activation))\n",
    "    AlexNet.add(MaxPooling2D(pool_size=(2, 2), strides=(2, 2), padding='same'))\n",
    "\n",
    "    AlexNet.add(Conv2D(filters=384, kernel_size=(3, 3), strides=(1, 1), padding='same'))\n",
    "    AlexNet.add(BatchNormalization())\n",
    "    AlexNet.add(Activation(activation))\n",
    "\n",
    "    AlexNet.add(Conv2D(filters=384, kernel_size=(3, 3), strides=(1, 1), padding='same'))\n",
    "    AlexNet.add(BatchNormalization())\n",
    "    AlexNet.add(Activation(activation))\n",
    "\n",
    "    AlexNet.add(Conv2D(filters=256, kernel_size=(3, 3), strides=(1, 1), padding='same'))\n",
    "    AlexNet.add(BatchNormalization())\n",
    "    AlexNet.add(Activation(activation))\n",
    "    AlexNet.add(MaxPooling2D(pool_size=(2, 2), strides=(2, 2), padding='same'))\n",
    "\n",
    "    AlexNet.add(Flatten())\n",
    "    AlexNet.add(Dense(4096, input_shape=(32, 32, 3)))\n",
    "    AlexNet.add(BatchNormalization())\n",
    "    AlexNet.add(Activation(activation))\n",
    "    AlexNet.add(Dropout(0.5))\n",
    "\n",
    "    AlexNet.add(Dense(4096))\n",
    "    AlexNet.add(BatchNormalization())\n",
    "    AlexNet.add(Activation(activation))\n",
    "    AlexNet.add(Dropout(0.5))\n",
    "\n",
    "    AlexNet.add(Dense(1000))\n",
    "    AlexNet.add(BatchNormalization())\n",
    "    AlexNet.add(Activation(activation))\n",
    "    AlexNet.add(Dropout(0.5))\n",
    "\n",
    "    AlexNet.add(Dense(100))\n",
    "    AlexNet.add(BatchNormalization())\n",
    "    AlexNet.add(Activation('softmax'))\n",
    "\n",
    "    return AlexNet"
   ]
  },
  {
   "cell_type": "code",
   "execution_count": 11,
   "metadata": {
    "colab": {
     "base_uri": "https://localhost:8080/"
    },
    "id": "bvLaricEJB7Y",
    "outputId": "70e3f3c5-e348-462f-986f-7cf777a9f609"
   },
   "outputs": [
    {
     "name": "stdout",
     "output_type": "stream",
     "text": [
      "Epoch 1/50\n",
      "313/313 [==============================] - 28s 80ms/step - loss: 4.5670 - accuracy: 0.0363 - top3_acc: 0.0942 - top_k_categorical_accuracy: 0.1395 - val_loss: 3.9076 - val_accuracy: 0.1194 - val_top3_acc: 0.2569 - val_top_k_categorical_accuracy: 0.3453\n",
      "Epoch 2/50\n",
      "313/313 [==============================] - 23s 73ms/step - loss: 3.9242 - accuracy: 0.0969 - top3_acc: 0.2223 - top_k_categorical_accuracy: 0.3094 - val_loss: 3.5985 - val_accuracy: 0.1796 - val_top3_acc: 0.3390 - val_top_k_categorical_accuracy: 0.4360\n",
      "Epoch 3/50\n",
      "313/313 [==============================] - 26s 82ms/step - loss: 3.7096 - accuracy: 0.1379 - top3_acc: 0.2898 - top_k_categorical_accuracy: 0.3868 - val_loss: 3.5262 - val_accuracy: 0.1823 - val_top3_acc: 0.3435 - val_top_k_categorical_accuracy: 0.4479\n",
      "Epoch 4/50\n",
      "313/313 [==============================] - 25s 78ms/step - loss: 3.5560 - accuracy: 0.1716 - top3_acc: 0.3353 - top_k_categorical_accuracy: 0.4366 - val_loss: 3.5053 - val_accuracy: 0.1796 - val_top3_acc: 0.3365 - val_top_k_categorical_accuracy: 0.4288\n",
      "Epoch 5/50\n",
      "313/313 [==============================] - 24s 77ms/step - loss: 3.4346 - accuracy: 0.1973 - top3_acc: 0.3708 - top_k_categorical_accuracy: 0.4743 - val_loss: 3.3342 - val_accuracy: 0.2133 - val_top3_acc: 0.3927 - val_top_k_categorical_accuracy: 0.4956\n",
      "Epoch 6/50\n",
      "313/313 [==============================] - 23s 73ms/step - loss: 3.3298 - accuracy: 0.2192 - top3_acc: 0.4013 - top_k_categorical_accuracy: 0.5058 - val_loss: 3.1544 - val_accuracy: 0.2559 - val_top3_acc: 0.4425 - val_top_k_categorical_accuracy: 0.5443\n",
      "Epoch 7/50\n",
      "313/313 [==============================] - 25s 81ms/step - loss: 3.2381 - accuracy: 0.2361 - top3_acc: 0.4303 - top_k_categorical_accuracy: 0.5339 - val_loss: 3.1531 - val_accuracy: 0.2571 - val_top3_acc: 0.4412 - val_top_k_categorical_accuracy: 0.5408\n",
      "Epoch 8/50\n",
      "313/313 [==============================] - 23s 74ms/step - loss: 3.1334 - accuracy: 0.2615 - top3_acc: 0.4546 - top_k_categorical_accuracy: 0.5593 - val_loss: 3.3605 - val_accuracy: 0.2162 - val_top3_acc: 0.3774 - val_top_k_categorical_accuracy: 0.4754\n",
      "Epoch 9/50\n",
      "313/313 [==============================] - 23s 74ms/step - loss: 3.0514 - accuracy: 0.2778 - top3_acc: 0.4808 - top_k_categorical_accuracy: 0.5827 - val_loss: 3.1056 - val_accuracy: 0.2627 - val_top3_acc: 0.4539 - val_top_k_categorical_accuracy: 0.5504\n",
      "Epoch 10/50\n",
      "313/313 [==============================] - 25s 81ms/step - loss: 2.9682 - accuracy: 0.2921 - top3_acc: 0.4990 - top_k_categorical_accuracy: 0.6021 - val_loss: 3.0029 - val_accuracy: 0.2742 - val_top3_acc: 0.4743 - val_top_k_categorical_accuracy: 0.5700\n",
      "Epoch 11/50\n",
      "313/313 [==============================] - 23s 74ms/step - loss: 2.9034 - accuracy: 0.3020 - top3_acc: 0.5144 - top_k_categorical_accuracy: 0.6179 - val_loss: 2.9241 - val_accuracy: 0.2920 - val_top3_acc: 0.4913 - val_top_k_categorical_accuracy: 0.5947\n",
      "Epoch 12/50\n",
      "313/313 [==============================] - 26s 83ms/step - loss: 2.8267 - accuracy: 0.3192 - top3_acc: 0.5337 - top_k_categorical_accuracy: 0.6369 - val_loss: 3.1180 - val_accuracy: 0.2595 - val_top3_acc: 0.4354 - val_top_k_categorical_accuracy: 0.5310\n",
      "Epoch 13/50\n",
      "313/313 [==============================] - 23s 74ms/step - loss: 2.7663 - accuracy: 0.3294 - top3_acc: 0.5483 - top_k_categorical_accuracy: 0.6513 - val_loss: 3.3015 - val_accuracy: 0.2254 - val_top3_acc: 0.3981 - val_top_k_categorical_accuracy: 0.4888\n",
      "Epoch 14/50\n",
      "313/313 [==============================] - 24s 76ms/step - loss: 2.6997 - accuracy: 0.3437 - top3_acc: 0.5620 - top_k_categorical_accuracy: 0.6641 - val_loss: 2.8118 - val_accuracy: 0.3147 - val_top3_acc: 0.5097 - val_top_k_categorical_accuracy: 0.6109\n",
      "Epoch 15/50\n",
      "313/313 [==============================] - 25s 81ms/step - loss: 2.6396 - accuracy: 0.3569 - top3_acc: 0.5774 - top_k_categorical_accuracy: 0.6791 - val_loss: 2.8819 - val_accuracy: 0.2966 - val_top3_acc: 0.4935 - val_top_k_categorical_accuracy: 0.5912\n",
      "Epoch 16/50\n",
      "313/313 [==============================] - 26s 82ms/step - loss: 2.5695 - accuracy: 0.3726 - top3_acc: 0.5964 - top_k_categorical_accuracy: 0.6941 - val_loss: 3.2500 - val_accuracy: 0.2441 - val_top3_acc: 0.4171 - val_top_k_categorical_accuracy: 0.5167\n",
      "Epoch 17/50\n",
      "313/313 [==============================] - 23s 74ms/step - loss: 2.5055 - accuracy: 0.3866 - top3_acc: 0.6088 - top_k_categorical_accuracy: 0.7077 - val_loss: 2.8250 - val_accuracy: 0.3080 - val_top3_acc: 0.5016 - val_top_k_categorical_accuracy: 0.5984\n",
      "Epoch 18/50\n",
      "313/313 [==============================] - 24s 76ms/step - loss: 2.4544 - accuracy: 0.4011 - top3_acc: 0.6215 - top_k_categorical_accuracy: 0.7188 - val_loss: 2.8501 - val_accuracy: 0.3071 - val_top3_acc: 0.5031 - val_top_k_categorical_accuracy: 0.5978\n",
      "Epoch 19/50\n",
      "313/313 [==============================] - 25s 81ms/step - loss: 2.3890 - accuracy: 0.4070 - top3_acc: 0.6386 - top_k_categorical_accuracy: 0.7343 - val_loss: 2.6377 - val_accuracy: 0.3513 - val_top3_acc: 0.5505 - val_top_k_categorical_accuracy: 0.6508\n",
      "Epoch 20/50\n",
      "313/313 [==============================] - 23s 74ms/step - loss: 2.3397 - accuracy: 0.4246 - top3_acc: 0.6500 - top_k_categorical_accuracy: 0.7442 - val_loss: 2.6812 - val_accuracy: 0.3369 - val_top3_acc: 0.5357 - val_top_k_categorical_accuracy: 0.6373\n",
      "Epoch 21/50\n",
      "313/313 [==============================] - 24s 78ms/step - loss: 2.2775 - accuracy: 0.4354 - top3_acc: 0.6574 - top_k_categorical_accuracy: 0.7529 - val_loss: 2.7242 - val_accuracy: 0.3281 - val_top3_acc: 0.5290 - val_top_k_categorical_accuracy: 0.6296\n",
      "Epoch 22/50\n",
      "313/313 [==============================] - 24s 77ms/step - loss: 2.2327 - accuracy: 0.4479 - top3_acc: 0.6724 - top_k_categorical_accuracy: 0.7612 - val_loss: 2.8789 - val_accuracy: 0.3084 - val_top3_acc: 0.4929 - val_top_k_categorical_accuracy: 0.5906\n",
      "Epoch 23/50\n",
      "313/313 [==============================] - 23s 74ms/step - loss: 2.1733 - accuracy: 0.4603 - top3_acc: 0.6819 - top_k_categorical_accuracy: 0.7717 - val_loss: 2.7686 - val_accuracy: 0.3262 - val_top3_acc: 0.5225 - val_top_k_categorical_accuracy: 0.6266\n",
      "Epoch 24/50\n",
      "313/313 [==============================] - 25s 80ms/step - loss: 2.1246 - accuracy: 0.4722 - top3_acc: 0.6965 - top_k_categorical_accuracy: 0.7806 - val_loss: 2.5913 - val_accuracy: 0.3632 - val_top3_acc: 0.5656 - val_top_k_categorical_accuracy: 0.6577\n",
      "Epoch 25/50\n",
      "313/313 [==============================] - 24s 76ms/step - loss: 2.0651 - accuracy: 0.4833 - top3_acc: 0.7105 - top_k_categorical_accuracy: 0.7959 - val_loss: 2.6444 - val_accuracy: 0.3568 - val_top3_acc: 0.5465 - val_top_k_categorical_accuracy: 0.6418\n",
      "Epoch 26/50\n",
      "313/313 [==============================] - 23s 73ms/step - loss: 2.0057 - accuracy: 0.4973 - top3_acc: 0.7250 - top_k_categorical_accuracy: 0.8067 - val_loss: 2.7621 - val_accuracy: 0.3333 - val_top3_acc: 0.5263 - val_top_k_categorical_accuracy: 0.6184\n",
      "Epoch 27/50\n",
      "313/313 [==============================] - 26s 82ms/step - loss: 1.9668 - accuracy: 0.5091 - top3_acc: 0.7297 - top_k_categorical_accuracy: 0.8132 - val_loss: 2.5929 - val_accuracy: 0.3611 - val_top3_acc: 0.5644 - val_top_k_categorical_accuracy: 0.6532\n",
      "Epoch 28/50\n",
      "313/313 [==============================] - 24s 76ms/step - loss: 1.9011 - accuracy: 0.5205 - top3_acc: 0.7404 - top_k_categorical_accuracy: 0.8255 - val_loss: 2.5795 - val_accuracy: 0.3654 - val_top3_acc: 0.5642 - val_top_k_categorical_accuracy: 0.6577\n",
      "Epoch 29/50\n",
      "313/313 [==============================] - 26s 83ms/step - loss: 1.8434 - accuracy: 0.5366 - top3_acc: 0.7595 - top_k_categorical_accuracy: 0.8359 - val_loss: 2.5652 - val_accuracy: 0.3753 - val_top3_acc: 0.5776 - val_top_k_categorical_accuracy: 0.6667\n",
      "Epoch 30/50\n",
      "313/313 [==============================] - 25s 81ms/step - loss: 1.7844 - accuracy: 0.5451 - top3_acc: 0.7718 - top_k_categorical_accuracy: 0.8500 - val_loss: 2.5820 - val_accuracy: 0.3742 - val_top3_acc: 0.5649 - val_top_k_categorical_accuracy: 0.6605\n",
      "Epoch 31/50\n",
      "313/313 [==============================] - 24s 77ms/step - loss: 1.7394 - accuracy: 0.5599 - top3_acc: 0.7794 - top_k_categorical_accuracy: 0.8548 - val_loss: 2.7713 - val_accuracy: 0.3378 - val_top3_acc: 0.5241 - val_top_k_categorical_accuracy: 0.6156\n",
      "Epoch 32/50\n",
      "313/313 [==============================] - 24s 75ms/step - loss: 1.6951 - accuracy: 0.5731 - top3_acc: 0.7889 - top_k_categorical_accuracy: 0.8628 - val_loss: 2.6520 - val_accuracy: 0.3609 - val_top3_acc: 0.5568 - val_top_k_categorical_accuracy: 0.6518\n",
      "Epoch 33/50\n",
      "313/313 [==============================] - 26s 83ms/step - loss: 1.6372 - accuracy: 0.5936 - top3_acc: 0.8003 - top_k_categorical_accuracy: 0.8702 - val_loss: 2.6952 - val_accuracy: 0.3562 - val_top3_acc: 0.5439 - val_top_k_categorical_accuracy: 0.6329\n",
      "Epoch 34/50\n",
      "313/313 [==============================] - 24s 76ms/step - loss: 1.5940 - accuracy: 0.5957 - top3_acc: 0.8114 - top_k_categorical_accuracy: 0.8796 - val_loss: 2.7435 - val_accuracy: 0.3547 - val_top3_acc: 0.5467 - val_top_k_categorical_accuracy: 0.6374\n",
      "Epoch 35/50\n",
      "313/313 [==============================] - 25s 80ms/step - loss: 1.5433 - accuracy: 0.6105 - top3_acc: 0.8194 - top_k_categorical_accuracy: 0.8870 - val_loss: 2.6861 - val_accuracy: 0.3624 - val_top3_acc: 0.5541 - val_top_k_categorical_accuracy: 0.6424\n",
      "Epoch 36/50\n",
      "313/313 [==============================] - 25s 81ms/step - loss: 1.4825 - accuracy: 0.6280 - top3_acc: 0.8335 - top_k_categorical_accuracy: 0.8957 - val_loss: 2.7377 - val_accuracy: 0.3535 - val_top3_acc: 0.5452 - val_top_k_categorical_accuracy: 0.6332\n",
      "Epoch 37/50\n",
      "313/313 [==============================] - 25s 78ms/step - loss: 1.4428 - accuracy: 0.6348 - top3_acc: 0.8436 - top_k_categorical_accuracy: 0.9037 - val_loss: 2.6964 - val_accuracy: 0.3588 - val_top3_acc: 0.5509 - val_top_k_categorical_accuracy: 0.6434\n",
      "Epoch 38/50\n",
      "313/313 [==============================] - 26s 83ms/step - loss: 1.3921 - accuracy: 0.6486 - top3_acc: 0.8531 - top_k_categorical_accuracy: 0.9079 - val_loss: 2.6028 - val_accuracy: 0.3842 - val_top3_acc: 0.5732 - val_top_k_categorical_accuracy: 0.6611\n",
      "Epoch 39/50\n",
      "313/313 [==============================] - 24s 78ms/step - loss: 1.3420 - accuracy: 0.6628 - top3_acc: 0.8609 - top_k_categorical_accuracy: 0.9173 - val_loss: 2.6557 - val_accuracy: 0.3749 - val_top3_acc: 0.5661 - val_top_k_categorical_accuracy: 0.6566\n",
      "Epoch 40/50\n",
      "313/313 [==============================] - 24s 77ms/step - loss: 1.2941 - accuracy: 0.6763 - top3_acc: 0.8700 - top_k_categorical_accuracy: 0.9246 - val_loss: 2.7388 - val_accuracy: 0.3599 - val_top3_acc: 0.5534 - val_top_k_categorical_accuracy: 0.6425\n",
      "Epoch 41/50\n",
      "313/313 [==============================] - 26s 84ms/step - loss: 1.2539 - accuracy: 0.6885 - top3_acc: 0.8801 - top_k_categorical_accuracy: 0.9280 - val_loss: 2.7036 - val_accuracy: 0.3677 - val_top3_acc: 0.5579 - val_top_k_categorical_accuracy: 0.6475\n",
      "Epoch 42/50\n",
      "313/313 [==============================] - 26s 82ms/step - loss: 1.2208 - accuracy: 0.6943 - top3_acc: 0.8857 - top_k_categorical_accuracy: 0.9320 - val_loss: 2.7327 - val_accuracy: 0.3663 - val_top3_acc: 0.5509 - val_top_k_categorical_accuracy: 0.6415\n",
      "Epoch 43/50\n",
      "313/313 [==============================] - 24s 76ms/step - loss: 1.1550 - accuracy: 0.7134 - top3_acc: 0.8962 - top_k_categorical_accuracy: 0.9406 - val_loss: 2.8071 - val_accuracy: 0.3601 - val_top3_acc: 0.5508 - val_top_k_categorical_accuracy: 0.6378\n",
      "Epoch 44/50\n",
      "313/313 [==============================] - 26s 82ms/step - loss: 1.1202 - accuracy: 0.7223 - top3_acc: 0.9024 - top_k_categorical_accuracy: 0.9441 - val_loss: 2.8876 - val_accuracy: 0.3460 - val_top3_acc: 0.5360 - val_top_k_categorical_accuracy: 0.6214\n",
      "Epoch 45/50\n",
      "313/313 [==============================] - 25s 80ms/step - loss: 1.0720 - accuracy: 0.7376 - top3_acc: 0.9115 - top_k_categorical_accuracy: 0.9509 - val_loss: 2.7284 - val_accuracy: 0.3769 - val_top3_acc: 0.5632 - val_top_k_categorical_accuracy: 0.6503\n",
      "Epoch 46/50\n",
      "313/313 [==============================] - 24s 77ms/step - loss: 1.0225 - accuracy: 0.7535 - top3_acc: 0.9151 - top_k_categorical_accuracy: 0.9534 - val_loss: 2.6683 - val_accuracy: 0.3874 - val_top3_acc: 0.5722 - val_top_k_categorical_accuracy: 0.6565\n",
      "Epoch 47/50\n",
      "313/313 [==============================] - 26s 83ms/step - loss: 0.9783 - accuracy: 0.7638 - top3_acc: 0.9260 - top_k_categorical_accuracy: 0.9597 - val_loss: 2.6854 - val_accuracy: 0.3792 - val_top3_acc: 0.5659 - val_top_k_categorical_accuracy: 0.6523\n",
      "Epoch 48/50\n",
      "313/313 [==============================] - 24s 77ms/step - loss: 0.9310 - accuracy: 0.7780 - top3_acc: 0.9331 - top_k_categorical_accuracy: 0.9635 - val_loss: 2.7576 - val_accuracy: 0.3652 - val_top3_acc: 0.5602 - val_top_k_categorical_accuracy: 0.6488\n",
      "Epoch 49/50\n",
      "313/313 [==============================] - 25s 80ms/step - loss: 0.8874 - accuracy: 0.7920 - top3_acc: 0.9392 - top_k_categorical_accuracy: 0.9680 - val_loss: 3.0558 - val_accuracy: 0.3267 - val_top3_acc: 0.5129 - val_top_k_categorical_accuracy: 0.6049\n",
      "Epoch 50/50\n",
      "313/313 [==============================] - 25s 81ms/step - loss: 0.8624 - accuracy: 0.7948 - top3_acc: 0.9436 - top_k_categorical_accuracy: 0.9713 - val_loss: 2.7617 - val_accuracy: 0.3830 - val_top3_acc: 0.5696 - val_top_k_categorical_accuracy: 0.6543\n"
     ]
    }
   ],
   "source": [
    "def gelu(x):\n",
    "    return 0.5 * x * (1 + tf.tanh(tf.sqrt(2 / np.pi) * (x + 0.044715 * tf.pow(x, 3))))\n",
    "get_custom_objects().update({'gelu': Activation(gelu)})\n",
    "\n",
    "def swish(x):\n",
    "    return x * tf.sigmoid(x)\n",
    "get_custom_objects().update({'swish': Activation(swish)})\n",
    "\n",
    "get_custom_objects().update({'leaky-relu': Activation(LeakyReLU(alpha=0.2))})\n",
    "\n",
    "# act_func = ['tanh', 'relu', 'leaky-relu', 'elu', 'selu', 'gelu', 'swish']\n",
    "\n",
    "model = alexnet('elu')\n",
    "\n",
    "batch_size = 128\n",
    "epochs = 50\n",
    "\n",
    "top3_acc = functools.partial(tf.keras.metrics.top_k_categorical_accuracy, k=3)\n",
    "\n",
    "top3_acc.__name__ = 'top3_acc'\n",
    "\n",
    "model.compile(optimizer=SGD(), loss='categorical_crossentropy', metrics=['accuracy', top3_acc, 'top_k_categorical_accuracy'])\n",
    "\n",
    "history = model.fit(train_generator.flow(x_train, y_train, batch_size=batch_size), epochs=epochs,\n",
    "                      validation_data=val_generator.flow(x_val, y_val, batch_size=batch_size), verbose=1)"
   ]
  },
  {
   "cell_type": "code",
   "execution_count": 12,
   "metadata": {
    "colab": {
     "base_uri": "https://localhost:8080/"
    },
    "id": "A_eJn83kKCwL",
    "outputId": "61a3ad58-1393-42c4-88bd-74d9c419d274"
   },
   "outputs": [
    {
     "name": "stdout",
     "output_type": "stream",
     "text": [
      "{'loss': [4.309631824493408, 3.862114906311035, 3.6751246452331543, 3.5373785495758057, 3.4223129749298096, 3.3088085651397705, 3.213998794555664, 3.1210951805114746, 3.041996955871582, 2.96500825881958, 2.8970277309417725, 2.82362961769104, 2.7611002922058105, 2.6946194171905518, 2.6401352882385254, 2.5775132179260254, 2.5163888931274414, 2.455620765686035, 2.3963241577148438, 2.346095085144043, 2.2898170948028564, 2.244133949279785, 2.1884100437164307, 2.1330506801605225, 2.076795816421509, 2.0227270126342773, 1.9687306880950928, 1.9177875518798828, 1.863970160484314, 1.809874415397644, 1.7527943849563599, 1.709821105003357, 1.6619775295257568, 1.6136820316314697, 1.5573487281799316, 1.5046218633651733, 1.4579986333847046, 1.41689133644104, 1.362059235572815, 1.3192545175552368, 1.2730566263198853, 1.2311906814575195, 1.1804354190826416, 1.1377451419830322, 1.0890932083129883, 1.0481886863708496, 1.0044994354248047, 0.9628770351409912, 0.9168583154678345, 0.8883939385414124], 'accuracy': [0.05660000070929527, 0.10887499898672104, 0.14652499556541443, 0.17537499964237213, 0.1976500004529953, 0.22200000286102295, 0.23877499997615814, 0.26007500290870667, 0.27812498807907104, 0.2925249934196472, 0.3041749894618988, 0.3185499906539917, 0.3307499885559082, 0.34472501277923584, 0.3555999994277954, 0.3714999854564667, 0.382999986410141, 0.39932501316070557, 0.40597501397132874, 0.41909998655319214, 0.43152499198913574, 0.4424000084400177, 0.45295000076293945, 0.4680500030517578, 0.4787749946117401, 0.49252501130104065, 0.5076000094413757, 0.5146499872207642, 0.5301250219345093, 0.539900004863739, 0.5541999936103821, 0.5683000087738037, 0.581849992275238, 0.5912250280380249, 0.6038249731063843, 0.6192499995231628, 0.6308249831199646, 0.6406000256538391, 0.6554999947547913, 0.6668999791145325, 0.6808000206947327, 0.689674973487854, 0.7043499946594238, 0.716825008392334, 0.7300750017166138, 0.7430999875068665, 0.7534250020980835, 0.7666249871253967, 0.7800250053405762, 0.7847750186920166], 'top3_acc': [0.13627499341964722, 0.24207499623298645, 0.3008750081062317, 0.34002500772476196, 0.37459999322891235, 0.4071750044822693, 0.4360249936580658, 0.4573250114917755, 0.48112499713897705, 0.49857500195503235, 0.5149000287055969, 0.5324000120162964, 0.5469499826431274, 0.5623999834060669, 0.5763499736785889, 0.5919749736785889, 0.6054499745368958, 0.6188250184059143, 0.6341249942779541, 0.6455749869346619, 0.6548500061035156, 0.6678500175476074, 0.678475022315979, 0.6934249997138977, 0.7054749727249146, 0.7199249863624573, 0.7309250235557556, 0.7381500005722046, 0.7509250044822693, 0.763700008392334, 0.7769500017166138, 0.7838749885559082, 0.7944250106811523, 0.8050000071525574, 0.8167999982833862, 0.827750027179718, 0.838100016117096, 0.8478249907493591, 0.8559250235557556, 0.8645250201225281, 0.8755249977111816, 0.8813999891281128, 0.8909749984741211, 0.8971750140190125, 0.9062749743461609, 0.9115999937057495, 0.9214500188827515, 0.9279500246047974, 0.9332749843597412, 0.9383000135421753], 'top_k_categorical_accuracy': [0.19782499969005585, 0.33079999685287476, 0.3977000117301941, 0.44200000166893005, 0.4765999913215637, 0.5108000040054321, 0.5400750041007996, 0.5613750219345093, 0.5858749747276306, 0.6024249792098999, 0.6187250018119812, 0.635450005531311, 0.6498500108718872, 0.665149986743927, 0.6769999861717224, 0.6909499764442444, 0.7020000219345093, 0.7152500152587891, 0.7307249903678894, 0.7391499876976013, 0.7493500113487244, 0.7590500116348267, 0.7700999975204468, 0.7793750166893005, 0.7926999926567078, 0.801675021648407, 0.8135250210762024, 0.8224499821662903, 0.8301500082015991, 0.8421000242233276, 0.8511750102043152, 0.8590750098228455, 0.8654500246047974, 0.8741499781608582, 0.8824499845504761, 0.8930749893188477, 0.8995749950408936, 0.9049000144004822, 0.9128749966621399, 0.9193750023841858, 0.9251499772071838, 0.9300749897956848, 0.9380999803543091, 0.9412500262260437, 0.9482750296592712, 0.9512749910354614, 0.9566749930381775, 0.9610750079154968, 0.965025007724762, 0.9678500294685364], 'val_loss': [3.907557487487793, 3.5984675884246826, 3.526151657104492, 3.5052664279937744, 3.334244966506958, 3.154432773590088, 3.153123140335083, 3.3605422973632812, 3.1055707931518555, 3.0029351711273193, 2.9240641593933105, 3.1179721355438232, 3.3015241622924805, 2.8118107318878174, 2.881868362426758, 3.249995231628418, 2.824979782104492, 2.8501036167144775, 2.6376731395721436, 2.6811842918395996, 2.7241547107696533, 2.8789174556732178, 2.768611192703247, 2.591264009475708, 2.6443569660186768, 2.7620959281921387, 2.5929198265075684, 2.579489231109619, 2.5652263164520264, 2.581974983215332, 2.7713325023651123, 2.6519615650177, 2.6952388286590576, 2.7434957027435303, 2.686133623123169, 2.7376537322998047, 2.6964128017425537, 2.6028261184692383, 2.6556649208068848, 2.738812208175659, 2.703585147857666, 2.7327065467834473, 2.807063102722168, 2.887632369995117, 2.7284388542175293, 2.6683223247528076, 2.6853997707366943, 2.757565975189209, 3.0558481216430664, 2.7617030143737793], 'val_accuracy': [0.11940000206232071, 0.17960000038146973, 0.18230000138282776, 0.17960000038146973, 0.21330000460147858, 0.25589999556541443, 0.257099986076355, 0.21619999408721924, 0.26269999146461487, 0.2741999924182892, 0.2919999957084656, 0.25949999690055847, 0.22540000081062317, 0.31470000743865967, 0.29660001397132874, 0.24410000443458557, 0.30799999833106995, 0.30709999799728394, 0.3513000011444092, 0.336899995803833, 0.3280999958515167, 0.3084000051021576, 0.326200008392334, 0.36320000886917114, 0.35679998993873596, 0.33329999446868896, 0.3610999882221222, 0.3653999865055084, 0.37529999017715454, 0.3741999864578247, 0.337799996137619, 0.36090001463890076, 0.3562000095844269, 0.3546999990940094, 0.36239999532699585, 0.35350000858306885, 0.3587999939918518, 0.38420000672340393, 0.3749000132083893, 0.35989999771118164, 0.3677000105381012, 0.36629998683929443, 0.36010000109672546, 0.34599998593330383, 0.37689998745918274, 0.3874000012874603, 0.3792000114917755, 0.365200012922287, 0.32670000195503235, 0.382999986410141], 'val_top3_acc': [0.25690001249313354, 0.33899998664855957, 0.3434999883174896, 0.33649998903274536, 0.3926999866962433, 0.4424999952316284, 0.44119998812675476, 0.3774000108242035, 0.453900009393692, 0.47429999709129333, 0.49129998683929443, 0.43540000915527344, 0.39809998869895935, 0.5097000002861023, 0.4934999942779541, 0.4171000123023987, 0.5016000270843506, 0.5030999779701233, 0.5504999756813049, 0.5357000231742859, 0.5289999842643738, 0.492900013923645, 0.5224999785423279, 0.5655999779701233, 0.546500027179718, 0.5263000130653381, 0.5644000172615051, 0.5641999840736389, 0.5776000022888184, 0.5648999810218811, 0.5241000056266785, 0.5568000078201294, 0.5439000129699707, 0.5467000007629395, 0.554099977016449, 0.545199990272522, 0.5508999824523926, 0.573199987411499, 0.566100001335144, 0.5533999800682068, 0.5579000115394592, 0.5508999824523926, 0.5508000254631042, 0.5360000133514404, 0.5631999969482422, 0.5722000002861023, 0.5659000277519226, 0.5601999759674072, 0.5128999948501587, 0.569599986076355], 'val_top_k_categorical_accuracy': [0.34529998898506165, 0.4359999895095825, 0.4478999972343445, 0.42879998683929443, 0.49559998512268066, 0.5443000197410583, 0.5407999753952026, 0.47540000081062317, 0.5504000186920166, 0.5699999928474426, 0.5946999788284302, 0.531000018119812, 0.4887999892234802, 0.6108999848365784, 0.5911999940872192, 0.516700029373169, 0.5983999967575073, 0.5978000164031982, 0.6507999897003174, 0.6373000144958496, 0.6295999884605408, 0.5906000137329102, 0.6266000270843506, 0.6577000021934509, 0.6417999863624573, 0.618399977684021, 0.6531999707221985, 0.6577000021934509, 0.666700005531311, 0.6604999899864197, 0.6155999898910522, 0.6517999768257141, 0.6328999996185303, 0.6373999714851379, 0.6424000263214111, 0.6331999897956848, 0.6434000134468079, 0.6610999703407288, 0.6565999984741211, 0.6424999833106995, 0.6474999785423279, 0.6414999961853027, 0.6377999782562256, 0.621399998664856, 0.6503000259399414, 0.656499981880188, 0.6523000001907349, 0.6488000154495239, 0.6049000024795532, 0.6542999744415283]}\n",
      "313/313 [==============================] - 3s 6ms/step - loss: 2.7600 - accuracy: 0.3839 - top3_acc: 0.5738 - top_k_categorical_accuracy: 0.6512\n",
      "[2.759962320327759, 0.383899986743927, 0.5738000273704529, 0.651199996471405]\n"
     ]
    }
   ],
   "source": [
    "print(history.history)\n",
    "# y_pred = np.argmax(model.predict(x_test), axis=1)\n",
    "# y_true = np.argmax(y_test,axis=1)\n",
    "\n",
    "# print(y_pred.shape)\n",
    "# print(y_true.shape)\n",
    "\n",
    "# print(np.sum(y_pred == y_true) / y_pred.shape[0])\n",
    "\n",
    "print(model.evaluate(x_test, y_test))"
   ]
  }
 ],
 "metadata": {
  "accelerator": "GPU",
  "colab": {
   "collapsed_sections": [],
   "name": "cifar100_alexnet_elu.ipynb",
   "provenance": []
  },
  "kernelspec": {
   "display_name": "Python 3 (ipykernel)",
   "language": "python",
   "name": "python3"
  },
  "language_info": {
   "codemirror_mode": {
    "name": "ipython",
    "version": 3
   },
   "file_extension": ".py",
   "mimetype": "text/x-python",
   "name": "python",
   "nbconvert_exporter": "python",
   "pygments_lexer": "ipython3",
   "version": "3.9.0"
  }
 },
 "nbformat": 4,
 "nbformat_minor": 1
}

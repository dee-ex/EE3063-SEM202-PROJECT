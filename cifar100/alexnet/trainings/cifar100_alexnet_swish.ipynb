{
 "cells": [
  {
   "cell_type": "code",
   "execution_count": 1,
   "metadata": {
    "id": "-8e0tAC7e0CI"
   },
   "outputs": [],
   "source": [
    "import functools\n",
    "import numpy as np\n",
    "import tensorflow as tf\n",
    "from keras.datasets import cifar100\n",
    "from keras import Sequential\n",
    "from keras.preprocessing.image import ImageDataGenerator\n",
    "from sklearn.model_selection import train_test_split\n",
    "from keras.optimizers import SGD\n",
    "from keras.layers import Dense, Activation, Dropout, Flatten, Conv2D, MaxPooling2D, LeakyReLU\n",
    "from keras.layers.normalization import BatchNormalization\n",
    "from tensorflow.keras.utils import to_categorical\n",
    "from keras.utils.generic_utils import get_custom_objects"
   ]
  },
  {
   "cell_type": "code",
   "execution_count": 2,
   "metadata": {
    "colab": {
     "base_uri": "https://localhost:8080/"
    },
    "id": "WljAm5f0fKkw",
    "outputId": "d1658229-33fe-42a9-d173-a2a819c4c507"
   },
   "outputs": [
    {
     "name": "stdout",
     "output_type": "stream",
     "text": [
      "Downloading data from https://www.cs.toronto.edu/~kriz/cifar-100-python.tar.gz\n",
      "169009152/169001437 [==============================] - 2s 0us/step\n",
      "169017344/169001437 [==============================] - 2s 0us/step\n"
     ]
    }
   ],
   "source": [
    "(x_train, y_train), (x_test, y_test) = cifar100.load_data()\n",
    "x_train, x_val, y_train, y_val = train_test_split(x_train, y_train, test_size=.2)"
   ]
  },
  {
   "cell_type": "code",
   "execution_count": 3,
   "metadata": {
    "id": "7u2htPZHfLP2"
   },
   "outputs": [],
   "source": [
    "y_train = to_categorical(y_train)\n",
    "y_val = to_categorical(y_val)\n",
    "y_test = to_categorical(y_test)"
   ]
  },
  {
   "cell_type": "code",
   "execution_count": 4,
   "metadata": {
    "colab": {
     "base_uri": "https://localhost:8080/"
    },
    "id": "sKxXF-OFASsu",
    "outputId": "a9545029-1700-45b0-8b0b-ad6c6d17fce7"
   },
   "outputs": [
    {
     "data": {
      "text/plain": [
       "((40000, 32, 32, 3),\n",
       " (40000, 100),\n",
       " (10000, 32, 32, 3),\n",
       " (10000, 100),\n",
       " (10000, 32, 32, 3),\n",
       " (10000, 100))"
      ]
     },
     "execution_count": 4,
     "metadata": {
      "tags": []
     },
     "output_type": "execute_result"
    }
   ],
   "source": [
    "x_train.shape, y_train.shape, x_val.shape, y_val.shape, x_test.shape, y_test.shape"
   ]
  },
  {
   "cell_type": "code",
   "execution_count": 5,
   "metadata": {
    "id": "QR8VwuXy-SCk"
   },
   "outputs": [],
   "source": [
    "train_generator = ImageDataGenerator(rotation_range=2, horizontal_flip=True)\n",
    "val_generator = ImageDataGenerator(rotation_range=2, horizontal_flip=True)\n",
    "test_generator = ImageDataGenerator(rotation_range=2, horizontal_flip=True)\n",
    "\n",
    "train_generator.fit(x_train)\n",
    "val_generator.fit(x_val)\n",
    "test_generator.fit(x_test)"
   ]
  },
  {
   "cell_type": "code",
   "execution_count": 6,
   "metadata": {
    "id": "UgqsFQ16Gmz4"
   },
   "outputs": [],
   "source": [
    "def alexnet(activation):\n",
    "    AlexNet = Sequential()\n",
    "\n",
    "    AlexNet.add(Conv2D(filters=96, input_shape=(32, 32, 3), kernel_size=(11, 11), strides=(4, 4), padding='same'))\n",
    "    AlexNet.add(BatchNormalization())\n",
    "    AlexNet.add(Activation(activation))\n",
    "    AlexNet.add(MaxPooling2D(pool_size=(2, 2), strides=(2, 2), padding='same'))\n",
    "\n",
    "    AlexNet.add(Conv2D(filters=256, kernel_size=(5, 5), strides=(1, 1), padding='same'))\n",
    "    AlexNet.add(BatchNormalization())\n",
    "    AlexNet.add(Activation(activation))\n",
    "    AlexNet.add(MaxPooling2D(pool_size=(2, 2), strides=(2, 2), padding='same'))\n",
    "\n",
    "    AlexNet.add(Conv2D(filters=384, kernel_size=(3, 3), strides=(1, 1), padding='same'))\n",
    "    AlexNet.add(BatchNormalization())\n",
    "    AlexNet.add(Activation(activation))\n",
    "\n",
    "    AlexNet.add(Conv2D(filters=384, kernel_size=(3, 3), strides=(1, 1), padding='same'))\n",
    "    AlexNet.add(BatchNormalization())\n",
    "    AlexNet.add(Activation(activation))\n",
    "\n",
    "    AlexNet.add(Conv2D(filters=256, kernel_size=(3, 3), strides=(1, 1), padding='same'))\n",
    "    AlexNet.add(BatchNormalization())\n",
    "    AlexNet.add(Activation(activation))\n",
    "    AlexNet.add(MaxPooling2D(pool_size=(2, 2), strides=(2, 2), padding='same'))\n",
    "\n",
    "    AlexNet.add(Flatten())\n",
    "    AlexNet.add(Dense(4096, input_shape=(32, 32, 3)))\n",
    "    AlexNet.add(BatchNormalization())\n",
    "    AlexNet.add(Activation(activation))\n",
    "    AlexNet.add(Dropout(0.5))\n",
    "\n",
    "    AlexNet.add(Dense(4096))\n",
    "    AlexNet.add(BatchNormalization())\n",
    "    AlexNet.add(Activation(activation))\n",
    "    AlexNet.add(Dropout(0.5))\n",
    "\n",
    "    AlexNet.add(Dense(1000))\n",
    "    AlexNet.add(BatchNormalization())\n",
    "    AlexNet.add(Activation(activation))\n",
    "    AlexNet.add(Dropout(0.5))\n",
    "\n",
    "    AlexNet.add(Dense(100))\n",
    "    AlexNet.add(BatchNormalization())\n",
    "    AlexNet.add(Activation('softmax'))\n",
    "\n",
    "    return AlexNet"
   ]
  },
  {
   "cell_type": "code",
   "execution_count": 7,
   "metadata": {
    "colab": {
     "base_uri": "https://localhost:8080/"
    },
    "id": "bvLaricEJB7Y",
    "outputId": "1c754e36-ea9b-4b43-d8b9-a8ae22ffce1c"
   },
   "outputs": [
    {
     "name": "stdout",
     "output_type": "stream",
     "text": [
      "Epoch 1/50\n",
      "313/313 [==============================] - 80s 90ms/step - loss: 4.7081 - accuracy: 0.0257 - top3_acc: 0.0700 - top_k_categorical_accuracy: 0.1062 - val_loss: 4.3436 - val_accuracy: 0.0685 - val_top3_acc: 0.1487 - val_top_k_categorical_accuracy: 0.2056\n",
      "Epoch 2/50\n",
      "313/313 [==============================] - 26s 83ms/step - loss: 4.1176 - accuracy: 0.0734 - top3_acc: 0.1748 - top_k_categorical_accuracy: 0.2487 - val_loss: 3.9134 - val_accuracy: 0.1104 - val_top3_acc: 0.2359 - val_top_k_categorical_accuracy: 0.3267\n",
      "Epoch 3/50\n",
      "313/313 [==============================] - 26s 84ms/step - loss: 3.8707 - accuracy: 0.1107 - top3_acc: 0.2416 - top_k_categorical_accuracy: 0.3268 - val_loss: 3.6564 - val_accuracy: 0.1658 - val_top3_acc: 0.3245 - val_top_k_categorical_accuracy: 0.4190\n",
      "Epoch 4/50\n",
      "313/313 [==============================] - 26s 83ms/step - loss: 3.6977 - accuracy: 0.1405 - top3_acc: 0.2923 - top_k_categorical_accuracy: 0.3849 - val_loss: 3.6084 - val_accuracy: 0.1813 - val_top3_acc: 0.3422 - val_top_k_categorical_accuracy: 0.4371\n",
      "Epoch 5/50\n",
      "313/313 [==============================] - 26s 84ms/step - loss: 3.5642 - accuracy: 0.1706 - top3_acc: 0.3279 - top_k_categorical_accuracy: 0.4256 - val_loss: 3.4637 - val_accuracy: 0.1999 - val_top3_acc: 0.3670 - val_top_k_categorical_accuracy: 0.4697\n",
      "Epoch 6/50\n",
      "313/313 [==============================] - 26s 84ms/step - loss: 3.4786 - accuracy: 0.1848 - top3_acc: 0.3514 - top_k_categorical_accuracy: 0.4552 - val_loss: 3.4025 - val_accuracy: 0.2076 - val_top3_acc: 0.3855 - val_top_k_categorical_accuracy: 0.4900\n",
      "Epoch 7/50\n",
      "313/313 [==============================] - 26s 83ms/step - loss: 3.3766 - accuracy: 0.2093 - top3_acc: 0.3827 - top_k_categorical_accuracy: 0.4843 - val_loss: 3.4549 - val_accuracy: 0.1991 - val_top3_acc: 0.3638 - val_top_k_categorical_accuracy: 0.4605\n",
      "Epoch 8/50\n",
      "313/313 [==============================] - 26s 84ms/step - loss: 3.2939 - accuracy: 0.2224 - top3_acc: 0.4049 - top_k_categorical_accuracy: 0.5034 - val_loss: 3.3191 - val_accuracy: 0.2239 - val_top3_acc: 0.3997 - val_top_k_categorical_accuracy: 0.5015\n",
      "Epoch 9/50\n",
      "313/313 [==============================] - 26s 84ms/step - loss: 3.1880 - accuracy: 0.2405 - top3_acc: 0.4353 - top_k_categorical_accuracy: 0.5390 - val_loss: 3.3395 - val_accuracy: 0.2213 - val_top3_acc: 0.3890 - val_top_k_categorical_accuracy: 0.4894\n",
      "Epoch 10/50\n",
      "313/313 [==============================] - 26s 84ms/step - loss: 3.1134 - accuracy: 0.2569 - top3_acc: 0.4539 - top_k_categorical_accuracy: 0.5592 - val_loss: 3.3306 - val_accuracy: 0.2148 - val_top3_acc: 0.3907 - val_top_k_categorical_accuracy: 0.4935\n",
      "Epoch 11/50\n",
      "313/313 [==============================] - 26s 83ms/step - loss: 3.0206 - accuracy: 0.2763 - top3_acc: 0.4788 - top_k_categorical_accuracy: 0.5848 - val_loss: 3.1048 - val_accuracy: 0.2664 - val_top3_acc: 0.4546 - val_top_k_categorical_accuracy: 0.5574\n",
      "Epoch 12/50\n",
      "313/313 [==============================] - 26s 84ms/step - loss: 2.9452 - accuracy: 0.2922 - top3_acc: 0.4996 - top_k_categorical_accuracy: 0.6033 - val_loss: 2.9480 - val_accuracy: 0.2932 - val_top3_acc: 0.4878 - val_top_k_categorical_accuracy: 0.5952\n",
      "Epoch 13/50\n",
      "313/313 [==============================] - 26s 83ms/step - loss: 2.8793 - accuracy: 0.3024 - top3_acc: 0.5149 - top_k_categorical_accuracy: 0.6221 - val_loss: 3.0317 - val_accuracy: 0.2746 - val_top3_acc: 0.4652 - val_top_k_categorical_accuracy: 0.5606\n",
      "Epoch 14/50\n",
      "313/313 [==============================] - 26s 84ms/step - loss: 2.8025 - accuracy: 0.3244 - top3_acc: 0.5324 - top_k_categorical_accuracy: 0.6381 - val_loss: 2.9167 - val_accuracy: 0.2999 - val_top3_acc: 0.4963 - val_top_k_categorical_accuracy: 0.5936\n",
      "Epoch 15/50\n",
      "313/313 [==============================] - 26s 83ms/step - loss: 2.7277 - accuracy: 0.3405 - top3_acc: 0.5543 - top_k_categorical_accuracy: 0.6531 - val_loss: 2.9135 - val_accuracy: 0.3046 - val_top3_acc: 0.4955 - val_top_k_categorical_accuracy: 0.5939\n",
      "Epoch 16/50\n",
      "313/313 [==============================] - 26s 83ms/step - loss: 2.6686 - accuracy: 0.3497 - top3_acc: 0.5689 - top_k_categorical_accuracy: 0.6656 - val_loss: 2.9769 - val_accuracy: 0.2855 - val_top3_acc: 0.4658 - val_top_k_categorical_accuracy: 0.5664\n",
      "Epoch 17/50\n",
      "313/313 [==============================] - 26s 84ms/step - loss: 2.6073 - accuracy: 0.3588 - top3_acc: 0.5803 - top_k_categorical_accuracy: 0.6798 - val_loss: 2.8189 - val_accuracy: 0.3190 - val_top3_acc: 0.5191 - val_top_k_categorical_accuracy: 0.6120\n",
      "Epoch 18/50\n",
      "313/313 [==============================] - 26s 83ms/step - loss: 2.5486 - accuracy: 0.3757 - top3_acc: 0.5973 - top_k_categorical_accuracy: 0.6932 - val_loss: 2.7896 - val_accuracy: 0.3186 - val_top3_acc: 0.5142 - val_top_k_categorical_accuracy: 0.6145\n",
      "Epoch 19/50\n",
      "313/313 [==============================] - 26s 84ms/step - loss: 2.4817 - accuracy: 0.3924 - top3_acc: 0.6119 - top_k_categorical_accuracy: 0.7072 - val_loss: 2.7108 - val_accuracy: 0.3406 - val_top3_acc: 0.5383 - val_top_k_categorical_accuracy: 0.6331\n",
      "Epoch 20/50\n",
      "313/313 [==============================] - 26s 84ms/step - loss: 2.4184 - accuracy: 0.4021 - top3_acc: 0.6213 - top_k_categorical_accuracy: 0.7158 - val_loss: 2.7373 - val_accuracy: 0.3356 - val_top3_acc: 0.5336 - val_top_k_categorical_accuracy: 0.6303\n",
      "Epoch 21/50\n",
      "313/313 [==============================] - 26s 85ms/step - loss: 2.3648 - accuracy: 0.4195 - top3_acc: 0.6349 - top_k_categorical_accuracy: 0.7272 - val_loss: 2.8924 - val_accuracy: 0.3015 - val_top3_acc: 0.4954 - val_top_k_categorical_accuracy: 0.5943\n",
      "Epoch 22/50\n",
      "313/313 [==============================] - 26s 82ms/step - loss: 2.2866 - accuracy: 0.4328 - top3_acc: 0.6533 - top_k_categorical_accuracy: 0.7456 - val_loss: 2.7209 - val_accuracy: 0.3336 - val_top3_acc: 0.5341 - val_top_k_categorical_accuracy: 0.6262\n",
      "Epoch 23/50\n",
      "313/313 [==============================] - 26s 84ms/step - loss: 2.2368 - accuracy: 0.4453 - top3_acc: 0.6618 - top_k_categorical_accuracy: 0.7560 - val_loss: 2.5969 - val_accuracy: 0.3605 - val_top3_acc: 0.5647 - val_top_k_categorical_accuracy: 0.6559\n",
      "Epoch 24/50\n",
      "313/313 [==============================] - 26s 83ms/step - loss: 2.1631 - accuracy: 0.4635 - top3_acc: 0.6814 - top_k_categorical_accuracy: 0.7685 - val_loss: 2.8969 - val_accuracy: 0.3053 - val_top3_acc: 0.5024 - val_top_k_categorical_accuracy: 0.5987\n",
      "Epoch 25/50\n",
      "313/313 [==============================] - 26s 84ms/step - loss: 2.1088 - accuracy: 0.4739 - top3_acc: 0.7008 - top_k_categorical_accuracy: 0.7829 - val_loss: 2.6979 - val_accuracy: 0.3443 - val_top3_acc: 0.5385 - val_top_k_categorical_accuracy: 0.6282\n",
      "Epoch 26/50\n",
      "313/313 [==============================] - 26s 84ms/step - loss: 2.0568 - accuracy: 0.4848 - top3_acc: 0.7080 - top_k_categorical_accuracy: 0.7913 - val_loss: 2.6576 - val_accuracy: 0.3502 - val_top3_acc: 0.5457 - val_top_k_categorical_accuracy: 0.6366\n",
      "Epoch 27/50\n",
      "313/313 [==============================] - 26s 84ms/step - loss: 1.9998 - accuracy: 0.4941 - top3_acc: 0.7224 - top_k_categorical_accuracy: 0.8020 - val_loss: 2.6076 - val_accuracy: 0.3586 - val_top3_acc: 0.5603 - val_top_k_categorical_accuracy: 0.6516\n",
      "Epoch 28/50\n",
      "313/313 [==============================] - 26s 85ms/step - loss: 1.9474 - accuracy: 0.5166 - top3_acc: 0.7300 - top_k_categorical_accuracy: 0.8091 - val_loss: 2.8020 - val_accuracy: 0.3192 - val_top3_acc: 0.5145 - val_top_k_categorical_accuracy: 0.6108\n",
      "Epoch 29/50\n",
      "313/313 [==============================] - 26s 84ms/step - loss: 1.8960 - accuracy: 0.5229 - top3_acc: 0.7431 - top_k_categorical_accuracy: 0.8203 - val_loss: 2.7334 - val_accuracy: 0.3358 - val_top3_acc: 0.5384 - val_top_k_categorical_accuracy: 0.6308\n",
      "Epoch 30/50\n",
      "313/313 [==============================] - 26s 84ms/step - loss: 1.8361 - accuracy: 0.5400 - top3_acc: 0.7520 - top_k_categorical_accuracy: 0.8291 - val_loss: 2.6774 - val_accuracy: 0.3451 - val_top3_acc: 0.5471 - val_top_k_categorical_accuracy: 0.6387\n",
      "Epoch 31/50\n",
      "313/313 [==============================] - 26s 85ms/step - loss: 1.7471 - accuracy: 0.5553 - top3_acc: 0.7779 - top_k_categorical_accuracy: 0.8455 - val_loss: 2.6967 - val_accuracy: 0.3498 - val_top3_acc: 0.5479 - val_top_k_categorical_accuracy: 0.6423\n",
      "Epoch 32/50\n",
      "313/313 [==============================] - 26s 84ms/step - loss: 1.7009 - accuracy: 0.5716 - top3_acc: 0.7799 - top_k_categorical_accuracy: 0.8507 - val_loss: 2.6877 - val_accuracy: 0.3512 - val_top3_acc: 0.5463 - val_top_k_categorical_accuracy: 0.6387\n",
      "Epoch 33/50\n",
      "313/313 [==============================] - 26s 84ms/step - loss: 1.6430 - accuracy: 0.5845 - top3_acc: 0.7944 - top_k_categorical_accuracy: 0.8609 - val_loss: 2.7993 - val_accuracy: 0.3360 - val_top3_acc: 0.5305 - val_top_k_categorical_accuracy: 0.6222\n",
      "Epoch 34/50\n",
      "313/313 [==============================] - 26s 85ms/step - loss: 1.5801 - accuracy: 0.5945 - top3_acc: 0.8101 - top_k_categorical_accuracy: 0.8729 - val_loss: 2.7643 - val_accuracy: 0.3496 - val_top3_acc: 0.5381 - val_top_k_categorical_accuracy: 0.6279\n",
      "Epoch 35/50\n",
      "313/313 [==============================] - 27s 85ms/step - loss: 1.5214 - accuracy: 0.6159 - top3_acc: 0.8155 - top_k_categorical_accuracy: 0.8789 - val_loss: 2.6613 - val_accuracy: 0.3687 - val_top3_acc: 0.5604 - val_top_k_categorical_accuracy: 0.6496\n",
      "Epoch 36/50\n",
      "313/313 [==============================] - 26s 84ms/step - loss: 1.4708 - accuracy: 0.6292 - top3_acc: 0.8260 - top_k_categorical_accuracy: 0.8865 - val_loss: 2.6544 - val_accuracy: 0.3646 - val_top3_acc: 0.5553 - val_top_k_categorical_accuracy: 0.6482\n",
      "Epoch 37/50\n",
      "313/313 [==============================] - 27s 85ms/step - loss: 1.4072 - accuracy: 0.6430 - top3_acc: 0.8394 - top_k_categorical_accuracy: 0.8983 - val_loss: 2.8846 - val_accuracy: 0.3301 - val_top3_acc: 0.5180 - val_top_k_categorical_accuracy: 0.6090\n",
      "Epoch 38/50\n",
      "313/313 [==============================] - 26s 84ms/step - loss: 1.3562 - accuracy: 0.6615 - top3_acc: 0.8535 - top_k_categorical_accuracy: 0.9044 - val_loss: 2.7575 - val_accuracy: 0.3490 - val_top3_acc: 0.5454 - val_top_k_categorical_accuracy: 0.6340\n",
      "Epoch 39/50\n",
      "313/313 [==============================] - 26s 84ms/step - loss: 1.2926 - accuracy: 0.6758 - top3_acc: 0.8618 - top_k_categorical_accuracy: 0.9131 - val_loss: 2.6828 - val_accuracy: 0.3570 - val_top3_acc: 0.5524 - val_top_k_categorical_accuracy: 0.6430\n",
      "Epoch 40/50\n",
      "313/313 [==============================] - 26s 84ms/step - loss: 1.2606 - accuracy: 0.6809 - top3_acc: 0.8675 - top_k_categorical_accuracy: 0.9176 - val_loss: 2.6969 - val_accuracy: 0.3687 - val_top3_acc: 0.5620 - val_top_k_categorical_accuracy: 0.6477\n",
      "Epoch 41/50\n",
      "313/313 [==============================] - 26s 83ms/step - loss: 1.1962 - accuracy: 0.6977 - top3_acc: 0.8806 - top_k_categorical_accuracy: 0.9282 - val_loss: 2.7063 - val_accuracy: 0.3672 - val_top3_acc: 0.5577 - val_top_k_categorical_accuracy: 0.6514\n",
      "Epoch 42/50\n",
      "313/313 [==============================] - 26s 85ms/step - loss: 1.1342 - accuracy: 0.7142 - top3_acc: 0.8920 - top_k_categorical_accuracy: 0.9336 - val_loss: 2.7064 - val_accuracy: 0.3708 - val_top3_acc: 0.5651 - val_top_k_categorical_accuracy: 0.6524\n",
      "Epoch 43/50\n",
      "313/313 [==============================] - 26s 84ms/step - loss: 1.0825 - accuracy: 0.7316 - top3_acc: 0.9001 - top_k_categorical_accuracy: 0.9401 - val_loss: 2.7756 - val_accuracy: 0.3628 - val_top3_acc: 0.5525 - val_top_k_categorical_accuracy: 0.6355\n",
      "Epoch 44/50\n",
      "313/313 [==============================] - 26s 84ms/step - loss: 1.0353 - accuracy: 0.7422 - top3_acc: 0.9073 - top_k_categorical_accuracy: 0.9447 - val_loss: 2.7230 - val_accuracy: 0.3702 - val_top3_acc: 0.5622 - val_top_k_categorical_accuracy: 0.6476\n",
      "Epoch 45/50\n",
      "313/313 [==============================] - 26s 84ms/step - loss: 0.9811 - accuracy: 0.7579 - top3_acc: 0.9169 - top_k_categorical_accuracy: 0.9511 - val_loss: 2.7187 - val_accuracy: 0.3768 - val_top3_acc: 0.5697 - val_top_k_categorical_accuracy: 0.6548\n",
      "Epoch 46/50\n",
      "313/313 [==============================] - 26s 83ms/step - loss: 0.9365 - accuracy: 0.7688 - top3_acc: 0.9249 - top_k_categorical_accuracy: 0.9563 - val_loss: 2.8019 - val_accuracy: 0.3627 - val_top3_acc: 0.5520 - val_top_k_categorical_accuracy: 0.6404\n",
      "Epoch 47/50\n",
      "313/313 [==============================] - 26s 83ms/step - loss: 0.8900 - accuracy: 0.7798 - top3_acc: 0.9283 - top_k_categorical_accuracy: 0.9592 - val_loss: 2.8689 - val_accuracy: 0.3528 - val_top3_acc: 0.5389 - val_top_k_categorical_accuracy: 0.6312\n",
      "Epoch 48/50\n",
      "313/313 [==============================] - 26s 84ms/step - loss: 0.8364 - accuracy: 0.7980 - top3_acc: 0.9382 - top_k_categorical_accuracy: 0.9652 - val_loss: 2.8240 - val_accuracy: 0.3661 - val_top3_acc: 0.5504 - val_top_k_categorical_accuracy: 0.6348\n",
      "Epoch 49/50\n",
      "313/313 [==============================] - 26s 83ms/step - loss: 0.8065 - accuracy: 0.8066 - top3_acc: 0.9424 - top_k_categorical_accuracy: 0.9682 - val_loss: 2.9003 - val_accuracy: 0.3599 - val_top3_acc: 0.5472 - val_top_k_categorical_accuracy: 0.6331\n",
      "Epoch 50/50\n",
      "313/313 [==============================] - 26s 85ms/step - loss: 0.7560 - accuracy: 0.8225 - top3_acc: 0.9495 - top_k_categorical_accuracy: 0.9729 - val_loss: 3.0245 - val_accuracy: 0.3419 - val_top3_acc: 0.5222 - val_top_k_categorical_accuracy: 0.6126\n"
     ]
    }
   ],
   "source": [
    "def gelu(x):\n",
    "    return 0.5 * x * (1 + tf.tanh(tf.sqrt(2 / np.pi) * (x + 0.044715 * tf.pow(x, 3))))\n",
    "get_custom_objects().update({'gelu': Activation(gelu)})\n",
    "\n",
    "def swish(x):\n",
    "    return x * tf.sigmoid(x)\n",
    "get_custom_objects().update({'swish': Activation(swish)})\n",
    "\n",
    "get_custom_objects().update({'leaky-relu': Activation(LeakyReLU(alpha=0.2))})\n",
    "\n",
    "# act_func = ['tanh', 'relu', 'leaky-relu', 'elu', 'selu', 'gelu', 'swish']\n",
    "\n",
    "model = alexnet('swish')\n",
    "\n",
    "batch_size = 128\n",
    "epochs = 50\n",
    "\n",
    "top3_acc = functools.partial(tf.keras.metrics.top_k_categorical_accuracy, k=3)\n",
    "\n",
    "top3_acc.__name__ = 'top3_acc'\n",
    "\n",
    "model.compile(optimizer=SGD(), loss='categorical_crossentropy', metrics=['accuracy', top3_acc, 'top_k_categorical_accuracy'])\n",
    "\n",
    "history = model.fit(train_generator.flow(x_train, y_train, batch_size=batch_size), epochs=epochs,\n",
    "                      validation_data=val_generator.flow(x_val, y_val, batch_size=batch_size), verbose=1)"
   ]
  },
  {
   "cell_type": "code",
   "execution_count": 8,
   "metadata": {
    "colab": {
     "base_uri": "https://localhost:8080/"
    },
    "id": "A_eJn83kKCwL",
    "outputId": "52f41280-1563-42c7-c497-65b5186f2b62"
   },
   "outputs": [
    {
     "name": "stdout",
     "output_type": "stream",
     "text": [
      "{'loss': [4.501015663146973, 4.05163049697876, 3.8307862281799316, 3.673764944076538, 3.555211305618286, 3.454939365386963, 3.3539133071899414, 3.2672924995422363, 3.175534963607788, 3.0978543758392334, 3.0159993171691895, 2.94769287109375, 2.8718931674957275, 2.804564952850342, 2.7319037914276123, 2.669278621673584, 2.610605239868164, 2.5421602725982666, 2.4842307567596436, 2.425259590148926, 2.370404005050659, 2.3074228763580322, 2.2462804317474365, 2.1877198219299316, 2.1258702278137207, 2.0732622146606445, 2.0241758823394775, 1.9610720872879028, 1.9031386375427246, 1.8416457176208496, 1.7760933637619019, 1.7218371629714966, 1.6625697612762451, 1.6009632349014282, 1.5397469997406006, 1.4857383966445923, 1.4371771812438965, 1.3800990581512451, 1.3189727067947388, 1.2713967561721802, 1.2173657417297363, 1.1621183156967163, 1.1076565980911255, 1.0607869625091553, 1.0039924383163452, 0.9655655026435852, 0.9148514866828918, 0.8595556616783142, 0.824164867401123, 0.7728752493858337], 'accuracy': [0.03840000182390213, 0.08367499709129333, 0.11760000139474869, 0.14752499759197235, 0.1699499934911728, 0.1906999945640564, 0.21279999613761902, 0.22699999809265137, 0.24584999680519104, 0.2597000002861023, 0.27867498993873596, 0.2925499975681305, 0.3054249882698059, 0.32199999690055847, 0.3371500074863434, 0.34802499413490295, 0.3592750132083893, 0.3781000077724457, 0.3899250030517578, 0.3991999924182892, 0.414000004529953, 0.4255000054836273, 0.4395749866962433, 0.4539250135421753, 0.46834999322891235, 0.4791499972343445, 0.48867499828338623, 0.5078499913215637, 0.5182250142097473, 0.5368250012397766, 0.5483750104904175, 0.5641499757766724, 0.5772500038146973, 0.5894500017166138, 0.6084499955177307, 0.621649980545044, 0.6326000094413757, 0.6514000296592712, 0.6666499972343445, 0.678475022315979, 0.6918749809265137, 0.7056499719619751, 0.7235999703407288, 0.7325500249862671, 0.7494750022888184, 0.7596250176429749, 0.7734500169754028, 0.7892249822616577, 0.7986999750137329, 0.8153499960899353], 'top3_acc': [0.09984999895095825, 0.1914999932050705, 0.25417500734329224, 0.29910001158714294, 0.3325999975204468, 0.3599500060081482, 0.3901500105857849, 0.4128749966621399, 0.4390999972820282, 0.45707499980926514, 0.47780001163482666, 0.49595001339912415, 0.5138499736785889, 0.5319250226020813, 0.5529000163078308, 0.565625011920929, 0.5787500143051147, 0.5957249999046326, 0.6101750135421753, 0.6202750205993652, 0.6327999830245972, 0.6488500237464905, 0.6596750020980835, 0.675724983215332, 0.6915249824523926, 0.7016249895095825, 0.7135000228881836, 0.7269250154495239, 0.7399500012397766, 0.7494249939918518, 0.7676500082015991, 0.7746999859809875, 0.7903749942779541, 0.8043000102043152, 0.8124250173568726, 0.8230000138282776, 0.8321999907493591, 0.8466500043869019, 0.8561499714851379, 0.8654500246047974, 0.8751999735832214, 0.8859500288963318, 0.8956500291824341, 0.9028750061988831, 0.9113249778747559, 0.9193999767303467, 0.9240999817848206, 0.9342250227928162, 0.939050018787384, 0.9460499882698059], 'top_k_categorical_accuracy': [0.14955000579357147, 0.26864999532699585, 0.34200000762939453, 0.39160001277923584, 0.4321250021457672, 0.4606750011444092, 0.49037501215934753, 0.5141000151634216, 0.5429499745368958, 0.5637999773025513, 0.5828999876976013, 0.5999500155448914, 0.6200000047683716, 0.6358000040054321, 0.6536250114440918, 0.6632750034332275, 0.6773250102996826, 0.6930999755859375, 0.7060999870300293, 0.7143999934196472, 0.7258750200271606, 0.7419250011444092, 0.7525249719619751, 0.7632250189781189, 0.7759249806404114, 0.7855499982833862, 0.7948499917984009, 0.806850016117096, 0.8186749815940857, 0.8276249766349792, 0.8393999934196472, 0.8463749885559082, 0.8575500249862671, 0.8683000206947327, 0.877174973487854, 0.8856499791145325, 0.892799973487854, 0.9016000032424927, 0.9087250232696533, 0.9166749715805054, 0.9232500195503235, 0.9294499754905701, 0.9368500113487244, 0.9426249861717224, 0.9484249949455261, 0.953000009059906, 0.9560999870300293, 0.9628000259399414, 0.9665499925613403, 0.97017502784729], 'val_loss': [4.343563079833984, 3.913440704345703, 3.65639328956604, 3.608370780944824, 3.4636785984039307, 3.402508497238159, 3.4548585414886475, 3.3190901279449463, 3.339540719985962, 3.3305604457855225, 3.1048085689544678, 2.9479682445526123, 3.0316896438598633, 2.9166500568389893, 2.9134905338287354, 2.976886510848999, 2.8188602924346924, 2.7895517349243164, 2.710820198059082, 2.7372653484344482, 2.8923721313476562, 2.7208666801452637, 2.596877336502075, 2.8969054222106934, 2.6979000568389893, 2.657613515853882, 2.6076109409332275, 2.8020427227020264, 2.733423948287964, 2.6773667335510254, 2.696711301803589, 2.6877450942993164, 2.799309730529785, 2.7643444538116455, 2.6613333225250244, 2.654419422149658, 2.8846218585968018, 2.7575390338897705, 2.6828396320343018, 2.696901559829712, 2.706258535385132, 2.706354856491089, 2.775618553161621, 2.722972869873047, 2.7187376022338867, 2.8018851280212402, 2.8688786029815674, 2.8240203857421875, 2.9003453254699707, 3.0245320796966553], 'val_accuracy': [0.06849999725818634, 0.1103999987244606, 0.16580000519752502, 0.18129999935626984, 0.19990000128746033, 0.20759999752044678, 0.19910000264644623, 0.22390000522136688, 0.22130000591278076, 0.21480000019073486, 0.266400009393692, 0.29319998621940613, 0.27459999918937683, 0.29989999532699585, 0.3046000003814697, 0.2854999899864197, 0.3190000057220459, 0.31859999895095825, 0.34060001373291016, 0.33559998869895935, 0.30149999260902405, 0.3336000144481659, 0.3605000078678131, 0.3052999973297119, 0.3443000018596649, 0.35019999742507935, 0.358599990606308, 0.3192000091075897, 0.3357999920845032, 0.3450999855995178, 0.3497999906539917, 0.35120001435279846, 0.335999995470047, 0.3495999872684479, 0.3686999976634979, 0.3646000027656555, 0.33009999990463257, 0.3490000069141388, 0.3569999933242798, 0.3686999976634979, 0.36719998717308044, 0.3707999885082245, 0.3628000020980835, 0.3702000081539154, 0.376800000667572, 0.3626999855041504, 0.35280001163482666, 0.366100013256073, 0.35989999771118164, 0.3418999910354614], 'val_top3_acc': [0.14869999885559082, 0.23589999973773956, 0.3244999945163727, 0.34220001101493835, 0.367000013589859, 0.3855000138282776, 0.3637999892234802, 0.39969998598098755, 0.3889999985694885, 0.39070001244544983, 0.4546000063419342, 0.4878000020980835, 0.4652000069618225, 0.49630001187324524, 0.49549999833106995, 0.4657999873161316, 0.51910001039505, 0.51419997215271, 0.5382999777793884, 0.5335999727249146, 0.49540001153945923, 0.5340999960899353, 0.5647000074386597, 0.5023999810218811, 0.5385000109672546, 0.5457000136375427, 0.5602999925613403, 0.5145000219345093, 0.5383999943733215, 0.5471000075340271, 0.5479000210762024, 0.5462999939918518, 0.5304999947547913, 0.538100004196167, 0.5604000091552734, 0.5552999973297119, 0.5180000066757202, 0.5454000234603882, 0.5523999929428101, 0.5619999766349792, 0.557699978351593, 0.5651000142097473, 0.5525000095367432, 0.5622000098228455, 0.5697000026702881, 0.5519999861717224, 0.5389000177383423, 0.5504000186920166, 0.5472000241279602, 0.5221999883651733], 'val_top_k_categorical_accuracy': [0.20559999346733093, 0.32670000195503235, 0.4189999997615814, 0.43709999322891235, 0.46970000863075256, 0.49000000953674316, 0.46050000190734863, 0.5015000104904175, 0.4893999993801117, 0.4934999942779541, 0.5573999881744385, 0.5952000021934509, 0.5605999827384949, 0.5935999751091003, 0.5939000248908997, 0.5663999915122986, 0.6119999885559082, 0.6144999861717224, 0.6330999732017517, 0.630299985408783, 0.5942999720573425, 0.6262000203132629, 0.6559000015258789, 0.5986999869346619, 0.6281999945640564, 0.6366000175476074, 0.6516000032424927, 0.61080002784729, 0.6308000087738037, 0.638700008392334, 0.642300009727478, 0.638700008392334, 0.6222000122070312, 0.6279000043869019, 0.6496000289916992, 0.6481999754905701, 0.609000027179718, 0.6340000033378601, 0.6430000066757202, 0.6477000117301941, 0.6514000296592712, 0.652400016784668, 0.6355000138282776, 0.647599995136261, 0.6547999978065491, 0.6403999924659729, 0.6312000155448914, 0.6348000168800354, 0.6330999732017517, 0.6126000285148621]}\n",
      "313/313 [==============================] - 4s 7ms/step - loss: 3.0221 - accuracy: 0.3487 - top3_acc: 0.5289 - top_k_categorical_accuracy: 0.6149\n",
      "[3.022078275680542, 0.34869998693466187, 0.5289000272750854, 0.6148999929428101]\n"
     ]
    }
   ],
   "source": [
    "print(history.history)\n",
    "# y_pred = np.argmax(model.predict(x_test), axis=1)\n",
    "# y_true = np.argmax(y_test,axis=1)\n",
    "\n",
    "# print(y_pred.shape)\n",
    "# print(y_true.shape)\n",
    "\n",
    "# print(np.sum(y_pred == y_true) / y_pred.shape[0])\n",
    "\n",
    "print(model.evaluate(x_test, y_test))"
   ]
  }
 ],
 "metadata": {
  "accelerator": "GPU",
  "colab": {
   "collapsed_sections": [],
   "name": "cifar100_alexnet_tanh.ipynb",
   "provenance": []
  },
  "kernelspec": {
   "display_name": "Python 3 (ipykernel)",
   "language": "python",
   "name": "python3"
  },
  "language_info": {
   "codemirror_mode": {
    "name": "ipython",
    "version": 3
   },
   "file_extension": ".py",
   "mimetype": "text/x-python",
   "name": "python",
   "nbconvert_exporter": "python",
   "pygments_lexer": "ipython3",
   "version": "3.9.0"
  }
 },
 "nbformat": 4,
 "nbformat_minor": 1
}

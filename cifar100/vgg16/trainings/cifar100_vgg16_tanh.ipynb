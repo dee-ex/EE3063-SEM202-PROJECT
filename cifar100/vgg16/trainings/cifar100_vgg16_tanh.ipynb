{
 "cells": [
  {
   "cell_type": "code",
   "execution_count": 1,
   "metadata": {
    "id": "-8e0tAC7e0CI"
   },
   "outputs": [],
   "source": [
    "import functools\n",
    "import numpy as np\n",
    "import tensorflow as tf\n",
    "from keras.datasets import cifar100\n",
    "from keras import Sequential\n",
    "from keras.preprocessing.image import ImageDataGenerator\n",
    "from sklearn.model_selection import train_test_split\n",
    "from keras.optimizers import SGD\n",
    "from keras.layers import Dense, Activation, Dropout, Flatten, Conv2D, MaxPooling2D, LeakyReLU\n",
    "from keras.layers.normalization import BatchNormalization\n",
    "from tensorflow.keras.utils import to_categorical\n",
    "from keras.utils.generic_utils import get_custom_objects\n",
    "from keras.initializers import RandomNormal, GlorotNormal\n",
    "from keras import regularizers"
   ]
  },
  {
   "cell_type": "code",
   "execution_count": 2,
   "metadata": {
    "id": "WljAm5f0fKkw"
   },
   "outputs": [],
   "source": [
    "(x_train, y_train), (x_test, y_test) = cifar100.load_data()\n",
    "x_train, x_val, y_train, y_val = train_test_split(x_train, y_train, test_size=.2)"
   ]
  },
  {
   "cell_type": "code",
   "execution_count": 3,
   "metadata": {
    "id": "7u2htPZHfLP2"
   },
   "outputs": [],
   "source": [
    "y_train = to_categorical(y_train)\n",
    "y_val = to_categorical(y_val)\n",
    "y_test = to_categorical(y_test)"
   ]
  },
  {
   "cell_type": "code",
   "execution_count": 4,
   "metadata": {
    "colab": {
     "base_uri": "https://localhost:8080/"
    },
    "id": "sKxXF-OFASsu",
    "outputId": "64ab18e5-867e-436a-dc30-39b5407dc507"
   },
   "outputs": [
    {
     "data": {
      "text/plain": [
       "((40000, 32, 32, 3),\n",
       " (40000, 100),\n",
       " (10000, 32, 32, 3),\n",
       " (10000, 100),\n",
       " (10000, 32, 32, 3),\n",
       " (10000, 100))"
      ]
     },
     "execution_count": 4,
     "metadata": {
      "tags": []
     },
     "output_type": "execute_result"
    }
   ],
   "source": [
    "x_train.shape, y_train.shape, x_val.shape, y_val.shape, x_test.shape, y_test.shape"
   ]
  },
  {
   "cell_type": "code",
   "execution_count": 5,
   "metadata": {
    "id": "QR8VwuXy-SCk"
   },
   "outputs": [],
   "source": [
    "train_generator = ImageDataGenerator(rotation_range=2, horizontal_flip=True)\n",
    "val_generator = ImageDataGenerator(rotation_range=2, horizontal_flip=True)\n",
    "test_generator = ImageDataGenerator(rotation_range=2, horizontal_flip=True)\n",
    "\n",
    "train_generator.fit(x_train)\n",
    "val_generator.fit(x_val)\n",
    "test_generator.fit(x_test)"
   ]
  },
  {
   "cell_type": "code",
   "execution_count": 6,
   "metadata": {
    "id": "UgqsFQ16Gmz4"
   },
   "outputs": [],
   "source": [
    "def vgg16(act):\n",
    "    model = Sequential()\n",
    "\n",
    "    model.add(Conv2D(64, (3, 3), padding='same',\n",
    "                        input_shape=(32, 32, 3), kernel_regularizer=regularizers.l2(0.0005)))\n",
    "    model.add(Activation(act))\n",
    "    model.add(BatchNormalization())\n",
    "    model.add(Dropout(0.3))\n",
    "\n",
    "    model.add(Conv2D(64, (3, 3), padding='same', kernel_regularizer=regularizers.l2(0.0005)))\n",
    "    model.add(Activation(act))\n",
    "    model.add(BatchNormalization())\n",
    "\n",
    "    model.add(MaxPooling2D(pool_size=(2, 2)))\n",
    "\n",
    "    model.add(Conv2D(128, (3, 3), padding='same', kernel_regularizer=regularizers.l2(0.0005)))\n",
    "    model.add(Activation(act))\n",
    "    model.add(BatchNormalization())\n",
    "    model.add(Dropout(0.4))\n",
    "\n",
    "    model.add(Conv2D(128, (3, 3), padding='same', kernel_regularizer=regularizers.l2(0.0005)))\n",
    "    model.add(Activation(act))\n",
    "    model.add(BatchNormalization())\n",
    "\n",
    "    model.add(MaxPooling2D(pool_size=(2, 2)))\n",
    "\n",
    "    model.add(Conv2D(256, (3, 3), padding='same', kernel_regularizer=regularizers.l2(0.0005)))\n",
    "    model.add(Activation(act))\n",
    "    model.add(BatchNormalization())\n",
    "    model.add(Dropout(0.4))\n",
    "\n",
    "    model.add(Conv2D(256, (3, 3), padding='same', kernel_regularizer=regularizers.l2(0.0005)))\n",
    "    model.add(Activation(act))\n",
    "    model.add(BatchNormalization())\n",
    "    model.add(Dropout(0.4))\n",
    "\n",
    "    model.add(Conv2D(256, (3, 3), padding='same', kernel_regularizer=regularizers.l2(0.0005)))\n",
    "    model.add(Activation(act))\n",
    "    model.add(BatchNormalization())\n",
    "\n",
    "    model.add(MaxPooling2D(pool_size=(2, 2)))\n",
    "\n",
    "\n",
    "    model.add(Conv2D(512, (3, 3), padding='same', kernel_regularizer=regularizers.l2(0.0005)))\n",
    "    model.add(Activation(act))\n",
    "    model.add(BatchNormalization())\n",
    "    model.add(Dropout(0.4))\n",
    "\n",
    "    model.add(Conv2D(512, (3, 3), padding='same', kernel_regularizer=regularizers.l2(0.0005)))\n",
    "    model.add(Activation(act))\n",
    "    model.add(BatchNormalization())\n",
    "    model.add(Dropout(0.4))\n",
    "\n",
    "    model.add(Conv2D(512, (3, 3), padding='same', kernel_regularizer=regularizers.l2(0.0005)))\n",
    "    model.add(Activation(act))\n",
    "    model.add(BatchNormalization())\n",
    "\n",
    "    model.add(MaxPooling2D(pool_size=(2, 2)))\n",
    "\n",
    "\n",
    "    model.add(Conv2D(512, (3, 3), padding='same', kernel_regularizer=regularizers.l2(0.0005)))\n",
    "    model.add(Activation(act))\n",
    "    model.add(BatchNormalization())\n",
    "    model.add(Dropout(0.4))\n",
    "\n",
    "    model.add(Conv2D(512, (3, 3), padding='same', kernel_regularizer=regularizers.l2(0.0005)))\n",
    "    model.add(Activation(act))\n",
    "    model.add(BatchNormalization())\n",
    "    model.add(Dropout(0.4))\n",
    "\n",
    "    model.add(Conv2D(512, (3, 3), padding='same', kernel_regularizer=regularizers.l2(0.0005)))\n",
    "    model.add(Activation(act))\n",
    "    model.add(BatchNormalization())\n",
    "\n",
    "    model.add(MaxPooling2D(pool_size=(2, 2)))\n",
    "    model.add(Dropout(0.5))\n",
    "\n",
    "    model.add(Flatten())\n",
    "    model.add(Dense(512, kernel_regularizer=regularizers.l2(0.0005)))\n",
    "    model.add(Activation(act))\n",
    "    model.add(BatchNormalization())\n",
    "\n",
    "    model.add(Dropout(0.5))\n",
    "    model.add(Dense(100))\n",
    "    model.add(Activation('softmax'))\n",
    "\n",
    "    return model"
   ]
  },
  {
   "cell_type": "code",
   "execution_count": 7,
   "metadata": {
    "colab": {
     "base_uri": "https://localhost:8080/"
    },
    "id": "bvLaricEJB7Y",
    "outputId": "8f5f6964-ef30-4615-ac9b-4a2399010795"
   },
   "outputs": [
    {
     "name": "stdout",
     "output_type": "stream",
     "text": [
      "Epoch 1/50\n",
      "313/313 [==============================] - 56s 107ms/step - loss: 8.2756 - accuracy: 0.0110 - top3_acc: 0.0316 - top_k_categorical_accuracy: 0.0517 - val_loss: 6.8926 - val_accuracy: 0.0087 - val_top3_acc: 0.0304 - val_top_k_categorical_accuracy: 0.0489\n",
      "Epoch 2/50\n",
      "313/313 [==============================] - 30s 96ms/step - loss: 7.9894 - accuracy: 0.0099 - top3_acc: 0.0296 - top_k_categorical_accuracy: 0.0485 - val_loss: 6.8761 - val_accuracy: 0.0087 - val_top3_acc: 0.0277 - val_top_k_categorical_accuracy: 0.0460\n",
      "Epoch 3/50\n",
      "313/313 [==============================] - 30s 95ms/step - loss: 7.7662 - accuracy: 0.0097 - top3_acc: 0.0298 - top_k_categorical_accuracy: 0.0516 - val_loss: 6.8630 - val_accuracy: 0.0097 - val_top3_acc: 0.0272 - val_top_k_categorical_accuracy: 0.0482\n",
      "Epoch 4/50\n",
      "313/313 [==============================] - 31s 99ms/step - loss: 7.5764 - accuracy: 0.0101 - top3_acc: 0.0309 - top_k_categorical_accuracy: 0.0498 - val_loss: 6.8317 - val_accuracy: 0.0085 - val_top3_acc: 0.0286 - val_top_k_categorical_accuracy: 0.0471\n",
      "Epoch 5/50\n",
      "313/313 [==============================] - 30s 97ms/step - loss: 7.4210 - accuracy: 0.0105 - top3_acc: 0.0322 - top_k_categorical_accuracy: 0.0515 - val_loss: 6.7991 - val_accuracy: 0.0087 - val_top3_acc: 0.0300 - val_top_k_categorical_accuracy: 0.0476\n",
      "Epoch 6/50\n",
      "313/313 [==============================] - 29s 94ms/step - loss: 7.3314 - accuracy: 0.0104 - top3_acc: 0.0312 - top_k_categorical_accuracy: 0.0515 - val_loss: 6.7837 - val_accuracy: 0.0081 - val_top3_acc: 0.0281 - val_top_k_categorical_accuracy: 0.0426\n",
      "Epoch 7/50\n",
      "313/313 [==============================] - 31s 99ms/step - loss: 7.2646 - accuracy: 0.0101 - top3_acc: 0.0291 - top_k_categorical_accuracy: 0.0490 - val_loss: 6.7746 - val_accuracy: 0.0101 - val_top3_acc: 0.0284 - val_top_k_categorical_accuracy: 0.0453\n",
      "Epoch 8/50\n",
      "313/313 [==============================] - 29s 93ms/step - loss: 7.1796 - accuracy: 0.0112 - top3_acc: 0.0298 - top_k_categorical_accuracy: 0.0503 - val_loss: 6.7425 - val_accuracy: 0.0098 - val_top3_acc: 0.0292 - val_top_k_categorical_accuracy: 0.0472\n",
      "Epoch 9/50\n",
      "313/313 [==============================] - 30s 97ms/step - loss: 7.1082 - accuracy: 0.0101 - top3_acc: 0.0319 - top_k_categorical_accuracy: 0.0531 - val_loss: 6.7244 - val_accuracy: 0.0097 - val_top3_acc: 0.0281 - val_top_k_categorical_accuracy: 0.0488\n",
      "Epoch 10/50\n",
      "313/313 [==============================] - 29s 94ms/step - loss: 7.0641 - accuracy: 0.0101 - top3_acc: 0.0297 - top_k_categorical_accuracy: 0.0503 - val_loss: 6.7162 - val_accuracy: 0.0110 - val_top3_acc: 0.0294 - val_top_k_categorical_accuracy: 0.0489\n",
      "Epoch 11/50\n",
      "313/313 [==============================] - 31s 98ms/step - loss: 7.0106 - accuracy: 0.0104 - top3_acc: 0.0314 - top_k_categorical_accuracy: 0.0510 - val_loss: 6.6880 - val_accuracy: 0.0109 - val_top3_acc: 0.0305 - val_top_k_categorical_accuracy: 0.0473\n",
      "Epoch 12/50\n",
      "313/313 [==============================] - 29s 94ms/step - loss: 6.9822 - accuracy: 0.0101 - top3_acc: 0.0283 - top_k_categorical_accuracy: 0.0471 - val_loss: 6.6737 - val_accuracy: 0.0078 - val_top3_acc: 0.0252 - val_top_k_categorical_accuracy: 0.0462\n",
      "Epoch 13/50\n",
      "313/313 [==============================] - 31s 99ms/step - loss: 6.9230 - accuracy: 0.0110 - top3_acc: 0.0315 - top_k_categorical_accuracy: 0.0522 - val_loss: 6.6583 - val_accuracy: 0.0078 - val_top3_acc: 0.0265 - val_top_k_categorical_accuracy: 0.0426\n",
      "Epoch 14/50\n",
      "313/313 [==============================] - 29s 94ms/step - loss: 6.8905 - accuracy: 0.0106 - top3_acc: 0.0301 - top_k_categorical_accuracy: 0.0514 - val_loss: 6.6430 - val_accuracy: 0.0088 - val_top3_acc: 0.0275 - val_top_k_categorical_accuracy: 0.0490\n",
      "Epoch 15/50\n",
      "313/313 [==============================] - 31s 98ms/step - loss: 6.8618 - accuracy: 0.0106 - top3_acc: 0.0301 - top_k_categorical_accuracy: 0.0493 - val_loss: 6.6289 - val_accuracy: 0.0087 - val_top3_acc: 0.0274 - val_top_k_categorical_accuracy: 0.0463\n",
      "Epoch 16/50\n",
      "313/313 [==============================] - 31s 99ms/step - loss: 6.8219 - accuracy: 0.0092 - top3_acc: 0.0295 - top_k_categorical_accuracy: 0.0476 - val_loss: 6.6181 - val_accuracy: 0.0087 - val_top3_acc: 0.0271 - val_top_k_categorical_accuracy: 0.0460\n",
      "Epoch 17/50\n",
      "313/313 [==============================] - 30s 95ms/step - loss: 6.7957 - accuracy: 0.0100 - top3_acc: 0.0308 - top_k_categorical_accuracy: 0.0513 - val_loss: 6.6048 - val_accuracy: 0.0087 - val_top3_acc: 0.0251 - val_top_k_categorical_accuracy: 0.0442\n",
      "Epoch 18/50\n",
      "313/313 [==============================] - 30s 97ms/step - loss: 6.7698 - accuracy: 0.0090 - top3_acc: 0.0294 - top_k_categorical_accuracy: 0.0503 - val_loss: 6.5898 - val_accuracy: 0.0097 - val_top3_acc: 0.0278 - val_top_k_categorical_accuracy: 0.0443\n",
      "Epoch 19/50\n",
      "313/313 [==============================] - 30s 97ms/step - loss: 6.7444 - accuracy: 0.0107 - top3_acc: 0.0292 - top_k_categorical_accuracy: 0.0500 - val_loss: 6.5786 - val_accuracy: 0.0085 - val_top3_acc: 0.0283 - val_top_k_categorical_accuracy: 0.0486\n",
      "Epoch 20/50\n",
      "313/313 [==============================] - 30s 94ms/step - loss: 6.7204 - accuracy: 0.0099 - top3_acc: 0.0312 - top_k_categorical_accuracy: 0.0497 - val_loss: 6.5634 - val_accuracy: 0.0072 - val_top3_acc: 0.0267 - val_top_k_categorical_accuracy: 0.0465\n",
      "Epoch 21/50\n",
      "313/313 [==============================] - 30s 97ms/step - loss: 6.6990 - accuracy: 0.0096 - top3_acc: 0.0288 - top_k_categorical_accuracy: 0.0477 - val_loss: 6.5512 - val_accuracy: 0.0089 - val_top3_acc: 0.0270 - val_top_k_categorical_accuracy: 0.0473\n",
      "Epoch 22/50\n",
      "313/313 [==============================] - 29s 92ms/step - loss: 6.6767 - accuracy: 0.0106 - top3_acc: 0.0300 - top_k_categorical_accuracy: 0.0492 - val_loss: 6.5384 - val_accuracy: 0.0090 - val_top3_acc: 0.0291 - val_top_k_categorical_accuracy: 0.0472\n",
      "Epoch 23/50\n",
      "313/313 [==============================] - 31s 98ms/step - loss: 6.6596 - accuracy: 0.0101 - top3_acc: 0.0293 - top_k_categorical_accuracy: 0.0499 - val_loss: 6.5266 - val_accuracy: 0.0083 - val_top3_acc: 0.0285 - val_top_k_categorical_accuracy: 0.0466\n",
      "Epoch 24/50\n",
      "313/313 [==============================] - 29s 94ms/step - loss: 6.6374 - accuracy: 0.0099 - top3_acc: 0.0303 - top_k_categorical_accuracy: 0.0490 - val_loss: 6.5142 - val_accuracy: 0.0092 - val_top3_acc: 0.0282 - val_top_k_categorical_accuracy: 0.0477\n",
      "Epoch 25/50\n",
      "313/313 [==============================] - 31s 98ms/step - loss: 6.6230 - accuracy: 0.0095 - top3_acc: 0.0290 - top_k_categorical_accuracy: 0.0494 - val_loss: 6.5017 - val_accuracy: 0.0080 - val_top3_acc: 0.0280 - val_top_k_categorical_accuracy: 0.0471\n",
      "Epoch 26/50\n",
      "313/313 [==============================] - 31s 98ms/step - loss: 6.5957 - accuracy: 0.0097 - top3_acc: 0.0293 - top_k_categorical_accuracy: 0.0482 - val_loss: 6.4903 - val_accuracy: 0.0092 - val_top3_acc: 0.0290 - val_top_k_categorical_accuracy: 0.0477\n",
      "Epoch 27/50\n",
      "313/313 [==============================] - 29s 94ms/step - loss: 6.5833 - accuracy: 0.0101 - top3_acc: 0.0301 - top_k_categorical_accuracy: 0.0485 - val_loss: 6.4792 - val_accuracy: 0.0092 - val_top3_acc: 0.0281 - val_top_k_categorical_accuracy: 0.0469\n",
      "Epoch 28/50\n",
      "313/313 [==============================] - 30s 96ms/step - loss: 6.5638 - accuracy: 0.0093 - top3_acc: 0.0296 - top_k_categorical_accuracy: 0.0512 - val_loss: 6.4674 - val_accuracy: 0.0102 - val_top3_acc: 0.0294 - val_top_k_categorical_accuracy: 0.0486\n",
      "Epoch 29/50\n",
      "313/313 [==============================] - 30s 95ms/step - loss: 6.5488 - accuracy: 0.0088 - top3_acc: 0.0291 - top_k_categorical_accuracy: 0.0481 - val_loss: 6.4558 - val_accuracy: 0.0091 - val_top3_acc: 0.0269 - val_top_k_categorical_accuracy: 0.0479\n",
      "Epoch 30/50\n",
      "313/313 [==============================] - 30s 95ms/step - loss: 6.5299 - accuracy: 0.0103 - top3_acc: 0.0298 - top_k_categorical_accuracy: 0.0497 - val_loss: 6.4440 - val_accuracy: 0.0102 - val_top3_acc: 0.0287 - val_top_k_categorical_accuracy: 0.0497\n",
      "Epoch 31/50\n",
      "313/313 [==============================] - 30s 96ms/step - loss: 6.5132 - accuracy: 0.0084 - top3_acc: 0.0289 - top_k_categorical_accuracy: 0.0492 - val_loss: 6.4322 - val_accuracy: 0.0095 - val_top3_acc: 0.0282 - val_top_k_categorical_accuracy: 0.0473\n",
      "Epoch 32/50\n",
      "313/313 [==============================] - 30s 94ms/step - loss: 6.4940 - accuracy: 0.0102 - top3_acc: 0.0298 - top_k_categorical_accuracy: 0.0487 - val_loss: 6.4212 - val_accuracy: 0.0101 - val_top3_acc: 0.0289 - val_top_k_categorical_accuracy: 0.0476\n",
      "Epoch 33/50\n",
      "313/313 [==============================] - 31s 98ms/step - loss: 6.4865 - accuracy: 0.0094 - top3_acc: 0.0285 - top_k_categorical_accuracy: 0.0479 - val_loss: 6.4097 - val_accuracy: 0.0095 - val_top3_acc: 0.0279 - val_top_k_categorical_accuracy: 0.0466\n",
      "Epoch 34/50\n",
      "313/313 [==============================] - 29s 93ms/step - loss: 6.4688 - accuracy: 0.0099 - top3_acc: 0.0302 - top_k_categorical_accuracy: 0.0515 - val_loss: 6.3977 - val_accuracy: 0.0086 - val_top3_acc: 0.0277 - val_top_k_categorical_accuracy: 0.0462\n",
      "Epoch 35/50\n",
      "313/313 [==============================] - 31s 98ms/step - loss: 6.4542 - accuracy: 0.0096 - top3_acc: 0.0293 - top_k_categorical_accuracy: 0.0489 - val_loss: 6.3863 - val_accuracy: 0.0091 - val_top3_acc: 0.0255 - val_top_k_categorical_accuracy: 0.0464\n",
      "Epoch 36/50\n",
      "313/313 [==============================] - 31s 98ms/step - loss: 6.4412 - accuracy: 0.0092 - top3_acc: 0.0294 - top_k_categorical_accuracy: 0.0494 - val_loss: 6.3748 - val_accuracy: 0.0092 - val_top3_acc: 0.0266 - val_top_k_categorical_accuracy: 0.0458\n",
      "Epoch 37/50\n",
      "313/313 [==============================] - 29s 93ms/step - loss: 6.4249 - accuracy: 0.0095 - top3_acc: 0.0285 - top_k_categorical_accuracy: 0.0490 - val_loss: 6.3644 - val_accuracy: 0.0118 - val_top3_acc: 0.0268 - val_top_k_categorical_accuracy: 0.0454\n",
      "Epoch 38/50\n",
      "313/313 [==============================] - 31s 98ms/step - loss: 6.4110 - accuracy: 0.0104 - top3_acc: 0.0321 - top_k_categorical_accuracy: 0.0512 - val_loss: 6.3536 - val_accuracy: 0.0072 - val_top3_acc: 0.0263 - val_top_k_categorical_accuracy: 0.0433\n",
      "Epoch 39/50\n",
      "313/313 [==============================] - 30s 95ms/step - loss: 6.3963 - accuracy: 0.0108 - top3_acc: 0.0308 - top_k_categorical_accuracy: 0.0498 - val_loss: 6.3425 - val_accuracy: 0.0089 - val_top3_acc: 0.0255 - val_top_k_categorical_accuracy: 0.0447\n",
      "Epoch 40/50\n",
      "313/313 [==============================] - 30s 96ms/step - loss: 6.3844 - accuracy: 0.0095 - top3_acc: 0.0279 - top_k_categorical_accuracy: 0.0484 - val_loss: 6.3311 - val_accuracy: 0.0097 - val_top3_acc: 0.0284 - val_top_k_categorical_accuracy: 0.0460\n",
      "Epoch 41/50\n",
      "313/313 [==============================] - 30s 95ms/step - loss: 6.3746 - accuracy: 0.0102 - top3_acc: 0.0287 - top_k_categorical_accuracy: 0.0487 - val_loss: 6.3203 - val_accuracy: 0.0091 - val_top3_acc: 0.0271 - val_top_k_categorical_accuracy: 0.0462\n",
      "Epoch 42/50\n",
      "313/313 [==============================] - 30s 95ms/step - loss: 6.3622 - accuracy: 0.0102 - top3_acc: 0.0300 - top_k_categorical_accuracy: 0.0482 - val_loss: 6.3096 - val_accuracy: 0.0097 - val_top3_acc: 0.0272 - val_top_k_categorical_accuracy: 0.0467\n",
      "Epoch 43/50\n",
      "313/313 [==============================] - 31s 98ms/step - loss: 6.3484 - accuracy: 0.0096 - top3_acc: 0.0266 - top_k_categorical_accuracy: 0.0478 - val_loss: 6.2991 - val_accuracy: 0.0089 - val_top3_acc: 0.0276 - val_top_k_categorical_accuracy: 0.0450\n",
      "Epoch 44/50\n",
      "313/313 [==============================] - 29s 93ms/step - loss: 6.3349 - accuracy: 0.0102 - top3_acc: 0.0302 - top_k_categorical_accuracy: 0.0501 - val_loss: 6.2884 - val_accuracy: 0.0095 - val_top3_acc: 0.0263 - val_top_k_categorical_accuracy: 0.0456\n",
      "Epoch 45/50\n",
      "313/313 [==============================] - 31s 98ms/step - loss: 6.3238 - accuracy: 0.0104 - top3_acc: 0.0307 - top_k_categorical_accuracy: 0.0519 - val_loss: 6.2780 - val_accuracy: 0.0089 - val_top3_acc: 0.0271 - val_top_k_categorical_accuracy: 0.0469\n",
      "Epoch 46/50\n",
      "313/313 [==============================] - 29s 93ms/step - loss: 6.3098 - accuracy: 0.0093 - top3_acc: 0.0304 - top_k_categorical_accuracy: 0.0502 - val_loss: 6.2677 - val_accuracy: 0.0087 - val_top3_acc: 0.0266 - val_top_k_categorical_accuracy: 0.0457\n",
      "Epoch 47/50\n",
      "313/313 [==============================] - 31s 99ms/step - loss: 6.2958 - accuracy: 0.0111 - top3_acc: 0.0324 - top_k_categorical_accuracy: 0.0534 - val_loss: 6.2572 - val_accuracy: 0.0099 - val_top3_acc: 0.0279 - val_top_k_categorical_accuracy: 0.0463\n",
      "Epoch 48/50\n",
      "313/313 [==============================] - 31s 99ms/step - loss: 6.2859 - accuracy: 0.0109 - top3_acc: 0.0300 - top_k_categorical_accuracy: 0.0515 - val_loss: 6.2468 - val_accuracy: 0.0099 - val_top3_acc: 0.0295 - val_top_k_categorical_accuracy: 0.0470\n",
      "Epoch 49/50\n",
      "313/313 [==============================] - 29s 93ms/step - loss: 6.2748 - accuracy: 0.0108 - top3_acc: 0.0304 - top_k_categorical_accuracy: 0.0507 - val_loss: 6.2364 - val_accuracy: 0.0099 - val_top3_acc: 0.0278 - val_top_k_categorical_accuracy: 0.0477\n",
      "Epoch 50/50\n",
      "313/313 [==============================] - 30s 97ms/step - loss: 6.2634 - accuracy: 0.0097 - top3_acc: 0.0299 - top_k_categorical_accuracy: 0.0508 - val_loss: 6.2258 - val_accuracy: 0.0102 - val_top3_acc: 0.0281 - val_top_k_categorical_accuracy: 0.0462\n"
     ]
    }
   ],
   "source": [
    "def gelu(x):\n",
    "    return 0.5 * x * (1 + tf.tanh(tf.sqrt(2 / np.pi) * (x + 0.044715 * tf.pow(x, 3))))\n",
    "get_custom_objects().update({'gelu': Activation(gelu)})\n",
    "\n",
    "def swish(x):\n",
    "    return x * tf.sigmoid(x)\n",
    "get_custom_objects().update({'swish': Activation(swish)})\n",
    "\n",
    "get_custom_objects().update({'leaky-relu': Activation(LeakyReLU(alpha=0.2))})\n",
    "\n",
    "# act_func = ['tanh', 'relu', 'leaky-relu', 'elu', 'selu', 'gelu', 'swish']\n",
    "\n",
    "model = vgg16('tanh')\n",
    "\n",
    "batch_size = 128\n",
    "epochs = 50\n",
    "\n",
    "top3_acc = functools.partial(tf.keras.metrics.top_k_categorical_accuracy, k=3)\n",
    "\n",
    "top3_acc.__name__ = 'top3_acc'\n",
    "\n",
    "model.compile(optimizer=SGD(), loss='categorical_crossentropy', metrics=['accuracy', top3_acc, 'top_k_categorical_accuracy'])\n",
    "\n",
    "history = model.fit(train_generator.flow(x_train, y_train, batch_size=batch_size), epochs=epochs,\n",
    "                      validation_data=val_generator.flow(x_val, y_val, batch_size=batch_size), verbose=1)"
   ]
  },
  {
   "cell_type": "code",
   "execution_count": 8,
   "metadata": {
    "colab": {
     "base_uri": "https://localhost:8080/"
    },
    "id": "A_eJn83kKCwL",
    "outputId": "5b249405-48ce-4982-8ba5-74fe9ae81aaf"
   },
   "outputs": [
    {
     "name": "stdout",
     "output_type": "stream",
     "text": [
      "{'loss': [8.200616836547852, 7.93467903137207, 7.718003273010254, 7.539983749389648, 7.405293941497803, 7.321521759033203, 7.239022731781006, 7.167513370513916, 7.101108551025391, 7.045865058898926, 7.0007548332214355, 6.962065696716309, 6.913015842437744, 6.87953519821167, 6.855572700500488, 6.816949367523193, 6.787607669830322, 6.762834548950195, 6.7399163246154785, 6.71868371963501, 6.694786071777344, 6.669783592224121, 6.65110445022583, 6.633155345916748, 6.614596843719482, 6.595661640167236, 6.578643798828125, 6.558106422424316, 6.543043613433838, 6.52556037902832, 6.508054733276367, 6.491768836975098, 6.482688903808594, 6.466277122497559, 6.451168060302734, 6.437562942504883, 6.419929504394531, 6.4073944091796875, 6.3931169509887695, 6.381327152252197, 6.371471881866455, 6.359565734863281, 6.343942642211914, 6.331972599029541, 6.320064067840576, 6.307910442352295, 6.293668270111084, 6.2826151847839355, 6.273346424102783, 6.260302543640137], 'accuracy': [0.010350000113248825, 0.010200000368058681, 0.009650000371038914, 0.010425000451505184, 0.010374999605119228, 0.010075000114738941, 0.010224999859929085, 0.010499999858438969, 0.009549999609589577, 0.00982499960809946, 0.009650000371038914, 0.009999999776482582, 0.010374999605119228, 0.010300000198185444, 0.010300000198185444, 0.009475000202655792, 0.010324999690055847, 0.009700000286102295, 0.010200000368058681, 0.00989999994635582, 0.009800000116229057, 0.01054999977350235, 0.010625000111758709, 0.010224999859929085, 0.009949999861419201, 0.009800000116229057, 0.009399999864399433, 0.009999999776482582, 0.008799999952316284, 0.010774999856948853, 0.009150000289082527, 0.010724999941885471, 0.009674999862909317, 0.009975000284612179, 0.009850000031292439, 0.009575000032782555, 0.009949999861419201, 0.009624999947845936, 0.010700000450015068, 0.009600000455975533, 0.01002500019967556, 0.010125000029802322, 0.009975000284612179, 0.00989999994635582, 0.009800000116229057, 0.009449999779462814, 0.010649999603629112, 0.01075000036507845, 0.009949999861419201, 0.009800000116229057], 'top3_acc': [0.03112499974668026, 0.029874999076128006, 0.030124999582767487, 0.030625000596046448, 0.031550001353025436, 0.03060000017285347, 0.029924999922513962, 0.028975000604987144, 0.030799999833106995, 0.02995000034570694, 0.029874999076128006, 0.030249999836087227, 0.03087499924004078, 0.030300000682473183, 0.02979999966919422, 0.029924999922513962, 0.03060000017285347, 0.03044999949634075, 0.029374999925494194, 0.028975000604987144, 0.029075000435113907, 0.030275000259280205, 0.030300000682473183, 0.029500000178813934, 0.030549999326467514, 0.02917500026524067, 0.029750000685453415, 0.029975000768899918, 0.02892499975860119, 0.030574999749660492, 0.02944999933242798, 0.030500000342726707, 0.028850000351667404, 0.02995000034570694, 0.02942500077188015, 0.030050000175833702, 0.029725000262260437, 0.029474999755620956, 0.03087499924004078, 0.02852500043809414, 0.028824999928474426, 0.029774999246001244, 0.02877499908208847, 0.029874999076128006, 0.02954999916255474, 0.02957499958574772, 0.031075000762939453, 0.02979999966919422, 0.02957499958574772, 0.02930000051856041], 'top_k_categorical_accuracy': [0.05112500116229057, 0.04912500083446503, 0.05009999871253967, 0.04977500066161156, 0.05252499878406525, 0.0505249984562397, 0.0502999983727932, 0.048700001090765, 0.052149999886751175, 0.050599999725818634, 0.050450000911951065, 0.049550000578165054, 0.05009999871253967, 0.05042500048875809, 0.049525000154972076, 0.04910000041127205, 0.050725001841783524, 0.05130000039935112, 0.04944999888539314, 0.04727499932050705, 0.04857499897480011, 0.05002500116825104, 0.05054999887943268, 0.04872500151395798, 0.05012499913573265, 0.04712500050663948, 0.04845000058412552, 0.05094999819993973, 0.04882499948143959, 0.050574999302625656, 0.04895000159740448, 0.0497249998152256, 0.04782500118017197, 0.050850000232458115, 0.04917500168085098, 0.05040000006556511, 0.05065000057220459, 0.04910000041127205, 0.050599999725818634, 0.04852500185370445, 0.04884999990463257, 0.04852500185370445, 0.048374999314546585, 0.049024999141693115, 0.050074998289346695, 0.04977500066161156, 0.05195000022649765, 0.05104999989271164, 0.04922499880194664, 0.04912500083446503], 'val_loss': [6.89263916015625, 6.87607479095459, 6.863039016723633, 6.831721305847168, 6.799081802368164, 6.783664703369141, 6.7746195793151855, 6.742504119873047, 6.72439432144165, 6.716202259063721, 6.687954902648926, 6.673693656921387, 6.658299922943115, 6.64300537109375, 6.628945350646973, 6.61807107925415, 6.604788303375244, 6.589831829071045, 6.578644752502441, 6.563410758972168, 6.551167011260986, 6.538395881652832, 6.526587009429932, 6.514214515686035, 6.501740455627441, 6.490330219268799, 6.4791765213012695, 6.467406749725342, 6.455827713012695, 6.444026470184326, 6.432232856750488, 6.421226978302002, 6.4097490310668945, 6.397736549377441, 6.386281490325928, 6.3747639656066895, 6.364424228668213, 6.353625774383545, 6.342534065246582, 6.331110000610352, 6.3202691078186035, 6.309643745422363, 6.299068450927734, 6.288430690765381, 6.278001308441162, 6.2677412033081055, 6.257192611694336, 6.2467546463012695, 6.236368656158447, 6.225818157196045], 'val_accuracy': [0.008700000122189522, 0.008700000122189522, 0.009700000286102295, 0.008500000461935997, 0.008700000122189522, 0.008100000210106373, 0.010099999606609344, 0.009800000116229057, 0.009700000286102295, 0.010999999940395355, 0.010900000110268593, 0.007799999788403511, 0.007799999788403511, 0.008799999952316284, 0.008700000122189522, 0.008700000122189522, 0.008700000122189522, 0.009700000286102295, 0.008500000461935997, 0.007199999876320362, 0.008899999782443047, 0.008999999612569809, 0.008299999870359898, 0.009200000204145908, 0.00800000037997961, 0.009200000204145908, 0.009200000204145908, 0.010200000368058681, 0.009100000374019146, 0.010200000368058681, 0.009499999694526196, 0.010099999606609344, 0.009499999694526196, 0.00860000029206276, 0.009100000374019146, 0.009200000204145908, 0.011800000444054604, 0.007199999876320362, 0.008899999782443047, 0.009700000286102295, 0.009100000374019146, 0.009700000286102295, 0.008899999782443047, 0.009499999694526196, 0.008899999782443047, 0.008700000122189522, 0.00989999994635582, 0.00989999994635582, 0.00989999994635582, 0.010200000368058681], 'val_top3_acc': [0.030400000512599945, 0.027699999511241913, 0.0272000003606081, 0.028599999845027924, 0.029999999329447746, 0.02810000069439411, 0.0284000001847744, 0.029200000688433647, 0.02810000069439411, 0.029400000348687172, 0.030500000342726707, 0.025200000032782555, 0.026499999687075615, 0.027499999850988388, 0.027400000020861626, 0.02710000053048134, 0.025100000202655792, 0.027799999341368675, 0.028300000354647636, 0.02669999934732914, 0.027000000700354576, 0.029100000858306885, 0.02850000001490116, 0.028200000524520874, 0.02800000086426735, 0.028999999165534973, 0.02810000069439411, 0.029400000348687172, 0.026900000870227814, 0.028699999675154686, 0.028200000524520874, 0.02889999933540821, 0.027899999171495438, 0.027699999511241913, 0.025499999523162842, 0.026599999517202377, 0.026799999177455902, 0.02630000002682209, 0.025499999523162842, 0.0284000001847744, 0.02710000053048134, 0.0272000003606081, 0.02759999968111515, 0.02630000002682209, 0.02710000053048134, 0.026599999517202377, 0.027899999171495438, 0.029500000178813934, 0.027799999341368675, 0.02810000069439411], 'val_top_k_categorical_accuracy': [0.048900000751018524, 0.04600000008940697, 0.04820000007748604, 0.0471000000834465, 0.047600001096725464, 0.04259999841451645, 0.04529999941587448, 0.047200001776218414, 0.04879999905824661, 0.048900000751018524, 0.04729999974370003, 0.04619999974966049, 0.04259999841451645, 0.04899999871850014, 0.046300001442432404, 0.04600000008940697, 0.044199999421834946, 0.04430000111460686, 0.04859999939799309, 0.04650000110268593, 0.04729999974370003, 0.047200001776218414, 0.04659999907016754, 0.04769999906420708, 0.0471000000834465, 0.04769999906420708, 0.04690000042319298, 0.04859999939799309, 0.0478999987244606, 0.04969999939203262, 0.04729999974370003, 0.047600001096725464, 0.04659999907016754, 0.04619999974966049, 0.04639999940991402, 0.04580000042915344, 0.04540000110864639, 0.043299999088048935, 0.04470000043511391, 0.04600000008940697, 0.04619999974966049, 0.04670000076293945, 0.04500000178813934, 0.04560000076889992, 0.04690000042319298, 0.04569999873638153, 0.046300001442432404, 0.04699999839067459, 0.04769999906420708, 0.04619999974966049]}\n",
      "313/313 [==============================] - 6s 12ms/step - loss: 6.2240 - accuracy: 0.0106 - top3_acc: 0.0300 - top_k_categorical_accuracy: 0.0499\n",
      "[6.2239861488342285, 0.010599999688565731, 0.029999999329447746, 0.04989999905228615]\n"
     ]
    }
   ],
   "source": [
    "print(history.history)\n",
    "# y_pred = np.argmax(model.predict(x_test), axis=1)\n",
    "# y_true = np.argmax(y_test,axis=1)\n",
    "\n",
    "# print(y_pred.shape)\n",
    "# print(y_true.shape)\n",
    "\n",
    "# print(np.sum(y_pred == y_true) / y_pred.shape[0])\n",
    "\n",
    "print(model.evaluate(x_test, y_test))"
   ]
  }
 ],
 "metadata": {
  "accelerator": "GPU",
  "colab": {
   "collapsed_sections": [],
   "name": "cifar100_vgg16_tanh.ipynb",
   "provenance": []
  },
  "kernelspec": {
   "display_name": "Python 3 (ipykernel)",
   "language": "python",
   "name": "python3"
  },
  "language_info": {
   "codemirror_mode": {
    "name": "ipython",
    "version": 3
   },
   "file_extension": ".py",
   "mimetype": "text/x-python",
   "name": "python",
   "nbconvert_exporter": "python",
   "pygments_lexer": "ipython3",
   "version": "3.9.0"
  }
 },
 "nbformat": 4,
 "nbformat_minor": 1
}

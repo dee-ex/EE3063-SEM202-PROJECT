{
 "cells": [
  {
   "cell_type": "code",
   "execution_count": 1,
   "metadata": {
    "id": "-8e0tAC7e0CI"
   },
   "outputs": [],
   "source": [
    "import numpy as np\n",
    "import tensorflow as tf\n",
    "from keras.datasets import cifar10\n",
    "from keras import Sequential\n",
    "from keras.preprocessing.image import ImageDataGenerator\n",
    "from sklearn.model_selection import train_test_split\n",
    "from keras.optimizers import SGD\n",
    "from keras.layers import Dense, Activation, Dropout, Flatten, Conv2D, MaxPooling2D, LeakyReLU\n",
    "from keras.layers.normalization import BatchNormalization\n",
    "from tensorflow.keras.utils import to_categorical\n",
    "from keras.utils.generic_utils import get_custom_objects"
   ]
  },
  {
   "cell_type": "code",
   "execution_count": 2,
   "metadata": {
    "id": "WljAm5f0fKkw"
   },
   "outputs": [],
   "source": [
    "(x_train, y_train), (x_test, y_test) = cifar10.load_data()\n",
    "x_train, x_val, y_train, y_val = train_test_split(x_train, y_train, test_size=.2)"
   ]
  },
  {
   "cell_type": "code",
   "execution_count": 3,
   "metadata": {
    "id": "7u2htPZHfLP2"
   },
   "outputs": [],
   "source": [
    "y_train = to_categorical(y_train)\n",
    "y_val = to_categorical(y_val)\n",
    "y_test = to_categorical(y_test)"
   ]
  },
  {
   "cell_type": "code",
   "execution_count": 4,
   "metadata": {
    "colab": {
     "base_uri": "https://localhost:8080/"
    },
    "id": "sKxXF-OFASsu",
    "outputId": "41a2b610-a7fc-4789-a330-674c3e8079c3"
   },
   "outputs": [
    {
     "data": {
      "text/plain": [
       "((40000, 32, 32, 3),\n",
       " (40000, 10),\n",
       " (10000, 32, 32, 3),\n",
       " (10000, 10),\n",
       " (10000, 32, 32, 3),\n",
       " (10000, 10))"
      ]
     },
     "execution_count": 4,
     "metadata": {
      "tags": []
     },
     "output_type": "execute_result"
    }
   ],
   "source": [
    "x_train.shape, y_train.shape, x_val.shape, y_val.shape, x_test.shape, y_test.shape"
   ]
  },
  {
   "cell_type": "code",
   "execution_count": 5,
   "metadata": {
    "id": "QR8VwuXy-SCk"
   },
   "outputs": [],
   "source": [
    "train_generator = ImageDataGenerator(rotation_range=2, horizontal_flip=True)\n",
    "val_generator = ImageDataGenerator(rotation_range=2, horizontal_flip=True)\n",
    "test_generator = ImageDataGenerator(rotation_range=2, horizontal_flip=True)\n",
    "\n",
    "train_generator.fit(x_train)\n",
    "val_generator.fit(x_val)\n",
    "test_generator.fit(x_test)"
   ]
  },
  {
   "cell_type": "code",
   "execution_count": 6,
   "metadata": {
    "id": "UgqsFQ16Gmz4"
   },
   "outputs": [],
   "source": [
    "def alexnet(activation):\n",
    "    AlexNet = Sequential()\n",
    "\n",
    "    AlexNet.add(Conv2D(filters=96, input_shape=(32, 32, 3), kernel_size=(11, 11), strides=(4, 4), padding='same'))\n",
    "    AlexNet.add(BatchNormalization())\n",
    "    AlexNet.add(Activation(activation))\n",
    "    AlexNet.add(MaxPooling2D(pool_size=(2, 2), strides=(2, 2), padding='same'))\n",
    "\n",
    "    AlexNet.add(Conv2D(filters=256, kernel_size=(5, 5), strides=(1, 1), padding='same'))\n",
    "    AlexNet.add(BatchNormalization())\n",
    "    AlexNet.add(Activation(activation))\n",
    "    AlexNet.add(MaxPooling2D(pool_size=(2, 2), strides=(2, 2), padding='same'))\n",
    "\n",
    "    AlexNet.add(Conv2D(filters=384, kernel_size=(3, 3), strides=(1, 1), padding='same'))\n",
    "    AlexNet.add(BatchNormalization())\n",
    "    AlexNet.add(Activation(activation))\n",
    "\n",
    "    AlexNet.add(Conv2D(filters=384, kernel_size=(3, 3), strides=(1, 1), padding='same'))\n",
    "    AlexNet.add(BatchNormalization())\n",
    "    AlexNet.add(Activation(activation))\n",
    "\n",
    "    AlexNet.add(Conv2D(filters=256, kernel_size=(3, 3), strides=(1, 1), padding='same'))\n",
    "    AlexNet.add(BatchNormalization())\n",
    "    AlexNet.add(Activation(activation))\n",
    "    AlexNet.add(MaxPooling2D(pool_size=(2, 2), strides=(2, 2), padding='same'))\n",
    "\n",
    "    AlexNet.add(Flatten())\n",
    "    AlexNet.add(Dense(4096, input_shape=(32, 32, 3)))\n",
    "    AlexNet.add(BatchNormalization())\n",
    "    AlexNet.add(Activation(activation))\n",
    "    AlexNet.add(Dropout(0.5))\n",
    "\n",
    "    AlexNet.add(Dense(4096))\n",
    "    AlexNet.add(BatchNormalization())\n",
    "    AlexNet.add(Activation(activation))\n",
    "    AlexNet.add(Dropout(0.5))\n",
    "\n",
    "    AlexNet.add(Dense(1000))\n",
    "    AlexNet.add(BatchNormalization())\n",
    "    AlexNet.add(Activation(activation))\n",
    "    AlexNet.add(Dropout(0.5))\n",
    "\n",
    "    AlexNet.add(Dense(10))\n",
    "    AlexNet.add(BatchNormalization())\n",
    "    AlexNet.add(Activation('softmax'))\n",
    "\n",
    "    return AlexNet"
   ]
  },
  {
   "cell_type": "code",
   "execution_count": 9,
   "metadata": {
    "colab": {
     "base_uri": "https://localhost:8080/"
    },
    "id": "bvLaricEJB7Y",
    "outputId": "0b474161-f0bf-42c3-84e7-6a7ea73d89dc"
   },
   "outputs": [
    {
     "name": "stdout",
     "output_type": "stream",
     "text": [
      "Epoch 1/50\n",
      "313/313 [==============================] - 40s 114ms/step - loss: 2.1028 - accuracy: 0.2594 - val_loss: 1.7500 - val_accuracy: 0.4072\n",
      "Epoch 2/50\n",
      "313/313 [==============================] - 34s 108ms/step - loss: 1.5679 - accuracy: 0.4468 - val_loss: 1.5141 - val_accuracy: 0.4840\n",
      "Epoch 3/50\n",
      "313/313 [==============================] - 34s 108ms/step - loss: 1.4243 - accuracy: 0.5057 - val_loss: 1.3464 - val_accuracy: 0.5286\n",
      "Epoch 4/50\n",
      "313/313 [==============================] - 34s 110ms/step - loss: 1.3264 - accuracy: 0.5454 - val_loss: 1.4345 - val_accuracy: 0.4955\n",
      "Epoch 5/50\n",
      "313/313 [==============================] - 33s 107ms/step - loss: 1.2436 - accuracy: 0.5767 - val_loss: 1.5520 - val_accuracy: 0.4715\n",
      "Epoch 6/50\n",
      "313/313 [==============================] - 34s 108ms/step - loss: 1.1703 - accuracy: 0.6062 - val_loss: 1.2886 - val_accuracy: 0.5471\n",
      "Epoch 7/50\n",
      "313/313 [==============================] - 34s 109ms/step - loss: 1.1158 - accuracy: 0.6225 - val_loss: 1.2532 - val_accuracy: 0.5657\n",
      "Epoch 8/50\n",
      "313/313 [==============================] - 33s 106ms/step - loss: 1.0532 - accuracy: 0.6507 - val_loss: 1.2039 - val_accuracy: 0.5869\n",
      "Epoch 9/50\n",
      "313/313 [==============================] - 33s 105ms/step - loss: 1.0044 - accuracy: 0.6644 - val_loss: 1.5773 - val_accuracy: 0.4835\n",
      "Epoch 10/50\n",
      "313/313 [==============================] - 33s 105ms/step - loss: 0.9531 - accuracy: 0.6835 - val_loss: 1.1724 - val_accuracy: 0.6011\n",
      "Epoch 11/50\n",
      "313/313 [==============================] - 34s 109ms/step - loss: 0.9061 - accuracy: 0.6988 - val_loss: 1.1479 - val_accuracy: 0.6085\n",
      "Epoch 12/50\n",
      "313/313 [==============================] - 34s 109ms/step - loss: 0.8697 - accuracy: 0.7095 - val_loss: 1.1875 - val_accuracy: 0.5932\n",
      "Epoch 13/50\n",
      "313/313 [==============================] - 34s 109ms/step - loss: 0.8375 - accuracy: 0.7238 - val_loss: 1.1677 - val_accuracy: 0.6047\n",
      "Epoch 14/50\n",
      "313/313 [==============================] - 34s 108ms/step - loss: 0.7927 - accuracy: 0.7400 - val_loss: 1.1606 - val_accuracy: 0.6235\n",
      "Epoch 15/50\n",
      "313/313 [==============================] - 34s 107ms/step - loss: 0.7638 - accuracy: 0.7471 - val_loss: 1.1296 - val_accuracy: 0.6249\n",
      "Epoch 16/50\n",
      "313/313 [==============================] - 34s 109ms/step - loss: 0.7209 - accuracy: 0.7625 - val_loss: 1.0490 - val_accuracy: 0.6484\n",
      "Epoch 17/50\n",
      "313/313 [==============================] - 34s 109ms/step - loss: 0.6831 - accuracy: 0.7782 - val_loss: 1.1243 - val_accuracy: 0.6303\n",
      "Epoch 18/50\n",
      "313/313 [==============================] - 34s 110ms/step - loss: 0.6491 - accuracy: 0.7910 - val_loss: 1.2371 - val_accuracy: 0.6155\n",
      "Epoch 19/50\n",
      "313/313 [==============================] - 34s 110ms/step - loss: 0.6147 - accuracy: 0.8038 - val_loss: 1.3184 - val_accuracy: 0.5891\n",
      "Epoch 20/50\n",
      "313/313 [==============================] - 40s 128ms/step - loss: 0.6026 - accuracy: 0.8059 - val_loss: 1.1598 - val_accuracy: 0.6295\n",
      "Epoch 21/50\n",
      "313/313 [==============================] - 35s 111ms/step - loss: 0.5537 - accuracy: 0.8237 - val_loss: 1.1560 - val_accuracy: 0.6358\n",
      "Epoch 22/50\n",
      "313/313 [==============================] - 34s 107ms/step - loss: 0.5168 - accuracy: 0.8359 - val_loss: 1.1035 - val_accuracy: 0.6550\n",
      "Epoch 23/50\n",
      "313/313 [==============================] - 33s 106ms/step - loss: 0.4959 - accuracy: 0.8440 - val_loss: 1.2060 - val_accuracy: 0.6291\n",
      "Epoch 24/50\n",
      "313/313 [==============================] - 33s 105ms/step - loss: 0.4626 - accuracy: 0.8546 - val_loss: 1.3512 - val_accuracy: 0.5929\n",
      "Epoch 25/50\n",
      "313/313 [==============================] - 33s 105ms/step - loss: 0.4278 - accuracy: 0.8690 - val_loss: 1.2098 - val_accuracy: 0.6395\n",
      "Epoch 26/50\n",
      "313/313 [==============================] - 33s 104ms/step - loss: 0.4048 - accuracy: 0.8738 - val_loss: 1.0611 - val_accuracy: 0.6759\n",
      "Epoch 27/50\n",
      "313/313 [==============================] - 33s 105ms/step - loss: 0.3834 - accuracy: 0.8813 - val_loss: 1.2385 - val_accuracy: 0.6353\n",
      "Epoch 28/50\n",
      "313/313 [==============================] - 32s 103ms/step - loss: 0.3507 - accuracy: 0.8946 - val_loss: 1.3001 - val_accuracy: 0.6316\n",
      "Epoch 29/50\n",
      "313/313 [==============================] - 33s 106ms/step - loss: 0.3349 - accuracy: 0.8963 - val_loss: 1.2027 - val_accuracy: 0.6467\n",
      "Epoch 30/50\n",
      "313/313 [==============================] - 33s 105ms/step - loss: 0.3152 - accuracy: 0.9061 - val_loss: 1.5027 - val_accuracy: 0.6081\n",
      "Epoch 31/50\n",
      "313/313 [==============================] - 33s 105ms/step - loss: 0.2943 - accuracy: 0.9099 - val_loss: 1.3988 - val_accuracy: 0.6252\n",
      "Epoch 32/50\n",
      "313/313 [==============================] - 32s 103ms/step - loss: 0.2761 - accuracy: 0.9175 - val_loss: 1.5190 - val_accuracy: 0.6069\n",
      "Epoch 33/50\n",
      "313/313 [==============================] - 33s 105ms/step - loss: 0.2517 - accuracy: 0.9264 - val_loss: 1.3197 - val_accuracy: 0.6438\n",
      "Epoch 34/50\n",
      "313/313 [==============================] - 33s 104ms/step - loss: 0.2329 - accuracy: 0.9322 - val_loss: 1.3263 - val_accuracy: 0.6423\n",
      "Epoch 35/50\n",
      "313/313 [==============================] - 33s 105ms/step - loss: 0.2136 - accuracy: 0.9400 - val_loss: 1.3667 - val_accuracy: 0.6452\n",
      "Epoch 36/50\n",
      "313/313 [==============================] - 33s 106ms/step - loss: 0.1953 - accuracy: 0.9449 - val_loss: 1.4199 - val_accuracy: 0.6343\n",
      "Epoch 37/50\n",
      "313/313 [==============================] - 34s 107ms/step - loss: 0.1814 - accuracy: 0.9500 - val_loss: 1.4675 - val_accuracy: 0.6197\n",
      "Epoch 38/50\n",
      "313/313 [==============================] - 34s 108ms/step - loss: 0.1748 - accuracy: 0.9518 - val_loss: 1.4041 - val_accuracy: 0.6489\n",
      "Epoch 39/50\n",
      "313/313 [==============================] - 34s 108ms/step - loss: 0.1607 - accuracy: 0.9570 - val_loss: 1.5398 - val_accuracy: 0.6249\n",
      "Epoch 40/50\n",
      "313/313 [==============================] - 34s 108ms/step - loss: 0.1429 - accuracy: 0.9633 - val_loss: 1.2843 - val_accuracy: 0.6659\n",
      "Epoch 41/50\n",
      "313/313 [==============================] - 33s 105ms/step - loss: 0.1392 - accuracy: 0.9636 - val_loss: 1.3008 - val_accuracy: 0.6766\n",
      "Epoch 42/50\n",
      "313/313 [==============================] - 33s 106ms/step - loss: 0.1291 - accuracy: 0.9659 - val_loss: 1.3742 - val_accuracy: 0.6594\n",
      "Epoch 43/50\n",
      "313/313 [==============================] - 33s 105ms/step - loss: 0.1258 - accuracy: 0.9672 - val_loss: 1.2938 - val_accuracy: 0.6789\n",
      "Epoch 44/50\n",
      "313/313 [==============================] - 34s 107ms/step - loss: 0.1100 - accuracy: 0.9714 - val_loss: 1.4187 - val_accuracy: 0.6538\n",
      "Epoch 45/50\n",
      "313/313 [==============================] - 33s 107ms/step - loss: 0.1083 - accuracy: 0.9729 - val_loss: 1.3777 - val_accuracy: 0.6705\n",
      "Epoch 46/50\n",
      "313/313 [==============================] - 34s 110ms/step - loss: 0.0967 - accuracy: 0.9751 - val_loss: 1.3599 - val_accuracy: 0.6756\n",
      "Epoch 47/50\n",
      "313/313 [==============================] - 34s 108ms/step - loss: 0.0874 - accuracy: 0.9789 - val_loss: 1.4164 - val_accuracy: 0.6591\n",
      "Epoch 48/50\n",
      "313/313 [==============================] - 34s 109ms/step - loss: 0.0888 - accuracy: 0.9789 - val_loss: 1.3192 - val_accuracy: 0.6773\n",
      "Epoch 49/50\n",
      "313/313 [==============================] - 34s 109ms/step - loss: 0.0754 - accuracy: 0.9839 - val_loss: 1.3988 - val_accuracy: 0.6612\n",
      "Epoch 50/50\n",
      "313/313 [==============================] - 34s 109ms/step - loss: 0.0794 - accuracy: 0.9796 - val_loss: 1.3327 - val_accuracy: 0.6828\n"
     ]
    }
   ],
   "source": [
    "def gelu(x):\n",
    "    return 0.5 * x * (1 + tf.tanh(tf.sqrt(2 / np.pi) * (x + 0.044715 * tf.pow(x, 3))))\n",
    "get_custom_objects().update({'gelu': Activation(gelu)})\n",
    "\n",
    "def swish(x):\n",
    "    return x * tf.sigmoid(x)\n",
    "get_custom_objects().update({'swish': Activation(swish)})\n",
    "\n",
    "get_custom_objects().update({'leaky-relu': Activation(LeakyReLU(alpha=0.2))})\n",
    "\n",
    "# act_func = ['tanh', 'relu', 'leaky-relu', 'elu', 'selu', 'gelu', 'swish']\n",
    "\n",
    "model = alexnet('gelu')\n",
    "\n",
    "batch_size = 128\n",
    "epochs = 50\n",
    "\n",
    "model.compile(optimizer=SGD(), loss='categorical_crossentropy', metrics=['accuracy'])\n",
    "\n",
    "history = model.fit(train_generator.flow(x_train, y_train, batch_size=batch_size), epochs=epochs,\n",
    "                      validation_data=val_generator.flow(x_val, y_val, batch_size=batch_size), verbose=1)"
   ]
  },
  {
   "cell_type": "code",
   "execution_count": 10,
   "metadata": {
    "colab": {
     "base_uri": "https://localhost:8080/"
    },
    "id": "A_eJn83kKCwL",
    "outputId": "9bc999d9-68fc-4d1d-81cc-1f2d267a573d"
   },
   "outputs": [
    {
     "name": "stdout",
     "output_type": "stream",
     "text": [
      "{'loss': [1.8701120615005493, 1.533719539642334, 1.4028968811035156, 1.307350754737854, 1.2292102575302124, 1.1605645418167114, 1.104544758796692, 1.0542913675308228, 1.0010123252868652, 0.9584172964096069, 0.912586510181427, 0.8750619888305664, 0.840369462966919, 0.8023239970207214, 0.7691945433616638, 0.7300525903701782, 0.6942577362060547, 0.6634646654129028, 0.6282963156700134, 0.5992242097854614, 0.5625944137573242, 0.5315674543380737, 0.5079725980758667, 0.48014429211616516, 0.44680413603782654, 0.4206153452396393, 0.3892291486263275, 0.3700101673603058, 0.34690916538238525, 0.323626846075058, 0.3040904998779297, 0.2827153205871582, 0.2639458179473877, 0.23792922496795654, 0.21705031394958496, 0.20323660969734192, 0.1924695372581482, 0.18475812673568726, 0.16889382898807526, 0.1556457132101059, 0.1396491527557373, 0.1358380764722824, 0.13096413016319275, 0.1190633773803711, 0.11069712787866592, 0.1020185574889183, 0.09099676460027695, 0.09105625748634338, 0.08355987817049026, 0.0788738802075386], 'accuracy': [0.3326750099658966, 0.4625999927520752, 0.5128250122070312, 0.5536749958992004, 0.583299994468689, 0.6066250205039978, 0.6290000081062317, 0.6461750268936157, 0.6653000116348267, 0.6798250079154968, 0.6968749761581421, 0.7088500261306763, 0.7209500074386597, 0.73785001039505, 0.7444000244140625, 0.7594000101089478, 0.7735499739646912, 0.7840750217437744, 0.7978000044822693, 0.8060500025749207, 0.8195250034332275, 0.8295249938964844, 0.8381249904632568, 0.847350001335144, 0.8599500060081482, 0.8678249716758728, 0.8787750005722046, 0.8860999941825867, 0.8917250037193298, 0.901199996471405, 0.9070249795913696, 0.915149986743927, 0.9211999773979187, 0.9298750162124634, 0.9379749894142151, 0.9409499764442444, 0.9449250102043152, 0.947825014591217, 0.9540749788284302, 0.9574000239372253, 0.9621750116348267, 0.9637749791145325, 0.9644749760627747, 0.9685249924659729, 0.9716249704360962, 0.9729999899864197, 0.9785000085830688, 0.9775000214576721, 0.9793999791145325, 0.9805999994277954], 'val_loss': [1.7499521970748901, 1.5140591859817505, 1.3464033603668213, 1.4345439672470093, 1.5520169734954834, 1.2886478900909424, 1.2532014846801758, 1.2039347887039185, 1.5773471593856812, 1.172372817993164, 1.1479418277740479, 1.1875196695327759, 1.1676521301269531, 1.1606388092041016, 1.1296355724334717, 1.0490347146987915, 1.124314785003662, 1.23714017868042, 1.318416953086853, 1.1597871780395508, 1.155997633934021, 1.1035293340682983, 1.2060294151306152, 1.351176142692566, 1.2097502946853638, 1.0610942840576172, 1.2385414838790894, 1.3000521659851074, 1.2026758193969727, 1.5026674270629883, 1.3987579345703125, 1.519047737121582, 1.3197216987609863, 1.3263455629348755, 1.3666877746582031, 1.419883131980896, 1.4674824476242065, 1.4040576219558716, 1.5397840738296509, 1.2843165397644043, 1.3007999658584595, 1.3741638660430908, 1.293823003768921, 1.4186792373657227, 1.377732276916504, 1.3598997592926025, 1.4164330959320068, 1.3192404508590698, 1.3988288640975952, 1.332682490348816], 'val_accuracy': [0.40720000863075256, 0.48399999737739563, 0.5285999774932861, 0.49549999833106995, 0.4715000092983246, 0.5471000075340271, 0.5656999945640564, 0.586899995803833, 0.48350000381469727, 0.6011000275611877, 0.6085000038146973, 0.5932000279426575, 0.6047000288963318, 0.6234999895095825, 0.6248999834060669, 0.6484000086784363, 0.630299985408783, 0.6154999732971191, 0.5891000032424927, 0.6294999718666077, 0.6358000040054321, 0.6549999713897705, 0.6291000247001648, 0.5928999781608582, 0.6395000219345093, 0.6758999824523926, 0.6352999806404114, 0.631600022315979, 0.6467000246047974, 0.6080999970436096, 0.6251999735832214, 0.6068999767303467, 0.6438000202178955, 0.642300009727478, 0.6452000141143799, 0.6342999935150146, 0.619700014591217, 0.6488999724388123, 0.6248999834060669, 0.6658999919891357, 0.6765999794006348, 0.6593999862670898, 0.6789000034332275, 0.6538000106811523, 0.6704999804496765, 0.675599992275238, 0.6590999960899353, 0.677299976348877, 0.6611999869346619, 0.6827999949455261]}\n",
      "(10000,)\n",
      "(10000,)\n",
      "0.6827\n"
     ]
    }
   ],
   "source": [
    "print(history.history)\n",
    "y_pred = np.argmax(model.predict(x_test), axis=1)\n",
    "y_true = np.argmax(y_test,axis=1)\n",
    "\n",
    "print(y_pred.shape)\n",
    "print(y_true.shape)\n",
    "\n",
    "print(np.sum(y_pred == y_true) / y_pred.shape[0])"
   ]
  }
 ],
 "metadata": {
  "accelerator": "GPU",
  "colab": {
   "collapsed_sections": [],
   "name": "cifar10_alexnet_gelu.ipynb",
   "provenance": []
  },
  "kernelspec": {
   "display_name": "Python 3 (ipykernel)",
   "language": "python",
   "name": "python3"
  },
  "language_info": {
   "codemirror_mode": {
    "name": "ipython",
    "version": 3
   },
   "file_extension": ".py",
   "mimetype": "text/x-python",
   "name": "python",
   "nbconvert_exporter": "python",
   "pygments_lexer": "ipython3",
   "version": "3.9.0"
  }
 },
 "nbformat": 4,
 "nbformat_minor": 1
}

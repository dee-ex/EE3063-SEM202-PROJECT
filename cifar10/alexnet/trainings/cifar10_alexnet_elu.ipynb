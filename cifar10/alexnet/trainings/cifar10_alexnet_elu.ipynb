{
 "cells": [
  {
   "cell_type": "code",
   "execution_count": 1,
   "metadata": {
    "id": "-8e0tAC7e0CI"
   },
   "outputs": [],
   "source": [
    "import numpy as np\n",
    "import tensorflow as tf\n",
    "from keras.datasets import cifar10\n",
    "from keras import Sequential\n",
    "from keras.preprocessing.image import ImageDataGenerator\n",
    "from sklearn.model_selection import train_test_split\n",
    "from keras.optimizers import SGD\n",
    "from keras.layers import Dense, Activation, Dropout, Flatten, Conv2D, MaxPooling2D, LeakyReLU\n",
    "from keras.layers.normalization import BatchNormalization\n",
    "from tensorflow.keras.utils import to_categorical\n",
    "from keras.utils.generic_utils import get_custom_objects"
   ]
  },
  {
   "cell_type": "code",
   "execution_count": 2,
   "metadata": {
    "colab": {
     "base_uri": "https://localhost:8080/"
    },
    "id": "WljAm5f0fKkw",
    "outputId": "86ae0f9f-eacb-49c0-c279-487439ccff00"
   },
   "outputs": [
    {
     "name": "stdout",
     "output_type": "stream",
     "text": [
      "Downloading data from https://www.cs.toronto.edu/~kriz/cifar-10-python.tar.gz\n",
      "170500096/170498071 [==============================] - 4s 0us/step\n",
      "170508288/170498071 [==============================] - 4s 0us/step\n"
     ]
    }
   ],
   "source": [
    "(x_train, y_train), (x_test, y_test) = cifar10.load_data()\n",
    "x_train, x_val, y_train, y_val = train_test_split(x_train, y_train, test_size=.2)"
   ]
  },
  {
   "cell_type": "code",
   "execution_count": 3,
   "metadata": {
    "id": "7u2htPZHfLP2"
   },
   "outputs": [],
   "source": [
    "y_train = to_categorical(y_train)\n",
    "y_val = to_categorical(y_val)\n",
    "y_test = to_categorical(y_test)"
   ]
  },
  {
   "cell_type": "code",
   "execution_count": 4,
   "metadata": {
    "colab": {
     "base_uri": "https://localhost:8080/"
    },
    "id": "sKxXF-OFASsu",
    "outputId": "104327a9-9165-4f57-aed5-fc6180741516"
   },
   "outputs": [
    {
     "data": {
      "text/plain": [
       "((40000, 32, 32, 3),\n",
       " (40000, 10),\n",
       " (10000, 32, 32, 3),\n",
       " (10000, 10),\n",
       " (10000, 32, 32, 3),\n",
       " (10000, 10))"
      ]
     },
     "execution_count": 4,
     "metadata": {
      "tags": []
     },
     "output_type": "execute_result"
    }
   ],
   "source": [
    "x_train.shape, y_train.shape, x_val.shape, y_val.shape, x_test.shape, y_test.shape"
   ]
  },
  {
   "cell_type": "code",
   "execution_count": 5,
   "metadata": {
    "id": "QR8VwuXy-SCk"
   },
   "outputs": [],
   "source": [
    "train_generator = ImageDataGenerator(rotation_range=2, horizontal_flip=True)\n",
    "val_generator = ImageDataGenerator(rotation_range=2, horizontal_flip=True)\n",
    "test_generator = ImageDataGenerator(rotation_range=2, horizontal_flip=True)\n",
    "\n",
    "train_generator.fit(x_train)\n",
    "val_generator.fit(x_val)\n",
    "test_generator.fit(x_test)"
   ]
  },
  {
   "cell_type": "code",
   "execution_count": 6,
   "metadata": {
    "id": "UgqsFQ16Gmz4"
   },
   "outputs": [],
   "source": [
    "def alexnet(activation):\n",
    "    AlexNet = Sequential()\n",
    "\n",
    "    AlexNet.add(Conv2D(filters=96, input_shape=(32, 32, 3), kernel_size=(11, 11), strides=(4, 4), padding='same'))\n",
    "    AlexNet.add(BatchNormalization())\n",
    "    AlexNet.add(Activation(activation))\n",
    "    AlexNet.add(MaxPooling2D(pool_size=(2, 2), strides=(2, 2), padding='same'))\n",
    "\n",
    "    AlexNet.add(Conv2D(filters=256, kernel_size=(5, 5), strides=(1, 1), padding='same'))\n",
    "    AlexNet.add(BatchNormalization())\n",
    "    AlexNet.add(Activation(activation))\n",
    "    AlexNet.add(MaxPooling2D(pool_size=(2, 2), strides=(2, 2), padding='same'))\n",
    "\n",
    "    AlexNet.add(Conv2D(filters=384, kernel_size=(3, 3), strides=(1, 1), padding='same'))\n",
    "    AlexNet.add(BatchNormalization())\n",
    "    AlexNet.add(Activation(activation))\n",
    "\n",
    "    AlexNet.add(Conv2D(filters=384, kernel_size=(3, 3), strides=(1, 1), padding='same'))\n",
    "    AlexNet.add(BatchNormalization())\n",
    "    AlexNet.add(Activation(activation))\n",
    "\n",
    "    AlexNet.add(Conv2D(filters=256, kernel_size=(3, 3), strides=(1, 1), padding='same'))\n",
    "    AlexNet.add(BatchNormalization())\n",
    "    AlexNet.add(Activation(activation))\n",
    "    AlexNet.add(MaxPooling2D(pool_size=(2, 2), strides=(2, 2), padding='same'))\n",
    "\n",
    "    AlexNet.add(Flatten())\n",
    "    AlexNet.add(Dense(4096, input_shape=(32, 32, 3)))\n",
    "    AlexNet.add(BatchNormalization())\n",
    "    AlexNet.add(Activation(activation))\n",
    "    AlexNet.add(Dropout(0.5))\n",
    "\n",
    "    AlexNet.add(Dense(4096))\n",
    "    AlexNet.add(BatchNormalization())\n",
    "    AlexNet.add(Activation(activation))\n",
    "    AlexNet.add(Dropout(0.5))\n",
    "\n",
    "    AlexNet.add(Dense(1000))\n",
    "    AlexNet.add(BatchNormalization())\n",
    "    AlexNet.add(Activation(activation))\n",
    "    AlexNet.add(Dropout(0.5))\n",
    "\n",
    "    AlexNet.add(Dense(10))\n",
    "    AlexNet.add(BatchNormalization())\n",
    "    AlexNet.add(Activation('softmax'))\n",
    "\n",
    "    return AlexNet"
   ]
  },
  {
   "cell_type": "code",
   "execution_count": 9,
   "metadata": {
    "colab": {
     "base_uri": "https://localhost:8080/"
    },
    "id": "bvLaricEJB7Y",
    "outputId": "eaa2ce37-73e2-4946-acdc-6625197492a9"
   },
   "outputs": [
    {
     "name": "stdout",
     "output_type": "stream",
     "text": [
      "Epoch 1/50\n",
      "313/313 [==============================] - 28s 81ms/step - loss: 1.9193 - accuracy: 0.3111 - val_loss: 1.5840 - val_accuracy: 0.4628\n",
      "Epoch 2/50\n",
      "313/313 [==============================] - 24s 75ms/step - loss: 1.5089 - accuracy: 0.4786 - val_loss: 1.7317 - val_accuracy: 0.4016\n",
      "Epoch 3/50\n",
      "313/313 [==============================] - 22s 72ms/step - loss: 1.3796 - accuracy: 0.5249 - val_loss: 1.3326 - val_accuracy: 0.5197\n",
      "Epoch 4/50\n",
      "313/313 [==============================] - 25s 81ms/step - loss: 1.2784 - accuracy: 0.5660 - val_loss: 1.3751 - val_accuracy: 0.5178\n",
      "Epoch 5/50\n",
      "313/313 [==============================] - 23s 72ms/step - loss: 1.2161 - accuracy: 0.5876 - val_loss: 1.2359 - val_accuracy: 0.5689\n",
      "Epoch 6/50\n",
      "313/313 [==============================] - 23s 72ms/step - loss: 1.1418 - accuracy: 0.6117 - val_loss: 1.2196 - val_accuracy: 0.5709\n",
      "Epoch 7/50\n",
      "313/313 [==============================] - 25s 79ms/step - loss: 1.0872 - accuracy: 0.6350 - val_loss: 1.2841 - val_accuracy: 0.5504\n",
      "Epoch 8/50\n",
      "313/313 [==============================] - 25s 79ms/step - loss: 1.0359 - accuracy: 0.6512 - val_loss: 1.2427 - val_accuracy: 0.5732\n",
      "Epoch 9/50\n",
      "313/313 [==============================] - 24s 76ms/step - loss: 0.9875 - accuracy: 0.6686 - val_loss: 1.1818 - val_accuracy: 0.5883\n",
      "Epoch 10/50\n",
      "313/313 [==============================] - 22s 71ms/step - loss: 0.9544 - accuracy: 0.6772 - val_loss: 1.4341 - val_accuracy: 0.5341\n",
      "Epoch 11/50\n",
      "313/313 [==============================] - 25s 80ms/step - loss: 0.9013 - accuracy: 0.7011 - val_loss: 1.2323 - val_accuracy: 0.5837\n",
      "Epoch 12/50\n",
      "313/313 [==============================] - 23s 72ms/step - loss: 0.8649 - accuracy: 0.7111 - val_loss: 1.4150 - val_accuracy: 0.5386\n",
      "Epoch 13/50\n",
      "313/313 [==============================] - 23s 72ms/step - loss: 0.8401 - accuracy: 0.7170 - val_loss: 1.3483 - val_accuracy: 0.5741\n",
      "Epoch 14/50\n",
      "313/313 [==============================] - 25s 79ms/step - loss: 0.7957 - accuracy: 0.7356 - val_loss: 1.8809 - val_accuracy: 0.4554\n",
      "Epoch 15/50\n",
      "313/313 [==============================] - 22s 71ms/step - loss: 0.7609 - accuracy: 0.7469 - val_loss: 1.1110 - val_accuracy: 0.6277\n",
      "Epoch 16/50\n",
      "313/313 [==============================] - 23s 74ms/step - loss: 0.7196 - accuracy: 0.7652 - val_loss: 1.2226 - val_accuracy: 0.6020\n",
      "Epoch 17/50\n",
      "313/313 [==============================] - 24s 77ms/step - loss: 0.7006 - accuracy: 0.7667 - val_loss: 1.1201 - val_accuracy: 0.6323\n",
      "Epoch 18/50\n",
      "313/313 [==============================] - 23s 72ms/step - loss: 0.6644 - accuracy: 0.7829 - val_loss: 1.1971 - val_accuracy: 0.6063\n",
      "Epoch 19/50\n",
      "313/313 [==============================] - 24s 77ms/step - loss: 0.6247 - accuracy: 0.7941 - val_loss: 1.2621 - val_accuracy: 0.6019\n",
      "Epoch 20/50\n",
      "313/313 [==============================] - 24s 78ms/step - loss: 0.5976 - accuracy: 0.8054 - val_loss: 1.1744 - val_accuracy: 0.6342\n",
      "Epoch 21/50\n",
      "313/313 [==============================] - 25s 80ms/step - loss: 0.5713 - accuracy: 0.8132 - val_loss: 1.0463 - val_accuracy: 0.6540\n",
      "Epoch 22/50\n",
      "313/313 [==============================] - 22s 71ms/step - loss: 0.5443 - accuracy: 0.8262 - val_loss: 1.0993 - val_accuracy: 0.6505\n",
      "Epoch 23/50\n",
      "313/313 [==============================] - 23s 74ms/step - loss: 0.5157 - accuracy: 0.8329 - val_loss: 1.3180 - val_accuracy: 0.6058\n",
      "Epoch 24/50\n",
      "313/313 [==============================] - 24s 77ms/step - loss: 0.4816 - accuracy: 0.8485 - val_loss: 1.4377 - val_accuracy: 0.5686\n",
      "Epoch 25/50\n",
      "313/313 [==============================] - 22s 71ms/step - loss: 0.4554 - accuracy: 0.8580 - val_loss: 1.1088 - val_accuracy: 0.6596\n",
      "Epoch 26/50\n",
      "313/313 [==============================] - 24s 76ms/step - loss: 0.4305 - accuracy: 0.8672 - val_loss: 1.2659 - val_accuracy: 0.6276\n",
      "Epoch 27/50\n",
      "313/313 [==============================] - 24s 77ms/step - loss: 0.4135 - accuracy: 0.8698 - val_loss: 1.2768 - val_accuracy: 0.6162\n",
      "Epoch 28/50\n",
      "313/313 [==============================] - 23s 72ms/step - loss: 0.3866 - accuracy: 0.8820 - val_loss: 1.2638 - val_accuracy: 0.6313\n",
      "Epoch 29/50\n",
      "313/313 [==============================] - 25s 78ms/step - loss: 0.3626 - accuracy: 0.8898 - val_loss: 1.1715 - val_accuracy: 0.6450\n",
      "Epoch 30/50\n",
      "313/313 [==============================] - 23s 74ms/step - loss: 0.3471 - accuracy: 0.8921 - val_loss: 1.1957 - val_accuracy: 0.6534\n",
      "Epoch 31/50\n",
      "313/313 [==============================] - 22s 71ms/step - loss: 0.3186 - accuracy: 0.9043 - val_loss: 1.1771 - val_accuracy: 0.6559\n",
      "Epoch 32/50\n",
      "313/313 [==============================] - 26s 82ms/step - loss: 0.2979 - accuracy: 0.9113 - val_loss: 1.2645 - val_accuracy: 0.6405\n",
      "Epoch 33/50\n",
      "313/313 [==============================] - 25s 79ms/step - loss: 0.2790 - accuracy: 0.9165 - val_loss: 1.3112 - val_accuracy: 0.6275\n",
      "Epoch 34/50\n",
      "313/313 [==============================] - 24s 75ms/step - loss: 0.2609 - accuracy: 0.9250 - val_loss: 1.1853 - val_accuracy: 0.6585\n",
      "Epoch 35/50\n",
      "313/313 [==============================] - 25s 80ms/step - loss: 0.2372 - accuracy: 0.9363 - val_loss: 1.2385 - val_accuracy: 0.6598\n",
      "Epoch 36/50\n",
      "313/313 [==============================] - 25s 80ms/step - loss: 0.2240 - accuracy: 0.9382 - val_loss: 1.2376 - val_accuracy: 0.6538\n",
      "Epoch 37/50\n",
      "313/313 [==============================] - 23s 73ms/step - loss: 0.2090 - accuracy: 0.9437 - val_loss: 1.2944 - val_accuracy: 0.6611\n",
      "Epoch 38/50\n",
      "313/313 [==============================] - 23s 72ms/step - loss: 0.1941 - accuracy: 0.9475 - val_loss: 1.2866 - val_accuracy: 0.6640\n",
      "Epoch 39/50\n",
      "313/313 [==============================] - 25s 81ms/step - loss: 0.1855 - accuracy: 0.9512 - val_loss: 1.2683 - val_accuracy: 0.6647\n",
      "Epoch 40/50\n",
      "313/313 [==============================] - 23s 72ms/step - loss: 0.1647 - accuracy: 0.9591 - val_loss: 1.3298 - val_accuracy: 0.6568\n",
      "Epoch 41/50\n",
      "313/313 [==============================] - 23s 73ms/step - loss: 0.1603 - accuracy: 0.9595 - val_loss: 1.5904 - val_accuracy: 0.6001\n",
      "Epoch 42/50\n",
      "313/313 [==============================] - 24s 78ms/step - loss: 0.1431 - accuracy: 0.9652 - val_loss: 1.2681 - val_accuracy: 0.6707\n",
      "Epoch 43/50\n",
      "313/313 [==============================] - 22s 72ms/step - loss: 0.1358 - accuracy: 0.9675 - val_loss: 1.2657 - val_accuracy: 0.6773\n",
      "Epoch 44/50\n",
      "313/313 [==============================] - 24s 76ms/step - loss: 0.1268 - accuracy: 0.9696 - val_loss: 1.2893 - val_accuracy: 0.6626\n",
      "Epoch 45/50\n",
      "313/313 [==============================] - 24s 76ms/step - loss: 0.1197 - accuracy: 0.9728 - val_loss: 1.2478 - val_accuracy: 0.6728\n",
      "Epoch 46/50\n",
      "313/313 [==============================] - 22s 71ms/step - loss: 0.1133 - accuracy: 0.9741 - val_loss: 1.3679 - val_accuracy: 0.6553\n",
      "Epoch 47/50\n",
      "313/313 [==============================] - 24s 77ms/step - loss: 0.1006 - accuracy: 0.9783 - val_loss: 1.3792 - val_accuracy: 0.6575\n",
      "Epoch 48/50\n",
      "313/313 [==============================] - 24s 78ms/step - loss: 0.0995 - accuracy: 0.9788 - val_loss: 1.3488 - val_accuracy: 0.6613\n",
      "Epoch 49/50\n",
      "313/313 [==============================] - 24s 78ms/step - loss: 0.0917 - accuracy: 0.9807 - val_loss: 1.3274 - val_accuracy: 0.6688\n",
      "Epoch 50/50\n",
      "313/313 [==============================] - 22s 71ms/step - loss: 0.0838 - accuracy: 0.9831 - val_loss: 1.4214 - val_accuracy: 0.6462\n"
     ]
    }
   ],
   "source": [
    "def gelu(x):\n",
    "    return 0.5 * x * (1 + tf.tanh(tf.sqrt(2 / np.pi) * (x + 0.044715 * tf.pow(x, 3))))\n",
    "get_custom_objects().update({'gelu': Activation(gelu)})\n",
    "\n",
    "def swish(x):\n",
    "    return x * tf.sigmoid(x)\n",
    "get_custom_objects().update({'swish': Activation(swish)})\n",
    "\n",
    "get_custom_objects().update({'leaky-relu': Activation(LeakyReLU(alpha=0.2))})\n",
    "\n",
    "# act_func = ['tanh', 'relu', 'leaky-relu', 'elu', 'selu', 'gelu', 'swish']\n",
    "\n",
    "model = alexnet('elu')\n",
    "\n",
    "batch_size = 128\n",
    "epochs = 50\n",
    "\n",
    "model.compile(optimizer=SGD(), loss='categorical_crossentropy', metrics=['accuracy'])\n",
    "\n",
    "history = model.fit(train_generator.flow(x_train, y_train, batch_size=batch_size), epochs=epochs,\n",
    "                      validation_data=val_generator.flow(x_val, y_val, batch_size=batch_size), verbose=1)"
   ]
  },
  {
   "cell_type": "code",
   "execution_count": 10,
   "metadata": {
    "colab": {
     "base_uri": "https://localhost:8080/"
    },
    "id": "A_eJn83kKCwL",
    "outputId": "fc0d548c-4f45-4543-bf35-4f5264e36069"
   },
   "outputs": [
    {
     "name": "stdout",
     "output_type": "stream",
     "text": [
      "{'loss': [1.7372740507125854, 1.477248191833496, 1.356330394744873, 1.2668501138687134, 1.198671817779541, 1.1362309455871582, 1.0789896249771118, 1.0314744710922241, 0.9850724339485168, 0.9501058459281921, 0.9077738523483276, 0.8708226680755615, 0.8398371934890747, 0.803415060043335, 0.7642993927001953, 0.7357632517814636, 0.7053939700126648, 0.6719874739646912, 0.6385971903800964, 0.6112286448478699, 0.5779175162315369, 0.5512904524803162, 0.5273371338844299, 0.4926273822784424, 0.47020453214645386, 0.4433380365371704, 0.41997450590133667, 0.3992844820022583, 0.37573760747909546, 0.35727718472480774, 0.32707324624061584, 0.30899739265441895, 0.2904185652732849, 0.27229300141334534, 0.24852456152439117, 0.23058339953422546, 0.21668986976146698, 0.20325329899787903, 0.18951033055782318, 0.17503438889980316, 0.1627914011478424, 0.15041927993297577, 0.1404515504837036, 0.13157695531845093, 0.1263136863708496, 0.11649037897586823, 0.10700376331806183, 0.10150459408760071, 0.09410199522972107, 0.0869777575135231], 'accuracy': [0.3789750039577484, 0.48969998955726624, 0.5338500142097473, 0.5670750141143799, 0.5932750105857849, 0.6136749982833862, 0.636650025844574, 0.6506999731063843, 0.670324981212616, 0.6779249906539917, 0.6967750191688538, 0.7071750164031982, 0.7171249985694885, 0.7310000061988831, 0.7465999722480774, 0.7556750178337097, 0.765874981880188, 0.7779499888420105, 0.7889000177383423, 0.7992500066757202, 0.808899998664856, 0.8215500116348267, 0.8263750076293945, 0.8421750068664551, 0.8488749861717224, 0.8608250021934509, 0.8661249876022339, 0.8755499720573425, 0.8828999996185303, 0.8880000114440918, 0.9007999897003174, 0.9060249924659729, 0.9119499921798706, 0.9196249842643738, 0.9308249950408936, 0.935325026512146, 0.9398499727249146, 0.9443249702453613, 0.9483000040054321, 0.9545750021934509, 0.9583250284194946, 0.9621999859809875, 0.9656999707221985, 0.9682250022888184, 0.9695000052452087, 0.9729250073432922, 0.9758999943733215, 0.9776999950408936, 0.9799749851226807, 0.9820250272750854], 'val_loss': [1.5839955806732178, 1.7317396402359009, 1.332634449005127, 1.3751411437988281, 1.2358568906784058, 1.219591736793518, 1.2841243743896484, 1.2427489757537842, 1.1817808151245117, 1.434096336364746, 1.2322584390640259, 1.4149720668792725, 1.348266839981079, 1.8808728456497192, 1.1109504699707031, 1.222596526145935, 1.1200995445251465, 1.197053074836731, 1.2621275186538696, 1.1744440793991089, 1.046334981918335, 1.0993255376815796, 1.3180373907089233, 1.4377022981643677, 1.1087979078292847, 1.2658859491348267, 1.2768018245697021, 1.2638107538223267, 1.1714577674865723, 1.195687174797058, 1.177134394645691, 1.264479398727417, 1.3112369775772095, 1.185316801071167, 1.2385401725769043, 1.2375688552856445, 1.294386625289917, 1.2866142988204956, 1.2683422565460205, 1.3298306465148926, 1.590421438217163, 1.2681418657302856, 1.2657179832458496, 1.2893034219741821, 1.247774362564087, 1.3679406642913818, 1.3792401552200317, 1.3487658500671387, 1.3274110555648804, 1.4213818311691284], 'val_accuracy': [0.462799996137619, 0.4016000032424927, 0.5196999907493591, 0.517799973487854, 0.5688999891281128, 0.570900022983551, 0.5504000186920166, 0.573199987411499, 0.5882999897003174, 0.5340999960899353, 0.5837000012397766, 0.5386000275611877, 0.5741000175476074, 0.4553999900817871, 0.6276999711990356, 0.6019999980926514, 0.6323000192642212, 0.6062999963760376, 0.6018999814987183, 0.6341999769210815, 0.6539999842643738, 0.6504999995231628, 0.6057999730110168, 0.5685999989509583, 0.659600019454956, 0.6276000142097473, 0.6161999702453613, 0.6312999725341797, 0.6449999809265137, 0.6534000039100647, 0.6559000015258789, 0.640500009059906, 0.6274999976158142, 0.6585000157356262, 0.6597999930381775, 0.6538000106811523, 0.6610999703407288, 0.6639999747276306, 0.6646999716758728, 0.6567999720573425, 0.6000999808311462, 0.6707000136375427, 0.677299976348877, 0.6625999808311462, 0.6728000044822693, 0.6553000211715698, 0.6575000286102295, 0.661300003528595, 0.6687999963760376, 0.6462000012397766]}\n",
      "(10000,)\n",
      "(10000,)\n",
      "0.6509\n"
     ]
    }
   ],
   "source": [
    "print(history.history)\n",
    "y_pred = np.argmax(model.predict(x_test), axis=1)\n",
    "y_true = np.argmax(y_test,axis=1)\n",
    "\n",
    "print(y_pred.shape)\n",
    "print(y_true.shape)\n",
    "\n",
    "print(np.sum(y_pred == y_true) / y_pred.shape[0])"
   ]
  }
 ],
 "metadata": {
  "accelerator": "GPU",
  "colab": {
   "collapsed_sections": [],
   "name": "cifar10_alexnet_elu.ipynb",
   "provenance": []
  },
  "kernelspec": {
   "display_name": "Python 3 (ipykernel)",
   "language": "python",
   "name": "python3"
  },
  "language_info": {
   "codemirror_mode": {
    "name": "ipython",
    "version": 3
   },
   "file_extension": ".py",
   "mimetype": "text/x-python",
   "name": "python",
   "nbconvert_exporter": "python",
   "pygments_lexer": "ipython3",
   "version": "3.9.0"
  }
 },
 "nbformat": 4,
 "nbformat_minor": 1
}

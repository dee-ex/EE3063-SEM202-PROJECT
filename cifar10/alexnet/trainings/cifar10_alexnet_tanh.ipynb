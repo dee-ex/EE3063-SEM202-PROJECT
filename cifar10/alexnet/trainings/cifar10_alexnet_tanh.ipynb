{
 "cells": [
  {
   "cell_type": "code",
   "execution_count": 1,
   "metadata": {
    "id": "-8e0tAC7e0CI"
   },
   "outputs": [],
   "source": [
    "import numpy as np\n",
    "import tensorflow as tf\n",
    "from keras.datasets import cifar10\n",
    "from keras import Sequential\n",
    "from keras.preprocessing.image import ImageDataGenerator\n",
    "from sklearn.model_selection import train_test_split\n",
    "from keras.optimizers import SGD\n",
    "from keras.layers import Dense, Activation, Dropout, Flatten, Conv2D, MaxPooling2D, LeakyReLU\n",
    "from keras.layers.normalization import BatchNormalization\n",
    "from tensorflow.keras.utils import to_categorical\n",
    "from keras.utils.generic_utils import get_custom_objects"
   ]
  },
  {
   "cell_type": "code",
   "execution_count": 2,
   "metadata": {
    "id": "WljAm5f0fKkw"
   },
   "outputs": [],
   "source": [
    "(x_train, y_train), (x_test, y_test) = cifar10.load_data()\n",
    "x_train, x_val, y_train, y_val = train_test_split(x_train, y_train, test_size=.2)"
   ]
  },
  {
   "cell_type": "code",
   "execution_count": 3,
   "metadata": {
    "id": "7u2htPZHfLP2"
   },
   "outputs": [],
   "source": [
    "y_train = to_categorical(y_train)\n",
    "y_val = to_categorical(y_val)\n",
    "y_test = to_categorical(y_test)"
   ]
  },
  {
   "cell_type": "code",
   "execution_count": 4,
   "metadata": {
    "colab": {
     "base_uri": "https://localhost:8080/"
    },
    "id": "sKxXF-OFASsu",
    "outputId": "41a2b610-a7fc-4789-a330-674c3e8079c3"
   },
   "outputs": [
    {
     "data": {
      "text/plain": [
       "((40000, 32, 32, 3),\n",
       " (40000, 10),\n",
       " (10000, 32, 32, 3),\n",
       " (10000, 10),\n",
       " (10000, 32, 32, 3),\n",
       " (10000, 10))"
      ]
     },
     "execution_count": 4,
     "metadata": {
      "tags": []
     },
     "output_type": "execute_result"
    }
   ],
   "source": [
    "x_train.shape, y_train.shape, x_val.shape, y_val.shape, x_test.shape, y_test.shape"
   ]
  },
  {
   "cell_type": "code",
   "execution_count": 5,
   "metadata": {
    "id": "QR8VwuXy-SCk"
   },
   "outputs": [],
   "source": [
    "train_generator = ImageDataGenerator(rotation_range=2, horizontal_flip=True)\n",
    "val_generator = ImageDataGenerator(rotation_range=2, horizontal_flip=True)\n",
    "test_generator = ImageDataGenerator(rotation_range=2, horizontal_flip=True)\n",
    "\n",
    "train_generator.fit(x_train)\n",
    "val_generator.fit(x_val)\n",
    "test_generator.fit(x_test)"
   ]
  },
  {
   "cell_type": "code",
   "execution_count": 6,
   "metadata": {
    "id": "UgqsFQ16Gmz4"
   },
   "outputs": [],
   "source": [
    "def alexnet(activation):\n",
    "    AlexNet = Sequential()\n",
    "\n",
    "    AlexNet.add(Conv2D(filters=96, input_shape=(32, 32, 3), kernel_size=(11, 11), strides=(4, 4), padding='same'))\n",
    "    AlexNet.add(BatchNormalization())\n",
    "    AlexNet.add(Activation(activation))\n",
    "    AlexNet.add(MaxPooling2D(pool_size=(2, 2), strides=(2, 2), padding='same'))\n",
    "\n",
    "    AlexNet.add(Conv2D(filters=256, kernel_size=(5, 5), strides=(1, 1), padding='same'))\n",
    "    AlexNet.add(BatchNormalization())\n",
    "    AlexNet.add(Activation(activation))\n",
    "    AlexNet.add(MaxPooling2D(pool_size=(2, 2), strides=(2, 2), padding='same'))\n",
    "\n",
    "    AlexNet.add(Conv2D(filters=384, kernel_size=(3, 3), strides=(1, 1), padding='same'))\n",
    "    AlexNet.add(BatchNormalization())\n",
    "    AlexNet.add(Activation(activation))\n",
    "\n",
    "    AlexNet.add(Conv2D(filters=384, kernel_size=(3, 3), strides=(1, 1), padding='same'))\n",
    "    AlexNet.add(BatchNormalization())\n",
    "    AlexNet.add(Activation(activation))\n",
    "\n",
    "    AlexNet.add(Conv2D(filters=256, kernel_size=(3, 3), strides=(1, 1), padding='same'))\n",
    "    AlexNet.add(BatchNormalization())\n",
    "    AlexNet.add(Activation(activation))\n",
    "    AlexNet.add(MaxPooling2D(pool_size=(2, 2), strides=(2, 2), padding='same'))\n",
    "\n",
    "    AlexNet.add(Flatten())\n",
    "    AlexNet.add(Dense(4096, input_shape=(32, 32, 3)))\n",
    "    AlexNet.add(BatchNormalization())\n",
    "    AlexNet.add(Activation(activation))\n",
    "    AlexNet.add(Dropout(0.5))\n",
    "\n",
    "    AlexNet.add(Dense(4096))\n",
    "    AlexNet.add(BatchNormalization())\n",
    "    AlexNet.add(Activation(activation))\n",
    "    AlexNet.add(Dropout(0.5))\n",
    "\n",
    "    AlexNet.add(Dense(1000))\n",
    "    AlexNet.add(BatchNormalization())\n",
    "    AlexNet.add(Activation(activation))\n",
    "    AlexNet.add(Dropout(0.5))\n",
    "\n",
    "    AlexNet.add(Dense(10))\n",
    "    AlexNet.add(BatchNormalization())\n",
    "    AlexNet.add(Activation('softmax'))\n",
    "\n",
    "    return AlexNet"
   ]
  },
  {
   "cell_type": "code",
   "execution_count": 7,
   "metadata": {
    "colab": {
     "base_uri": "https://localhost:8080/"
    },
    "id": "bvLaricEJB7Y",
    "outputId": "e23d5125-3293-4929-a00c-237b6ec95bc6"
   },
   "outputs": [
    {
     "name": "stdout",
     "output_type": "stream",
     "text": [
      "Epoch 1/50\n",
      "313/313 [==============================] - 55s 107ms/step - loss: 2.0113 - accuracy: 0.2781 - val_loss: 1.6773 - val_accuracy: 0.3938\n",
      "Epoch 2/50\n",
      "313/313 [==============================] - 31s 99ms/step - loss: 1.5707 - accuracy: 0.4441 - val_loss: 1.5732 - val_accuracy: 0.4456\n",
      "Epoch 3/50\n",
      "313/313 [==============================] - 32s 103ms/step - loss: 1.4513 - accuracy: 0.4934 - val_loss: 1.4960 - val_accuracy: 0.4781\n",
      "Epoch 4/50\n",
      "313/313 [==============================] - 32s 103ms/step - loss: 1.3405 - accuracy: 0.5370 - val_loss: 1.4514 - val_accuracy: 0.4941\n",
      "Epoch 5/50\n",
      "313/313 [==============================] - 33s 104ms/step - loss: 1.2771 - accuracy: 0.5613 - val_loss: 1.3915 - val_accuracy: 0.5160\n",
      "Epoch 6/50\n",
      "313/313 [==============================] - 32s 102ms/step - loss: 1.2134 - accuracy: 0.5865 - val_loss: 1.3260 - val_accuracy: 0.5472\n",
      "Epoch 7/50\n",
      "313/313 [==============================] - 32s 104ms/step - loss: 1.1536 - accuracy: 0.6046 - val_loss: 1.5813 - val_accuracy: 0.5006\n",
      "Epoch 8/50\n",
      "313/313 [==============================] - 32s 103ms/step - loss: 1.1040 - accuracy: 0.6293 - val_loss: 1.4304 - val_accuracy: 0.5325\n",
      "Epoch 9/50\n",
      "313/313 [==============================] - 32s 103ms/step - loss: 1.0647 - accuracy: 0.6429 - val_loss: 1.2545 - val_accuracy: 0.5880\n",
      "Epoch 10/50\n",
      "313/313 [==============================] - 32s 102ms/step - loss: 1.0101 - accuracy: 0.6590 - val_loss: 1.2435 - val_accuracy: 0.5882\n",
      "Epoch 11/50\n",
      "313/313 [==============================] - 33s 106ms/step - loss: 0.9677 - accuracy: 0.6755 - val_loss: 1.2632 - val_accuracy: 0.5838\n",
      "Epoch 12/50\n",
      "313/313 [==============================] - 34s 107ms/step - loss: 0.9298 - accuracy: 0.6897 - val_loss: 1.4300 - val_accuracy: 0.5370\n",
      "Epoch 13/50\n",
      "313/313 [==============================] - 33s 107ms/step - loss: 0.8998 - accuracy: 0.6983 - val_loss: 1.4902 - val_accuracy: 0.5522\n",
      "Epoch 14/50\n",
      "313/313 [==============================] - 32s 103ms/step - loss: 0.8731 - accuracy: 0.7107 - val_loss: 1.3444 - val_accuracy: 0.5756\n",
      "Epoch 15/50\n",
      "313/313 [==============================] - 32s 103ms/step - loss: 0.8369 - accuracy: 0.7213 - val_loss: 1.2298 - val_accuracy: 0.6099\n",
      "Epoch 16/50\n",
      "313/313 [==============================] - 32s 102ms/step - loss: 0.8075 - accuracy: 0.7323 - val_loss: 1.4612 - val_accuracy: 0.5689\n",
      "Epoch 17/50\n",
      "313/313 [==============================] - 32s 103ms/step - loss: 0.7731 - accuracy: 0.7445 - val_loss: 1.4995 - val_accuracy: 0.5644\n",
      "Epoch 18/50\n",
      "313/313 [==============================] - 32s 101ms/step - loss: 0.7442 - accuracy: 0.7558 - val_loss: 1.3124 - val_accuracy: 0.6077\n",
      "Epoch 19/50\n",
      "313/313 [==============================] - 32s 104ms/step - loss: 0.7091 - accuracy: 0.7673 - val_loss: 1.4054 - val_accuracy: 0.5921\n",
      "Epoch 20/50\n",
      "313/313 [==============================] - 32s 104ms/step - loss: 0.6812 - accuracy: 0.7791 - val_loss: 1.3684 - val_accuracy: 0.5998\n",
      "Epoch 21/50\n",
      "313/313 [==============================] - 32s 102ms/step - loss: 0.6561 - accuracy: 0.7855 - val_loss: 1.4057 - val_accuracy: 0.5955\n",
      "Epoch 22/50\n",
      "313/313 [==============================] - 32s 102ms/step - loss: 0.6333 - accuracy: 0.7929 - val_loss: 1.2915 - val_accuracy: 0.6136\n",
      "Epoch 23/50\n",
      "313/313 [==============================] - 32s 102ms/step - loss: 0.5963 - accuracy: 0.8055 - val_loss: 1.4824 - val_accuracy: 0.5862\n",
      "Epoch 24/50\n",
      "313/313 [==============================] - 33s 104ms/step - loss: 0.5806 - accuracy: 0.8122 - val_loss: 1.3137 - val_accuracy: 0.6238\n",
      "Epoch 25/50\n",
      "313/313 [==============================] - 32s 103ms/step - loss: 0.5592 - accuracy: 0.8192 - val_loss: 1.5738 - val_accuracy: 0.5689\n",
      "Epoch 26/50\n",
      "313/313 [==============================] - 33s 105ms/step - loss: 0.5312 - accuracy: 0.8299 - val_loss: 1.3043 - val_accuracy: 0.6317\n",
      "Epoch 27/50\n",
      "313/313 [==============================] - 32s 103ms/step - loss: 0.5042 - accuracy: 0.8361 - val_loss: 1.6041 - val_accuracy: 0.5761\n",
      "Epoch 28/50\n",
      "313/313 [==============================] - 33s 105ms/step - loss: 0.4850 - accuracy: 0.8434 - val_loss: 1.3777 - val_accuracy: 0.6207\n",
      "Epoch 29/50\n",
      "313/313 [==============================] - 33s 106ms/step - loss: 0.4692 - accuracy: 0.8503 - val_loss: 1.3985 - val_accuracy: 0.6180\n",
      "Epoch 30/50\n",
      "313/313 [==============================] - 33s 105ms/step - loss: 0.4572 - accuracy: 0.8536 - val_loss: 1.5761 - val_accuracy: 0.6075\n",
      "Epoch 31/50\n",
      "313/313 [==============================] - 33s 106ms/step - loss: 0.4225 - accuracy: 0.8666 - val_loss: 1.3958 - val_accuracy: 0.6156\n",
      "Epoch 32/50\n",
      "313/313 [==============================] - 33s 104ms/step - loss: 0.4026 - accuracy: 0.8740 - val_loss: 1.4922 - val_accuracy: 0.6059\n",
      "Epoch 33/50\n",
      "313/313 [==============================] - 33s 106ms/step - loss: 0.3815 - accuracy: 0.8772 - val_loss: 1.4144 - val_accuracy: 0.6277\n",
      "Epoch 34/50\n",
      "313/313 [==============================] - 33s 104ms/step - loss: 0.3614 - accuracy: 0.8866 - val_loss: 1.6149 - val_accuracy: 0.6004\n",
      "Epoch 35/50\n",
      "313/313 [==============================] - 33s 107ms/step - loss: 0.3458 - accuracy: 0.8918 - val_loss: 1.8254 - val_accuracy: 0.5761\n",
      "Epoch 36/50\n",
      "313/313 [==============================] - 33s 105ms/step - loss: 0.3386 - accuracy: 0.8937 - val_loss: 1.7009 - val_accuracy: 0.5916\n",
      "Epoch 37/50\n",
      "313/313 [==============================] - 34s 109ms/step - loss: 0.3124 - accuracy: 0.9031 - val_loss: 1.4770 - val_accuracy: 0.6249\n",
      "Epoch 38/50\n",
      "313/313 [==============================] - 34s 108ms/step - loss: 0.3042 - accuracy: 0.9031 - val_loss: 1.6415 - val_accuracy: 0.5980\n",
      "Epoch 39/50\n",
      "313/313 [==============================] - 34s 109ms/step - loss: 0.2851 - accuracy: 0.9124 - val_loss: 1.6139 - val_accuracy: 0.6172\n",
      "Epoch 40/50\n",
      "313/313 [==============================] - 34s 108ms/step - loss: 0.2715 - accuracy: 0.9160 - val_loss: 1.7892 - val_accuracy: 0.5892\n",
      "Epoch 41/50\n",
      "313/313 [==============================] - 34s 109ms/step - loss: 0.2659 - accuracy: 0.9169 - val_loss: 1.6252 - val_accuracy: 0.6156\n",
      "Epoch 42/50\n",
      "313/313 [==============================] - 34s 108ms/step - loss: 0.2405 - accuracy: 0.9253 - val_loss: 1.8376 - val_accuracy: 0.5840\n",
      "Epoch 43/50\n",
      "313/313 [==============================] - 34s 107ms/step - loss: 0.2312 - accuracy: 0.9302 - val_loss: 1.6993 - val_accuracy: 0.6133\n",
      "Epoch 44/50\n",
      "313/313 [==============================] - 33s 106ms/step - loss: 0.2302 - accuracy: 0.9292 - val_loss: 1.7172 - val_accuracy: 0.6081\n",
      "Epoch 45/50\n",
      "313/313 [==============================] - 34s 107ms/step - loss: 0.2145 - accuracy: 0.9349 - val_loss: 1.8796 - val_accuracy: 0.5876\n",
      "Epoch 46/50\n",
      "313/313 [==============================] - 34s 107ms/step - loss: 0.2018 - accuracy: 0.9375 - val_loss: 1.7096 - val_accuracy: 0.6085\n",
      "Epoch 47/50\n",
      "313/313 [==============================] - 34s 108ms/step - loss: 0.1872 - accuracy: 0.9450 - val_loss: 1.8656 - val_accuracy: 0.5999\n",
      "Epoch 48/50\n",
      "313/313 [==============================] - 34s 107ms/step - loss: 0.1804 - accuracy: 0.9463 - val_loss: 1.8707 - val_accuracy: 0.5904\n",
      "Epoch 49/50\n",
      "313/313 [==============================] - 34s 107ms/step - loss: 0.1702 - accuracy: 0.9481 - val_loss: 1.9425 - val_accuracy: 0.5860\n",
      "Epoch 50/50\n",
      "313/313 [==============================] - 34s 108ms/step - loss: 0.1590 - accuracy: 0.9531 - val_loss: 1.7237 - val_accuracy: 0.6264\n"
     ]
    }
   ],
   "source": [
    "def gelu(x):\n",
    "    return 0.5 * x * (1 + tf.tanh(tf.sqrt(2 / np.pi) * (x + 0.044715 * tf.pow(x, 3))))\n",
    "get_custom_objects().update({'gelu': Activation(gelu)})\n",
    "\n",
    "def swish(x):\n",
    "    return x * tf.sigmoid(x)\n",
    "get_custom_objects().update({'swish': Activation(swish)})\n",
    "\n",
    "get_custom_objects().update({'leaky-relu': Activation(LeakyReLU(alpha=0.2))})\n",
    "\n",
    "# act_func = ['tanh', 'relu', 'leaky-relu', 'elu', 'selu', 'gelu', 'swish']\n",
    "\n",
    "model = alexnet('tanh')\n",
    "\n",
    "batch_size = 128\n",
    "epochs = 50\n",
    "\n",
    "model.compile(optimizer=SGD(), loss='categorical_crossentropy', metrics=['accuracy'])\n",
    "\n",
    "history = model.fit(train_generator.flow(x_train, y_train, batch_size=batch_size), epochs=epochs,\n",
    "                      validation_data=val_generator.flow(x_val, y_val, batch_size=batch_size), verbose=1)"
   ]
  },
  {
   "cell_type": "code",
   "execution_count": 8,
   "metadata": {
    "colab": {
     "base_uri": "https://localhost:8080/"
    },
    "id": "A_eJn83kKCwL",
    "outputId": "6c27d622-9d04-403e-9043-c3ab5c031ab5"
   },
   "outputs": [
    {
     "name": "stdout",
     "output_type": "stream",
     "text": [
      "{'loss': [1.8192692995071411, 1.5386582612991333, 1.4236712455749512, 1.3322482109069824, 1.2635610103607178, 1.2008086442947388, 1.1454763412475586, 1.1024616956710815, 1.054668664932251, 1.0149914026260376, 0.9743750095367432, 0.9400891661643982, 0.9081237316131592, 0.8748908042907715, 0.8462015390396118, 0.8153714537620544, 0.7850127220153809, 0.7526926398277283, 0.722160279750824, 0.6945837140083313, 0.6739773154258728, 0.6453880071640015, 0.6238464117050171, 0.5927892923355103, 0.5749105215072632, 0.5451666712760925, 0.5220342874526978, 0.501533567905426, 0.48165076971054077, 0.46648895740509033, 0.4373399317264557, 0.41826170682907104, 0.39944976568222046, 0.38074493408203125, 0.35684046149253845, 0.3436119854450226, 0.3287675678730011, 0.31865718960762024, 0.2972946763038635, 0.28698861598968506, 0.27228519320487976, 0.25497323274612427, 0.24100996553897858, 0.2348290979862213, 0.22054602205753326, 0.20942416787147522, 0.19202469289302826, 0.19090473651885986, 0.17873859405517578, 0.1715519279241562], 'accuracy': [0.3430750072002411, 0.45910000801086426, 0.5044999718666077, 0.5408750176429749, 0.5655249953269958, 0.5897499918937683, 0.6076499819755554, 0.6258000135421753, 0.642549991607666, 0.6553999781608582, 0.6717749834060669, 0.6842250227928162, 0.6940749883651733, 0.7076749801635742, 0.7167999744415283, 0.7276999950408936, 0.7380499839782715, 0.7517750263214111, 0.7613000273704529, 0.7725250124931335, 0.7773000001907349, 0.7886999845504761, 0.7942000031471252, 0.8064749836921692, 0.8126999735832214, 0.8235750198364258, 0.8296250104904175, 0.8374000191688538, 0.84375, 0.848675012588501, 0.8597000241279602, 0.8669250011444092, 0.8711000084877014, 0.8785250186920166, 0.8863999843597412, 0.8905500173568726, 0.8975750207901001, 0.8985249996185303, 0.9065499901771545, 0.9078999757766724, 0.9136499762535095, 0.9200500249862671, 0.925225019454956, 0.926800012588501, 0.9317499995231628, 0.9354249835014343, 0.9425250291824341, 0.9416499733924866, 0.9446499943733215, 0.9478499889373779], 'val_loss': [1.677346110343933, 1.5731964111328125, 1.4960269927978516, 1.4514206647872925, 1.391528606414795, 1.3259550333023071, 1.5813435316085815, 1.4303572177886963, 1.2545465230941772, 1.2434710264205933, 1.2632032632827759, 1.4300181865692139, 1.4902092218399048, 1.3444077968597412, 1.229811429977417, 1.4612146615982056, 1.4995003938674927, 1.3124003410339355, 1.4053558111190796, 1.3684327602386475, 1.4057304859161377, 1.2914937734603882, 1.4823898077011108, 1.3136600255966187, 1.573830246925354, 1.3043439388275146, 1.6040825843811035, 1.3777135610580444, 1.3984936475753784, 1.5761311054229736, 1.3957806825637817, 1.4921624660491943, 1.4143620729446411, 1.6148922443389893, 1.8254342079162598, 1.7009474039077759, 1.4769967794418335, 1.6415072679519653, 1.613871693611145, 1.7891640663146973, 1.625169038772583, 1.837646484375, 1.6992545127868652, 1.7172496318817139, 1.8795720338821411, 1.7096171379089355, 1.8656097650527954, 1.8707257509231567, 1.9424595832824707, 1.7237224578857422], 'val_accuracy': [0.3937999904155731, 0.4456000030040741, 0.4781000018119812, 0.49410000443458557, 0.515999972820282, 0.5472000241279602, 0.5005999803543091, 0.5325000286102295, 0.5879999995231628, 0.5881999731063843, 0.5838000178337097, 0.5370000004768372, 0.5522000193595886, 0.5756000280380249, 0.6098999977111816, 0.5688999891281128, 0.5644000172615051, 0.607699990272522, 0.5921000242233276, 0.5997999906539917, 0.5954999923706055, 0.6136000156402588, 0.5861999988555908, 0.6237999796867371, 0.5688999891281128, 0.6316999793052673, 0.5760999917984009, 0.6207000017166138, 0.6179999709129333, 0.6075000166893005, 0.6155999898910522, 0.60589998960495, 0.6276999711990356, 0.6003999710083008, 0.5760999917984009, 0.5916000008583069, 0.6248999834060669, 0.5979999899864197, 0.6172000169754028, 0.5892000198364258, 0.6155999898910522, 0.5839999914169312, 0.6133000254631042, 0.6080999970436096, 0.5875999927520752, 0.6085000038146973, 0.5999000072479248, 0.590399980545044, 0.5860000252723694, 0.6263999938964844]}\n",
      "(10000,)\n",
      "(10000,)\n",
      "0.6224\n"
     ]
    }
   ],
   "source": [
    "print(history.history)\n",
    "y_pred = np.argmax(model.predict(x_test), axis=1)\n",
    "y_true = np.argmax(y_test,axis=1)\n",
    "\n",
    "print(y_pred.shape)\n",
    "print(y_true.shape)\n",
    "\n",
    "print(np.sum(y_pred == y_true) / y_pred.shape[0])"
   ]
  }
 ],
 "metadata": {
  "accelerator": "GPU",
  "colab": {
   "collapsed_sections": [],
   "name": "cifar10_alexnet_tanh.ipynb",
   "provenance": []
  },
  "kernelspec": {
   "display_name": "Python 3 (ipykernel)",
   "language": "python",
   "name": "python3"
  },
  "language_info": {
   "codemirror_mode": {
    "name": "ipython",
    "version": 3
   },
   "file_extension": ".py",
   "mimetype": "text/x-python",
   "name": "python",
   "nbconvert_exporter": "python",
   "pygments_lexer": "ipython3",
   "version": "3.9.0"
  }
 },
 "nbformat": 4,
 "nbformat_minor": 1
}

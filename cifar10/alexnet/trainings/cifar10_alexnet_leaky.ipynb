{
 "cells": [
  {
   "cell_type": "code",
   "execution_count": 1,
   "metadata": {
    "id": "-8e0tAC7e0CI"
   },
   "outputs": [],
   "source": [
    "import numpy as np\n",
    "import tensorflow as tf\n",
    "from keras.datasets import cifar10\n",
    "from keras import Sequential\n",
    "from keras.preprocessing.image import ImageDataGenerator\n",
    "from sklearn.model_selection import train_test_split\n",
    "from keras.optimizers import SGD\n",
    "from keras.layers import Dense, Activation, Dropout, Flatten, Conv2D, MaxPooling2D, LeakyReLU\n",
    "from keras.layers.normalization import BatchNormalization\n",
    "from tensorflow.keras.utils import to_categorical\n",
    "from keras.utils.generic_utils import get_custom_objects"
   ]
  },
  {
   "cell_type": "code",
   "execution_count": 2,
   "metadata": {
    "colab": {
     "base_uri": "https://localhost:8080/"
    },
    "id": "WljAm5f0fKkw",
    "outputId": "9ffefd49-6db8-452f-98e2-939286ab0ace"
   },
   "outputs": [
    {
     "name": "stdout",
     "output_type": "stream",
     "text": [
      "Downloading data from https://www.cs.toronto.edu/~kriz/cifar-10-python.tar.gz\n",
      "170500096/170498071 [==============================] - 4s 0us/step\n",
      "170508288/170498071 [==============================] - 4s 0us/step\n"
     ]
    }
   ],
   "source": [
    "(x_train, y_train), (x_test, y_test) = cifar10.load_data()\n",
    "x_train, x_val, y_train, y_val = train_test_split(x_train, y_train, test_size=.2)"
   ]
  },
  {
   "cell_type": "code",
   "execution_count": 3,
   "metadata": {
    "id": "7u2htPZHfLP2"
   },
   "outputs": [],
   "source": [
    "y_train = to_categorical(y_train)\n",
    "y_val = to_categorical(y_val)\n",
    "y_test = to_categorical(y_test)"
   ]
  },
  {
   "cell_type": "code",
   "execution_count": 4,
   "metadata": {
    "colab": {
     "base_uri": "https://localhost:8080/"
    },
    "id": "sKxXF-OFASsu",
    "outputId": "e8f169c6-b95d-45cd-c0c7-4af4869c3b8b"
   },
   "outputs": [
    {
     "data": {
      "text/plain": [
       "((40000, 32, 32, 3),\n",
       " (40000, 10),\n",
       " (10000, 32, 32, 3),\n",
       " (10000, 10),\n",
       " (10000, 32, 32, 3),\n",
       " (10000, 10))"
      ]
     },
     "execution_count": 4,
     "metadata": {
      "tags": []
     },
     "output_type": "execute_result"
    }
   ],
   "source": [
    "x_train.shape, y_train.shape, x_val.shape, y_val.shape, x_test.shape, y_test.shape"
   ]
  },
  {
   "cell_type": "code",
   "execution_count": 5,
   "metadata": {
    "id": "QR8VwuXy-SCk"
   },
   "outputs": [],
   "source": [
    "train_generator = ImageDataGenerator(rotation_range=2, horizontal_flip=True)\n",
    "val_generator = ImageDataGenerator(rotation_range=2, horizontal_flip=True)\n",
    "test_generator = ImageDataGenerator(rotation_range=2, horizontal_flip=True)\n",
    "\n",
    "train_generator.fit(x_train)\n",
    "val_generator.fit(x_val)\n",
    "test_generator.fit(x_test)"
   ]
  },
  {
   "cell_type": "code",
   "execution_count": 6,
   "metadata": {
    "id": "UgqsFQ16Gmz4"
   },
   "outputs": [],
   "source": [
    "def alexnet(activation):\n",
    "    AlexNet = Sequential()\n",
    "\n",
    "    AlexNet.add(Conv2D(filters=96, input_shape=(32, 32, 3), kernel_size=(11, 11), strides=(4, 4), padding='same'))\n",
    "    AlexNet.add(BatchNormalization())\n",
    "    AlexNet.add(Activation(activation))\n",
    "    AlexNet.add(MaxPooling2D(pool_size=(2, 2), strides=(2, 2), padding='same'))\n",
    "\n",
    "    AlexNet.add(Conv2D(filters=256, kernel_size=(5, 5), strides=(1, 1), padding='same'))\n",
    "    AlexNet.add(BatchNormalization())\n",
    "    AlexNet.add(Activation(activation))\n",
    "    AlexNet.add(MaxPooling2D(pool_size=(2, 2), strides=(2, 2), padding='same'))\n",
    "\n",
    "    AlexNet.add(Conv2D(filters=384, kernel_size=(3, 3), strides=(1, 1), padding='same'))\n",
    "    AlexNet.add(BatchNormalization())\n",
    "    AlexNet.add(Activation(activation))\n",
    "\n",
    "    AlexNet.add(Conv2D(filters=384, kernel_size=(3, 3), strides=(1, 1), padding='same'))\n",
    "    AlexNet.add(BatchNormalization())\n",
    "    AlexNet.add(Activation(activation))\n",
    "\n",
    "    AlexNet.add(Conv2D(filters=256, kernel_size=(3, 3), strides=(1, 1), padding='same'))\n",
    "    AlexNet.add(BatchNormalization())\n",
    "    AlexNet.add(Activation(activation))\n",
    "    AlexNet.add(MaxPooling2D(pool_size=(2, 2), strides=(2, 2), padding='same'))\n",
    "\n",
    "    AlexNet.add(Flatten())\n",
    "    AlexNet.add(Dense(4096, input_shape=(32, 32, 3)))\n",
    "    AlexNet.add(BatchNormalization())\n",
    "    AlexNet.add(Activation(activation))\n",
    "    AlexNet.add(Dropout(0.5))\n",
    "\n",
    "    AlexNet.add(Dense(4096))\n",
    "    AlexNet.add(BatchNormalization())\n",
    "    AlexNet.add(Activation(activation))\n",
    "    AlexNet.add(Dropout(0.5))\n",
    "\n",
    "    AlexNet.add(Dense(1000))\n",
    "    AlexNet.add(BatchNormalization())\n",
    "    AlexNet.add(Activation(activation))\n",
    "    AlexNet.add(Dropout(0.5))\n",
    "\n",
    "    AlexNet.add(Dense(10))\n",
    "    AlexNet.add(BatchNormalization())\n",
    "    AlexNet.add(Activation('softmax'))\n",
    "\n",
    "    return AlexNet"
   ]
  },
  {
   "cell_type": "code",
   "execution_count": 7,
   "metadata": {
    "colab": {
     "base_uri": "https://localhost:8080/"
    },
    "id": "bvLaricEJB7Y",
    "outputId": "18798364-2e5a-4647-a283-9ebabc46ae9e"
   },
   "outputs": [
    {
     "name": "stdout",
     "output_type": "stream",
     "text": [
      "Epoch 1/50\n",
      "313/313 [==============================] - 75s 78ms/step - loss: 2.0089 - accuracy: 0.2774 - val_loss: 1.7631 - val_accuracy: 0.4435\n",
      "Epoch 2/50\n",
      "313/313 [==============================] - 23s 73ms/step - loss: 1.5626 - accuracy: 0.4550 - val_loss: 1.4860 - val_accuracy: 0.4796\n",
      "Epoch 3/50\n",
      "313/313 [==============================] - 22s 69ms/step - loss: 1.4191 - accuracy: 0.5078 - val_loss: 1.4238 - val_accuracy: 0.4931\n",
      "Epoch 4/50\n",
      "313/313 [==============================] - 23s 72ms/step - loss: 1.3181 - accuracy: 0.5455 - val_loss: 1.6654 - val_accuracy: 0.4259\n",
      "Epoch 5/50\n",
      "313/313 [==============================] - 22s 71ms/step - loss: 1.2443 - accuracy: 0.5735 - val_loss: 1.2940 - val_accuracy: 0.5475\n",
      "Epoch 6/50\n",
      "313/313 [==============================] - 22s 69ms/step - loss: 1.1789 - accuracy: 0.6015 - val_loss: 1.4432 - val_accuracy: 0.4979\n",
      "Epoch 7/50\n",
      "313/313 [==============================] - 23s 73ms/step - loss: 1.1176 - accuracy: 0.6208 - val_loss: 1.2684 - val_accuracy: 0.5594\n",
      "Epoch 8/50\n",
      "313/313 [==============================] - 23s 73ms/step - loss: 1.0793 - accuracy: 0.6387 - val_loss: 1.2792 - val_accuracy: 0.5635\n",
      "Epoch 9/50\n",
      "313/313 [==============================] - 23s 74ms/step - loss: 1.0148 - accuracy: 0.6571 - val_loss: 1.4585 - val_accuracy: 0.5141\n",
      "Epoch 10/50\n",
      "313/313 [==============================] - 22s 69ms/step - loss: 0.9791 - accuracy: 0.6733 - val_loss: 1.2174 - val_accuracy: 0.5775\n",
      "Epoch 11/50\n",
      "313/313 [==============================] - 22s 70ms/step - loss: 0.9522 - accuracy: 0.6783 - val_loss: 1.0808 - val_accuracy: 0.6342\n",
      "Epoch 12/50\n",
      "313/313 [==============================] - 23s 74ms/step - loss: 0.9110 - accuracy: 0.6933 - val_loss: 1.1123 - val_accuracy: 0.6192\n",
      "Epoch 13/50\n",
      "313/313 [==============================] - 22s 69ms/step - loss: 0.8687 - accuracy: 0.7121 - val_loss: 1.1168 - val_accuracy: 0.6140\n",
      "Epoch 14/50\n",
      "313/313 [==============================] - 22s 71ms/step - loss: 0.8237 - accuracy: 0.7269 - val_loss: 1.2194 - val_accuracy: 0.5819\n",
      "Epoch 15/50\n",
      "313/313 [==============================] - 23s 74ms/step - loss: 0.8006 - accuracy: 0.7354 - val_loss: 1.1860 - val_accuracy: 0.6015\n",
      "Epoch 16/50\n",
      "313/313 [==============================] - 22s 70ms/step - loss: 0.7702 - accuracy: 0.7476 - val_loss: 1.0963 - val_accuracy: 0.6265\n",
      "Epoch 17/50\n",
      "313/313 [==============================] - 22s 72ms/step - loss: 0.7454 - accuracy: 0.7540 - val_loss: 1.0881 - val_accuracy: 0.6275\n",
      "Epoch 18/50\n",
      "313/313 [==============================] - 23s 73ms/step - loss: 0.7229 - accuracy: 0.7619 - val_loss: 1.2249 - val_accuracy: 0.6024\n",
      "Epoch 19/50\n",
      "313/313 [==============================] - 22s 70ms/step - loss: 0.6815 - accuracy: 0.7752 - val_loss: 1.0499 - val_accuracy: 0.6449\n",
      "Epoch 20/50\n",
      "313/313 [==============================] - 23s 72ms/step - loss: 0.6503 - accuracy: 0.7870 - val_loss: 1.2086 - val_accuracy: 0.6064\n",
      "Epoch 21/50\n",
      "313/313 [==============================] - 23s 73ms/step - loss: 0.6268 - accuracy: 0.7945 - val_loss: 1.2346 - val_accuracy: 0.6008\n",
      "Epoch 22/50\n",
      "313/313 [==============================] - 23s 75ms/step - loss: 0.5945 - accuracy: 0.8068 - val_loss: 1.4527 - val_accuracy: 0.5591\n",
      "Epoch 23/50\n",
      "313/313 [==============================] - 22s 70ms/step - loss: 0.5803 - accuracy: 0.8143 - val_loss: 1.0811 - val_accuracy: 0.6470\n",
      "Epoch 24/50\n",
      "313/313 [==============================] - 22s 69ms/step - loss: 0.5447 - accuracy: 0.8226 - val_loss: 1.2249 - val_accuracy: 0.6144\n",
      "Epoch 25/50\n",
      "313/313 [==============================] - 23s 75ms/step - loss: 0.5204 - accuracy: 0.8321 - val_loss: 1.0388 - val_accuracy: 0.6692\n",
      "Epoch 26/50\n",
      "313/313 [==============================] - 22s 70ms/step - loss: 0.4989 - accuracy: 0.8416 - val_loss: 1.1263 - val_accuracy: 0.6440\n",
      "Epoch 27/50\n",
      "313/313 [==============================] - 22s 70ms/step - loss: 0.4743 - accuracy: 0.8482 - val_loss: 1.0501 - val_accuracy: 0.6730\n",
      "Epoch 28/50\n",
      "313/313 [==============================] - 23s 74ms/step - loss: 0.4528 - accuracy: 0.8553 - val_loss: 1.3208 - val_accuracy: 0.6077\n",
      "Epoch 29/50\n",
      "313/313 [==============================] - 22s 70ms/step - loss: 0.4335 - accuracy: 0.8623 - val_loss: 1.0828 - val_accuracy: 0.6628\n",
      "Epoch 30/50\n",
      "313/313 [==============================] - 22s 70ms/step - loss: 0.4136 - accuracy: 0.8691 - val_loss: 1.2923 - val_accuracy: 0.6236\n",
      "Epoch 31/50\n",
      "313/313 [==============================] - 23s 75ms/step - loss: 0.3802 - accuracy: 0.8807 - val_loss: 1.2012 - val_accuracy: 0.6422\n",
      "Epoch 32/50\n",
      "313/313 [==============================] - 22s 69ms/step - loss: 0.3626 - accuracy: 0.8846 - val_loss: 1.1864 - val_accuracy: 0.6543\n",
      "Epoch 33/50\n",
      "313/313 [==============================] - 22s 70ms/step - loss: 0.3585 - accuracy: 0.8875 - val_loss: 1.3885 - val_accuracy: 0.6208\n",
      "Epoch 34/50\n",
      "313/313 [==============================] - 23s 74ms/step - loss: 0.3269 - accuracy: 0.9003 - val_loss: 1.3627 - val_accuracy: 0.6242\n",
      "Epoch 35/50\n",
      "313/313 [==============================] - 22s 70ms/step - loss: 0.3077 - accuracy: 0.9048 - val_loss: 1.1449 - val_accuracy: 0.6662\n",
      "Epoch 36/50\n",
      "313/313 [==============================] - 22s 70ms/step - loss: 0.2909 - accuracy: 0.9126 - val_loss: 1.4170 - val_accuracy: 0.6166\n",
      "Epoch 37/50\n",
      "313/313 [==============================] - 23s 74ms/step - loss: 0.2739 - accuracy: 0.9170 - val_loss: 1.3151 - val_accuracy: 0.6291\n",
      "Epoch 38/50\n",
      "313/313 [==============================] - 23s 74ms/step - loss: 0.2619 - accuracy: 0.9216 - val_loss: 1.2489 - val_accuracy: 0.6550\n",
      "Epoch 39/50\n",
      "313/313 [==============================] - 22s 71ms/step - loss: 0.2557 - accuracy: 0.9225 - val_loss: 1.6414 - val_accuracy: 0.5939\n",
      "Epoch 40/50\n",
      "313/313 [==============================] - 22s 69ms/step - loss: 0.2375 - accuracy: 0.9284 - val_loss: 1.4367 - val_accuracy: 0.6147\n",
      "Epoch 41/50\n",
      "313/313 [==============================] - 23s 74ms/step - loss: 0.2372 - accuracy: 0.9266 - val_loss: 1.4333 - val_accuracy: 0.6329\n",
      "Epoch 42/50\n",
      "313/313 [==============================] - 22s 71ms/step - loss: 0.2280 - accuracy: 0.9296 - val_loss: 1.3521 - val_accuracy: 0.6423\n",
      "Epoch 43/50\n",
      "313/313 [==============================] - 22s 70ms/step - loss: 0.2020 - accuracy: 0.9398 - val_loss: 1.2290 - val_accuracy: 0.6710\n",
      "Epoch 44/50\n",
      "313/313 [==============================] - 23s 74ms/step - loss: 0.1919 - accuracy: 0.9439 - val_loss: 1.3340 - val_accuracy: 0.6622\n",
      "Epoch 45/50\n",
      "313/313 [==============================] - 22s 70ms/step - loss: 0.1701 - accuracy: 0.9508 - val_loss: 1.2790 - val_accuracy: 0.6578\n",
      "Epoch 46/50\n",
      "313/313 [==============================] - 22s 70ms/step - loss: 0.1770 - accuracy: 0.9499 - val_loss: 1.4633 - val_accuracy: 0.6449\n",
      "Epoch 47/50\n",
      "313/313 [==============================] - 23s 75ms/step - loss: 0.1587 - accuracy: 0.9544 - val_loss: 1.6223 - val_accuracy: 0.6204\n",
      "Epoch 48/50\n",
      "313/313 [==============================] - 22s 71ms/step - loss: 0.1604 - accuracy: 0.9536 - val_loss: 1.3400 - val_accuracy: 0.6613\n",
      "Epoch 49/50\n",
      "313/313 [==============================] - 22s 69ms/step - loss: 0.1427 - accuracy: 0.9597 - val_loss: 1.4849 - val_accuracy: 0.6385\n",
      "Epoch 50/50\n",
      "313/313 [==============================] - 23s 74ms/step - loss: 0.1279 - accuracy: 0.9660 - val_loss: 1.4397 - val_accuracy: 0.6466\n"
     ]
    }
   ],
   "source": [
    "def gelu(x):\n",
    "    return 0.5 * x * (1 + tf.tanh(tf.sqrt(2 / np.pi) * (x + 0.044715 * tf.pow(x, 3))))\n",
    "get_custom_objects().update({'gelu': Activation(gelu)})\n",
    "\n",
    "def swish(x):\n",
    "    return x * tf.sigmoid(x)\n",
    "get_custom_objects().update({'swish': Activation(swish)})\n",
    "\n",
    "get_custom_objects().update({'leaky-relu': Activation(LeakyReLU(alpha=0.2))})\n",
    "\n",
    "# act_func = ['tanh', 'relu', 'leaky-relu', 'elu', 'selu', 'gelu', 'swish']\n",
    "\n",
    "model = alexnet('leaky-relu')\n",
    "\n",
    "batch_size = 128\n",
    "epochs = 50\n",
    "\n",
    "model.compile(optimizer=SGD(), loss='categorical_crossentropy', metrics=['accuracy'])\n",
    "\n",
    "history = model.fit(train_generator.flow(x_train, y_train, batch_size=batch_size), epochs=epochs,\n",
    "                      validation_data=val_generator.flow(x_val, y_val, batch_size=batch_size), verbose=1)"
   ]
  },
  {
   "cell_type": "code",
   "execution_count": 8,
   "metadata": {
    "colab": {
     "base_uri": "https://localhost:8080/"
    },
    "id": "A_eJn83kKCwL",
    "outputId": "7e74a0dd-b465-4844-df5a-c0e67e88f80d"
   },
   "outputs": [
    {
     "name": "stdout",
     "output_type": "stream",
     "text": [
      "{'loss': [1.8053257465362549, 1.5177497863769531, 1.3935015201568604, 1.3065769672393799, 1.227891206741333, 1.169546127319336, 1.1156667470932007, 1.0635063648223877, 1.0232447385787964, 0.9805762767791748, 0.9465968608856201, 0.9113465547561646, 0.8731253743171692, 0.8359682559967041, 0.8098864555358887, 0.7782467603683472, 0.7468400597572327, 0.7265978455543518, 0.6836628317832947, 0.6596941947937012, 0.6381928324699402, 0.6094450354576111, 0.5865973830223083, 0.5583140254020691, 0.5372877717018127, 0.5115222930908203, 0.4845893979072571, 0.46488896012306213, 0.4413396418094635, 0.42327144742012024, 0.3975083827972412, 0.37976861000061035, 0.36343854665756226, 0.3367063105106354, 0.3250217139720917, 0.301898717880249, 0.28773295879364014, 0.2731980085372925, 0.2638240456581116, 0.24611687660217285, 0.2406911551952362, 0.2259945273399353, 0.20914624631404877, 0.200754776597023, 0.18274718523025513, 0.17727836966514587, 0.168720543384552, 0.15578170120716095, 0.14745962619781494, 0.1362602710723877], 'accuracy': [0.34964999556541443, 0.47372499108314514, 0.5196999907493591, 0.5503249764442444, 0.5814250111579895, 0.6022999882698059, 0.6209999918937683, 0.6406499743461609, 0.6548500061035156, 0.6697999835014343, 0.6805999875068665, 0.6933249831199646, 0.7086499929428101, 0.7213749885559082, 0.7312250137329102, 0.7409999966621399, 0.7535499930381775, 0.7583500146865845, 0.774399995803833, 0.7815499901771545, 0.7900500297546387, 0.7993749976158142, 0.8101000189781189, 0.8160499930381775, 0.8242499828338623, 0.8345500230789185, 0.8454750180244446, 0.8506249785423279, 0.8593500256538391, 0.8648250102996826, 0.8730000257492065, 0.8777499794960022, 0.8848999738693237, 0.8958250284194946, 0.8977000117301941, 0.9071000218391418, 0.9119750261306763, 0.9161249995231628, 0.9185749888420105, 0.9245499968528748, 0.9254249930381775, 0.9309999942779541, 0.9376749992370605, 0.9412500262260437, 0.9462249875068665, 0.9483500123023987, 0.9510499835014343, 0.9557250142097473, 0.9583250284194946, 0.9630749821662903], 'val_loss': [1.7631471157073975, 1.4860085248947144, 1.4238064289093018, 1.6654456853866577, 1.2940212488174438, 1.4431555271148682, 1.2683969736099243, 1.27921724319458, 1.458495855331421, 1.2173588275909424, 1.0808404684066772, 1.112318992614746, 1.1168140172958374, 1.2193659543991089, 1.1860367059707642, 1.0962640047073364, 1.088078260421753, 1.2248878479003906, 1.0498621463775635, 1.2086410522460938, 1.2345529794692993, 1.4526557922363281, 1.0810834169387817, 1.2249099016189575, 1.038763165473938, 1.1262719631195068, 1.0500907897949219, 1.3208096027374268, 1.082828164100647, 1.2922834157943726, 1.2011858224868774, 1.1864352226257324, 1.3884787559509277, 1.3626753091812134, 1.144850254058838, 1.4169633388519287, 1.3150608539581299, 1.2489464282989502, 1.641418695449829, 1.4366801977157593, 1.4333118200302124, 1.3520679473876953, 1.2289836406707764, 1.3340004682540894, 1.2789978981018066, 1.4633296728134155, 1.6222683191299438, 1.3400017023086548, 1.4849153757095337, 1.4396703243255615], 'val_accuracy': [0.44350001215934753, 0.4796000123023987, 0.49309998750686646, 0.42590001225471497, 0.5475000143051147, 0.49790000915527344, 0.5594000220298767, 0.5634999871253967, 0.5141000151634216, 0.5774999856948853, 0.6341999769210815, 0.6191999912261963, 0.6140000224113464, 0.5819000005722046, 0.6014999747276306, 0.6265000104904175, 0.6274999976158142, 0.602400004863739, 0.6449000239372253, 0.6064000129699707, 0.6007999777793884, 0.5590999722480774, 0.6470000147819519, 0.6144000291824341, 0.6692000031471252, 0.6439999938011169, 0.6729999780654907, 0.607699990272522, 0.6628000140190125, 0.6236000061035156, 0.6421999931335449, 0.6542999744415283, 0.6208000183105469, 0.6241999864578247, 0.6661999821662903, 0.616599977016449, 0.6291000247001648, 0.6549999713897705, 0.5939000248908997, 0.6147000193595886, 0.6328999996185303, 0.642300009727478, 0.6710000038146973, 0.6621999740600586, 0.657800018787384, 0.6449000239372253, 0.6204000115394592, 0.661300003528595, 0.6384999752044678, 0.6466000080108643]}\n",
      "(10000,)\n",
      "(10000,)\n",
      "0.6453\n"
     ]
    }
   ],
   "source": [
    "print(history.history)\n",
    "y_pred = np.argmax(model.predict(x_test), axis=1)\n",
    "y_true = np.argmax(y_test,axis=1)\n",
    "\n",
    "print(y_pred.shape)\n",
    "print(y_true.shape)\n",
    "\n",
    "print(np.sum(y_pred == y_true) / y_pred.shape[0])"
   ]
  }
 ],
 "metadata": {
  "accelerator": "GPU",
  "colab": {
   "collapsed_sections": [],
   "name": "cifar10_alexnet_leaky.ipynb",
   "provenance": []
  },
  "kernelspec": {
   "display_name": "Python 3 (ipykernel)",
   "language": "python",
   "name": "python3"
  },
  "language_info": {
   "codemirror_mode": {
    "name": "ipython",
    "version": 3
   },
   "file_extension": ".py",
   "mimetype": "text/x-python",
   "name": "python",
   "nbconvert_exporter": "python",
   "pygments_lexer": "ipython3",
   "version": "3.9.0"
  }
 },
 "nbformat": 4,
 "nbformat_minor": 1
}

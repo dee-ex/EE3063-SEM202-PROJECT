{
 "cells": [
  {
   "cell_type": "code",
   "execution_count": 1,
   "metadata": {
    "id": "-8e0tAC7e0CI"
   },
   "outputs": [],
   "source": [
    "import numpy as np\n",
    "import tensorflow as tf\n",
    "from keras.datasets import cifar10\n",
    "from keras import Sequential\n",
    "from keras.preprocessing.image import ImageDataGenerator\n",
    "from sklearn.model_selection import train_test_split\n",
    "from keras.optimizers import SGD\n",
    "from keras.layers import Dense, Activation, Dropout, Flatten, Conv2D, MaxPooling2D, LeakyReLU\n",
    "from keras.layers.normalization import BatchNormalization\n",
    "from tensorflow.keras.utils import to_categorical\n",
    "from keras.utils.generic_utils import get_custom_objects"
   ]
  },
  {
   "cell_type": "code",
   "execution_count": 2,
   "metadata": {
    "colab": {
     "base_uri": "https://localhost:8080/"
    },
    "id": "WljAm5f0fKkw",
    "outputId": "9ffefd49-6db8-452f-98e2-939286ab0ace"
   },
   "outputs": [
    {
     "name": "stdout",
     "output_type": "stream",
     "text": [
      "Downloading data from https://www.cs.toronto.edu/~kriz/cifar-10-python.tar.gz\n",
      "170500096/170498071 [==============================] - 4s 0us/step\n",
      "170508288/170498071 [==============================] - 4s 0us/step\n"
     ]
    }
   ],
   "source": [
    "(x_train, y_train), (x_test, y_test) = cifar10.load_data()\n",
    "x_train, x_val, y_train, y_val = train_test_split(x_train, y_train, test_size=.2)"
   ]
  },
  {
   "cell_type": "code",
   "execution_count": 3,
   "metadata": {
    "id": "7u2htPZHfLP2"
   },
   "outputs": [],
   "source": [
    "y_train = to_categorical(y_train)\n",
    "y_val = to_categorical(y_val)\n",
    "y_test = to_categorical(y_test)"
   ]
  },
  {
   "cell_type": "code",
   "execution_count": 4,
   "metadata": {
    "colab": {
     "base_uri": "https://localhost:8080/"
    },
    "id": "sKxXF-OFASsu",
    "outputId": "e8f169c6-b95d-45cd-c0c7-4af4869c3b8b"
   },
   "outputs": [
    {
     "data": {
      "text/plain": [
       "((40000, 32, 32, 3),\n",
       " (40000, 10),\n",
       " (10000, 32, 32, 3),\n",
       " (10000, 10),\n",
       " (10000, 32, 32, 3),\n",
       " (10000, 10))"
      ]
     },
     "execution_count": 4,
     "metadata": {
      "tags": []
     },
     "output_type": "execute_result"
    }
   ],
   "source": [
    "x_train.shape, y_train.shape, x_val.shape, y_val.shape, x_test.shape, y_test.shape"
   ]
  },
  {
   "cell_type": "code",
   "execution_count": 5,
   "metadata": {
    "id": "QR8VwuXy-SCk"
   },
   "outputs": [],
   "source": [
    "train_generator = ImageDataGenerator(rotation_range=2, horizontal_flip=True)\n",
    "val_generator = ImageDataGenerator(rotation_range=2, horizontal_flip=True)\n",
    "test_generator = ImageDataGenerator(rotation_range=2, horizontal_flip=True)\n",
    "\n",
    "train_generator.fit(x_train)\n",
    "val_generator.fit(x_val)\n",
    "test_generator.fit(x_test)"
   ]
  },
  {
   "cell_type": "code",
   "execution_count": 6,
   "metadata": {
    "id": "UgqsFQ16Gmz4"
   },
   "outputs": [],
   "source": [
    "def alexnet(activation):\n",
    "    AlexNet = Sequential()\n",
    "\n",
    "    AlexNet.add(Conv2D(filters=96, input_shape=(32, 32, 3), kernel_size=(11, 11), strides=(4, 4), padding='same'))\n",
    "    AlexNet.add(BatchNormalization())\n",
    "    AlexNet.add(Activation(activation))\n",
    "    AlexNet.add(MaxPooling2D(pool_size=(2, 2), strides=(2, 2), padding='same'))\n",
    "\n",
    "    AlexNet.add(Conv2D(filters=256, kernel_size=(5, 5), strides=(1, 1), padding='same'))\n",
    "    AlexNet.add(BatchNormalization())\n",
    "    AlexNet.add(Activation(activation))\n",
    "    AlexNet.add(MaxPooling2D(pool_size=(2, 2), strides=(2, 2), padding='same'))\n",
    "\n",
    "    AlexNet.add(Conv2D(filters=384, kernel_size=(3, 3), strides=(1, 1), padding='same'))\n",
    "    AlexNet.add(BatchNormalization())\n",
    "    AlexNet.add(Activation(activation))\n",
    "\n",
    "    AlexNet.add(Conv2D(filters=384, kernel_size=(3, 3), strides=(1, 1), padding='same'))\n",
    "    AlexNet.add(BatchNormalization())\n",
    "    AlexNet.add(Activation(activation))\n",
    "\n",
    "    AlexNet.add(Conv2D(filters=256, kernel_size=(3, 3), strides=(1, 1), padding='same'))\n",
    "    AlexNet.add(BatchNormalization())\n",
    "    AlexNet.add(Activation(activation))\n",
    "    AlexNet.add(MaxPooling2D(pool_size=(2, 2), strides=(2, 2), padding='same'))\n",
    "\n",
    "    AlexNet.add(Flatten())\n",
    "    AlexNet.add(Dense(4096, input_shape=(32, 32, 3)))\n",
    "    AlexNet.add(BatchNormalization())\n",
    "    AlexNet.add(Activation(activation))\n",
    "    AlexNet.add(Dropout(0.5))\n",
    "\n",
    "    AlexNet.add(Dense(4096))\n",
    "    AlexNet.add(BatchNormalization())\n",
    "    AlexNet.add(Activation(activation))\n",
    "    AlexNet.add(Dropout(0.5))\n",
    "\n",
    "    AlexNet.add(Dense(1000))\n",
    "    AlexNet.add(BatchNormalization())\n",
    "    AlexNet.add(Activation(activation))\n",
    "    AlexNet.add(Dropout(0.5))\n",
    "\n",
    "    AlexNet.add(Dense(10))\n",
    "    AlexNet.add(BatchNormalization())\n",
    "    AlexNet.add(Activation('softmax'))\n",
    "\n",
    "    return AlexNet"
   ]
  },
  {
   "cell_type": "code",
   "execution_count": 9,
   "metadata": {
    "colab": {
     "base_uri": "https://localhost:8080/"
    },
    "id": "bvLaricEJB7Y",
    "outputId": "99dbae05-fb95-4909-9e19-03d85761a10f"
   },
   "outputs": [
    {
     "name": "stdout",
     "output_type": "stream",
     "text": [
      "Epoch 1/50\n",
      "313/313 [==============================] - 25s 71ms/step - loss: 1.8960 - accuracy: 0.3184 - val_loss: 1.5365 - val_accuracy: 0.4502\n",
      "Epoch 2/50\n",
      "313/313 [==============================] - 22s 71ms/step - loss: 1.5119 - accuracy: 0.4747 - val_loss: 1.4960 - val_accuracy: 0.4627\n",
      "Epoch 3/50\n",
      "313/313 [==============================] - 23s 72ms/step - loss: 1.3896 - accuracy: 0.5189 - val_loss: 1.4891 - val_accuracy: 0.4704\n",
      "Epoch 4/50\n",
      "313/313 [==============================] - 23s 74ms/step - loss: 1.2912 - accuracy: 0.5602 - val_loss: 1.4892 - val_accuracy: 0.4745\n",
      "Epoch 5/50\n",
      "313/313 [==============================] - 21s 69ms/step - loss: 1.2155 - accuracy: 0.5881 - val_loss: 1.2959 - val_accuracy: 0.5525\n",
      "Epoch 6/50\n",
      "313/313 [==============================] - 22s 69ms/step - loss: 1.1487 - accuracy: 0.6147 - val_loss: 1.1501 - val_accuracy: 0.5976\n",
      "Epoch 7/50\n",
      "313/313 [==============================] - 23s 75ms/step - loss: 1.0877 - accuracy: 0.6359 - val_loss: 1.4652 - val_accuracy: 0.4928\n",
      "Epoch 8/50\n",
      "313/313 [==============================] - 22s 69ms/step - loss: 1.0527 - accuracy: 0.6428 - val_loss: 1.3650 - val_accuracy: 0.5375\n",
      "Epoch 9/50\n",
      "313/313 [==============================] - 22s 70ms/step - loss: 1.0009 - accuracy: 0.6633 - val_loss: 1.2402 - val_accuracy: 0.5726\n",
      "Epoch 10/50\n",
      "313/313 [==============================] - 23s 74ms/step - loss: 0.9632 - accuracy: 0.6761 - val_loss: 1.4992 - val_accuracy: 0.5204\n",
      "Epoch 11/50\n",
      "313/313 [==============================] - 22s 69ms/step - loss: 0.9129 - accuracy: 0.6974 - val_loss: 1.1756 - val_accuracy: 0.5956\n",
      "Epoch 12/50\n",
      "313/313 [==============================] - 22s 70ms/step - loss: 0.8730 - accuracy: 0.7054 - val_loss: 1.2270 - val_accuracy: 0.5938\n",
      "Epoch 13/50\n",
      "313/313 [==============================] - 23s 74ms/step - loss: 0.8406 - accuracy: 0.7212 - val_loss: 1.7460 - val_accuracy: 0.4948\n",
      "Epoch 14/50\n",
      "313/313 [==============================] - 22s 69ms/step - loss: 0.8108 - accuracy: 0.7293 - val_loss: 1.0998 - val_accuracy: 0.6368\n",
      "Epoch 15/50\n",
      "313/313 [==============================] - 22s 69ms/step - loss: 0.7842 - accuracy: 0.7385 - val_loss: 1.1701 - val_accuracy: 0.6093\n",
      "Epoch 16/50\n",
      "313/313 [==============================] - 23s 74ms/step - loss: 0.7511 - accuracy: 0.7492 - val_loss: 1.1372 - val_accuracy: 0.6180\n",
      "Epoch 17/50\n",
      "313/313 [==============================] - 23s 73ms/step - loss: 0.7089 - accuracy: 0.7657 - val_loss: 1.1859 - val_accuracy: 0.6246\n",
      "Epoch 18/50\n",
      "313/313 [==============================] - 22s 71ms/step - loss: 0.6800 - accuracy: 0.7753 - val_loss: 1.2665 - val_accuracy: 0.5830\n",
      "Epoch 19/50\n",
      "313/313 [==============================] - 21s 68ms/step - loss: 0.6367 - accuracy: 0.7909 - val_loss: 1.2384 - val_accuracy: 0.6116\n",
      "Epoch 20/50\n",
      "313/313 [==============================] - 23s 73ms/step - loss: 0.6186 - accuracy: 0.7976 - val_loss: 1.0855 - val_accuracy: 0.6463\n",
      "Epoch 21/50\n",
      "313/313 [==============================] - 22s 72ms/step - loss: 0.5903 - accuracy: 0.8089 - val_loss: 1.0548 - val_accuracy: 0.6538\n",
      "Epoch 22/50\n",
      "313/313 [==============================] - 22s 69ms/step - loss: 0.5612 - accuracy: 0.8148 - val_loss: 1.1009 - val_accuracy: 0.6447\n",
      "Epoch 23/50\n",
      "313/313 [==============================] - 23s 74ms/step - loss: 0.5335 - accuracy: 0.8317 - val_loss: 1.3682 - val_accuracy: 0.6055\n",
      "Epoch 24/50\n",
      "313/313 [==============================] - 22s 70ms/step - loss: 0.5012 - accuracy: 0.8404 - val_loss: 1.0486 - val_accuracy: 0.6662\n",
      "Epoch 25/50\n",
      "313/313 [==============================] - 22s 69ms/step - loss: 0.4776 - accuracy: 0.8487 - val_loss: 1.1885 - val_accuracy: 0.6401\n",
      "Epoch 26/50\n",
      "313/313 [==============================] - 23s 74ms/step - loss: 0.4488 - accuracy: 0.8565 - val_loss: 1.1957 - val_accuracy: 0.6361\n",
      "Epoch 27/50\n",
      "313/313 [==============================] - 22s 70ms/step - loss: 0.4228 - accuracy: 0.8683 - val_loss: 1.0894 - val_accuracy: 0.6658\n",
      "Epoch 28/50\n",
      "313/313 [==============================] - 22s 69ms/step - loss: 0.4029 - accuracy: 0.8754 - val_loss: 1.1667 - val_accuracy: 0.6556\n",
      "Epoch 29/50\n",
      "313/313 [==============================] - 23s 74ms/step - loss: 0.3806 - accuracy: 0.8821 - val_loss: 1.3736 - val_accuracy: 0.6078\n",
      "Epoch 30/50\n",
      "313/313 [==============================] - 22s 71ms/step - loss: 0.3628 - accuracy: 0.8878 - val_loss: 1.2689 - val_accuracy: 0.6299\n",
      "Epoch 31/50\n",
      "313/313 [==============================] - 22s 70ms/step - loss: 0.3334 - accuracy: 0.9006 - val_loss: 1.2788 - val_accuracy: 0.6439\n",
      "Epoch 32/50\n",
      "313/313 [==============================] - 24s 78ms/step - loss: 0.3220 - accuracy: 0.9023 - val_loss: 1.1507 - val_accuracy: 0.6667\n",
      "Epoch 33/50\n",
      "313/313 [==============================] - 24s 76ms/step - loss: 0.2986 - accuracy: 0.9093 - val_loss: 1.2872 - val_accuracy: 0.6397\n",
      "Epoch 34/50\n",
      "313/313 [==============================] - 23s 73ms/step - loss: 0.2766 - accuracy: 0.9212 - val_loss: 1.1878 - val_accuracy: 0.6557\n",
      "Epoch 35/50\n",
      "313/313 [==============================] - 22s 70ms/step - loss: 0.2588 - accuracy: 0.9265 - val_loss: 1.2467 - val_accuracy: 0.6515\n",
      "Epoch 36/50\n",
      "313/313 [==============================] - 23s 74ms/step - loss: 0.2332 - accuracy: 0.9350 - val_loss: 1.2006 - val_accuracy: 0.6643\n",
      "Epoch 37/50\n",
      "313/313 [==============================] - 23s 75ms/step - loss: 0.2274 - accuracy: 0.9404 - val_loss: 1.3412 - val_accuracy: 0.6416\n",
      "Epoch 38/50\n",
      "313/313 [==============================] - 23s 72ms/step - loss: 0.2169 - accuracy: 0.9389 - val_loss: 1.2016 - val_accuracy: 0.6674\n",
      "Epoch 39/50\n",
      "313/313 [==============================] - 24s 76ms/step - loss: 0.1930 - accuracy: 0.9504 - val_loss: 1.2365 - val_accuracy: 0.6700\n",
      "Epoch 40/50\n",
      "313/313 [==============================] - 23s 73ms/step - loss: 0.1888 - accuracy: 0.9500 - val_loss: 1.3427 - val_accuracy: 0.6413\n",
      "Epoch 41/50\n",
      "313/313 [==============================] - 22s 71ms/step - loss: 0.1692 - accuracy: 0.9575 - val_loss: 1.1902 - val_accuracy: 0.6747\n",
      "Epoch 42/50\n",
      "313/313 [==============================] - 24s 77ms/step - loss: 0.1601 - accuracy: 0.9593 - val_loss: 1.2670 - val_accuracy: 0.6656\n",
      "Epoch 43/50\n",
      "313/313 [==============================] - 23s 72ms/step - loss: 0.1450 - accuracy: 0.9652 - val_loss: 1.3952 - val_accuracy: 0.6449\n",
      "Epoch 44/50\n",
      "313/313 [==============================] - 22s 71ms/step - loss: 0.1328 - accuracy: 0.9693 - val_loss: 1.5044 - val_accuracy: 0.6358\n",
      "Epoch 45/50\n",
      "313/313 [==============================] - 24s 76ms/step - loss: 0.1280 - accuracy: 0.9696 - val_loss: 1.2534 - val_accuracy: 0.6821\n",
      "Epoch 46/50\n",
      "313/313 [==============================] - 23s 74ms/step - loss: 0.1177 - accuracy: 0.9742 - val_loss: 1.3815 - val_accuracy: 0.6512\n",
      "Epoch 47/50\n",
      "313/313 [==============================] - 23s 73ms/step - loss: 0.1082 - accuracy: 0.9770 - val_loss: 1.3779 - val_accuracy: 0.6550\n",
      "Epoch 48/50\n",
      "313/313 [==============================] - 22s 71ms/step - loss: 0.1080 - accuracy: 0.9766 - val_loss: 1.2619 - val_accuracy: 0.6800\n",
      "Epoch 49/50\n",
      "313/313 [==============================] - 23s 75ms/step - loss: 0.0979 - accuracy: 0.9803 - val_loss: 1.2722 - val_accuracy: 0.6817\n",
      "Epoch 50/50\n",
      "313/313 [==============================] - 22s 72ms/step - loss: 0.0847 - accuracy: 0.9839 - val_loss: 1.3664 - val_accuracy: 0.6647\n"
     ]
    }
   ],
   "source": [
    "def gelu(x):\n",
    "    return 0.5 * x * (1 + tf.tanh(tf.sqrt(2 / np.pi) * (x + 0.044715 * tf.pow(x, 3))))\n",
    "get_custom_objects().update({'gelu': Activation(gelu)})\n",
    "\n",
    "def swish(x):\n",
    "    return x * tf.sigmoid(x)\n",
    "get_custom_objects().update({'swish': Activation(swish)})\n",
    "\n",
    "get_custom_objects().update({'leaky-relu': Activation(LeakyReLU(alpha=0.2))})\n",
    "\n",
    "# act_func = ['tanh', 'relu', 'leaky-relu', 'elu', 'selu', 'gelu', 'swish']\n",
    "\n",
    "model = alexnet('selu')\n",
    "\n",
    "batch_size = 128\n",
    "epochs = 50\n",
    "\n",
    "model.compile(optimizer=SGD(), loss='categorical_crossentropy', metrics=['accuracy'])\n",
    "\n",
    "history = model.fit(train_generator.flow(x_train, y_train, batch_size=batch_size), epochs=epochs,\n",
    "                      validation_data=val_generator.flow(x_val, y_val, batch_size=batch_size), verbose=1)"
   ]
  },
  {
   "cell_type": "code",
   "execution_count": 10,
   "metadata": {
    "colab": {
     "base_uri": "https://localhost:8080/"
    },
    "id": "A_eJn83kKCwL",
    "outputId": "57f4c14d-3808-44e5-f2e5-2e087c4d3e6a"
   },
   "outputs": [
    {
     "name": "stdout",
     "output_type": "stream",
     "text": [
      "{'loss': [1.7349658012390137, 1.4862544536590576, 1.3679304122924805, 1.281173825263977, 1.2060599327087402, 1.1437054872512817, 1.0901273488998413, 1.0425764322280884, 0.9998759627342224, 0.9603866934776306, 0.9148302674293518, 0.8888217806816101, 0.8440009951591492, 0.8138599991798401, 0.7842612266540527, 0.7520037889480591, 0.7176622152328491, 0.6903333067893982, 0.6561369895935059, 0.6252542734146118, 0.5992385149002075, 0.5690187811851501, 0.5446377992630005, 0.514930784702301, 0.4900778830051422, 0.46530991792678833, 0.4397892653942108, 0.41581249237060547, 0.39445292949676514, 0.3706732392311096, 0.34919193387031555, 0.3282613456249237, 0.3048030138015747, 0.2865076959133148, 0.26617518067359924, 0.24677348136901855, 0.23263974487781525, 0.22052380442619324, 0.2081049531698227, 0.19694693386554718, 0.177347794175148, 0.16180773079395294, 0.15038080513477325, 0.13958679139614105, 0.1315694898366928, 0.12010334432125092, 0.11323820799589157, 0.11003167927265167, 0.09896241873502731, 0.08822137117385864], 'accuracy': [0.38042500615119934, 0.48327499628067017, 0.5300250053405762, 0.5636000037193298, 0.588100016117096, 0.6137250065803528, 0.6310250163078308, 0.6452999711036682, 0.6617249846458435, 0.675724983215332, 0.694100022315979, 0.6994500160217285, 0.72017502784729, 0.7283250093460083, 0.7366499900817871, 0.7494249939918518, 0.7624750137329102, 0.7712249755859375, 0.7838749885559082, 0.7933499813079834, 0.8040500283241272, 0.8127999901771545, 0.8235999941825867, 0.8342750072479248, 0.8428000211715698, 0.8503000140190125, 0.8597000241279602, 0.8695999979972839, 0.8761749863624573, 0.8828750252723694, 0.8942000269889832, 0.9003499746322632, 0.9077749848365784, 0.9155499935150146, 0.9228749871253967, 0.9297249913215637, 0.9368000030517578, 0.9373000264167786, 0.9439749717712402, 0.9456999897956848, 0.9536749720573425, 0.9593499898910522, 0.963100016117096, 0.9670249819755554, 0.9681749939918518, 0.972724974155426, 0.9756249785423279, 0.9752249717712402, 0.9795250296592712, 0.9831749796867371], 'val_loss': [1.5364865064620972, 1.4960439205169678, 1.4890652894973755, 1.4892219305038452, 1.295866847038269, 1.1501071453094482, 1.4651782512664795, 1.364952564239502, 1.2402201890945435, 1.4991931915283203, 1.1755540370941162, 1.2269686460494995, 1.7459659576416016, 1.0997623205184937, 1.1701397895812988, 1.1372144222259521, 1.1859354972839355, 1.2665148973464966, 1.2383830547332764, 1.085482120513916, 1.0547845363616943, 1.1008764505386353, 1.368194580078125, 1.048593521118164, 1.1885133981704712, 1.1957385540008545, 1.0894361734390259, 1.166656494140625, 1.3736228942871094, 1.2688935995101929, 1.2787753343582153, 1.1506654024124146, 1.2871804237365723, 1.187839150428772, 1.2466932535171509, 1.2006231546401978, 1.3411701917648315, 1.2015801668167114, 1.2365344762802124, 1.3426934480667114, 1.1902058124542236, 1.2670059204101562, 1.3952066898345947, 1.504393219947815, 1.2533612251281738, 1.3814544677734375, 1.3779077529907227, 1.2618706226348877, 1.2721529006958008, 1.3663949966430664], 'val_accuracy': [0.45019999146461487, 0.4627000093460083, 0.47040000557899475, 0.47450000047683716, 0.5525000095367432, 0.597599983215332, 0.4927999973297119, 0.5375000238418579, 0.5726000070571899, 0.5203999876976013, 0.5956000089645386, 0.5938000082969666, 0.49480000138282776, 0.6367999911308289, 0.6093000173568726, 0.6179999709129333, 0.6245999932289124, 0.5830000042915344, 0.6115999817848206, 0.6463000178337097, 0.6538000106811523, 0.6446999907493591, 0.6054999828338623, 0.6661999821662903, 0.6401000022888184, 0.6360999941825867, 0.6657999753952026, 0.6556000113487244, 0.6078000068664551, 0.6298999786376953, 0.6438999772071838, 0.666700005531311, 0.6396999955177307, 0.6557000279426575, 0.6514999866485596, 0.6643000245094299, 0.6416000127792358, 0.6674000024795532, 0.6700000166893005, 0.6413000226020813, 0.6747000217437744, 0.6656000018119812, 0.6449000239372253, 0.6358000040054321, 0.6820999979972839, 0.651199996471405, 0.6549999713897705, 0.6800000071525574, 0.6816999912261963, 0.6646999716758728]}\n",
      "(10000,)\n",
      "(10000,)\n",
      "0.6599\n"
     ]
    }
   ],
   "source": [
    "print(history.history)\n",
    "y_pred = np.argmax(model.predict(x_test), axis=1)\n",
    "y_true = np.argmax(y_test,axis=1)\n",
    "\n",
    "print(y_pred.shape)\n",
    "print(y_true.shape)\n",
    "\n",
    "print(np.sum(y_pred == y_true) / y_pred.shape[0])"
   ]
  }
 ],
 "metadata": {
  "accelerator": "GPU",
  "colab": {
   "collapsed_sections": [],
   "name": "cifar10_alexnet_selu.ipynb",
   "provenance": []
  },
  "kernelspec": {
   "display_name": "Python 3 (ipykernel)",
   "language": "python",
   "name": "python3"
  },
  "language_info": {
   "codemirror_mode": {
    "name": "ipython",
    "version": 3
   },
   "file_extension": ".py",
   "mimetype": "text/x-python",
   "name": "python",
   "nbconvert_exporter": "python",
   "pygments_lexer": "ipython3",
   "version": "3.9.0"
  }
 },
 "nbformat": 4,
 "nbformat_minor": 1
}
